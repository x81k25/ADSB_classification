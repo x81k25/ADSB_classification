{
 "cells": [
  {
   "cell_type": "code",
   "execution_count": 3,
   "metadata": {},
   "outputs": [],
   "source": [
    "import pandas as pd"
   ]
  },
  {
   "cell_type": "code",
   "execution_count": 14,
   "metadata": {},
   "outputs": [
    {
     "data": {
      "text/html": [
       "<div>\n",
       "<style scoped>\n",
       "    .dataframe tbody tr th:only-of-type {\n",
       "        vertical-align: middle;\n",
       "    }\n",
       "\n",
       "    .dataframe tbody tr th {\n",
       "        vertical-align: top;\n",
       "    }\n",
       "\n",
       "    .dataframe thead th {\n",
       "        text-align: right;\n",
       "    }\n",
       "</style>\n",
       "<table border=\"1\" class=\"dataframe\">\n",
       "  <thead>\n",
       "    <tr style=\"text-align: right;\">\n",
       "      <th></th>\n",
       "      <th>segment_id</th>\n",
       "      <th>cluster</th>\n",
       "      <th>is_most_typical</th>\n",
       "      <th>is_most_extreme</th>\n",
       "      <th>icao</th>\n",
       "      <th>start_timestamp</th>\n",
       "      <th>point_idx</th>\n",
       "      <th>x</th>\n",
       "      <th>y</th>\n",
       "      <th>z</th>\n",
       "      <th>heading_deg</th>\n",
       "      <th>ground_speed</th>\n",
       "      <th>time_sec</th>\n",
       "      <th>original_x</th>\n",
       "      <th>original_y</th>\n",
       "    </tr>\n",
       "  </thead>\n",
       "  <tbody>\n",
       "    <tr>\n",
       "      <th>0</th>\n",
       "      <td>11523328</td>\n",
       "      <td>-1</td>\n",
       "      <td>False</td>\n",
       "      <td>False</td>\n",
       "      <td>ab3d9a</td>\n",
       "      <td>2024-08-01 21:23:58.860000+00:00</td>\n",
       "      <td>0</td>\n",
       "      <td>0.000000e+00</td>\n",
       "      <td>0.000000e+00</td>\n",
       "      <td>19200.0</td>\n",
       "      <td>316.40</td>\n",
       "      <td>394.70</td>\n",
       "      <td>0.00</td>\n",
       "      <td>0.00</td>\n",
       "      <td>0.00</td>\n",
       "    </tr>\n",
       "    <tr>\n",
       "      <th>1</th>\n",
       "      <td>11523328</td>\n",
       "      <td>-1</td>\n",
       "      <td>False</td>\n",
       "      <td>False</td>\n",
       "      <td>ab3d9a</td>\n",
       "      <td>2024-08-01 21:23:58.860000+00:00</td>\n",
       "      <td>1</td>\n",
       "      <td>3.720587e+01</td>\n",
       "      <td>5.492236e+03</td>\n",
       "      <td>19525.0</td>\n",
       "      <td>316.80</td>\n",
       "      <td>394.00</td>\n",
       "      <td>13.94</td>\n",
       "      <td>-3759.78</td>\n",
       "      <td>4003.76</td>\n",
       "    </tr>\n",
       "    <tr>\n",
       "      <th>2</th>\n",
       "      <td>11523328</td>\n",
       "      <td>-1</td>\n",
       "      <td>False</td>\n",
       "      <td>False</td>\n",
       "      <td>ab3d9a</td>\n",
       "      <td>2024-08-01 21:23:58.860000+00:00</td>\n",
       "      <td>2</td>\n",
       "      <td>3.472619e+01</td>\n",
       "      <td>1.745698e+04</td>\n",
       "      <td>19775.0</td>\n",
       "      <td>316.40</td>\n",
       "      <td>397.50</td>\n",
       "      <td>30.10</td>\n",
       "      <td>-12010.90</td>\n",
       "      <td>12668.29</td>\n",
       "    </tr>\n",
       "    <tr>\n",
       "      <th>3</th>\n",
       "      <td>11523328</td>\n",
       "      <td>-1</td>\n",
       "      <td>False</td>\n",
       "      <td>False</td>\n",
       "      <td>ab3d9a</td>\n",
       "      <td>2024-08-01 21:23:58.860000+00:00</td>\n",
       "      <td>3</td>\n",
       "      <td>7.503692e-13</td>\n",
       "      <td>3.524056e+04</td>\n",
       "      <td>20050.0</td>\n",
       "      <td>316.30</td>\n",
       "      <td>398.20</td>\n",
       "      <td>44.66</td>\n",
       "      <td>-24297.29</td>\n",
       "      <td>25525.26</td>\n",
       "    </tr>\n",
       "    <tr>\n",
       "      <th>4</th>\n",
       "      <td>11523328</td>\n",
       "      <td>-1</td>\n",
       "      <td>False</td>\n",
       "      <td>False</td>\n",
       "      <td>ab3d9a</td>\n",
       "      <td>2024-08-01 21:23:58.860000+00:00</td>\n",
       "      <td>4</td>\n",
       "      <td>-3.142208e+02</td>\n",
       "      <td>6.052945e+04</td>\n",
       "      <td>20275.0</td>\n",
       "      <td>315.70</td>\n",
       "      <td>402.40</td>\n",
       "      <td>62.85</td>\n",
       "      <td>-41960.80</td>\n",
       "      <td>43625.73</td>\n",
       "    </tr>\n",
       "    <tr>\n",
       "      <th>...</th>\n",
       "      <td>...</td>\n",
       "      <td>...</td>\n",
       "      <td>...</td>\n",
       "      <td>...</td>\n",
       "      <td>...</td>\n",
       "      <td>...</td>\n",
       "      <td>...</td>\n",
       "      <td>...</td>\n",
       "      <td>...</td>\n",
       "      <td>...</td>\n",
       "      <td>...</td>\n",
       "      <td>...</td>\n",
       "      <td>...</td>\n",
       "      <td>...</td>\n",
       "      <td>...</td>\n",
       "    </tr>\n",
       "    <tr>\n",
       "      <th>1159395</th>\n",
       "      <td>12013506</td>\n",
       "      <td>2</td>\n",
       "      <td>False</td>\n",
       "      <td>False</td>\n",
       "      <td>c03197</td>\n",
       "      <td>2024-08-01 00:15:56.530000+00:00</td>\n",
       "      <td>45</td>\n",
       "      <td>1.296399e+06</td>\n",
       "      <td>1.204487e+06</td>\n",
       "      <td>13875.0</td>\n",
       "      <td>278.80</td>\n",
       "      <td>242.80</td>\n",
       "      <td>309.21</td>\n",
       "      <td>-1208354.96</td>\n",
       "      <td>-1292794.19</td>\n",
       "    </tr>\n",
       "    <tr>\n",
       "      <th>1159396</th>\n",
       "      <td>12013506</td>\n",
       "      <td>2</td>\n",
       "      <td>False</td>\n",
       "      <td>False</td>\n",
       "      <td>c03197</td>\n",
       "      <td>2024-08-01 00:15:56.530000+00:00</td>\n",
       "      <td>46</td>\n",
       "      <td>1.370067e+06</td>\n",
       "      <td>1.183170e+06</td>\n",
       "      <td>13750.0</td>\n",
       "      <td>282.10</td>\n",
       "      <td>243.40</td>\n",
       "      <td>315.08</td>\n",
       "      <td>-1283341.61</td>\n",
       "      <td>-1276718.44</td>\n",
       "    </tr>\n",
       "    <tr>\n",
       "      <th>1159397</th>\n",
       "      <td>12013506</td>\n",
       "      <td>2</td>\n",
       "      <td>False</td>\n",
       "      <td>False</td>\n",
       "      <td>c03197</td>\n",
       "      <td>2024-08-01 00:15:56.530000+00:00</td>\n",
       "      <td>47</td>\n",
       "      <td>1.445585e+06</td>\n",
       "      <td>1.163164e+06</td>\n",
       "      <td>13675.0</td>\n",
       "      <td>280.80</td>\n",
       "      <td>245.40</td>\n",
       "      <td>318.35</td>\n",
       "      <td>-1360080.93</td>\n",
       "      <td>-1262079.64</td>\n",
       "    </tr>\n",
       "    <tr>\n",
       "      <th>1159398</th>\n",
       "      <td>12013506</td>\n",
       "      <td>2</td>\n",
       "      <td>False</td>\n",
       "      <td>False</td>\n",
       "      <td>c03197</td>\n",
       "      <td>2024-08-01 00:15:56.530000+00:00</td>\n",
       "      <td>48</td>\n",
       "      <td>1.523643e+06</td>\n",
       "      <td>1.146660e+06</td>\n",
       "      <td>13475.0</td>\n",
       "      <td>277.90</td>\n",
       "      <td>246.40</td>\n",
       "      <td>323.80</td>\n",
       "      <td>-1439108.05</td>\n",
       "      <td>-1251113.72</td>\n",
       "    </tr>\n",
       "    <tr>\n",
       "      <th>1159399</th>\n",
       "      <td>12013506</td>\n",
       "      <td>2</td>\n",
       "      <td>False</td>\n",
       "      <td>False</td>\n",
       "      <td>c03197</td>\n",
       "      <td>2024-08-01 00:15:56.530000+00:00</td>\n",
       "      <td>49</td>\n",
       "      <td>1.604666e+06</td>\n",
       "      <td>1.134351e+06</td>\n",
       "      <td>13300.0</td>\n",
       "      <td>274.60</td>\n",
       "      <td>248.80</td>\n",
       "      <td>329.39</td>\n",
       "      <td>-1520796.31</td>\n",
       "      <td>-1244541.24</td>\n",
       "    </tr>\n",
       "  </tbody>\n",
       "</table>\n",
       "<p>1159400 rows × 15 columns</p>\n",
       "</div>"
      ],
      "text/plain": [
       "         segment_id  cluster  is_most_typical  is_most_extreme     icao  \\\n",
       "0          11523328       -1            False            False  ab3d9a    \n",
       "1          11523328       -1            False            False  ab3d9a    \n",
       "2          11523328       -1            False            False  ab3d9a    \n",
       "3          11523328       -1            False            False  ab3d9a    \n",
       "4          11523328       -1            False            False  ab3d9a    \n",
       "...             ...      ...              ...              ...      ...   \n",
       "1159395    12013506        2            False            False  c03197    \n",
       "1159396    12013506        2            False            False  c03197    \n",
       "1159397    12013506        2            False            False  c03197    \n",
       "1159398    12013506        2            False            False  c03197    \n",
       "1159399    12013506        2            False            False  c03197    \n",
       "\n",
       "                         start_timestamp  point_idx             x  \\\n",
       "0       2024-08-01 21:23:58.860000+00:00          0  0.000000e+00   \n",
       "1       2024-08-01 21:23:58.860000+00:00          1  3.720587e+01   \n",
       "2       2024-08-01 21:23:58.860000+00:00          2  3.472619e+01   \n",
       "3       2024-08-01 21:23:58.860000+00:00          3  7.503692e-13   \n",
       "4       2024-08-01 21:23:58.860000+00:00          4 -3.142208e+02   \n",
       "...                                  ...        ...           ...   \n",
       "1159395 2024-08-01 00:15:56.530000+00:00         45  1.296399e+06   \n",
       "1159396 2024-08-01 00:15:56.530000+00:00         46  1.370067e+06   \n",
       "1159397 2024-08-01 00:15:56.530000+00:00         47  1.445585e+06   \n",
       "1159398 2024-08-01 00:15:56.530000+00:00         48  1.523643e+06   \n",
       "1159399 2024-08-01 00:15:56.530000+00:00         49  1.604666e+06   \n",
       "\n",
       "                    y        z heading_deg ground_speed time_sec  original_x  \\\n",
       "0        0.000000e+00  19200.0      316.40       394.70     0.00        0.00   \n",
       "1        5.492236e+03  19525.0      316.80       394.00    13.94    -3759.78   \n",
       "2        1.745698e+04  19775.0      316.40       397.50    30.10   -12010.90   \n",
       "3        3.524056e+04  20050.0      316.30       398.20    44.66   -24297.29   \n",
       "4        6.052945e+04  20275.0      315.70       402.40    62.85   -41960.80   \n",
       "...               ...      ...         ...          ...      ...         ...   \n",
       "1159395  1.204487e+06  13875.0      278.80       242.80   309.21 -1208354.96   \n",
       "1159396  1.183170e+06  13750.0      282.10       243.40   315.08 -1283341.61   \n",
       "1159397  1.163164e+06  13675.0      280.80       245.40   318.35 -1360080.93   \n",
       "1159398  1.146660e+06  13475.0      277.90       246.40   323.80 -1439108.05   \n",
       "1159399  1.134351e+06  13300.0      274.60       248.80   329.39 -1520796.31   \n",
       "\n",
       "         original_y  \n",
       "0              0.00  \n",
       "1           4003.76  \n",
       "2          12668.29  \n",
       "3          25525.26  \n",
       "4          43625.73  \n",
       "...             ...  \n",
       "1159395 -1292794.19  \n",
       "1159396 -1276718.44  \n",
       "1159397 -1262079.64  \n",
       "1159398 -1251113.72  \n",
       "1159399 -1244541.24  \n",
       "\n",
       "[1159400 rows x 15 columns]"
      ]
     },
     "metadata": {},
     "output_type": "display_data"
    }
   ],
   "source": [
    "# read in trajectories data from parquet from data/_11_analysis_&_conclusions/trajectories.parquet\n",
    "trajectories = pd.read_parquet('../data/_11_analysis_&_conclusions/trajectories.parquet')\n",
    "\n",
    "display(trajectories)"
   ]
  },
  {
   "cell_type": "code",
   "execution_count": 15,
   "metadata": {},
   "outputs": [
    {
     "data": {
      "application/vnd.plotly.v1+json": {
       "config": {
        "plotlyServerURL": "https://plot.ly"
       },
       "data": [
        {
         "line": {
          "color": "blue",
          "width": 2
         },
         "marker": {
          "color": "blue",
          "opacity": 0.8,
          "size": 2
         },
         "mode": "lines+markers",
         "type": "scatter3d",
         "x": {
          "bdata": "AAAAAAAAAABp4drzWZpCQFuP0O/zXEFA0MODlrlmaj2ak9FHiKNzwCjq059bDnTABdfmKS+LgsBskGtimPOQwEaSGCNa95/AvOBtcU2JosByb6GkavymwFmfpZsMGKfAb/dXVo44rcDOYpGchSezwLNVfQUpRrnA+2wSmFM/vcDirdX+PAjAwKvY9eIUr8LADqMovU3bxcCqRKALSknLwDrX5Il0Rc/A+9LlXlaqx8BwhMgXgSeowKozK9ot4sRAFah/HK9l3ECOY5MNhoLoQAYzV9B8s/FAR4L/tE1l90BbDcDfRH39QMjhx28uKwJByJax9ZXwBUET04YLFpgJQW0DGE6WZg1B0jQoMg6aEEGv11idDKISQXSsdQqnkhRB7hyt2WCWFUF4h75JZocVQW6/knuqchRBY5LtrdpPEkGUhVatP7UNQRg8sf9EkwRBYNHnDd4W8kBMlXCxHtniwNd85vyEZAPBc0tj0gVhEcHvjwn2Ym0ZwcuKievr2CDBk7sCmGYjJcGXISQCN5kpwQ==",
          "dtype": "f8"
         },
         "y": {
          "bdata": "AAAAAAAAAAD6MeZlPHS1QNO+NZk+DNFATx2q+hE14UC2xpRmLo7tQHr0+sX8pPZAODKBfSXm/0DN6FS5RZEFQcm0U2B0NQxBF9etHdvEEUG9Gv3e8agVQRNeg5S0uhlBb/H7/R42HkFaUwXIXZwhQZCPeclTUSRBQCJvoGk5J0H8+/r5IkkqQafQIFHMni1BxxL3By+PMEE8cpE5YGkyQZXuWicdXjRBtSZ2SENiNkHLmtcks3Y4QQMQ1xoFnTpBs4TXNn/WPEE2Umt6jzk/QTtAxDVW20BBMqvDN08xQkE7evKAPp9DQaFRghOkJUVBURlWm9W+RkFRVKlvU2pIQSmziaijJ0pBLsbIzIv2S0EOiLfZCthNQYIbGtVBy09BNf4IC3bhUEFQx21Bn95RQViLtd6N21JBzFbr6+3XU0HjzvKHP9FUQYAlIJa2x1VBiAKA5SC5VkHK6LzuAqVXQSBsqfkBmlhBHyg6qyaYWUE3O1oGt51aQaU6g5XIrFtBNxORKbDDXEGv92FND+NdQQ==",
          "dtype": "f8"
         },
         "z": {
          "bdata": "AAAAAADA0kAAAAAAQBHTQAAAAADAT9NAAAAAAICU00AAAAAAwMzTQAAAAABAC9RAAAAAAEBW1EAAAAAAgI7UQAAAAACAwNRAAAAAAIAL1UAAAAAAgG/VQAAAAACA09VAAAAAAEAY1kAAAAAAgFDWQAAAAABAldZAAAAAAADa1kAAAAAAQCvXQAAAAACAY9dAAAAAAICu10AAAAAAQPPXQAAAAAAAONhAAAAAAEBX2EAAAAAAgHbYQAAAAADArthAAAAAAMD52EAAAAAAQB/ZQAAAAAAAZNlAAAAAAABk2UAAAAAAAGTZQAAAAAAAZNlAAAAAAABk2UAAAAAAAGTZQAAAAAAAZNlAAAAAAABk2UAAAAAAAGTZQAAAAAAAZNlAAAAAAABk2UAAAAAAAGTZQAAAAAAAZNlAAAAAAABk2UAAAAAAAGTZQAAAAAAAZNlAAAAAAABk2UAAAAAAAGTZQAAAAAAAZNlAAAAAAABk2UAAAAAAwF3ZQAAAAAAAZNlAAAAAAABk2UAAAAAAAGTZQA==",
          "dtype": "f8"
         }
        }
       ],
       "layout": {
        "height": 800,
        "scene": {
         "aspectmode": "cube",
         "camera": {
          "center": {
           "x": 0,
           "y": 0,
           "z": 0
          },
          "eye": {
           "x": 1.5,
           "y": 1.5,
           "z": 1.5
          },
          "up": {
           "x": 0,
           "y": 0,
           "z": 1
          }
         },
         "xaxis": {
          "backgroundcolor": "rgb(230, 230,230)",
          "showbackground": true,
          "title": {
           "text": "X"
          }
         },
         "yaxis": {
          "backgroundcolor": "rgb(230, 230,230)",
          "showbackground": true,
          "title": {
           "text": "Y"
          }
         },
         "zaxis": {
          "backgroundcolor": "rgb(230, 230,230)",
          "showbackground": true,
          "title": {
           "text": "Z"
          }
         }
        },
        "template": {
         "data": {
          "bar": [
           {
            "error_x": {
             "color": "#2a3f5f"
            },
            "error_y": {
             "color": "#2a3f5f"
            },
            "marker": {
             "line": {
              "color": "#E5ECF6",
              "width": 0.5
             },
             "pattern": {
              "fillmode": "overlay",
              "size": 10,
              "solidity": 0.2
             }
            },
            "type": "bar"
           }
          ],
          "barpolar": [
           {
            "marker": {
             "line": {
              "color": "#E5ECF6",
              "width": 0.5
             },
             "pattern": {
              "fillmode": "overlay",
              "size": 10,
              "solidity": 0.2
             }
            },
            "type": "barpolar"
           }
          ],
          "carpet": [
           {
            "aaxis": {
             "endlinecolor": "#2a3f5f",
             "gridcolor": "white",
             "linecolor": "white",
             "minorgridcolor": "white",
             "startlinecolor": "#2a3f5f"
            },
            "baxis": {
             "endlinecolor": "#2a3f5f",
             "gridcolor": "white",
             "linecolor": "white",
             "minorgridcolor": "white",
             "startlinecolor": "#2a3f5f"
            },
            "type": "carpet"
           }
          ],
          "choropleth": [
           {
            "colorbar": {
             "outlinewidth": 0,
             "ticks": ""
            },
            "type": "choropleth"
           }
          ],
          "contour": [
           {
            "colorbar": {
             "outlinewidth": 0,
             "ticks": ""
            },
            "colorscale": [
             [
              0,
              "#0d0887"
             ],
             [
              0.1111111111111111,
              "#46039f"
             ],
             [
              0.2222222222222222,
              "#7201a8"
             ],
             [
              0.3333333333333333,
              "#9c179e"
             ],
             [
              0.4444444444444444,
              "#bd3786"
             ],
             [
              0.5555555555555556,
              "#d8576b"
             ],
             [
              0.6666666666666666,
              "#ed7953"
             ],
             [
              0.7777777777777778,
              "#fb9f3a"
             ],
             [
              0.8888888888888888,
              "#fdca26"
             ],
             [
              1,
              "#f0f921"
             ]
            ],
            "type": "contour"
           }
          ],
          "contourcarpet": [
           {
            "colorbar": {
             "outlinewidth": 0,
             "ticks": ""
            },
            "type": "contourcarpet"
           }
          ],
          "heatmap": [
           {
            "colorbar": {
             "outlinewidth": 0,
             "ticks": ""
            },
            "colorscale": [
             [
              0,
              "#0d0887"
             ],
             [
              0.1111111111111111,
              "#46039f"
             ],
             [
              0.2222222222222222,
              "#7201a8"
             ],
             [
              0.3333333333333333,
              "#9c179e"
             ],
             [
              0.4444444444444444,
              "#bd3786"
             ],
             [
              0.5555555555555556,
              "#d8576b"
             ],
             [
              0.6666666666666666,
              "#ed7953"
             ],
             [
              0.7777777777777778,
              "#fb9f3a"
             ],
             [
              0.8888888888888888,
              "#fdca26"
             ],
             [
              1,
              "#f0f921"
             ]
            ],
            "type": "heatmap"
           }
          ],
          "histogram": [
           {
            "marker": {
             "pattern": {
              "fillmode": "overlay",
              "size": 10,
              "solidity": 0.2
             }
            },
            "type": "histogram"
           }
          ],
          "histogram2d": [
           {
            "colorbar": {
             "outlinewidth": 0,
             "ticks": ""
            },
            "colorscale": [
             [
              0,
              "#0d0887"
             ],
             [
              0.1111111111111111,
              "#46039f"
             ],
             [
              0.2222222222222222,
              "#7201a8"
             ],
             [
              0.3333333333333333,
              "#9c179e"
             ],
             [
              0.4444444444444444,
              "#bd3786"
             ],
             [
              0.5555555555555556,
              "#d8576b"
             ],
             [
              0.6666666666666666,
              "#ed7953"
             ],
             [
              0.7777777777777778,
              "#fb9f3a"
             ],
             [
              0.8888888888888888,
              "#fdca26"
             ],
             [
              1,
              "#f0f921"
             ]
            ],
            "type": "histogram2d"
           }
          ],
          "histogram2dcontour": [
           {
            "colorbar": {
             "outlinewidth": 0,
             "ticks": ""
            },
            "colorscale": [
             [
              0,
              "#0d0887"
             ],
             [
              0.1111111111111111,
              "#46039f"
             ],
             [
              0.2222222222222222,
              "#7201a8"
             ],
             [
              0.3333333333333333,
              "#9c179e"
             ],
             [
              0.4444444444444444,
              "#bd3786"
             ],
             [
              0.5555555555555556,
              "#d8576b"
             ],
             [
              0.6666666666666666,
              "#ed7953"
             ],
             [
              0.7777777777777778,
              "#fb9f3a"
             ],
             [
              0.8888888888888888,
              "#fdca26"
             ],
             [
              1,
              "#f0f921"
             ]
            ],
            "type": "histogram2dcontour"
           }
          ],
          "mesh3d": [
           {
            "colorbar": {
             "outlinewidth": 0,
             "ticks": ""
            },
            "type": "mesh3d"
           }
          ],
          "parcoords": [
           {
            "line": {
             "colorbar": {
              "outlinewidth": 0,
              "ticks": ""
             }
            },
            "type": "parcoords"
           }
          ],
          "pie": [
           {
            "automargin": true,
            "type": "pie"
           }
          ],
          "scatter": [
           {
            "fillpattern": {
             "fillmode": "overlay",
             "size": 10,
             "solidity": 0.2
            },
            "type": "scatter"
           }
          ],
          "scatter3d": [
           {
            "line": {
             "colorbar": {
              "outlinewidth": 0,
              "ticks": ""
             }
            },
            "marker": {
             "colorbar": {
              "outlinewidth": 0,
              "ticks": ""
             }
            },
            "type": "scatter3d"
           }
          ],
          "scattercarpet": [
           {
            "marker": {
             "colorbar": {
              "outlinewidth": 0,
              "ticks": ""
             }
            },
            "type": "scattercarpet"
           }
          ],
          "scattergeo": [
           {
            "marker": {
             "colorbar": {
              "outlinewidth": 0,
              "ticks": ""
             }
            },
            "type": "scattergeo"
           }
          ],
          "scattergl": [
           {
            "marker": {
             "colorbar": {
              "outlinewidth": 0,
              "ticks": ""
             }
            },
            "type": "scattergl"
           }
          ],
          "scattermap": [
           {
            "marker": {
             "colorbar": {
              "outlinewidth": 0,
              "ticks": ""
             }
            },
            "type": "scattermap"
           }
          ],
          "scattermapbox": [
           {
            "marker": {
             "colorbar": {
              "outlinewidth": 0,
              "ticks": ""
             }
            },
            "type": "scattermapbox"
           }
          ],
          "scatterpolar": [
           {
            "marker": {
             "colorbar": {
              "outlinewidth": 0,
              "ticks": ""
             }
            },
            "type": "scatterpolar"
           }
          ],
          "scatterpolargl": [
           {
            "marker": {
             "colorbar": {
              "outlinewidth": 0,
              "ticks": ""
             }
            },
            "type": "scatterpolargl"
           }
          ],
          "scatterternary": [
           {
            "marker": {
             "colorbar": {
              "outlinewidth": 0,
              "ticks": ""
             }
            },
            "type": "scatterternary"
           }
          ],
          "surface": [
           {
            "colorbar": {
             "outlinewidth": 0,
             "ticks": ""
            },
            "colorscale": [
             [
              0,
              "#0d0887"
             ],
             [
              0.1111111111111111,
              "#46039f"
             ],
             [
              0.2222222222222222,
              "#7201a8"
             ],
             [
              0.3333333333333333,
              "#9c179e"
             ],
             [
              0.4444444444444444,
              "#bd3786"
             ],
             [
              0.5555555555555556,
              "#d8576b"
             ],
             [
              0.6666666666666666,
              "#ed7953"
             ],
             [
              0.7777777777777778,
              "#fb9f3a"
             ],
             [
              0.8888888888888888,
              "#fdca26"
             ],
             [
              1,
              "#f0f921"
             ]
            ],
            "type": "surface"
           }
          ],
          "table": [
           {
            "cells": {
             "fill": {
              "color": "#EBF0F8"
             },
             "line": {
              "color": "white"
             }
            },
            "header": {
             "fill": {
              "color": "#C8D4E3"
             },
             "line": {
              "color": "white"
             }
            },
            "type": "table"
           }
          ]
         },
         "layout": {
          "annotationdefaults": {
           "arrowcolor": "#2a3f5f",
           "arrowhead": 0,
           "arrowwidth": 1
          },
          "autotypenumbers": "strict",
          "coloraxis": {
           "colorbar": {
            "outlinewidth": 0,
            "ticks": ""
           }
          },
          "colorscale": {
           "diverging": [
            [
             0,
             "#8e0152"
            ],
            [
             0.1,
             "#c51b7d"
            ],
            [
             0.2,
             "#de77ae"
            ],
            [
             0.3,
             "#f1b6da"
            ],
            [
             0.4,
             "#fde0ef"
            ],
            [
             0.5,
             "#f7f7f7"
            ],
            [
             0.6,
             "#e6f5d0"
            ],
            [
             0.7,
             "#b8e186"
            ],
            [
             0.8,
             "#7fbc41"
            ],
            [
             0.9,
             "#4d9221"
            ],
            [
             1,
             "#276419"
            ]
           ],
           "sequential": [
            [
             0,
             "#0d0887"
            ],
            [
             0.1111111111111111,
             "#46039f"
            ],
            [
             0.2222222222222222,
             "#7201a8"
            ],
            [
             0.3333333333333333,
             "#9c179e"
            ],
            [
             0.4444444444444444,
             "#bd3786"
            ],
            [
             0.5555555555555556,
             "#d8576b"
            ],
            [
             0.6666666666666666,
             "#ed7953"
            ],
            [
             0.7777777777777778,
             "#fb9f3a"
            ],
            [
             0.8888888888888888,
             "#fdca26"
            ],
            [
             1,
             "#f0f921"
            ]
           ],
           "sequentialminus": [
            [
             0,
             "#0d0887"
            ],
            [
             0.1111111111111111,
             "#46039f"
            ],
            [
             0.2222222222222222,
             "#7201a8"
            ],
            [
             0.3333333333333333,
             "#9c179e"
            ],
            [
             0.4444444444444444,
             "#bd3786"
            ],
            [
             0.5555555555555556,
             "#d8576b"
            ],
            [
             0.6666666666666666,
             "#ed7953"
            ],
            [
             0.7777777777777778,
             "#fb9f3a"
            ],
            [
             0.8888888888888888,
             "#fdca26"
            ],
            [
             1,
             "#f0f921"
            ]
           ]
          },
          "colorway": [
           "#636efa",
           "#EF553B",
           "#00cc96",
           "#ab63fa",
           "#FFA15A",
           "#19d3f3",
           "#FF6692",
           "#B6E880",
           "#FF97FF",
           "#FECB52"
          ],
          "font": {
           "color": "#2a3f5f"
          },
          "geo": {
           "bgcolor": "white",
           "lakecolor": "white",
           "landcolor": "#E5ECF6",
           "showlakes": true,
           "showland": true,
           "subunitcolor": "white"
          },
          "hoverlabel": {
           "align": "left"
          },
          "hovermode": "closest",
          "mapbox": {
           "style": "light"
          },
          "paper_bgcolor": "white",
          "plot_bgcolor": "#E5ECF6",
          "polar": {
           "angularaxis": {
            "gridcolor": "white",
            "linecolor": "white",
            "ticks": ""
           },
           "bgcolor": "#E5ECF6",
           "radialaxis": {
            "gridcolor": "white",
            "linecolor": "white",
            "ticks": ""
           }
          },
          "scene": {
           "xaxis": {
            "backgroundcolor": "#E5ECF6",
            "gridcolor": "white",
            "gridwidth": 2,
            "linecolor": "white",
            "showbackground": true,
            "ticks": "",
            "zerolinecolor": "white"
           },
           "yaxis": {
            "backgroundcolor": "#E5ECF6",
            "gridcolor": "white",
            "gridwidth": 2,
            "linecolor": "white",
            "showbackground": true,
            "ticks": "",
            "zerolinecolor": "white"
           },
           "zaxis": {
            "backgroundcolor": "#E5ECF6",
            "gridcolor": "white",
            "gridwidth": 2,
            "linecolor": "white",
            "showbackground": true,
            "ticks": "",
            "zerolinecolor": "white"
           }
          },
          "shapedefaults": {
           "line": {
            "color": "#2a3f5f"
           }
          },
          "ternary": {
           "aaxis": {
            "gridcolor": "white",
            "linecolor": "white",
            "ticks": ""
           },
           "baxis": {
            "gridcolor": "white",
            "linecolor": "white",
            "ticks": ""
           },
           "bgcolor": "#E5ECF6",
           "caxis": {
            "gridcolor": "white",
            "linecolor": "white",
            "ticks": ""
           }
          },
          "title": {
           "x": 0.05
          },
          "xaxis": {
           "automargin": true,
           "gridcolor": "white",
           "linecolor": "white",
           "ticks": "",
           "title": {
            "standoff": 15
           },
           "zerolinecolor": "white",
           "zerolinewidth": 2
          },
          "yaxis": {
           "automargin": true,
           "gridcolor": "white",
           "linecolor": "white",
           "ticks": "",
           "title": {
            "standoff": 15
           },
           "zerolinecolor": "white",
           "zerolinewidth": 2
          }
         }
        },
        "title": {
         "text": "Flight Path - Segment 11523328"
        },
        "width": 1000
       }
      }
     },
     "metadata": {},
     "output_type": "display_data"
    },
    {
     "name": "stdout",
     "output_type": "stream",
     "text": [
      "X range: -838811.50 to 353688.21\n",
      "Y range: 0.00 to 7834685.21\n",
      "Z range: 19200.00 to 26000.00\n"
     ]
    }
   ],
   "source": [
    "import pandas as pd\n",
    "import plotly.graph_objects as go\n",
    "from plotly.subplots import make_subplots\n",
    "import plotly.io as pio\n",
    "\n",
    "# Get the first segment_id\n",
    "first_segment = trajectories['segment_id'].unique()[0]\n",
    "\n",
    "# Filter data for first segment\n",
    "segment_data = trajectories[trajectories['segment_id'] == first_segment]\n",
    "\n",
    "# Create the 3D scatter plot\n",
    "fig = go.Figure(data=[go.Scatter3d(\n",
    "    x=segment_data['x'],\n",
    "    y=segment_data['y'],\n",
    "    z=segment_data['z'],\n",
    "    mode='lines+markers',\n",
    "    line=dict(\n",
    "        width=2,\n",
    "        color='blue'\n",
    "    ),\n",
    "    marker=dict(\n",
    "        size=2,\n",
    "        color='blue',\n",
    "        opacity=0.8  # Added some transparency\n",
    "    )\n",
    ")])\n",
    "\n",
    "# Update layout for better visualization\n",
    "fig.update_layout(\n",
    "    title=f'Flight Path - Segment {first_segment}',\n",
    "    scene=dict(\n",
    "        camera=dict(\n",
    "            up=dict(x=0, y=0, z=1),\n",
    "            center=dict(x=0, y=0, z=0),\n",
    "            eye=dict(x=1.5, y=1.5, z=1.5)  # Adjusted camera position\n",
    "        ),\n",
    "        aspectmode='cube',  # Forces a cubic aspect ratio\n",
    "        xaxis=dict(\n",
    "            title='X',\n",
    "            showbackground=True,\n",
    "            backgroundcolor='rgb(230, 230,230)'\n",
    "        ),\n",
    "        yaxis=dict(\n",
    "            title='Y',\n",
    "            showbackground=True,\n",
    "            backgroundcolor='rgb(230, 230,230)'\n",
    "        ),\n",
    "        zaxis=dict(\n",
    "            title='Z',\n",
    "            showbackground=True,\n",
    "            backgroundcolor='rgb(230, 230,230)'\n",
    "        )\n",
    "    ),\n",
    "    width=1000,\n",
    "    height=800\n",
    ")\n",
    "\n",
    "# Display interactive plot\n",
    "fig.show()\n",
    "\n",
    "# Save static version for GitHub\n",
    "pio.write_image(fig, \"flight_path.png\")\n",
    "\n",
    "# Optional: Print the range of values for each axis to check scale\n",
    "print(f\"X range: {segment_data['x'].min():.2f} to {segment_data['x'].max():.2f}\")\n",
    "print(f\"Y range: {segment_data['y'].min():.2f} to {segment_data['y'].max():.2f}\")\n",
    "print(f\"Z range: {segment_data['z'].min():.2f} to {segment_data['z'].max():.2f}\")"
   ]
  },
  {
   "cell_type": "code",
   "execution_count": 16,
   "metadata": {},
   "outputs": [
    {
     "data": {
      "application/vnd.plotly.v1+json": {
       "config": {
        "plotlyServerURL": "https://plot.ly"
       },
       "data": [
        {
         "line": {
          "color": "rgb(141,211,199)",
          "width": 2
         },
         "mode": "lines",
         "name": "Segment 8859810",
         "opacity": 0.8,
         "type": "scatter3d",
         "x": {
          "bdata": "AAAAAAAAAADEQw2gz0kiQG98F8DjoBVAlPKkIPU6db1WO0LVAQ4bwCyIVt+GGS7ABgPYpzzlOMD87ero+cdZwGyKgOGKPWjAtLZlp+OTcsDf+jD7cA1rwPcfPEbgQF/Au1KJPqTNcMA+XX3rWZ56wEoDvi3gQYfACQnsz2sMjcBG0fs3E56RwAJ+4Ihmw5fAiHGbEt9Sm8BadKPhSxufwPafGWem/KTAYI5nXtf0qMDckbshvjirwNVxhBJv4bDA5e5OthlUtMCrCWeh9+i3wF5yf16sn7vAYw5ULv90v8D+PRwAV7XBwIEUSrI7YsTAfeGXYHIkx8DQKdiBwkvJwAHyP4S6NszAgSk7jgX7z8D6ejA8843RwB9Wli3KINPAfsScK0xW1MAxHAVz7PDVwOM+P9wfK9fALKIvx4Nm2MAqwhe6DAnawHNuIRLjtdvAMhXNZfTZ3cCMxtAfKT/gwDjgT/8KY+HATsz3SavJ4sAtegcp5/7jwMtG8VvP/uTADaRrfv5D5sBUGx4GyBHowA==",
          "dtype": "f8"
         },
         "y": {
          "bdata": "AAAAAAAAAAABl6FXItS4QO4cxm5EItJAMJLVJbWt4UDK3jLc+HbsQPL2w5BM1fRA+5W/cU2u/EDeb1Hynv4CQQW+u92lZQhBGZWNDmSLDkGcp5HNX7MSQbzeouXbkxZB2MMCQ0TbGkEnfjEWTYcfQb/VbEmgUiJBly6vmUwUJUHZzBGxIAYoQdObVNlpLytBA3O+3hyTLkGtckFBgRYxQYhJvNywADNBloLQ2mQLNUGvdej/bjM3QbAnb6FkgTlBR4DraX3vO0FVkYuRsXU+QSrbcq7eiUBBbr5JAbDjQUGmjeYj6EhDQcQHqiECuERB9gL0jYkyRkEV/nmNGbdHQeTtcQt5R0lBKir6OXboSkEUHsYQu5VMQWpB4t6SRU5BToGnB9r5T0EyfNxsBdlQQWTWL753tlFBZNnJvcCUUkG3x5kaFnVTQUBwGlfxWlRBhO4NlfFHVUFIUWGRDz1WQaI4KJ5/OVdBgEHE4G49WEFSmA5s4EhZQck5nis1W1pBmUTtRnJ0W0GUCvXMgJRcQQ==",
          "dtype": "f8"
         },
         "z": {
          "bdata": "AAAAAEDT1EAAAAAAABjVQAAAAABAadVAAAAAAMDA1UAAAAAAABLWQAAAAACAadZAAAAAAEDH1kAAAAAAwB7XQAAAAABAdtdAAAAAAMDN10AAAAAAAB/YQAAAAADAY9hAAAAAAMCu2EAAAAAAAADZQAAAAADARNlAAAAAAMCP2UAAAAAAAOHZQAAAAADAJdpAAAAAAIBq2kAAAAAAgLXaQAAAAABA+tpAAAAAAAA/20AAAAAAwIPbQAAAAABAwttAAAAAAED020AAAAAAQD/cQAAAAACAkNxAAAAAAADo3EAAAAAAADPdQAAAAABAhN1AAAAAAEDP3UAAAAAAgCDeQAAAAACAa95AAAAAAACq3kAAAAAAAPXeQAAAAABAFN9AAAAAAABy30AAAAAAQKrfQAAAAADAtt9AAAAAAAC930AAAAAAQMPfQAAAAAAA1t9AAAAAAEAK4EAAAAAAYCbgQAAAAACgReBAAAAAAMBh4EAAAAAA4H3gQAAAAAAgneBAAAAAAEC54EAAAAAAgNjgQA==",
          "dtype": "f8"
         }
        },
        {
         "line": {
          "color": "rgb(255,255,179)",
          "width": 2
         },
         "mode": "lines",
         "name": "Segment 9360838",
         "opacity": 0.8,
         "type": "scatter3d",
         "x": {
          "bdata": "AAAAAAAAAABSfqI5VV8FQFOzzmpKPSDAzILeqEI6kT2doZ/92lxDQF8WzED8M1ZAnXBizb06WkBTiZcZwBdfQC5ppNz1lGpAlAMAgyCmc0CSmlhz24R1QA0yw1Aoq3dAChQ6N3cGekBkY1StSJV8QH69OIf2XoNA8yjma13QhEBptDCBbVuGQNHinJEe8odAHnXA4gmqiUAiYYaNvH2LQGeNt2ji8odAQwY5I5zkiUCfM1s2GASMQI/UeTKgY5JAzfdFEsIokECjTm3pr6KLQNEr2ZSkS45AcAfaDgSPkEC+fIRL+3OLQCBL6D+er45AhTqjpLEKkUDurhXBOdGSQHsM/t0zspRAy032U0WmlkAxwQ0SVTyWwHtPUoqf39DAjWt2TD+c5sD0tJrtBpT1wE/GRGoufwHBB0D/BVlACcGJtSiQUKAQwXFwhLxbrxTBX7emodTlGMFFtVYHdkYdwZopujZy4yDBdzFyoig3I8Gzz0ccpZIlwc9J5QiACyjBWOlyNL2KKsE66idJmBEtwQ==",
          "dtype": "f8"
         },
         "y": {
          "bdata": "AAAAAAAAAAAWVQNvNDmxQIl9SooAJctADxltHoui2kBdAgcqXVvlQI6QXHBXwO9AW8lGasZa9kDERO/S5yz+QB0RKlQyqwNB7fd/iI3yCEHoDEDstPYOQXHN4R1w8BJBK781Rde6FkFPxUMyLNgaQadYFjTADx9BmjcJdhjaIUFfhveThVUkQSaG7li24yZBj75sak2nKUFRZaNKmpcsQZv7wk2woS9BS2Xi9ilhMUFNgukLRBYzQd619MDY5zRBkfb716LRNkEBjgIF7tM4QcGelxuT9zpBINtNpZA8PUFtwvRtoao/QXjpr3YgIkFBBx3T++N/QkHl0SgWdO1DQRvfLZ5EcEVBt2j+0m8CR0E/qZ8Ug6ZIQW8R5Kq+T0pB26ahKaD6S0H6LRC0zaZNQTtB2r0sU09Bzx1FV26CUEG5OMubKGVRQZHgNvngT1JBWnP5witFU0EqH//OzUVUQXV4HTa4TVVBerMqwrNcVkEPBQKPOG9XQdvtOCsljVhB9A8lbO2vWUHEs2xaLdRaQQ==",
          "dtype": "f8"
         },
         "z": {
          "bdata": "AAAAAMBI0EAAAAAAwGHQQAAAAACAjdBAAAAAAIC/0EAAAAAAwPfQQAAAAABAT9FAAAAAAMCm0UAAAAAAAPjRQAAAAABASdJAAAAAAICa0kAAAAAAgOXSQAAAAABAKtNAAAAAAIB700AAAAAAANPTQAAAAACA39NAAAAAAAAe1EAAAAAAgHXUQAAAAADAlNRAAAAAAIDZ1EAAAAAAwCrVQAAAAAAAY9VAAAAAAAB81UAAAAAAQLTVQAAAAAAA+dVAAAAAAEBK1kAAAAAAQJXWQAAAAADA09ZAAAAAAEAS10AAAAAAgErXQAAAAACAfNdAAAAAAAC710AAAAAAwP/XQAAAAADAMdhAAAAAAIB22EAAAAAAQKLYQAAAAAAAtdhAAAAAAMDH2EAAAAAAQNTYQAAAAAAA59hAAAAAAIAM2UAAAAAAwETZQAAAAACAidlAAAAAAIC72UAAAAAAQOfZQAAAAAAA+tlAAAAAAMA+2kAAAAAAQEvaQAAAAAAAd9pAAAAAAECW2kAAAAAAQK/aQA==",
          "dtype": "f8"
         }
        },
        {
         "line": {
          "color": "rgb(190,186,218)",
          "width": 2
         },
         "mode": "lines",
         "name": "Segment 10559261",
         "opacity": 0.8,
         "type": "scatter3d",
         "x": {
          "bdata": "AAAAAAAAAAAt1N/1w7s3wB/dT9beyFHAcNpAGuvJij3AG4AfGzeZQL6mzJnGe7RAQrBSyOz3xUBIOmin0WXTQB0SESnGXt5Ahib8VUcI5kApd2yGM2TuQNxUth1ODfRAUCF4YT+P+UA9kOQZ/b//QDI09Oi/EwNBM4hlnxLjBUHc5aVPdCoIQZVcPTIk2wlBPQSFr9z0CkGugp72HGcLQfIR2fbwJwtBkgbFT0tACkEzKEA0ZfUIQez95N4rcAdByNR1XrHRBUHM9FEmbSAEQYe5VOu0UgJB1mqiCulfAEEwtsslwaD8QBN3dJsiSvhAhTtUCz6880Ddc/i+xcPtQI+JXguBn+NAcd0LRB8f0kCK3Kh7ivWuwBoqG/WIHdvAEtbVLeJx6cDpILiRWgLzwPDN5ZW2hfnAw49sb9cgAMESRdOZdqwDwVse6qyWNgfBGrCVX/juCsF2PsxIMdcOwZamsOIrbhHBhDEyVYB/E8FSYXSZzJ0VwRD45xtiyRfBBZiVnsoMGsEpXYDXhVYcwQ==",
          "dtype": "f8"
         },
         "y": {
          "bdata": "AAAAAAAAAACc3vNS5rTBQOzWAfSKidpAqrDAhvyI6kA0DN9Ca6n0QOQD54wcoPxAX9bI3fqTAkHyp/enhh0HQfRCWIsR6gtBYEw3BF2yEEHSp3mFAPYTQc8EPJzxwBdBgUSfYsMUHEGtMS9v9nggQX6bIgCdKiNBFj2Rs5D+JUEzsl6mYvAoQb4mssr2ACxB+5L81ScuL0HKh5feiDoxQTEjEfth6TJBfrNoeyqjNEG4MiVpPHc2QY5INBzwazhBEJHdkiCBOkH9t1qhxrg8QUsGQAq0FT9Bql8GDq7LQEH/GlHq/R5CQWLG7n8rhENBXEerux/7REErbWxrjYNGQWNHH3+ZHUhBU76OGKfISUEwz8svO4VLQSIQUDvvUk1BodV4PI4zT0Fa5qWfg5NQQf/vFgc+llFBYRREOcGhUkFfUekslbZTQVd52u7N1FRBkXWbAF/8VUHRN6BFcS1XQZc0ik5WZ1hBnW9zbDuqWUGJrMSwCfVaQTozgLryR1xB5sA2xGijXUE70austQhfQQ==",
          "dtype": "f8"
         },
         "z": {
          "bdata": "AAAAAACU4UAAAAAA4JDhQAAAAAAAlOFAAAAAAACU4UAAAAAAAJThQAAAAAAAlOFAAAAAAACU4UAAAAAA4JDhQAAAAADgkOFAAAAAAOCQ4UAAAAAA4JDhQAAAAAAAlOFAAAAAAACU4UAAAAAAAJThQAAAAAAAlOFAAAAAAACU4UAAAAAAAJThQAAAAAAAlOFAAAAAAOCQ4UAAAAAAAJThQAAAAAAAlOFAAAAAAOCQ4UAAAAAAAJThQAAAAADgkOFAAAAAAOCQ4UAAAAAAAJThQAAAAAAAlOFAAAAAAACU4UAAAAAAAJThQAAAAAAAlOFAAAAAAACU4UAAAAAAAJThQAAAAAAAlOFAAAAAAACU4UAAAAAA4JDhQAAAAAAAlOFAAAAAAACU4UAAAAAA4JDhQAAAAAAAlOFAAAAAAOCQ4UAAAAAA4JDhQAAAAAAAlOFAAAAAAACU4UAAAAAAAJThQAAAAAAAlOFAAAAAAACU4UAAAAAAAJThQAAAAAAAlOFAAAAAAACU4UAAAAAAAJThQA==",
          "dtype": "f8"
         }
        },
        {
         "line": {
          "color": "rgb(251,128,114)",
          "width": 2
         },
         "mode": "lines",
         "name": "Segment 8792288",
         "opacity": 0.8,
         "type": "scatter3d",
         "x": {
          "bdata": "AAAAAAAAAACZ5og4MWQyQFZVV/r5LDtA1DiYTLuAnr0P5HMeDKphwJvNJBtpwnPAWh6y54tWhcCmh7oyzFSRwMhBSxZvs5XAQRtYMgHKmMC3S3UxyTKcwBfWcaRUBKHAAwBj3jpopsDkVQf16mauwC5NABvk5bPAHeRR4YpUucCXxsS3qTe+wJuo33eWDsDAfakpou2xwMC3YzENo6DCwBkmJIS1LcXAPwojpoTnyMAp5Y8rqGLMwOWCsVY4QdDAAxWguks808CyTeOB4RjXwA8+YP/4Md3Aomc+hACe4sBJGwJ72enmwJwQDnV/WuzA119CznEx8cCSUfANicH0wBy4cRM5mvjAv2JN/O+i/MC3xTTPvF8AwVhVHJ5hhQLBp8dhv7vOBMGuA1+ausoHwaK7nA5CTwzBh9oHg4BREcHzejHSI+wUwSfL0b3xURnBgfj161TQHsGspGVIWaUiwf46a2C0eibBSLWh7MjOKsEH0OJR84YvwcnNomRMKzLB7rB+TY6eNMFzI42SEyU3wQ==",
          "dtype": "f8"
         },
         "y": {
          "bdata": "AAAAAAAAAACoE4846ye/QIkcHxZrE9dAq/E9XCe+5kA9DlcJLMDyQCeuTlWR4ftAz+AGIPtrA0Eab+kUscsJQQOXHLSGjBBBTjU9D5mqFEFt43PLTTYZQWWufoODFh5BNzngxFefIUEsrNkJMU0kQSzJJiUcCidBLtmIVVHXKUFdopdTnbAsQcO3al712y9BFV1JioqhMUHF0FOQ13ozQaxVgA2efTVBwuOcJ5upN0FnkX7c2f45QcSnaglIZjxBIUZteu/lPkHmRucearZAQU1Tk0ExCEJB2tTs8bNuQ0EcRd9Tgt9EQUcDnEGeXEZBpFWxpqLfR0G6o2KtjnpJQYJuCbc+K0tB7XIYTAnxTEHevL7AO8tOQZR1LgY/XVBBuR3qmXVeUUGwBgHBcGZSQSvGtQziclNBnl+1xzGCVEG7lOSxb5lVQSUhvpA6slZBQiE/kkTLV0FBfMW98uNYQZn2wQ6A+llB2y6pgHwPW0H3G+29hClcQZm36lxpUF1B+C7j9fWBXkE4XjK45LxfQQ==",
          "dtype": "f8"
         },
         "z": {
          "bdata": "AAAAAABS3EAAAAAAgJDcQAAAAABA1dxAAAAAAAAa3UAAAAAAAGXdQAAAAAAAsN1AAAAAAMD03UAAAAAAgDneQAAAAABAft5AAAAAAADD3kAAAAAAwAffQAAAAABAX99AAAAAAEDD30AAAAAAgPvfQAAAAABACuBAAAAAAKAT4EAAAAAA4BngQAAAAABgJuBAAAAAAMBI4EAAAAAA4GTgQAAAAADAeuBAAAAAAMCT4EAAAAAAgKbgQAAAAABgvOBAAAAAAODh4EAAAAAAIOjgQAAAAADA9+BAAAAAAGAH4UAAAAAAYCDhQAAAAADAQuFAAAAAAABJ4UAAAAAAIEzhQAAAAACgWOFAAAAAAKBx4UAAAAAAoIrhQAAAAABgneFAAAAAACCw4UAAAAAAIMnhQAAAAACA0uFAAAAAAMDY4UAAAAAAwPHhQAAAAABgAeJAAAAAAKAH4kAAAAAA4A3iQAAAAAAAEeJAAAAAAAAR4kAAAAAAABHiQAAAAAAAEeJAAAAAAAAR4kAAAAAAABHiQA==",
          "dtype": "f8"
         }
        },
        {
         "line": {
          "color": "rgb(128,177,211)",
          "width": 2
         },
         "mode": "lines",
         "name": "Segment 8509992",
         "opacity": 0.8,
         "type": "scatter3d",
         "x": {
          "bdata": "AAAAAAAAAACtqhiqrituQGNEOtKcKn5AYI12KX28br0+3/GwS3qTwP3wB4P+mKXA5efqFzIzssAQng9GOEe8wJ+5TjsvV8LAuAXwkSD2wcCA9gehWYe4wC6GL3CjMHjAZh4bRrohwUBBdPzpif7UQDseF/l4tuJADnM4Jc/77EC/cjNuVLX0QDEI/rp68ftA08lMeTPuAUGYzI79Gj0GQTqqPFMpJAtB8wSFSPlnEEFVFgOzrpsTQbnTl1/vQxdB9lGGCeBJG0HHOMj3FpgfQa8LvDERGCJBu2YmtSuGJEHF2allpBonQSL+TTWc0ClBKlyd+IWnLEE4/ueXVqEvQbLE0EwhYTFB7YlhZDECM0GCGofrmrU0QdsspF+teTZBsJ/aCfpOOEFPiVUatDQ6QfmaFGj3LDxBsg9MajYzPkEOa+rIZCJAQbeFBBLSM0FBvXX6JERNQkEIWNhK0XBDQe+B5MuVnURBUP5KsA3QRUH1+lI3gw1HQZDPAVPQT0hBkymnl72aSUGfO/H1Iu5KQQ==",
          "dtype": "f8"
         },
         "y": {
          "bdata": "AAAAAAAAAABENlMwTPy/QA+F6XS8p9VAfurv1jk040BApA7q/MXuQARAochGrPZAXESpiL8LAEEmsAcW49YFQY41V4CPowxBE70LF0nsEUFDqpFO67YVQZ42hDjZrBlBJpzxjN7QHUGfuGsorBEhQVhicTcmUCNB6in8SDulJUGi8VxrjQ0oQTWPcooAuipBv7SnBl6rLUGf8O+l/XEwQdCT4DRMLTJBs+pU+njsM0FQGNDJebA1QUE0xmFUcjdBvA8xEutGOUEK6Kl4Ujo7QZ9++eTOSj1BNC3bkKJ3P0EdziCnMeJAQedHR+3EGEJBlShQLG1fQ0G4jmCyLbdEQeYaaekXH0ZBo45+YHmXR0GUEA0OaiBJQQwq0f8SukpBDvgtaFhjTEEVrGcWUx1OQU8uOZ8r6E9B6QUj6OXeUEFyeVZL1s9RQSQ8XKGcx1JBKn1MbLXHU0HTUHVJANFUQeqfYAGu4lVBYihHq4v5VkFVwKe3OBlYQTN1aw5JPVlB5cYmYyppWkHUKYf08phbQQ==",
          "dtype": "f8"
         },
         "z": {
          "bdata": "AAAAAADW30AAAAAAAATgQAAAAACgE+BAAAAAAAAd4EAAAAAAwC/gQAAAAACAQuBAAAAAAEBV4EAAAAAAIGvgQAAAAADgfeBAAAAAACCE4EAAAAAAYIrgQAAAAACgkOBAAAAAAOCW4EAAAAAAAJrgQAAAAAAgneBAAAAAAACa4EAAAAAAAJrgQAAAAAAAmuBAAAAAAACa4EAAAAAAAJrgQAAAAAAAmuBAAAAAAACa4EAAAAAAAJrgQAAAAAAAmuBAAAAAAACa4EAAAAAAAJrgQAAAAAAAmuBAAAAAAACa4EAAAAAAAJrgQAAAAAAAmuBAAAAAAACa4EAAAAAAAJrgQAAAAAAAmuBAAAAAAACa4EAAAAAAAJrgQAAAAAAAmuBAAAAAAACa4EAAAAAAAJrgQAAAAAAAmuBAAAAAAACa4EAAAAAAAJrgQAAAAAAAmuBAAAAAAACa4EAAAAAAAJrgQAAAAAAAmuBAAAAAAACa4EAAAAAAAJrgQAAAAAAAmuBAAAAAAACa4EAAAAAAAJrgQA==",
          "dtype": "f8"
         }
        },
        {
         "line": {
          "color": "rgb(253,180,98)",
          "width": 2
         },
         "mode": "lines",
         "name": "Segment 8749506",
         "opacity": 0.8,
         "type": "scatter3d",
         "x": {
          "bdata": "AAAAAAAAAACkts6m4FYmQAEJWputni1AgI8c0cPrO70HMOb0uYdJwD2A/rXRLF3ARUelMRudbsCLeGwRw3B8wI82zKn72IXAtPtvedFIjMAgXhK9EiqTwHwpSJdQzJjAd1Vjg7VpncCv/M7srimiwHeTpvkR7aXA5SKDApoGqsDIJJ3U33GuwGLFFP0QQbLA3Ph0mF3OtMBX6QBWuou3wC5Cs/E6RLvAbFyC7p8IwMDVup8rKb7IwCisnHmQYdfAV33Rv5Vh5MDDfSKwrSXwwDHS9Cw6w/fAWcVbvHwdAMHxphe2dYoEwWitjZJFNAnB4GOS7w8UDsG2V0j3PJ4RwZWuRdacUBTB3eCUExwoF8HSOlbw0igawR+nKV1bQh3BU3krKvdCIMG7yk6McvIhwUCP/TK+sSPBXgW7kQN9JcGhijaXdFUnweDyj0cIOynBfTyLLR8wK8HXdrfUbzAtwb1lyuJgOy/BXU9rJgyoMMG3kWr65bcxwSVTCDQ+zTLBISe4xUnqM8GDI7mb1Qo1wQ==",
          "dtype": "f8"
         },
         "y": {
          "bdata": "AAAAAAAAAADPvCTvQm+zQFajxlWK8MdAg4E6gPGU10D7xXdFXyDkQKg8KcTZ1+5Aee39GM4H9kCmPgLnH/L9QDiiw6/VkQNB+bJB7OPgCEGRzJlDiu4OQejc0k533BJBEHy+htiqFkG1t3XoWdUaQV7De8WPXh9BoyU+oMwnIkES2x5hlNEkQXkFELiasidBvtafwQ3GKkF/EbuBbhMuQWAgdqT4zTBB3Wtk2WGvMkHoIoI6bak0QUZ+7NUmrjZB/SXHYEvAOEFwgHTnYd46QfUS3PxMBT1BdtSJ9j1IP0H8+8FGGtVAQbR+ESh2FkJBHScoKwhpQ0G2CU1seMxEQaZly3kmQEZBymujeLzER0HJOLnDIVxJQWJ8/INZB0tBeLNT/anFTEG8XQC9m5JOQWAWs4JbNlBB+0Ek58EpUUExgrkqIyRSQXdxd4h6JVNB+rceYvssVEH+4kVtYzpVQcY/PgViTVZBTpqOgoRlV0FlwfjWbYNYQSmqq1Aep1lBDWHTFZnQWkGLBu18EQBcQQ==",
          "dtype": "f8"
         },
         "z": {
          "bdata": "AAAAAADs00AAAAAAQD3UQAAAAADAYtRAAAAAAEC61EAAAAAAwBHVQAAAAABAadVAAAAAAMDA1UAAAAAAABLWQAAAAABAY9ZAAAAAAIC01kAAAAAAgP/WQAAAAADAUNdAAAAAAMCb10AAAAAAAO3XQAAAAABAPthAAAAAAECJ2EAAAAAAQNTYQAAAAAAAGdlAAAAAAEBq2UAAAAAAAK/ZQAAAAADA89lAAAAAAIA42kAAAAAAwHDaQAAAAADAidpAAAAAAACp2kAAAAAAQMjaQAAAAACA59pAAAAAAEAs20AAAAAAAHHbQAAAAACAr9tAAAAAAADu20AAAAAAgCzcQAAAAAAAa9xAAAAAAICp3EAAAAAAwOHcQAAAAABAIN1AAAAAAIBY3UAAAAAAQJ3dQAAAAAAA4t1AAAAAAAAt3kAAAAAAAHjeQAAAAAAAw95AAAAAAAAO30AAAAAAAFnfQAAAAAAApN9AAAAAAADv30AAAAAAAB3gQAAAAACAQuBAAAAAAOBk4EAAAAAAYIrgQA==",
          "dtype": "f8"
         }
        },
        {
         "line": {
          "color": "rgb(179,222,105)",
          "width": 2
         },
         "mode": "lines",
         "name": "Segment 9403464",
         "opacity": 0.8,
         "type": "scatter3d",
         "x": {
          "bdata": "AAAAAAAAAACrySAjwCY+QLLpgUEOMTJAOuzo1F6Hsz2p3B8pPPRSwOwypZZRSGXAqDbUzIBedsCbKYdc1ztrQP+qG8hv/qlArEI873/vwUB89R38GIrRQFE4qlByU91AO+L+jwqE5kBcFZQm+BTwQKUIqT1k5fVAsexCqFtY/EDI5Lv2uLgBQdBZ3TL1jgVBAm4M5JW6CUH3QXIFbjoOQfkKrnhZiRFBMepBkB8lFEG8LacTZu8WQa16HCCX3xlBzwrjnQTvHEH+V+QQ8RIgQea9+//cxiFBSIAlJ+2EI0HIicJ/L04lQX2sYqVaJidBUd4DO4IPKUGEYpnP3AErQUkm8+XeEy1B3cxz/dA+L0GUkuJATcAwQfcXzNVz/DFBm1m2nF9jM0GXI/WIyfE0QY/45vXUpjZBdbNR0bt/OEG2Wy4bNWY6QbZ6ElNwXDxBpKdg5RhiPkHyeUWU9jtAQdhYz5RdTkFBS7q9s8doQkFIQbHUkYpDQRbPY03HtURBcZoB1uDpRUFCRVFb3yRHQQ==",
          "dtype": "f8"
         },
         "y": {
          "bdata": "AAAAAAAAAABFHw6bUJ26QLGY2zNsDNVAHMcQrqF45UBe7Czy3/nxQBIaD2+O/vpAx1eQrGzSAkETYi4S2fsIQazlNNwUdg9BE3ESqdEZE0F3R5UH954WQXo9jNMrShpBqWZIGRsSHkHD/mRRLP0gQd7hdaRxACNBoOx0m8w1JUGd0nqWXJ0nQQgbAwVyOipBqLhYebIRLUF7zfZ0KBEwQShmMZiVtzFBPksu0AR8M0GS4ijtXl01QZlO6iQAWzdBs/YOlY1zOUG1RdeYHac7Qbkx7vvP9T1BTAxIMiApQEFaVP2SmmBBQRgbY+U8okJBPxIVMaftQ0E740EPTT9FQfRQWpB5pEZBhc7WGHccSEF10PrXLahJQZkxNUthOEtBLLRYybPGTEEQYwRw3FFOQfMTYU2b2U9B5YKzGJuvUEFih5E3ynhRQVDsTpl9SFJBIOmhQJIeU0Glxdi9ePpTQTEnbXeK3FRBdb9mBTbFVUHfFo4J9bNWQYgB+6h2qldBegXWcEuoWEF2Uroy3K1ZQQ==",
          "dtype": "f8"
         },
         "z": {
          "bdata": "AAAAAIBi00AAAAAAQKfTQAAAAACA39NAAAAAAAAe1EAAAAAAwGLUQAAAAACAp9RAAAAAAEDs1EAAAAAAADHVQAAAAABAUNVAAAAAAEBp1UAAAAAAQILVQAAAAABAm9VAAAAAAIC61UAAAAAAwNnVQAAAAADA8tVAAAAAAIA31kAAAAAAQHzWQAAAAAAAwdZAAAAAAID/1kAAAAAAAD7XQAAAAACAfNdAAAAAAEDB10AAAAAAwP/XQAAAAACARNhAAAAAAECJ2EAAAAAAAM7YQAAAAADAEtlAAAAAAAAy2UAAAAAAQIPZQAAAAABAztlAAAAAAEAZ2kAAAAAAQDLaQAAAAAAAXtpAAAAAAEB92kAAAAAAQK/aQAAAAACAztpAAAAAAIDn2kAAAAAAgADbQAAAAACAGdtAAAAAAMA420AAAAAAQHfbQAAAAADAtdtAAAAAAED020AAAAAAwDLcQAAAAACAd9xAAAAAAAC23EAAAAAAgPTcQAAAAAAAM91AAAAAAIBx3UAAAAAAALDdQA==",
          "dtype": "f8"
         }
        },
        {
         "line": {
          "color": "rgb(252,205,229)",
          "width": 2
         },
         "mode": "lines",
         "name": "Segment 9246894",
         "opacity": 0.8,
         "type": "scatter3d",
         "x": {
          "bdata": "AAAAAAAAAAAHcHHDIXwTwC27XaN2NS3APKxV8eY7nD2jJZcFojUzwJApR5JS0kXAYC7KdQXVZ8BM6Sq7Zm1ywBBI7ApG9HnALGDG7Pkcd8Cd/0fvV66DwLSxdDzaG5LAYSllOTcsmcAaj1+wp2ycwFJC7JyzRaLA1lXbJbvSp8CbG5Q5JLmtwFvITGTjrLLAuv89Q7xst8CJ5vLn7iy9wBo0BbfImMHAqmUjYnQoxcAE8CyrAuDIwEsM7YIewszAzZrEsQdm0MAHaunWQ4DSwB2dpDcFNNXAnCrFv4X918AifLr9BOPawFNAl6yxmN3AofVvtwKA4MBPXIvMnWriwHyfNfv2Z+TA1TUgjh+f5sDkn4SgDO3owPJY2ysW8+rAgoFf0EBs7cAPxHJUPy/wwPHIH4B1zfHAU4Rx/3ZW88CBkv20CPH0wLcC0qGg0vbAse1lOS6++MA/bGJkYJH6wIq399ZRdPzA0pVndvPB/sAAiTuaLaEAwTIAbJ4a+wHB1WcsiQdfA8FQZNewe7wEwQ==",
          "dtype": "f8"
         },
         "y": {
          "bdata": "AAAAAAAAAABHwmOVaOm1QMtVYFE8b9BAwvgr2o1W4EA6zWaskiXrQPLp+JHucvRAdlsy6zSv/EB8YuzvmjUDQfSilLDo1QhBGQWuvWwoD0G683zoRTgTQfqAD0+vVRdBM3j2sALbG0HpO39kvFsgQR+D9Ljr9CJBj6UkRyC4JUHS0yEczqcoQcPrs0jJwitB2TFOFGsIL0Gxd2XyrTsxQTeaPsmUBzNB3zoiPc/nNEEO8/39C902QdAzNdSz6DhBG27VGVYJO0F3icOxX0A9QVeVFrJFjj9BVQIblVv3QEH3hSgAhDNCQZySwNRuekNBOIE8Z6DNREH/JviiBS1GQZzS7O7XmUdBtBipnPYRSUHewr52LplKQWnXbySCLExBWdA4FWfQTUETySTXAoRPQaAlky25olBBDDmXr7OFUUHnhV8D03JSQSnBAjMoaVNBl+6Zi5VkVEGTVysEDGJVQY64i3ANaFZBOgT0R7B2V0FFgQX9Ro5YQVH6tn5DrllBlzN7J5PWWkGWlDBmtAdcQQ==",
          "dtype": "f8"
         },
         "z": {
          "bdata": "AAAAAEBR2UAAAAAAgKLZQAAAAADA89lAAAAAAABF2kAAAAAAQJbaQAAAAABA4dpAAAAAAIAy20AAAAAAgH3bQAAAAACAyNtAAAAAAMAA3EAAAAAAQD/cQAAAAADAfdxAAAAAAEC83EAAAAAAwBPdQAAAAAAAZd1AAAAAAIC83UAAAAAAwA3eQAAAAABAZd5AAAAAAMC83kAAAAAAQBTfQAAAAACAZd9AAAAAAAC930AAAAAAIAfgQAAAAADAL+BAAAAAAGBY4EAAAAAAAIHgQAAAAACgqeBAAAAAAEDS4EAAAAAAwPfgQAAAAABAHeFAAAAAAKA/4UAAAAAAIGXhQAAAAACAh+FAAAAAAOCp4UAAAAAAQMzhQAAAAACg7uFAAAAAAOAN4kAAAAAAACriQAAAAABgTOJAAAAAAKBS4kAAAAAAgGjiQAAAAACAgeJAAAAAACCR4kAAAAAAIJHiQAAAAAAAjuJAAAAAAACO4kAAAAAAAI7iQAAAAAAAjuJAAAAAAACO4kAAAAAAAI7iQA==",
          "dtype": "f8"
         }
        },
        {
         "line": {
          "color": "rgb(217,217,217)",
          "width": 2
         },
         "mode": "lines",
         "name": "Segment 9093708",
         "opacity": 0.8,
         "type": "scatter3d",
         "x": {
          "bdata": "AAAAAAAAAADxNQTFC4tcQKDrHhSze2FANyWwu9Voij2Rix2PrblkwBe50K7xWknAqa5FRTNoksBFjTJk916wwKx2d4zBSMHA1vOA598izMAioI6XQI/UwLsdVUU6KNzAqML7sCIR4cDK22dnsvHhwHVSLj5TIODACyGoXwyh18CeU/b7QVrBwIZKcA2nxMhA3EdQfeps40A+2JztgWLxQOa5hKDMn/lAYa10XM08AUG92I90dvEFQUHppYEw6gpB6FidGp4PEEEJP7c4D80SQSANBqMvtBVBdTGIHKL8GEEAOScHtN8cQSMfIF2wsCBBmuU7hLRRI0H3e7xivFQmQUeMdcNctilBwOR1hpdqLUG3UvvACLwwQbd5Vpk27jJByP4fdalKNUFhAkrAY9A3QfEhJ1cIfjpBj9b9lOZUPUGamNX/uCdAQVLhzNi8uEFBOk3KCZ5bQ0E+cPS12w1FQY0DS90v0UZBelwFoKyjSEEnlKK2/4VKQaOAWlEQeExBdv6FO2t5TkFe9BLFv0RQQQ==",
          "dtype": "f8"
         },
         "y": {
          "bdata": "AAAAAAAAAADVKGucrPGpQDgNJrrOf8dAjZP9DSbo3UAbUAbrzvfsQIAsf8ejAvhAF6JEzJeDAUFzzEMJCKYHQbfOFmK5/A5BhAbZK+TFE0EiRJPc5KwYQVcdSfXiLR5BNvbmsWsIIkGrt3i2UBQlQZdFW4VqOShBn/y0llR0K0FBwY74HMAuQf+e/fOrDjFBK1OkkLHIMkEQ7hlx3Kc0QZivO4s5rjZBulQlVA3bOEHJBvFFgS87QXkPMzhTqj1BiFaEABgkQEGpGwdrkoRBQXdGBfU790JB5jcuw9lyREFi+rRP2+1FQUVMvggeaEdBV70jsArfSEE1WyhKPVBKQRxgGNJFuktBL6Hs430fTUET4hft2ntOQbJMJSsC0E9BHZmoFoSMUEHk5VPexSpRQV/afYAOwlFBMIwtizZRUkExi9aq2NhSQXeubspLYlNB9TGMQkPwU0F0R7gc4oJUQbRT8REhGlVBBpz3qwu3VUGExgW6rVhWQXQe4x+W/1ZBFQFnQZ6rV0F/TZe5QF1YQQ==",
          "dtype": "f8"
         },
         "z": {
          "bdata": "AAAAAAAX4UAAAAAAABfhQAAAAAAAF+FAAAAAAAAX4UAAAAAAABfhQAAAAAAAF+FAAAAAAAAX4UAAAAAAABfhQAAAAAAAF+FAAAAAAAAX4UAAAAAAABfhQAAAAAAAF+FAAAAAAAAX4UAAAAAAABfhQAAAAAAAF+FAAAAAAAAX4UAAAAAAABfhQAAAAAAAF+FAAAAAAAAX4UAAAAAAABfhQAAAAAAAF+FAAAAAAAAX4UAAAAAAABfhQAAAAAAAF+FAAAAAAAAX4UAAAAAAABfhQAAAAAAAF+FAAAAAAAAX4UAAAAAAABfhQAAAAAAAF+FAAAAAAAAX4UAAAAAAABfhQAAAAAAAF+FAAAAAAAAX4UAAAAAAABfhQAAAAAAAF+FAAAAAAAAX4UAAAAAAABfhQAAAAAAAF+FAAAAAAAAX4UAAAAAAABfhQAAAAAAAF+FAAAAAAAAX4UAAAAAAABfhQAAAAAAAF+FAAAAAAAAX4UAAAAAAABfhQAAAAAAAF+FAAAAAAAAX4UAAAAAAABfhQA==",
          "dtype": "f8"
         }
        },
        {
         "line": {
          "color": "rgb(188,128,189)",
          "width": 2
         },
         "mode": "lines",
         "name": "Segment 9325974",
         "opacity": 0.8,
         "type": "scatter3d",
         "x": {
          "bdata": "AAAAAAAAAACUpT1yZaUlwNDuEhVZ7jzAC6q3p3Bjkj2Pw/asH1f5P+9nN7YIiQxAd2D8R3bJF0Cu3ntVO5hSQARmNhpaRmNAiezAk2LJbkB12sI5scJ1QE+o0Mt+ooFAovaa0ifniEA2QB49vGaSQJ9pmiwV7ZpAt5xjs3D+oEDiDEi8JtykQIKPFI7vB6lAhs4/pCN9rUCW57seQBuxQDSKtKikabRA9FU+iyPEuECGuL8MqWu9QK/3icHjJsFAnLM1Gb68w0D5KzXV9wfHQKFOxxjm7clATpAzBQ77zEAokqU6rWjQQCgawm6NE9NAflvTDLd61UA3Xm0GSE7YQCnp3XrxNNtAy/T15dI33kC4ZdZVod/gQIn1o1G8seJA/aJL6+/J5ECXfrzgN/rmQASmVTZqeelAqFeCzBXT60CFzF666H3uQHoZ0n/EnfBAqE41ZrQE8kD/06gmy1TzQLbpuN2kzfRArWfa69qR9kBVe3e1slv4QAsoTHJFTPpAoNYbQGNA/EAokDgTmxX+QA==",
          "dtype": "f8"
         },
         "y": {
          "bdata": "AAAAAAAAAACOTzqWlFC5QH0Zsggg69BAri+rpRU44EDGIvT6Yn/qQL50E60cqvNA+OYScPBb+0CqOeCPm0QCQaBy3A1+ngdBYeJvnEPLDUFhMUaV4E8SQafhLR75AhZBXbiEvwb+GUH3MZa1Pl4eQU0QcNMiiyFB+VvTqugjJEGy1/86yfsmQUGp+TAWDSpBrqdhRGJULUHIzHw052YwQUaWaDtrOzJBrK40JwIqNEHrCWYbyDo2QQwq0RqPZThBQl9UOv6wOkEZGXWNjSE9QbIW6XgPtD9BfdPQRrE0QUGRaSzheaBCQWcxJU59HERBO7Quhm6jRUEi4gGuFjZHQcILqfRe00hBnoXjlFuASkF6MPQagj9MQXKctTjmDE5Brw1M5tHqT0EHLh3OGe9QQWHU1QYp8lFBcupM+Uv+UkE3YtqxCRNUQXgqDiVmL1VB/KoMjFhSVkHP9Blz531XQXyCvNNer1hBxXa/urPlWUHYn93d5R9bQc4vSOBlXFxB15Be/SebXUHbxN+XKN1eQQ==",
          "dtype": "f8"
         },
         "z": {
          "bdata": "AAAAAAD40UAAAAAAwDzSQAAAAAAAddJAAAAAAIDM0kAAAAAAQCrTQAAAAADAgdNAAAAAAEDZ00AAAAAAgCrUQAAAAACAddRAAAAAAIDA1EAAAAAAwBHVQAAAAACAb9VAAAAAAIC61UAAAAAAwAvWQAAAAAAARNZAAAAAAMCI1kAAAAAAQMfWQAAAAAAADNdAAAAAAABX10AAAAAAAKLXQAAAAABA89dAAAAAAMAx2EAAAAAAgHbYQAAAAACAwdhAAAAAAEAG2UAAAAAAgD7ZQAAAAABAg9lAAAAAAMDB2UAAAAAAQADaQAAAAADAPtpAAAAAAACQ2kAAAAAAANvaQAAAAACAGdtAAAAAAIBL20AAAAAAAIrbQAAAAADAzttAAAAAAMAA3EAAAAAAADncQAAAAACAd9xAAAAAAMCv3EAAAAAAQO7cQAAAAAAAM91AAAAAAAB+3UAAAAAAgLzdQAAAAABAAd5AAAAAAEBM3kAAAAAAgJ3eQAAAAAAA3N5AAAAAAMDu3kAAAAAAQPveQA==",
          "dtype": "f8"
         }
        },
        {
         "line": {
          "color": "rgb(204,235,197)",
          "width": 2
         },
         "mode": "lines",
         "name": "Segment 9294199",
         "opacity": 0.8,
         "type": "scatter3d",
         "x": {
          "bdata": "AAAAAAAAAADDogorgD0hQGg2UrTrqRRAkv622PTclj3dszoRjHhTQFaJpE1NPlFAsM9Bf5LzXkC1uO89g75bQFi8uANQNmdA4lZgrWfocECWBgNyUtd2QOta5IqKc31A6kEQ+N9bgkAb3VVxUU6GQA5Zt/nlc4VA5oQ4lSqHhEBExipCQ4uDQOZqXMK4gYJAv1gxas5qgUAhFK1vlSiHQNN2x5E8DI1AV+U91kyhkUCjCTqZteOUQNfkygT8O5hAWmYoJBeem0AMbR/FwsChQDcI2bvJyaVA4O26mDrXqUAAeXlUUrCrQP1byMOei61AUPlhcIlnr0D6sHTUwwevQFqu3b/1pK5At1EQ/Bc+rkDUM4rPevmzQGzTfeSGFblAQzFGCwxBukDbM96DbxK3QNBe2ocAwLNAWhFa49RJsECPCAakL7asQJhMgNpRt6hAaFD1ityTpECYCTpMUp2nQBNZDofGeK5AnXKzX7nEskB66i9cPe+sQLIOgkFSEaRAzZb/W3zkikAPBWJxE+ZqQA==",
          "dtype": "f8"
         },
         "y": {
          "bdata": "AAAAAAAAAADqr1JSbh23QMxycrD1ctFAKYTh3+9w4UB180cVxlHtQL9aMlcGMPZAPuc4Jhdh/0B9aVaepxsFQeWfKqQpXwtBSrZ3gq89EUFRQ6juOTgVQZ/mKJ4EpxlBNQ9ieHyGHkFpSblJzeghQU2F5J+IyiRBrUrnm4XqJ0H/pwlfsj0rQdvEuwq2vi5Bs69QJZg2MUFOMHYYZiMzQf7U6i7qHDVBh0BNMCQyN0HChCc6s2E5QanL9lvjnztBfHXzMbPkPUEnGycwVSZAQQXGhCptYUFBUvDFut2dQkG0tXjqHNtDQYybkvXZGUVBQoBJLv5YRkHd4ilCnpxHQdqWvSdx6khBhpPNafJFSkFvfRHiirBLQWLoN3hJLk1BFcqxqv6/TkH0zmAQeDJQQcCfXrMxDlFBOB5OTCfzUUHeOoyVpOBSQdj4se0k1lNB11/kcm7UVEHkYlLsGtlVQQwMExHV5FZBlFyKDKz4V0E772HvKRVZQQuVnnFmOlpBW3Zu+U5oW0F6ed+PG55cQQ==",
          "dtype": "f8"
         },
         "z": {
          "bdata": "AAAAAID03EAAAAAAwEXdQAAAAADAkN1AAAAAAMDb3UAAAAAAwCbeQAAAAADAcd5AAAAAAMC83kAAAAAAgAHfQAAAAACATN9AAAAAAECR30AAAAAAANbfQAAAAABgDeBAAAAAAMAv4EAAAAAAIFLgQAAAAACAdOBAAAAAAOCW4EAAAAAAYLzgQAAAAAAA5eBAAAAAAKAN4UAAAAAAQDbhQAAAAAAASeFAAAAAAEBo4UAAAAAAgIfhQAAAAAAAlOFAAAAAAACU4UAAAAAAAJThQAAAAAAgl+FAAAAAAECa4UAAAAAAQJrhQAAAAACgo+FAAAAAAOCp4UAAAAAAAMbhQAAAAAAg4uFAAAAAAIAE4kAAAAAAwCPiQAAAAADgP+JAAAAAAMBV4kAAAAAAwG7iQAAAAADAh+JAAAAAAOCj4kAAAAAAAMDiQAAAAAAg3OJAAAAAACD14kAAAAAAAAvjQAAAAAAAC+NAAAAAAAAL40AAAAAAAAvjQAAAAAAAC+NAAAAAAAAL40AAAAAAAAvjQA==",
          "dtype": "f8"
         }
        },
        {
         "line": {
          "color": "rgb(255,237,111)",
          "width": 2
         },
         "mode": "lines",
         "name": "Segment 9367273",
         "opacity": 0.8,
         "type": "scatter3d",
         "x": {
          "bdata": "AAAAAAAAAAB6ZRNeW6sgQGzJbQtI7zhA4moK5TQXsz2alcJZh8VAwNzkBZ4pKyNAwtZPsHDhdcCpX4pXCiqpwDQoxp+PfMTAQgxyWI5E1cDVE2bFMjHiwAJ+Wh0nQ+zABGecT21I9MB0RG61+6T7wEzJZ2ZV+wHB/RLp2JfLBsEDPhWevUQMwUSVyZFKNxHBhb869G2rFMGSB3nGYocYwSuAmGTWwRzB4vnidjiqIMGdLD7S0hwjwWm1ziUAvSXBGdtXjPCFKMFRQEdyxn4rwRYQG4LsoS7BuogrOWj5MMErn+6fk7kywXKRVGP4jzTBa2Ynwdp7NsF87K5tMn44wcECIf0OmDrBQa3PZrTHPMGWBBLw+ww/wU+qV8a3tUDBytHZKT7vQcE8HS4FXTNDwUNu10LCgkTBTB/ZO9bcRcH5Dwn+kT1HwQOEID8UqUjBEfbsuj4hSsHdMpQQBqNLwQyn4ii4MU3BRfFc0WbLTsFdu0QXJThQwT+YYdJCEFHBrw1xebrsUcGACUvbZc5SwQ==",
          "dtype": "f8"
         },
         "y": {
          "bdata": "AAAAAAAAAACTfPZFsnzCQEhBfV7/p9tAK1xLC4Dn60Avj6/3KGz3QGuksW3HsAFBFAW9RhvjCEHjrCuv6DoQQUba4gODJxRBBAUXtPI0GEHsoFdg4GEcQbC7cDmkUiBBbgUCLBuAIkEXSfogprQkQVQhoqNA7iZBHIjdIzUpKUEzd2eJ9GUrQTWKCpazoC1Bgy6f9JwMMEEEN1BVhmcxQUnsk4Q34jJBrpxEbkN9NEFB58zJ8TY2QUH7Z/u/EDhBDwRPBAYLOkEpThWfUiM8Qe5fgfSLWz5BOYB3/RBaQEExhtjuJJdBQe9CqxDy40JBxwz2Rz5BREGtF3U1fa5FQcvEDrFvLEdBuUhGk1S7SEHVoLTRpFlKQQiBVWBMCExBOxHpNzzHTUGmFFa8RpVPQR4N107PuFBBA7p1PJGuUUE/d3fv6qpSQQk3Pxn6rlNBwqqq7Re7VEHeBMK5Fc9VQVPCLXtC61ZBnZq3IFoQWEGooOoVdj1ZQZgZ9iiKcVpBDcDygCquW0FFtKxtQ/JcQQ==",
          "dtype": "f8"
         },
         "z": {
          "bdata": "AAAAAAAd4EAAAAAAAB3gQAAAAAAAHeBAAAAAAAAd4EAAAAAAAB3gQAAAAAAAHeBAAAAAAAAd4EAAAAAAAB3gQAAAAAAAHeBAAAAAAAAd4EAAAAAAAB3gQAAAAAAAHeBAAAAAAAAd4EAAAAAAAB3gQAAAAAAAHeBAAAAAAAAd4EAAAAAAAB3gQAAAAAAAHeBAAAAAAAAd4EAAAAAAAB3gQAAAAAAAHeBAAAAAAAAd4EAAAAAAAB3gQAAAAAAAHeBAAAAAAAAd4EAAAAAAAB3gQAAAAAAAHeBAAAAAAAAd4EAAAAAAAB3gQAAAAAAAHeBAAAAAAAAd4EAAAAAAAB3gQAAAAAAAHeBAAAAAAAAd4EAAAAAAAB3gQAAAAAAAHeBAAAAAAAAd4EAAAAAAAB3gQAAAAAAAHeBAAAAAAAAd4EAAAAAAAB3gQAAAAAAAHeBAAAAAAAAd4EAAAAAAAB3gQAAAAAAAHeBAAAAAAAAd4EAAAAAAAB3gQAAAAAAAHeBAAAAAAAAd4EAAAAAAAB3gQA==",
          "dtype": "f8"
         }
        },
        {
         "line": {
          "color": "rgb(141,211,199)",
          "width": 2
         },
         "mode": "lines",
         "name": "Segment 11336314",
         "opacity": 0.8,
         "type": "scatter3d",
         "x": {
          "bdata": "AAAAAAAAAAAMCIWTQC8dwIT1ncPNnhHAQR85gclKtj2gYiKI2ws/wKVE/YUOczfApmrsffXSUcB0Yxmln+xfwKf8mE+D33DA+QzZ1uD0esCBBkU8Dg2AwPTxQQQP4oLAoXepgfn7hcBkeEPuB2uNwFs1hpCMtIzA/X9fnRzvi8Cb7SMlBSGQwMMvXTwEIZjAQJfV9UtgoMDZ7SvBX6qmwP3imQHhLK/AYdXtHR0ws8BoJKMKvwazwISgBwXqHJtAKm5KWsk6z0DeaAmtAvvhQB2tB9t93+9AOyRnbH+p+EBoNgtd85ABQYEM40zMbAdB3Fw9a09xDUGLjE7EkdMRQeBNlom3BxVB80DvCWdUGEFlgT/hRbQbQc10EM6bLR9BhfNAg0NeIUGiXFTMtDQjQeii3/7nFyVBpwC8hYsIJ0GkKKNP5wApQSwHK8x6+ipBmNPXIUr6LEEQPPk6AxgvQWb/zz95pTBB+tXFIcjFMUFw5DSN4uwyQUDn7sO2GDRBoCBpqGZHNUE/cH3LeHw2QQ==",
          "dtype": "f8"
         },
         "y": {
          "bdata": "AAAAAAAAAABY9Bsus3qzQCaN5lLHsM1AOse/6loN3kAbVXfrn2PpQK45iF8iQfNAblvTm6E9+0CmzPhv71MCQYcG/WXUvQdBshC9D3XhDUFDYr35L2ASQcVbDbNFKBZBI5OKeWpMGkEw735aEtMeQYZeika43yFBldBHF/SJJEE9oNRJB20nQbSu/+yOlCpBl2f30AT7LUFJ/LIv9NIwQe7ibZbXyjJBHC97t0zkNEFMdWD51B83QfzKFHoLazlBLh7k4G3BO0FJK+1FESI+QaW0pvBgRUBBEI8MykB9QUFpjt3CsrdCQbm+VdUD+kNB6rfa/jxHRUEKn/YGIZ9GQTf/1p7vAUhBlAA3MvtsSUHp65OoReBKQQGY5e4IXExBHZgXnAPhTUG5Vj49NHBPQTCXNxIchVBBhtGcpdFXUUHvjHZ6MC9SQd+b9lJ8CFNBrcANDnbkU0HDYNfO08hUQRB+wKoitlVBz7Ohe1ysVkHINGJNsatXQeHt7iXSsFhB12v6PXC4WUEMzmjrZcdaQQ==",
          "dtype": "f8"
         },
         "z": {
          "bdata": "AAAAAMCb10AAAAAAQPPXQAAAAADASthAAAAAAECi2EAAAAAAwPnYQAAAAAAAS9lAAAAAAICi2UAAAAAAwPPZQAAAAAAARdpAAAAAAECW2kAAAAAAgOfaQAAAAADAONtAAAAAAACK20AAAAAAQNvbQAAAAACALNxAAAAAAIB33EAAAAAAgMLcQAAAAAAAAd1AAAAAAMBF3UAAAAAAgIrdQAAAAAAAyd1AAAAAAIAH3kAAAAAAQEzeQAAAAADAcd5AAAAAAECX3kAAAAAAQMneQAAAAAAA9d5AAAAAAEAt30AAAAAAAFnfQAAAAACAsN9AAAAAAOAA4EAAAAAAoCzgQAAAAABAVeBAAAAAAACB4EAAAAAAwKzgQAAAAACA2OBAAAAAAEAE4UAAAAAA4CzhQAAAAABgUuFAAAAAAOB34UAAAAAA4JDhQAAAAAAAlOFAAAAAAACU4UAAAAAAAJThQAAAAAAAlOFAAAAAAACU4UAAAAAAAJThQAAAAAAgl+FAAAAAAGCd4UAAAAAAwL/hQA==",
          "dtype": "f8"
         }
        },
        {
         "line": {
          "color": "rgb(255,255,179)",
          "width": 2
         },
         "mode": "lines",
         "name": "Segment 10662993",
         "opacity": 0.8,
         "type": "scatter3d",
         "x": {
          "bdata": "AAAAAAAAAABuB9cmDK8CQImnKl69ez9A4IDMNTeBZb1mkTcC9ZEbQL3cydXaWCxAvBgUOwkxVsBr3XCZ+ntiwHO4broUL2vAnc5GO0tEf8B/42/WUOGFwFxaUnt2NYzArCbWLfgZk8AAoRmeOnKawNgHr2m1+pfAVGGvIw45lcASRHpExjOSwAE+SEPnv43ALn2Ms8xzhsD0ZvwtXbN9wFqMidKiqmvAZmcSX2c5hMCOtYfPSJSUwDbgfRcs3KPAStbzzy17rcDqLPG6a6CzwMYflF4pjLfA9jKz0DK5u8BWEbxNY9u9wGEEE54NrcDAmuxGngHfwcA1JhrQDNLDwOOXXmi13sXAPYffOWOKycBIBHG595bMwLRFrOJe887A6BVAj7Cr0MDK0bNc0FLSwJgHueyEltPALnwLZPld1cCn5aDf0SvXwPHmGHhIddnAVSnZiIHt1sCGkFUuN3+kwGXeUoVAWNpAoVn1yuZ38UAxCe4ZV8n+QGxhpfqpngZBWyRtv5mwD0EJS8ixGWQVQQ==",
          "dtype": "f8"
         },
         "y": {
          "bdata": "AAAAAAAAAABJAZzvI7a/QHHU04Wy7tVAbyFmAD2D5UBZpMdWvpzwQHty0vf7zPZAHXKAsYil/kCVxWy/ukUEQQjU70h6GQpBpmQazKmJEEEk+wAht1gUQQRyN5WWNBhBHig6YlomHEHq7TpSyTcgQfWfY5+YliJBet5u5Zg8JUGy5PQklyMoQTtlZk0KVitBWQymO4DXLkHwB+uROD8xQS/domkYJzNBD/I2XGQuNUFk8LaSLz83QTDHxQcxdjlBpXEcujKwO0E9IrMhKPM9QW345zZxHkBBtYzjSFtWQUFHW1EkY6NCQUdR/myDBERBqa/Ad5x5RUHjH2b0iQNHQXVK7NiuoUhBC/1Kyp5USkFL31TmHxxMQTsGzh03+U1BjMf/GVDcT0HEsMpmEeVQQSp7w4yW5FFBi8kv/F3uUkHq+rbL3/tTQSNlyEfcClVB7a00cpEjVkHCtc0Diz5XQfymwHtQWlhBnZlS6zp2WUGZMtL1b5JaQXZimi0trltB2Fo/VIDKXEH8RvjJYOVdQQ==",
          "dtype": "f8"
         },
         "z": {
          "bdata": "AAAAAEBD00AAAAAAwIHTQAAAAABAwNNAAAAAAMD+00AAAAAAgBHUQAAAAAAAHtRAAAAAAMBi1EAAAAAAQKHUQAAAAAAA5tRAAAAAAIAL1UAAAAAAQB7VQAAAAAAAMdVAAAAAAIA91UAAAAAAQILVQAAAAADAjtVAAAAAAIC61UAAAAAAAODVQAAAAABA/9VAAAAAAEAx1kAAAAAAQErWQAAAAABAfNZAAAAAAECu1kAAAAAAAMHWQAAAAABA+dZAAAAAAEAS10AAAAAAACXXQAAAAABAK9dAAAAAAIBj10AAAAAAQI/XQAAAAACAx9dAAAAAAID510AAAAAAgCvYQAAAAABAV9hAAAAAAECJ2EAAAAAAQLvYQAAAAABA1NhAAAAAAADn2EAAAAAAgAzZQAAAAACAJdlAAAAAAMBE2UAAAAAAwETZQAAAAAAAS9lAAAAAAIBw2UAAAAAAwHbZQAAAAABAg9lAAAAAAECc2UAAAAAAAK/ZQAAAAABAtdlAAAAAAIC72UAAAAAAAMjZQA==",
          "dtype": "f8"
         }
        },
        {
         "line": {
          "color": "rgb(190,186,218)",
          "width": 2
         },
         "mode": "lines",
         "name": "Segment 8852994",
         "opacity": 0.8,
         "type": "scatter3d",
         "x": {
          "bdata": "AAAAAAAAAABRUt22fIsdwDfuxRF8KhLA0EYz6vf5ZD23Y05mEH0aQOzaIKmTBi5AY6+8H75EOEBcnEnujndBQFuLg6X/Nl9AKcqgdURxbEDzSZhzokB1QK3D8Nkv04FAye/FdxePiUB31nyUgBiRQN9g8Y6w05VAQKCBxEFjnUDnuStGkXyhQGXeAdkpEqNAJkMLdDMppkD3Av99xd2qQIF/d+8wp69ATHsaNApfskBZvBjOfjC0QE/TdmbS1LdAQsz4X26FvEA5KXJ6KTfAQOUA/deMRcJAF0OqsnRuxEAKQLEvuK7GQPAhn2StCclA6SZGf34VzEAq9CwPUjHPQA135NyNO9FAtRrMjony0kDhPFgS3rzUQMCKlXbkU9dArvt0CENI2UDEvnsjciHcQPxJ4wpyn95Al03VWMWV4EDmb/DLh07iQBmYlVFrE+RADFLNFIGr5UAOVPsDOUznQCFD5ER18+hAHglg3Lv16UDlB0xV8IbmQNwYbO0ob9tA9e8g/i5oicDJyJjO9aPjwA==",
          "dtype": "f8"
         },
         "y": {
          "bdata": "AAAAAAAAAAAa5ujCA5azQKZ5XjCdMs5AlNpvApBg30C+NDpHFJLrQGkniSvLTfVA4m6zdguZ/UDO508q1ZQDQYuLFXSjBQlBSWSVifI7D0H0hfqJOAUTQTlPMIu7wRZBELcY41vFGkEoSSvAZUAfQb/ZSFfYFCJBJ2aBrCTDJEFZMBHiTKknQQ0vV5+IuipBItVtYbDvLUETqBXK86IwQZnTEKZ0VTJB8pVcV20jNEHytQwRmgY2Qd+QKlWs/DdB66ZqUNEFOkGHmLbkziA8QcYKcQK+Vz5BoTgoE55VQEH9tNJO8YtBQeEMyvCk0EJBPFhkCyMjREFXPLL+k3xFQSKialQ76EZBHNxAv1NlSEFBDma3N/NJQblv2FvukUtBSQzKeFFETUFxxn+QaQxPQWJVH94mblBBEQXoyDhbUUG/UA/2Gk1SQd76YSWlRVNBz5V0meVEVEG+3uWDjElVQYs8XNFGUlZB0x/zZ3JoV0GtrsVLiYRYQfxibPrppVlBWmmvAOrLWkFAoL9n4fRbQQ==",
          "dtype": "f8"
         },
         "z": {
          "bdata": "AAAAAMA310AAAAAAgJXXQAAAAAAA7ddAAAAAAEA+2EAAAAAAwHzYQAAAAADAx9hAAAAAAIDz2EAAAAAAQFHZQAAAAADAqNlAAAAAAAD62UAAAAAAgDjaQAAAAABAltpAAAAAAIDO2kAAAAAAQBPbQAAAAABAXttAAAAAAECp20AAAAAAQPTbQAAAAADAS9xAAAAAAMCv3EAAAAAAwBPdQAAAAADALN1AAAAAAMB33UAAAAAAAMndQAAAAADAJt5AAAAAAEB+3kAAAAAAAMPeQAAAAAAADt9AAAAAAMBS30AAAAAAwJ3fQAAAAACA4t9AAAAAAKAT4EAAAAAA4BngQAAAAAAAHeBAAAAAAAAd4EAAAAAAAB3gQAAAAAAgIOBAAAAAAEA84EAAAAAAQFXgQAAAAAAAaOBAAAAAAKCQ4EAAAAAAQLngQAAAAACg2+BAAAAAAAD+4EAAAAAAoA3hQAAAAADgE+FAAAAAAAAX4UAAAAAAABfhQAAAAAAAF+FAAAAAAAAX4UAAAAAAABfhQA==",
          "dtype": "f8"
         }
        },
        {
         "line": {
          "color": "rgb(251,128,114)",
          "width": 2
         },
         "mode": "lines",
         "name": "Segment 9782681",
         "opacity": 0.8,
         "type": "scatter3d",
         "x": {
          "bdata": "AAAAAAAAAAArW1pVDgNTwKOfwgaNOGjAvqIcFcRRmj1/8f+G2pWLQP6LJgTr+6NAmxEzWhU6tkBBzzHzjWbEQGO5nQwuv9BA5nuEQyBD2ECGtEry9TzgQP0+phN5keRAkG+p60Bn6UBmnx2bNfLuQNy1+5uobfJAxvItCNiH9UBTPKuCg9r4QMtlMfmOlvxAIcbd9cMNAEEseyFm/T8BQY0s9OR03gFBbs4rE87fAUHj8iBAHXsBQV+jtMDdDgFBazNg0duqAEFhXp+5WlkAQcoEsayG9P9AoOQ3h4Is/0AIILIzBBz9QLgyWeeTjPlAagCuyGyB9ECpGuyqqRTuQB4slJECKeNAH+3U5AeT0EDYEDf+dSG4wPA0KN+mgd3AUIEm8lRf68DQ5sdao0D0wIQhlay/LfvAgPRyLQUfAsEzkid4LdcHwW5QAp+ufg7BMdqd+sqmEsGhRjzSnyEWwdaVvr3IphnBTIozsfWWHcF6VvtiFyshwTgqzH3qGiTBCk14vPKAJ8ETMAQfrBgrwQ==",
          "dtype": "f8"
         },
         "y": {
          "bdata": "AAAAAAAAAAAmWQyOVWK9QBki9qtjF9VApgtbwjr05ECp9fjx7UvwQLDDpE+k8fZAmY2ovKsx/kCvMo271BADQVamXMrk8QdBW6858tvLDUF8Lt18MysSQVLbdhErvRVBrio4g7e5GUHYp3CNsCMeQS2QZFGfgSFBLOK9rM0IJEG56cfNFtcmQd+4QbRY6ylB+gt+CxM1LUHRC88SPE4wQSaI2bQrEDJB8nooKEzgM0HzIRMCt8c1QYutkRK30zdBS5eg2IsDOkGXcTv3n1c8QQZmg1qdzj5BuuLowR2zQEFjyY2oVAdCQZ/VQCZRY0NBZYYrPZnGREF9RnYV9DtGQSEGZzarwkdBzhQXwwlbSUFaTrJZkwNLQYNDUdBjvExBsoRhBiGHTkGkpUIwRDJQQXxH+bUSKlFBy3k+p08mUkHL/tYhIyVTQUBLc1z0KFRBOSRTJSk1VUG6ebBhzklWQW9hFHjMZldBdIpN0b+KWEGEPnAaxK5ZQRTW5s5b0FpBcb069HvwW0F5g8kWrBddQQ==",
          "dtype": "f8"
         },
         "z": {
          "bdata": "AAAAAMCK3kAAAAAAgM/eQAAAAACAAd9AAAAAAAAn30AAAAAAgDPfQAAAAAAAQN9AAAAAAEBG30AAAAAAwFLfQAAAAADAhN9AAAAAAAC930AAAAAAQArgQAAAAADgMuBAAAAAAEBV4EAAAAAAgHTgQAAAAADAk+BAAAAAAOCW4EAAAAAAAJrgQAAAAAAAmuBAAAAAAACa4EAAAAAAAJrgQAAAAAAAmuBAAAAAAACa4EAAAAAAAJrgQAAAAAAAmuBAAAAAAACa4EAAAAAAAJrgQAAAAAAAmuBAAAAAAACa4EAAAAAAAJrgQAAAAAAAmuBAAAAAAOCW4EAAAAAAAJrgQAAAAAAAmuBAAAAAAACa4EAAAAAAAJrgQAAAAAAAmuBAAAAAAACa4EAAAAAAAJrgQAAAAAAAmuBAAAAAAACa4EAAAAAAAJrgQAAAAAAAmuBAAAAAAACa4EAAAAAAAJrgQAAAAAAgneBAAAAAACCd4EAAAAAAIJ3gQAAAAAAgneBAAAAAACCd4EAAAAAAIJ3gQA==",
          "dtype": "f8"
         }
        },
        {
         "line": {
          "color": "rgb(128,177,211)",
          "width": 2
         },
         "mode": "lines",
         "name": "Segment 12098572",
         "opacity": 0.8,
         "type": "scatter3d",
         "x": {
          "bdata": "AAAAAAAAAABQcUV3EZwRQFRdHMxlgSpAl0w/lzDLoD2EMU7LV6QxQIkUN96BcxLAf9vkeXoMNkDuoY2yksRKQFhXTE91hG1A8xevUoypdkBS4gW856B/QP6WJV5YyIRArR36Hh0rikA9OL6/UQyQQAecd6dAaJVA7X0wG31Im0BEBngvMc6gQMxIi5wk1KJAbkUjkYpjpkAJ1LlBRhCqQEKcnQRj4K1A2dT3cZ/qsECia6hfjsuzQG6Vp2NFyrZAYH2ObqPjuUCecjuOR+q9QDQCigHbisBAjC6Gf9wnwkCdkLHeNULEQFMRs/SxdsVACpc+0a+xxkDDW8tsV/7IQGABoFFA08pAtLIRldE3zUDNIMqhVRrPQH1qT4TigdBABDmpaWYc0kBic1yZOy7TQBRLXnwendRAvYHTsfrE1kBlBbxV+FPYQMd4y5mcTdpAelZtu19Z3EAJFsXLInjeQBJO7DKUiOBA4wwBfo2r4UCG6OobeEXjQMWj6fL/6+RAjrTYnPxl5kBJoJ2msifoQA==",
          "dtype": "f8"
         },
         "y": {
          "bdata": "AAAAAAAAAADgJwaDi72zQD2hAPYvtM1ANkSGWIin3UAgfZlPU7boQFgBla7AkvJANcGXMJIL+kBy8RA4/24BQUWcP1g0iwZBsuPkPHlxDEFYwW1zapERQez07EK/RhVBf012I+9LGUEmP4eUo7gdQZHMmgOgQiFBWX92mSnkI0EOu2cderkmQZ6H5cmxvilBOf8tON/uLEFIZoJ3qhwwQS/S/Ne60TFBIA3LtT6XM0FNkcazlW41QUUvgIv4WDdBQxoPaGhUOUENBVpXFlU7Qf81GVcUXD1BudQU/2NsP0EZYYJm/cFAQQ3pqTU+1kFBzFbqmFPwQkHpX/EDJRVEQQiPWIMOQUVByVQp0sRxRkEt48u8YqZHQcnxOUlt30hB435kNJEtSkE+kS/82YtLQbXsSrLa+ExBBrawdux0TkFA5w4V7wBQQUl7Bcy3zlBB0+lKXuCjUUGJF6plxIBSQa5nB/TEZVNBqV96pptSVEG4VJQ6RUdVQf3pXBZ2Q1ZBoI9Sk8hHV0Hwr1N5MlRYQQ==",
          "dtype": "f8"
         },
         "z": {
          "bdata": "AAAAAEAG2UAAAAAAgFfZQAAAAAAAr9lAAAAAAEAA2kAAAAAAgFHaQAAAAADAotpAAAAAAAD02kAAAAAAAD/bQAAAAAAAittAAAAAAMDO20AAAAAAgBPcQAAAAACAXtxAAAAAAMCv3EAAAAAAgPTcQAAAAACAP91AAAAAAECE3UAAAAAAQM/dQAAAAABAGt5AAAAAAEBl3kAAAAAAgJ3eQAAAAABA+95AAAAAAMBS30AAAAAAQKrfQAAAAADgAOBAAAAAAMAv4EAAAAAAwEjgQAAAAADAeuBAAAAAAICm4EAAAAAAgL/gQAAAAABA6+BAAAAAAGAH4UAAAAAA4CzhQAAAAACgWOFAAAAAAKBx4UAAAAAAAHvhQAAAAABAgeFAAAAAAICH4UAAAAAAAJThQAAAAAAgl+FAAAAAAACU4UAAAAAAAJThQAAAAAAAlOFAAAAAACCX4UAAAAAAAJThQAAAAAAAlOFAAAAAAACU4UAAAAAAAJThQAAAAAAAlOFAAAAAAACU4UAAAAAAIJfhQA==",
          "dtype": "f8"
         }
        },
        {
         "line": {
          "color": "rgb(253,180,98)",
          "width": 2
         },
         "mode": "lines",
         "name": "Segment 8911856",
         "opacity": 0.8,
         "type": "scatter3d",
         "x": {
          "bdata": "AAAAAAAAAADJXOe1Fb8HQMq5oTuUeiLANx73kkOVkL1PWmh8YcgpQF0Ac6IhpzTAFglVPqJxXsBIv1DNWcFswO9jRH1dCXbAyXSR4+l3fsAtQv+mt0SGwG+yF1a9cI3APvgBoLAHkcDI0OwCD1GVwJf3cJ91U5jAFsTDDEmSncDeqU1MoZ6hwGeKZBo81aXAU34Zt79iqsCPDqtkyA6vwHPsiFHR+rHAztQwll49tcAIxFSqTIq4wDHavOxm/bvAoLilZ9S+v8AAeGazOtrBwAbErxd97MPAG2QniKIJx8Aif9s3NU7KwJ4JTeuivc3AqoKUfGTs0MAc9PoWlRbTwLgj0RtDCdXAy23mEI+218BgFQ4XFjLawFmm0miJI93AGj+ihpNF4MBDYAwZrwjiwNixDauW2+PAG8uZHJnu5cDwNdgLGeTnwMfYzDk5PujAjh4bcO8C5sDan4V0wA/hwNcuztXJENbAIDniGJtBw8AyHr57NYWpQCE3FI3TyM5AjHpRu1hm3EAeqw/mvN3kQA==",
          "dtype": "f8"
         },
         "y": {
          "bdata": "AAAAAAAAAADXPGxm/mq0QLTHteWWeM5AG2CP1Kgf30BW215oaKLqQA2Xfva3RvRAVZtViFO5/EBKf4isaOICQS9eMIHCAAhBhQQ8N32jDUFdXCDIPsMRQUOazEN6wxRBAra5w+jZF0E58NjBQHAbQeNhFlMHdh9BVS5UgufsIUGsD8PvCEwkQVGo9u0G3SZBu326MfKiKUFYB35BdHssQaRQ73PKdy9BWGQjz3hLMUFMaDhzBeAyQXfCHX7YhjRB2rkqNyxTNkGb8FJxfTg4QRZ5YjBDNDpBc6H1yNlKPEGE3tBw4Xs+QaDQ80vTZEBBAYBiwFuXQUG03VsJldpCQcncR6ECKURBNeHGrJ2KRUH4zJIFR/1GQTaOqCcNgkhBn3+Ip0wVSkHioNeZtLZLQWYJOGm6Zk1BwYpWCwckT0GVouCvB3pQQamKKNT3alFB/TjJPJliUkGmMXyHiWBTQUqO6FnGZlRBL5Z6sUZ1VUGDjUzhDoxWQZK/+rpKq1dB9wSr3mDRWEEROqwB0P5ZQQ==",
          "dtype": "f8"
         },
         "z": {
          "bdata": "AAAAAIAa30AAAAAAAHLfQAAAAABAw99AAAAAACAH4EAAAAAAgCngQAAAAAAAT+BAAAAAAIB04EAAAAAAYIrgQAAAAABAueBAAAAAACDo4EAAAAAAAP7gQAAAAABgB+FAAAAAAKAN4UAAAAAA4CzhQAAAAABAT+FAAAAAAMB04UAAAAAAQJrhQAAAAADAv+FAAAAAACDi4UAAAAAAwPHhQAAAAACAHeJAAAAAAABD4kAAAAAAQEniQAAAAACgUuJAAAAAAKBr4kAAAAAAAI7iQAAAAACAs+JAAAAAAMDS4kAAAAAAIPXiQAAAAABgFONAAAAAAMA240AAAAAA4FLjQAAAAABgX+NAAAAAAABv40AAAAAAAIjjQAAAAAAAiONAAAAAAACI40AAAAAAAIjjQAAAAAAAiONAAAAAAACI40AAAAAAAIjjQAAAAAAAiONAAAAAAACI40AAAAAAAIjjQAAAAAAAiONAAAAAAACI40AAAAAAAIjjQAAAAAAAiONAAAAAAACI40AAAAAAAIjjQA==",
          "dtype": "f8"
         }
        },
        {
         "line": {
          "color": "rgb(179,222,105)",
          "width": 2
         },
         "mode": "lines",
         "name": "Segment 9770359",
         "opacity": 0.8,
         "type": "scatter3d",
         "x": {
          "bdata": "AAAAAAAAAADJkdgQye1AwF/tTGrPPBdA+FA08/Drlj238dZILshXQBZOyyRr6WJA3rV4NOp7a0D6wgjaReV4QAnLcroK6IJAbnH7sVrsksBNEcvvE2W9wBmw8ysDZ9LAUpU2+nVX4cCFqG9HdsrrwHBeyen+P/TA07bAG7wT/MClDmZO3q8CwULsWiCKAwjB6T6KuqP2DcFaJK3Ch1gSwUxkjY8A7hXBqDDKEyIHGcFkMohCq9AbwY5bYGttVB7BQVNON29EIMEANMiM+Tshwfn4PmN2HCLBt/GJg6rsIsHATaohztYjwU0/wMS21CTBqLSz93XjJcGEZekGVQInwVtiMZhxMSjBO/QEMpt2KcFzFLMR/8YqwcEyJjaXJyzBCaPLsHqbLcEpmPEYDx8vwcqJam1TWzDBXOKll4AvMcGpxU9CGQwywfI8K9Gq8jLBnMg7vAngM8GwzZwAB9g0wcvFARDY1jXBKYffh/beNsGL3ABs+fE3wYjuzDG+CznBo6+FFQgsOsFvoZdQc1c7wQ==",
          "dtype": "f8"
         },
         "y": {
          "bdata": "AAAAAAAAAADuZKlyBmCtQBK923yfdc9AaTSJS30W4kCFm01yyEXwQEbFMh7PnflAZl6sS/2CAkETJM4yw0oJQe3WQLp2khBBOVrwzLzCFEGO2BZJsxAZQf2RuqEMeB1BekQp5ZL4IEEmmPfzAz8jQXfbazZshiVBorxw6lvOJ0EJxwEz1hAqQW0IUpXuUCxBUOxW7uqaLkEHrxW6q40wQVAzWYGw5jFBTCwJvcpZM0H4+vaR7uA0QeMDlR0reTZBFEuHFXMjOEHFYmEGRd45QRtXoLWqrTtBD3bxbsKWPUGLyVHu0KE/QU8uw/zx50BBIOb2pXwRQkEOpIi2v0xDQeuSa7jbmURBOZsQY4X5RUHHg2LVM2tHQadDgBWx7khBGxrxqxyESkHDmNxjoypMQb7l+f9y401Befj54mKuT0EWF8aKxMVQQVSt3qwovVFBDZ2c/9+9UkG5YGM69cdTQdrW2a6K21RBDwvMX+72VUFXNrfOsRtXQTb5SXYFSlhBNkKDGs6BWUFnGmTiEcNaQQ==",
          "dtype": "f8"
         },
         "z": {
          "bdata": "AAAAAAA24EAAAAAAYD/gQAAAAADgS+BAAAAAACBS4EAAAAAAAGjgQAAAAACAdOBAAAAAAMB64EAAAAAAQIfgQAAAAADAk+BAAAAAACCd4EAAAAAAYKPgQAAAAACApuBAAAAAAICm4EAAAAAAgKbgQAAAAACgqeBAAAAAAKCp4EAAAAAAwKzgQAAAAAAAs+BAAAAAACC24EAAAAAAILbgQAAAAABAueBAAAAAAEC54EAAAAAAYLzgQAAAAACAv+BAAAAAAKDC4EAAAAAAwMXgQAAAAAAAzOBAAAAAACDP4EAAAAAAgNjgQAAAAADA3uBAAAAAACDo4EAAAAAAgPHgQAAAAADA9+BAAAAAAAD+4EAAAAAAQAThQAAAAACgDeFAAAAAAAAX4UAAAAAAQB3hQAAAAACgJuFAAAAAAAAw4UAAAAAAQDbhQAAAAACAPOFAAAAAAOBF4UAAAAAAIEzhQAAAAACAVeFAAAAAAOBe4UAAAAAAIGXhQAAAAACAbuFAAAAAAMB04UAAAAAAAHvhQA==",
          "dtype": "f8"
         }
        },
        {
         "line": {
          "color": "rgb(252,205,229)",
          "width": 2
         },
         "mode": "lines",
         "name": "Segment 9566242",
         "opacity": 0.8,
         "type": "scatter3d",
         "x": {
          "bdata": "AAAAAAAAAADCYBrk+msUQBMrYtrsGi7AxOgHJ0U4sT3AmcFFmx00QKdSonwW3ZhAck566YYKt0BH4HsVNx3HQPG2dkGksNNAW2ZLB/9O30Dm86QD6xnnQI6vjRVkJPBAQ6gWr16o9UCPKGBBaCf8QGBcs+qA1gFBh7vpsVIhBkHaC/pY6fkKQQ4Cus2FNBBBNLEhwKszE0FIUuzmi3wWQXo1VkPPEBpBKK5Yowr0HUEZEA23XQ4hQTqDHq7HRSNBur2AtV+lJUFPTPQItSkoQTAqoxQT0ipBEKiDVCijLUHNUPoQjUswQVzSIm2X2DFBwNZEn851M0E75eNoqSM1QRtjhcGp4jZB84bi02u0OEFgyOlJMZU6QR0Y+dnqiTxBPR5oStaJPkEo6yIIlTdAQQc1L/SDzUBB46hR7YVaQUFxGzCvmL5BQSd7qaF5JEJBMMTJTl6NQkGgJoBhEvhCQXdyCYSqZUNBHujrX0XUQ0Ga42ykCEZEQYs2Xof4ukRB4SvbaPAyRUHAMhL+0q1FQQ==",
          "dtype": "f8"
         },
         "y": {
          "bdata": "AAAAAAAAAADwnL2azELBQJ1nDvGqfNlAx51A6ZZ56UCeHncQdT71QJPtbyejqP5Aau6CCuVNBEEtXDcyRHAJQQ1dTtpMwA5Bnt/h6xkeEkGizJeSfvEUQcIE/zA82hdBgflpe4zRGkFVTXTT3NcdQeMkFp41dCBBmnN+F6o1IkGrWguYGjMkQS5fDSsgbCZB3eZDTUDdKEHBpWObx4crQWc7H8yZbC5BQFCpj6LIMEH2Wvm0u3gyQXLuabrqSDRBTCUKyQY4NkFOZwvuEkU4QbmLEwN8bzpBps/AZH+2PEFZ2r58shk/QcFvg9SdzEBBTXFIH7YaQkESzU+DnndDQaMusdtx4kRBjJn9tH5cRkE1w9XBQuRHQUa/3TtJfElBnLREBm8dS0Hil6yH0tBMQW31sh1kwE5BRxWS9tpdUEGTjorj4mBRQZs9kqQVa1JB8t5V1ih9U0HVB7Tfn5ZUQQWM5hC3t1VBG3TAUyThVkF1VwZ5DxNYQTsTOdODTVlBLAtk5x6QWkGSMTTskdpbQQ==",
          "dtype": "f8"
         },
         "z": {
          "bdata": "AAAAAICm4EAAAAAAgKbgQAAAAACApuBAAAAAAICm4EAAAAAAgKbgQAAAAACApuBAAAAAAICm4EAAAAAAgKbgQAAAAACApuBAAAAAAICm4EAAAAAAgKbgQAAAAACApuBAAAAAAICm4EAAAAAAgKbgQAAAAACApuBAAAAAAICm4EAAAAAAgKbgQAAAAACApuBAAAAAAICm4EAAAAAAgKbgQAAAAACApuBAAAAAAICm4EAAAAAAgKbgQAAAAACApuBAAAAAAICm4EAAAAAAgKbgQAAAAACApuBAAAAAAICm4EAAAAAAgKbgQAAAAACApuBAAAAAAICm4EAAAAAAgKbgQAAAAACApuBAAAAAAICm4EAAAAAAgKbgQAAAAACApuBAAAAAAICm4EAAAAAAgKbgQAAAAACApuBAAAAAAICm4EAAAAAAgKbgQAAAAACApuBAAAAAAICm4EAAAAAAgKbgQAAAAACApuBAAAAAAICm4EAAAAAAgKbgQAAAAACApuBAAAAAAICm4EAAAAAAgKbgQA==",
          "dtype": "f8"
         }
        },
        {
         "line": {
          "color": "rgb(217,217,217)",
          "width": 2
         },
         "mode": "lines",
         "name": "Segment 9549856",
         "opacity": 0.8,
         "type": "scatter3d",
         "x": {
          "bdata": "AAAAAAAAAABdfvRiB2orP/NJzbAJdVu/+oQC2ZNpcL0sjJNMEfZBwD9gKZWk9VXAPvj2ZaHVa8A0Jxpqy0d4wKWpWvimVYLAuzPP05aLicBJB9O5V22QwNH9Tsl/HpTAfuftYXAVlsC9OlI+CBiYwFHD2EVlXprARUR2FLLlnMDu9vImyqyfwLVcJz/y74TAPCmaskJjqEC0KQSfgsPKQKHRF9Dpe91ARLLnK+636UAYqE7ximzzQGzeNEXVdfpABsoPfubuAEHhA2Jc/9sEQQBZZJ7W+ghBjCQNtKAvDUH95jIHgc0QQWao5O6hFBNBHdxFkq58FUHn5dQWaAMYQTSvSDcIpxpBR/ht21lnHUGNx/VQ+iEgQaU54or4oSFBeIP5PZosI0E3NbWmkMokQRDhlswAdCZBu7o1wsAvKEFStmj9a+0pQdaWDeBSrCtByUZONodsLUH917WMnzIvQTy+3O9jhTBBdFM/lddzMUGnvMN5jV8yQV9TXkZ8UTNBycEGaxlHNEGYPKlAx0M1QQ==",
          "dtype": "f8"
         },
         "y": {
          "bdata": "AAAAAAAAAAAtcyESqGF6QCsNWAairKpABJLpFaCKzUDo9NZQOG7hQCl524D78+9A07dySQpo+UB+QVKpSIACQXcjb1O0bglBQUI6dB3AEEGfhjR1+NYUQbjvbraB+BhBcqULuANeHUF+1TWmwu4gQcREdxtWeiNBQMnQdoxOJkHQrHaGLGopQUNZC3wIzixB7kmScH4lMEERgIW4rOsxQaNy0SHYuzNBLilqb6KVNUFSTBO4lX83QdoRaEC6jDlBm1keqTe6O0Hr3l1vSwk+QZGAUxZ/PUBB93X/JXmCQUEd1eXx7NdCQc5CbhAGO0RBFNIpgN+uRUGRBATxPDVHQTu4NzIMzUhBHD0YRS12SkEXmnwQYTBMQbcFhc3l+01BtgBxqEzYT0FsNGZJ1+NQQaa17AGj5FFB8RmlpibuUkGyR2s+0PhTQY8Qdrc2BFVBwZ2wsmQQVkHQLxmNfCJXQYJCwJH/PFhBYbM6illaWUEUVP9ZbHlaQSLMjGt8nVtBLnzzHP7FXEGhkNY/B/ddQQ==",
          "dtype": "f8"
         },
         "z": {
          "bdata": "AAAAAOAH40AAAAAA4AfjQAAAAADgB+NAAAAAAOAH40AAAAAA4AfjQAAAAAAAC+NAAAAAAAAL40AAAAAAAAvjQAAAAAAAC+NAAAAAAAAL40AAAAAAAAvjQAAAAAAAC+NAAAAAAAAL40AAAAAAAAvjQAAAAAAAC+NAAAAAAAAL40AAAAAAAAvjQAAAAAAAC+NAAAAAAAAL40AAAAAAIA7jQAAAAAAgDuNAAAAAACAO40AAAAAAQBHjQAAAAABAEeNAAAAAAEAR40AAAAAAQBHjQAAAAAAgDuNAAAAAACAO40AAAAAAAAvjQAAAAAAAC+NAAAAAAOAH40AAAAAA4AfjQAAAAADgB+NAAAAAAOAH40AAAAAA4AfjQAAAAADgB+NAAAAAAOAH40AAAAAAAAvjQAAAAAAAC+NAAAAAAAAL40AAAAAAAAvjQAAAAAAAC+NAAAAAACAO40AAAAAAAAvjQAAAAAAgDuNAAAAAAOAH40AAAAAAIA7jQAAAAAAgDuNAAAAAAAAL40AAAAAAAAvjQA==",
          "dtype": "f8"
         }
        },
        {
         "line": {
          "color": "rgb(188,128,189)",
          "width": 2
         },
         "mode": "lines",
         "name": "Segment 9994407",
         "opacity": 0.8,
         "type": "scatter3d",
         "x": {
          "bdata": "AAAAAAAAAACrasZyEB4aQJrrv3KioRBAiglzLoPkqz2+LXi8VzYWwKq/G156cltAa8bJAS/Zb0C8DF/epSiGQHYg6bdIHJVAG8v6Mew5oEC8txC8oZamQE17lHsCq61AoisDip0OskDjAYWcsAS3QKQ3d7/6W7xApISi4Bh4wUClR//0HvrAQDWWcWGvmaNAc8lEH+RRxsC7uEDzZrjewBwt++nCAO3APlSviyjY9sDhDG/bDUEAwYQlnWjVhgbB4UjkDqZzDcF1I8flOrcSwW6VcJz3FBfBSj098T85HMH+8YjjH+sgweuVFjE37yPBNnFByKIlJ8Hz0QC1HIYqwc8opArmDS7BBXcUCNLcMMGz36KxJ70ywbYOWYI1pzTB5YHl9SOTNsG/K+neI444wZU6y/PfljrBroweyU+mPMH3sL1NctA+wYD+J108iEDB0QZ1hbuxQcFRZyHiueRCwYTAp2XFIUTBAxxBNKNoRcH7Rx+Ml7pGwa0Tjp5fE0jBDFdVjWxtScENCMDGiMpKwQ==",
          "dtype": "f8"
         },
         "y": {
          "bdata": "AAAAAAAAAACb+rHBCZ2wQGhzzJOkVM5AgRB6vRs54UAQCDMFRxruQFYiAE3CovdA2ABqv782AUEiuOx9sbkHQbFPGQy5XA9BSQvp2Zv/E0Gx+vFpkdcYQU05ajtWOx5BRw+To5MSIkHRCcAx8EwlQQWG2tqKxihBCaA9SUWDLEGUWWqm3jgwQRUyzY3FNjJBNluH5a87NEE2JRXydUY2QUxj+6PuVDhBjGOwav9jOkFfG+jDync8QXwtjPtcgj5B1CneQg9GQEF0WhT2H0dBQaUHnntlSUJBLbN9iv4/Q0F3iWn8ojJEQawu1Q2xHEVBnGhReeMPRkFfjSWWhQ9HQRzc2IjHGkhBoFtlFbAvSUEHTdM8w0pKQROUDbqQa0tBozbTdnmNTEGrpd10NbdNQUkdDlAC6U5BvbNb1+sPUEGBXGXhoLJQQVGI6cVcXFFB+LXVpE4MUkGHT5Ze3sFSQVDb1+dffVNBiGuTmwE+VEHLKz8kLAVVQRZQ0hEV0VVBDFIMIb6dVkEut51wNmxXQQ==",
          "dtype": "f8"
         },
         "z": {
          "bdata": "AAAAAOAN4kAAAAAA4A3iQAAAAADgDeJAAAAAAOAN4kAAAAAAABHiQAAAAAAAEeJAAAAAAAAR4kAAAAAAIBTiQAAAAABAF+JAAAAAACAU4kAAAAAAIBTiQAAAAABAF+JAAAAAACAU4kAAAAAAIBTiQAAAAAAAEeJAAAAAAAAR4kAAAAAAABHiQAAAAAAAEeJAAAAAAOAN4kAAAAAA4A3iQAAAAAAAEeJAAAAAAAAR4kAAAAAAABHiQAAAAAAAEeJAAAAAAAAR4kAAAAAAABHiQAAAAAAgFOJAAAAAACAU4kAAAAAAIBTiQAAAAAAgFOJAAAAAAEAX4kAAAAAAQBfiQAAAAAAgFOJAAAAAACAU4kAAAAAA4A3iQAAAAAAg++FAAAAAAOD04UAAAAAAAMbhQAAAAAAgl+FAAAAAAICH4UAAAAAAIGXhQAAAAADAQuFAAAAAAGAg4UAAAAAAAP7gQAAAAACg2+BAAAAAAEC54EAAAAAA4JbgQAAAAABgceBAAAAAAEBV4EAAAAAAADbgQA==",
          "dtype": "f8"
         }
        },
        {
         "line": {
          "color": "rgb(204,235,197)",
          "width": 2
         },
         "mode": "lines",
         "name": "Segment 9356550",
         "opacity": 0.8,
         "type": "scatter3d",
         "x": {
          "bdata": "AAAAAAAAAAByaVMvt8EUQEsd/J4tJy9A++M+ngcwmj3bg8wc4ahMQJVl8KxsG2BAimLCmgL1akCaUbke1m9vQHwFTLHozntA5FViwUhzh0AocvYC0LKOQDnY4pb74JZAxYAF3SF3nUAMmfVtY2yjQOkx9xj3f6hAE1NjYJASsECPHffujyC0QMxVKZ8Nb7hASWDODAKxvUBvz60Wk57BQJaduTkhisRAOHzWaJJoyEAU+OAz9XHMQJUk1u1SU9BAqe53pW6L0kD1Ndd4PRjVQBIGqU7IvtdAvza0cfHD2kDBJ+kYHjTeQJCxVrGjDOFAUaOxbtIV40BUABIVmF3lQHpM5QaUvudAVIVxoB1i6kCdHtVcv0/tQClhllGiSvBAL1tpOTMc8kBuaNtkPB/0QNmvC34mHvZAVfq3g4RP+EDN1DWa1ZL6QDF1GRhsJv1Ax+IeO+Dv/0D8EVl8XGYBQb/FZTmw3gJB2cwArFpwBEHyXpPqDgoGQWuROXpIzwdBzCKzf/2XCUFS+gfgUmILQQ==",
          "dtype": "f8"
         },
         "y": {
          "bdata": "AAAAAAAAAABGD/zbAGi2QBqeZ/QBztBAf66v4eRy4UArwNsBNALsQCVXeOMjmPRAjBuuQSOX/EBzwLUBMSEDQdCV78tygAhB/NSMu/eSDkF80EfO8oESQd5aQiWzPBZBoy3WikFtGkGb79S70hIfQQ7GrVscDSJB6Vu/qROtJEHZZjT01nUnQQNi75jiaipBavVdICyMLUEv/oTgz2wwQTBLkt/aKTJBmiWfHpb7M0EAAn4RguE1QWxAhWbL2zdBNU/UKBLyOUEEx9hhoB08QYHozXEUXz5BRUaI5/VbQEH1KUKCopZBQULOTMzA4EJBUlr1FNY5REEJtNFbuqFFQQwaAMwpGUdB22SJaceeSEGAuQI+8TRKQVXxl5bO4EtBjA/wkcqiTUEQMVlXEXtPQfDJYf9wtFBBzYOqc9K1UUFOcVWebr9SQZ3Hry630VNBMy4p9zXtVEEb/5pwaRBWQeMqttd7O1dBYJC9CBttWEGLYKD516RZQckqHPui4lpB9bBNDN8iXEF2hnMUP2RdQQ==",
          "dtype": "f8"
         },
         "z": {
          "bdata": "AAAAAMCC10AAAAAAQNrXQAAAAACAK9hAAAAAAEBw2EAAAAAAAJzYQAAAAACA89hAAAAAAABL2UAAAAAAAJbZQAAAAACA1NlAAAAAAIAf2kAAAAAAgDjaQAAAAAAAd9pAAAAAAMC72kAAAAAAgADbQAAAAACAS9tAAAAAAECQ20AAAAAAAO7bQAAAAABAP9xAAAAAAICQ3EAAAAAAAOjcQAAAAABAOd1AAAAAAMCQ3UAAAAAAQOjdQAAAAADAP95AAAAAAICE3kAAAAAAwNXeQAAAAAAAJ99AAAAAAABy30AAAAAAwLbfQAAAAABA9d9AAAAAAAAd4EAAAAAAYD/gQAAAAACgXuBAAAAAAACB4EAAAAAAQKDgQAAAAAAgtuBAAAAAAODI4EAAAAAAwN7gQAAAAACg9OBAAAAAAKAN4UAAAAAA4CzhQAAAAAAgTOFAAAAAAEBo4UAAAAAAgIfhQAAAAADApuFAAAAAAADG4UAAAAAAYOjhQAAAAADACuJAAAAAAAAR4kAAAAAAABHiQA==",
          "dtype": "f8"
         }
        },
        {
         "line": {
          "color": "rgb(255,237,111)",
          "width": 2
         },
         "mode": "lines",
         "name": "Segment 11313893",
         "opacity": 0.8,
         "type": "scatter3d",
         "x": {
          "bdata": "AAAAAAAAAADA+YTLkEoWQLQebj8EDgtAlA7kOx3zlj3Spg7VViZAwOLeVynN70LAwLR3I+JSRsBY00xPS09KwFA6W3Qg7E7AhYsV064SUsC7hD60Kf1UwKywqOK6UmbAOjLi+E6nccAC/ejaBsx4wP4ptf8kSoDA6Kx3JS6BhMDJriF/0SCFwOsqQpuLB4rAq4nuN0NLj8BO38PC7nWSwEy69f+fdZXAgeIB93KimMD5UrBv9f6bwMb2oKA4S6HAehLTtTIno8D3M14xixulwCnqlZVWJqfANHohiUceq8CNelGED0avwJ3rnoyPz7HAMwD4tm8UtMC7cYVr1W+2wOKgmaIn4rjA+EwQK0tsu8CKEWf3XQy+wBZO04k+AcHA0AceTU9mwsDDa+9XQtbDwGjPNlEyUcXAJ9tUxsWKx8Aechj0EBnJwBBsMNKca8vAUL2LCy7KzcCciJpg8BnQwLsIhi9MVNHAmlDGLvaU0sB9Uf7TMELUwGcZy42hjtXAmXOokxF21sDO57KOGDvYwA==",
          "dtype": "f8"
         },
         "y": {
          "bdata": "AAAAAAAAAADlHbMixaatQDyxyI2cy8ZAt/QGjQRH10BxR7WQtm7jQGHlVLq7Nu1AIJenCiiO9EA0TKrvU477QKc4ECsq1AFBmFeH0JxpBkGujiZhGokLQWdMpCk9nxBBFSPubmbBE0EJaht2AjQXQeSF6riJ9RpBxQla+hQHH0FgvIGrOLQhQdHr2d3NESRBghWeGkacJkHqlwluhlMpQSSizaaVOCxBXmrs4y9JL0FS4MD15kMxQTZIvTUp+TJB7yOU3JzENEE5AGuAlqc2QYcQuHQ6oDhBpYMXBbuuOkEiTshMB9Y8QQcd4IjdFj9BbjsgXHi4QEGcckwhLfFBQQ6u2ubCNUNBRcRDN7GGREFurKLX/OJFQfhJ2/sxSkdBJcqiJ0q8SEFSGOdAqjlKQUWyzgluwktB/9E+8OtVTUH+ZbMiwPJOQbnUYVH3S1BBv1NC9dAiUUFWcDaRm/1RQaxJv4RN3FJByrca1Ha/U0HU26FXbaZUQQ2XAIXukVVBABUCys+BVkGAaya2lHVXQQ==",
          "dtype": "f8"
         },
         "z": {
          "bdata": "AAAAAEDy00AAAAAAAFDUQAAAAACAp9RAAAAAAIAL1UAAAAAAQGnVQAAAAAAAx9VAAAAAAMAk1kAAAAAAQHzWQAAAAADA09ZAAAAAAEAr10AAAAAAwILXQAAAAABA2tdAAAAAAMAx2EAAAAAAAIPYQAAAAACA2thAAAAAAMAr2UAAAAAAAH3ZQAAAAABAztlAAAAAAIAf2kAAAAAAwHDaQAAAAADAu9pAAAAAAAAN20AAAAAAAFjbQAAAAABAqdtAAAAAAID620AAAAAAgEXcQAAAAADAltxAAAAAAMDh3EAAAAAAwCzdQAAAAADAd91AAAAAAIC83UAAAAAAgAfeQAAAAACAUt5AAAAAAICd3kAAAAAAgOjeQAAAAABALd9AAAAAAEB430AAAAAAQMPfQAAAAAAgB+BAAAAAAIAp4EAAAAAAAE/gQAAAAACgd+BAAAAAAECg4EAAAAAA4MjgQAAAAABg7uBAAAAAAAAX4UAAAAAAgDzhQAAAAAAgZeFAAAAAAMCN4UAAAAAAQLPhQA==",
          "dtype": "f8"
         }
        },
        {
         "line": {
          "color": "rgb(141,211,199)",
          "width": 2
         },
         "mode": "lines",
         "name": "Segment 11788477",
         "opacity": 0.8,
         "type": "scatter3d",
         "x": {
          "bdata": "AAAAAAAAAAB1WlS2ROTzv7NBUqcA0zdAAMfRZOa6OT007EblTBxAwKxOgskpKkPAwnR8YcmjEcC80Oqq0W9cwOZj/2vdy2bATLQfbdmJdMDh+MPFrgp6wAlT7svgCYDAngYEOb8cicD/RPsSO3WRwJGBilWbvJbACGIkSZ1tnMBBMOueHk6hwA3vq8rEmKPATL+9THWIqcBda/zj6mCtwHJhrvYjUbHANJgXJGC/tMCQ87sba2K4wBb0VzHjgbvAQSBjVRjTvsCxp5K+EJTBwDXmic894sPA2xewTUhHxsD++KIYMsDIwBBtFBNh1svA4ozpzEkLz8Cdc4hNlizRwFGh92kDmdLA/DYvgPqi1MBB9pW1Y3PWwIjPEXVmqNjA+MGWZqLy2sCKN8LK403dwELUa+DpDODAXjF6FepR4cBI6MqGwATjwOW5nwayk+TA1Suv19Ay5sA51UlRQt7nwAaFKhlYwejA/38oR3qq6cDzSSVCj9PqwHACA6q3yuvA4zo9l74H7cAzMMV4oo/uwA==",
          "dtype": "f8"
         },
         "y": {
          "bdata": "AAAAAAAAAADIqULvYOuuQEdRrC27IsdAc88NEOvd1kDrGjg+9hPjQAqS5JfdmOxAoEhXfrwU9ECxnFCPKhn7QGoG1TtnngFBJCDg795PBkHL14sRcIgLQeVLzrE8oRBBhLWB+MzSE0EOTme4HEYXQQHAAhRk/RpBMbHTOf3+HkHY6IikhqwhQV8vOZ72BiRBQ8zv6Z6XJkFtGBlSm0wpQVfQIjoKHSxBLURFTwMUL0EZwZIdUBwxQWoO0VhtyDJBSXFgByyPNEFdK2uJY242QZLHnLBrbDhBO3OFHTd+OkGUZdS4LqE8QfDkhdWL3T5BDTKjxBWYQEGOVwGdcMpBQSrmZ1lhBUNBfjJy+MtKREGclQPeMJtFQXN1YXZx+0ZBhT4zn+1oSEE8wdmQBuFJQVnJLzzMaEtBchQZ2An+TEGphd5FFqZOQekTXvBZLVBBw5UPLoMQUUE70l9bavpRQQHexiGf7VJB1jYA/03nU0Hkn0KMC+hUQb9VKoq/8FVBXezLY7kCV0Ei0seYlh5YQQ==",
          "dtype": "f8"
         },
         "z": {
          "bdata": "AAAAAIC8zUAAAAAAgGvOQAAAAAAAJ89AAAAAAIDiz0AAAAAAwEjQQAAAAACAptBAAAAAAEAE0UAAAAAAgFXRQAAAAADAptFAAAAAAAD40UAAAAAAgE/SQAAAAABArdJAAAAAAED40kAAAAAAwE/TQAAAAABAp9NAAAAAAMD+00AAAAAAwEnUQAAAAAAAm9RAAAAAAMDf1EAAAAAAQDfVQAAAAAAAldVAAAAAAEDm1UAAAAAAgDfWQAAAAABAfNZAAAAAAADB1kAAAAAAAAzXQAAAAACAStdAAAAAAMCb10AAAAAAQPPXQAAAAAAAONhAAAAAAECJ2EAAAAAAgNrYQAAAAADAK9lAAAAAAMB22UAAAAAAwMHZQAAAAABAANpAAAAAAABF2kAAAAAAAJDaQAAAAACAztpAAAAAAEAT20AAAAAAwFHbQAAAAACAlttAAAAAAMDO20AAAAAAgBPcQAAAAADAS9xAAAAAAICQ3EAAAAAAQNXcQAAAAADAE91AAAAAAABM3UAAAAAAQITdQA==",
          "dtype": "f8"
         }
        },
        {
         "line": {
          "color": "rgb(255,255,179)",
          "width": 2
         },
         "mode": "lines",
         "name": "Segment 12055316",
         "opacity": 0.8,
         "type": "scatter3d",
         "x": {
          "bdata": "AAAAAAAAAADLjT/IJ9QxvwA+Vhs9Xn0/hPqfUaPXib255jyCSE2BP5AII+eCWkJAVKbAz5xkVEB9lPSarMxgQGjATXEQQVJA/T8meum9YUA3fYW1l0trQB8mJFzW83JAfIExyiDTeEBw10KzEWByQLjma+2JyWZA+yuBOS0fTkB0klAal51pwK2pgaZovYPAd4lwOnEKkcB1mtlxB7ydwNXb2Ep6kqXApc7mEYzRqcA2s6VltUquwLz/mftBf7HAgL1vpdL2s8C9G7c9H263wC+foN/LALzACYgD/AXqv8Cl5IjdF4DCwPe6dJb/IsXAlSNBoj37yMAhGhbNfHXMwEqD88dvVdDA6VyyvENyx8D8UP4NxaqiQGAWOV/jYNpAwzZYRGbQ7EAOCOOmWU32QEIDKZVO3/1Az5d42jTBAkFp1Q4Jva8GQbqeWaXLtgpBWpwy8NjcDkGTI5vPvaARQTzsBcFb7BNBfr3v7VxDFkFvNIi6AakYQQo3LGgaHBtBGxt8flKfHUHzcSSKyRogQQ==",
          "dtype": "f8"
         },
         "y": {
          "bdata": "AAAAAAAAAACFJVnxy9ijQFRef4Dp7sFAKPEfHTsL1EBLnMNgwwziQNz8a6uJUOxAljFJPO5u9EDtQyZeENL7QITKBMEoNAJBRrxEwxQGB0Gj5hraVV4MQXQD5TbcJhFB4NgZTvdvFEHoPOCc5gsYQf9yK+gh9BtBvoXQ8ngcIEFd4oxv/G0iQU7c2uu+6iRBi3b1BIyXJ0EvBUqt124qQXHw05Erby1BBrmkQBhNMEFzVDWSR/gxQYYnjUhWuTNBPrJMvoaQNUHoZz7sAIE3QTFXNWkGjTlB/LTx5D+9O0GxrVmIIAQ+QcghDacqMEBBVe4pU9lqQUE+Ny1L7LZCQeQJUAxjD0RBgQ8nWYZvRUExfdUdvNRGQcAw/jknPUhBfcBf6smqSUFT/rTXNyBLQWkAMTxrp0xBNGV3Wmc7TkENNU9NXdtPQfhjSvS6wlBBCHaiyi6eUUG7Qrzq2oNSQQL5DFTcc1NB90GSw1xuVEHGUNcLFnJVQe+qP/WAe1ZBbbFdy76LV0GmmfDmCqRYQQ==",
          "dtype": "f8"
         },
         "z": {
          "bdata": "AAAAAIDmxkAAAAAAgErHQAAAAACA+cdAAAAAAACcyEAAAAAAgD7JQAAAAAAA4clAAAAAAICDykAAAAAAgDLLQAAAAACA4ctAAAAAAICQzEAAAAAAgD/NQAAAAACA7s1AAAAAAACRzkAAAAAAACfPQAAAAACAyc9AAAAAAMAv0EAAAAAAwHrQQAAAAAAAzNBAAAAAAAAX0UAAAAAAQGjRQAAAAACAudFAAAAAAIAE0kAAAAAAwFXSQAAAAADAoNJAAAAAAMDr0kAAAAAAgDDTQAAAAAAAb9NAAAAAAECn00AAAAAAQPLTQAAAAABAPdRAAAAAAACC1EAAAAAAQLrUQAAAAAAA/9RAAAAAAIAk1UAAAAAAgD3VQAAAAADAXNVAAAAAAMCO1UAAAAAAQLTVQAAAAACA7NVAAAAAAAAr1kAAAAAAwG/WQAAAAABAfNZAAAAAAECV1kAAAAAAQMfWQAAAAAAA89ZAAAAAAIAY10AAAAAAwFDXQAAAAACAlddAAAAAAADU10AAAAAAQAzYQA==",
          "dtype": "f8"
         }
        },
        {
         "line": {
          "color": "rgb(190,186,218)",
          "width": 2
         },
         "mode": "lines",
         "name": "Segment 9740741",
         "opacity": 0.8,
         "type": "scatter3d",
         "x": {
          "bdata": "AAAAAAAAAADCBocjyPsJwJdIXx6ZnidAkL7ytTxVX73vkc8oRG5qwP416N5XCJfAV0Tq9Y0BscAQyDRsGTvCwLN33WPpJdDA422uqJCy2cAQKMSDjeniwDJQl+P1FOrAWKsfJBz58MCK+kiOjVT1wE+qZghCCPrARihInOwe/8DyI6BL12ECwV2iUskKeAXBPvGn41HGCMEDp4OZADwMwQ6LvmAy9A/BOgePpCrzEcEif1EiFgQUwadQ1SJoLRbBnXJbVThoGMGQAwEEEKwawXYqxYJ38hzBB6hKnSBIH8G5U1Zoq9wgwQkGQMWcJSLBxDRqJUF9I8H8eCOFaOUkwW+NaTbZXibB4ybLBOHiJ8FLHFCzDXUpwUlKPdetGCvB1l9wJnfMLMHPemRqb4ouwRcUhW48LDDBPrdJeYsWMcEGnOR+fwkywRFcEbVR/jLBY1cZtWf1M8HPYkzuS/I0wTO+WrFl+DXB5do3xHsKN8FgvUXLrSI4wae3RBS7RDnBjB601PpuOsEH119rhKI7wQ==",
          "dtype": "f8"
         },
         "y": {
          "bdata": "AAAAAAAAAAB6+Ovf/Yq1QG4i/9NJHtJAdKb0LwfW4kBhx/FzaDzwQAIYC2CCI/hA4tsHFYuAAEGJklJuJ1wFQQpTQSGVpgpBvVrMcucyEEERZe5C+2sTQcitbgKOOxdBBRaBbKlpG0FFrooSJPkfQUjombFmdyJBq7dtdmwmJUGpDdx5YiAoQSrnQGfiYStBb2w4RKTXLkEZB0QpUjsxQdahkt6gLTNBWXeTGF9CNUELEz7tRXA3QU0CWZLptzlBwUNvvloNPEFAzL0/P2w+QZk78ihIaUBBOHgdhnykQUGRayamOO5CQdu5+G2CRkRBxD8FxS6uRUG3eU5QIydHQaQQ/iUor0hB1JLWB0pFSkElspyyOepLQS7jOURtoU1BB4ry+4ppT0EEIEOhKJ5QQaXYMd1FjFFBBqDuwaF/UkGFSpIiDHpTQZt1aCRKelRBdNjP+uZ8VUExRebMj4NWQTgnmjjJk1dBMF0VdEquWEFLdXIQT9FZQS9aoglF/FpBgwO74QkyXEH/FcxndHFdQQ==",
          "dtype": "f8"
         },
         "z": {
          "bdata": "AAAAAAA53EAAAAAAwGTcQAAAAABAo9xAAAAAAADo3EAAAAAAgCbdQAAAAACAWN1AAAAAAAB+3UAAAAAAQJ3dQAAAAABAtt1AAAAAAIDV3UAAAAAAQAHeQAAAAABAM95AAAAAAMBY3kAAAAAAwKPeQAAAAADA7t5AAAAAAIAa30AAAAAAwFLfQAAAAAAAi99AAAAAAMDP30AAAAAAIAfgQAAAAABAI+BAAAAAAGA/4EAAAAAA4GTgQAAAAABAh+BAAAAAACC24EAAAAAAoMLgQAAAAAAAzOBAAAAAAEDS4EAAAAAA4OHgQAAAAAAgAeFAAAAAAGAg4UAAAAAAgDzhQAAAAADAW+FAAAAAAAB74UAAAAAAQJrhQAAAAABAs+FAAAAAAGDP4UAAAAAA4PThQAAAAACAHeJAAAAAAOA/4kAAAAAAIF/iQAAAAACAgeJAAAAAAMCH4kAAAAAAAI7iQAAAAAAAjuJAAAAAAACO4kAAAAAAAI7iQAAAAAAAjuJAAAAAAACO4kAAAAAAAI7iQA==",
          "dtype": "f8"
         }
        },
        {
         "line": {
          "color": "rgb(251,128,114)",
          "width": 2
         },
         "mode": "lines",
         "name": "Segment 9622609",
         "opacity": 0.8,
         "type": "scatter3d",
         "x": {
          "bdata": "AAAAAAAAAABuaDnJH2xtvziOPyNm2Uu/CFjbTar6mb3TXZQRxytQQC9IzGisLDDAReNMFrjSkcASMLb41TWnwKoBMv12I7zAC7OF+Isdy8Cm6LegqEjVwETSgpLZ7d7AgmvBzScv5sDoJirpVYzuwBza7BIXVfTAGsYYENgv+sDBJ/GO130AwQCJ4KS9NgTB5KCMAQ6KCMGngX/WhEsNwV2adDsvPBHBTW92qLghFME+EfzkKWcXwRc1IFfiExvBM7dz1Yb/HsH9BaH9pLYhwSNAOIVzFCTBZN6VV4GsJsE+K1kVWn8pwdpo8CflkSzB6vobFyvVL8EONBTPVKQxwRq6eLqJdjPBCz21DSFgNcFMnBMAR2E3wVpCjpIReznBFic0lkGtO8F8dPSN2vY9wf/R3PSGLEDBbKxp2cRpQcEdovg2i7JCwSknb3NfB0TBLwJDJENoRcFTdtRSbdVGwTRcaxuGT0jB47wuVX/VScGoAmOcEmhLwd5/imFgA03BoAe5Q4OQTsGMA19vUQpQwQ==",
          "dtype": "f8"
         },
         "y": {
          "bdata": "AAAAAAAAAAAh3HRMr5LCQK343AMGo9tAsdOP92CP60BJKX4XLtT2QDQl+nPdEQFBQsUwRnafB0EX+2tLlVsOQfekGZZmyBJBHvcic2ipFkG5ZfnxGLYaQXa9XjgsAB9BpPuNsJW+IUH4XGB1ORokQcVC0dqlkCZBDdFkrv4dKUHhmv4mc8crQVOQNhRBhy5BnSyzYTWsMEGPAFepqDgyQWFO8uoT6DNB42d5wp+wNUF1rRl7znc3QcEfAFOVOzlBP/dRbxsCO0F+nx2NT708QbXlXD/Ccj5B5Q5MEqIOQEGMrGehhN5AQTUchH3nuEFBMybgDgKgQkFmSlohdJRDQYe7qShvlkRBmgCv1FqlRUHV+FOdT8FGQeKzdFfn6kdBr/0FDv8hSUELBDAKC2ZKQW7IS020t0tBewXXfM0WTUEKQ1A+qoJOQZB/iTTe+09Bv+BHjjXBUEGB0nTxRotRQb7UD0qAXFJBbaOeGEw0U0GY7tYSERNUQSJ5BI2D+1RBR1kiFdrvVUHlshokmO5WQQ==",
          "dtype": "f8"
         },
         "z": {
          "bdata": "AAAAAICg4UAAAAAAgKDhQAAAAACAoOFAAAAAAICg4UAAAAAAgKDhQAAAAACAoOFAAAAAAICg4UAAAAAAgKDhQAAAAACAoOFAAAAAAICg4UAAAAAAgKDhQAAAAACAoOFAAAAAAICg4UAAAAAAgKDhQAAAAACAoOFAAAAAAICg4UAAAAAAgKDhQAAAAACAoOFAAAAAAICg4UAAAAAAgKDhQAAAAACAoOFAAAAAAICg4UAAAAAAgKDhQAAAAACAoOFAAAAAAICg4UAAAAAAgKDhQAAAAACAoOFAAAAAAICg4UAAAAAAgKDhQAAAAACAoOFAAAAAAICg4UAAAAAAgKDhQAAAAACAoOFAAAAAAICg4UAAAAAAgKDhQAAAAACAoOFAAAAAAICg4UAAAAAAgKDhQAAAAACAoOFAAAAAAICg4UAAAAAAgKDhQAAAAACAoOFAAAAAAICg4UAAAAAAgKDhQAAAAACAoOFAAAAAAICg4UAAAAAAgKDhQAAAAACAoOFAAAAAAICg4UAAAAAAgKDhQA==",
          "dtype": "f8"
         }
        },
        {
         "line": {
          "color": "rgb(128,177,211)",
          "width": 2
         },
         "mode": "lines",
         "name": "Segment 8800032",
         "opacity": 0.8,
         "type": "scatter3d",
         "x": {
          "bdata": "AAAAAAAAAAANDgjoVjIQQKvDgrQ1rCXAxM+/kVLJlz09HOTimTFAwMJW9JT9jy3AUwGLbm3XGUC0/GgGaiJKwO9JjQSpanPAcPEZ3sabgsABlhTEG1KMwIDZtY0mOJfAgQQ9trpmoMBG11vVdHulwCr03ep+86rAww6W9+djsMDQAM+tSoWzwKhXtaUDMrjAPecS/Teku8CCb4G+O2bAwGzCSscQScLApc50hdJExMDIj2CwXEDHwDvyiISIYsnAzFMrWyqPzMBk0yDUSNjPwAW/ug4Q59HAN2k7KmOs08BZQy6XHcvVwEgtFQ9E/dfAiJKT6edI2sA0TNV19qbcwHG6uPKKxd/A8X6Otnkr4cCx/9tJ09jiwN6LT/LAk+TA+H/MZXhX5sBts+GpLSHowNNodQjN9unAL81VfrDa68C8d0K8r8DtwDzV0wOoC/DAZkuNryw98cD8Q34+in3ywOizEmzwwfPAzWT7uJIJ9cAo/XzZzVf2wCHQk3mQp/fAH0Hpp8XC+MBvsDFznBL5wA==",
          "dtype": "f8"
         },
         "y": {
          "bdata": "AAAAAAAAAACA7+9ZneS8QEirVL3yWtNAv0/Ow15a40A30fowP0bwQMZ/7kZyIPhABxs93Z3NAEE/Wq9MJckGQTr1WXVAgw1BIcIsjLl2EkFa9v85XIIWQUBCgFzY1RpBHF7KtnBpH0HMnlEM4SEiQVYgYVF5viRBifoUaCCHJ0FiOYWniIQqQcm8LUuipS1BRPpwvB14MEFcyjZuAjIyQbjUo3wp/zNB4IT9VB/kNUH4AgKaPeM3QRGpilnl7DlBEx42g+AMPEGiwtSc7T8+QYu5P5YmR0BBAafcS5x2QUHrlQOopbJCQaeXT1r++UNBMqW0/y5QRUFlQsEbGbFGQS79DtgXIkhBNCGw7OigSUEVSh8cry1LQQ68ke4Bx0xBVEZu1HNoTkG66PSDtwdQQaU9Hmm24FBBLuVsy0zAUUFE/TbB3KBSQVgqV2cehlNBYvVO7yBwVEHb2gCYgmVVQZVgF0n7XVZB3ivCLO5YV0HsPVGl7lhYQdT8AgsbWllBVYwzctNfWkHl7ALh32lbQQ==",
          "dtype": "f8"
         },
         "z": {
          "bdata": "AAAAAABA30AAAAAAAEDfQAAAAAAAQN9AAAAAAABA30AAAAAAAEDfQAAAAAAAQN9AAAAAAABA30AAAAAAAEDfQAAAAAAAQN9AAAAAAABA30AAAAAAAEDfQAAAAAAAQN9AAAAAAABA30AAAAAAAEDfQAAAAAAAQN9AAAAAAABA30AAAAAAAEDfQAAAAAAAQN9AAAAAAABA30AAAAAAAEDfQAAAAAAAQN9AAAAAAABA30AAAAAAAEDfQAAAAAAAQN9AAAAAAABA30AAAAAAAEDfQAAAAAAAQN9AAAAAAABA30AAAAAAAEDfQAAAAAAAQN9AAAAAAABA30AAAAAAAEDfQAAAAAAAQN9AAAAAAABA30AAAAAAAEDfQAAAAAAAQN9AAAAAAABA30AAAAAAAEDfQAAAAAAAQN9AAAAAAABA30AAAAAAAEDfQAAAAAAAQN9AAAAAAABA30AAAAAAAEDfQAAAAAAAQN9AAAAAAABA30AAAAAAAEDfQAAAAAAAQN9AAAAAAABA30AAAAAAAEDfQA==",
          "dtype": "f8"
         }
        },
        {
         "line": {
          "color": "rgb(253,180,98)",
          "width": 2
         },
         "mode": "lines",
         "name": "Segment 10039061",
         "opacity": 0.8,
         "type": "scatter3d",
         "x": {
          "bdata": "AAAAAAAAAAD7hBamGOwJQCG7lVqCHBtAwOIGuyxdar1Eei557Bs7QCQKNWsJ5CNAnU2qkddNTkAmjfBzQHyTQPHVqf4hwrBAHIUGXsHMwkAa8EA1VBDRQFzv5PzOhdtA2UqA7wG240B0Z0MSWmDqQHR4WxkQ1fBA/Q0x6LLU9EAyVGMezDP5QFAux4PQ8P1A00nBxcJ7AUHY+12bGjMEQQ3NJNdcCwdBTdyqczIGCkFEXZ5saUINQRTUtSv4iBBBp2Mq48MUE0EdroD5+FAWQa87KCPDRBpBTD91ML+9HkEFoBg85vYhQT3ZiD8yzyRBeXO2oJ3/J0FGJBCkHnArQYc+AbYeIS9BcsgU7UFrMUH+MU/wwC4zQa35uALR2zRBbhJE1oNxNkE4h+L0LOo3Qf4vXEdZRjlBaiyYV7SBOkEFZkkZSpw7QZROAloXqDxBb+Bamr6QPUEMOcYVlXM+QQzQLK4fXT9BharQEpojQEHdO0P8KZtAQVEYn940FUFBlQBNahWNQUEkivtpuQZCQQ==",
          "dtype": "f8"
         },
         "y": {
          "bdata": "AAAAAAAAAACKekzLFOqkQLKj8rOs37VANoCiY3rT0UCJ2l6zyNrjQIgwG242wfFAlmEz6iz6+0DBuocJKQwEQT3KF1iTwQpBGxllVY8MEUG2wO3uawYVQQhMeXHwTxlBkkQJzJkwHkFjC8UUvtMhQXFPfx2Z2SRBRP4ocbsqKEHKtvYoDssrQSHFZURJuS9B0v2Q47f4MUE04tU/hjk0Qd6WnfjfnDZBKnX5mwMlOUEv0oRvCtQ7QYfyzS+7nz5BQ27IHV63QEGejnSBwx5CQQu+0+aFhENBS2qguBrpREG7fjDvx0hGQcDyfvKCpUdBo4yuVlH8SEEsmRZ0mlNKQewR8CTrtEtBW5OWKKUlTUEpuEdV5aZOQfs0bEnBG1BBwaW2PP3rUEFG6d301sNRQS+3+6Jyo1JBgL400x6KU0ELelkRkHdUQS9v6lLZZ1VBMECdoXxeVkEXXQmz715XQbi3xe0qaVhBJyMFUQN0WUH4hShSWoJaQZa/bnrxmltBFeScdCi9XEFXpHO46+hdQQ==",
          "dtype": "f8"
         },
         "z": {
          "bdata": "AAAAAOCE40AAAAAAAIjjQAAAAADghONAAAAAAACI40AAAAAAAIjjQAAAAADghONAAAAAAACI40AAAAAA4ITjQAAAAAAAiONAAAAAAACI40AAAAAA4ITjQAAAAAAAiONAAAAAAOCE40AAAAAA4ITjQAAAAADghONAAAAAAOCE40AAAAAAAIjjQAAAAAAAiONAAAAAAOCE40AAAAAAAIjjQAAAAADghONAAAAAAOCE40AAAAAAAIjjQAAAAADghONAAAAAAOCE40AAAAAA4ITjQAAAAADghONAAAAAAACI40AAAAAAAIjjQAAAAAAAiONAAAAAAACI40AAAAAAAIjjQAAAAADghONAAAAAAOCE40AAAAAAAIjjQAAAAAAAiONAAAAAAACI40AAAAAAAIjjQAAAAAAAiONAAAAAAOCE40AAAAAA4ITjQAAAAAAAiONAAAAAAOCE40AAAAAAAIjjQAAAAADghONAAAAAAOCE40AAAAAAAIjjQAAAAADghONAAAAAAOCE40AAAAAA4ITjQA==",
          "dtype": "f8"
         }
        },
        {
         "line": {
          "color": "rgb(179,222,105)",
          "width": 2
         },
         "mode": "lines",
         "name": "Segment 9204116",
         "opacity": 0.8,
         "type": "scatter3d",
         "x": {
          "bdata": "AAAAAAAAAADPhaZPINxYQLKEw8sceFdAbgn6JMXGlT0DT5o6nYJOwNSOhOPA6GHA4PYuZLjbc8De4FCyataFwKJDXBoM5ZHAgbzzQUwbmMC/EzNpsI+gwCQkAJHUUrrAo0MCn3Zr0MAMb14m3DDgwCSp3QZ/zurAviIJAY3588BIfOuDtQX8wCoF99+boALBGVuwkPJdB8HRGLb9DDwMwdLz7j2ZZxDBHBbN3YlrEsFM7U7GVRUUwef5CrH4cRXBQX7UEhi0FsHfYji8GisYwRUBLgnZxBnBRJ5dLHl7G8E6ZcgQ1EIdwUFrZ9A7Kx/Bj012iYOYIMFmEjU3QqghwTEGPQVQwiLBHTP5f/TjI8G8pEpW8BElwSEXbtblWibBrIpVnuiwJ8HUZ+uv+g0pwd2zrR2/dyrBQycJ+yHuK8ECQ+q043ctwUV4py3fES/BunLfBqRdMME6mFEvPz4xwQgQglxkITLBUKo2iHoMM8Ezzts/p/0zwT+zAUSK8TTBeCI5hyfyNcHJV+DTX/42wQ==",
          "dtype": "f8"
         },
         "y": {
          "bdata": "AAAAAAAAAABhr+DfRailQC5enz5hFcNA7EasRFG92EAv5Ly6nhjoQAI2lfV/8/NA8nOon0/j/UDAj1lX3OwEQULaK0PW7gtBBFSYLU39EUGYBfHLl4QWQST9xXBFMxtBXRTx9W74H0FtFiG/X2IiQcQBbGNQzSRBc+imd/U4J0H4nQXDOaIpQa9zWSrFFCxBBVD6W528LkGvowOeO84wQUvoTKi4UDJBPykIvTbmM0Hl7GRBlYw1QdtlURjwQjdBppEuhvUSOUHqF/7W+QA7QeLGHK27DT1BEz6r3086P0ErlqsMecNAQe4KAXFY+UFBtP5ZBd4+Q0F9SeIPi5REQTUmZydy+kVBYu6OQ91wR0EBk1h5PPdIQXaBMINujUpBpWbJUb4zTEGJpyHupOpNQYxAEFaCsU9BE6qDvx7EUEEGt2lCObdRQcYg770XslJBbA6Syxq0U0FDYNYWhL1UQRrvaNehzlVBsndpn9fmVkH3te0aTwZYQcEdLBAlLllBnmdOH2FdWkFJNRsF9JRbQQ==",
          "dtype": "f8"
         },
         "z": {
          "bdata": "AAAAAOCQ4UAAAAAA4JDhQAAAAADgkOFAAAAAAOCQ4UAAAAAA4JDhQAAAAADgkOFAAAAAAACU4UAAAAAAAJThQAAAAAAAlOFAAAAAAACU4UAAAAAAAJThQAAAAADgkOFAAAAAAOCQ4UAAAAAA4JDhQAAAAADgkOFAAAAAAACU4UAAAAAAAJThQAAAAAAAlOFAAAAAAACU4UAAAAAAAJThQAAAAAAAlOFAAAAAAACU4UAAAAAAAJThQAAAAAAAlOFAAAAAAACU4UAAAAAAAJThQAAAAAAAlOFAAAAAAACU4UAAAAAAAJThQAAAAAAgl+FAAAAAAACU4UAAAAAAAJThQAAAAAAAlOFAAAAAAACU4UAAAAAAAJThQAAAAAAAlOFAAAAAAACU4UAAAAAAAJThQAAAAAAAlOFAAAAAAACU4UAAAAAAIJfhQAAAAAAgl+FAAAAAACCX4UAAAAAAIJfhQAAAAAAgl+FAAAAAACCX4UAAAAAAIJfhQAAAAADgkOFAAAAAAOCQ4UAAAAAA4JDhQA==",
          "dtype": "f8"
         }
        },
        {
         "line": {
          "color": "rgb(252,205,229)",
          "width": 2
         },
         "mode": "lines",
         "name": "Segment 9946332",
         "opacity": 0.8,
         "type": "scatter3d",
         "x": {
          "bdata": "AAAAAAAAAABomkRDkTJjQDoHY990QWlATBOnVG7zib00X7F1Fb93wKVtQEhOd4zAAWf3g5vdocDuigbtVoy2wGFusCHS3MfA0TmVFskm1cCuukpgzIPgwMJ6J7vH/+fA7sOk7KFc8MDplwYIQ671wIAr0TlH6/vAYGrS2tiQAcFg+EYb/9QFwXSKBW3xrArB7D+gw7YPEMG7+YfwLRUTwWgo8RF+XBbB272zu+TuGcEF/TWagNUdwcxCHjjkBCHBxfjtawVFI8Exe6g8NqclwYmUJ8Z9LCjBGSWeJlTUKsFoHGIaZKItwUB7+pCpUTDB6I/3vkXwMcFy+lOJYbszwYz9bmdFtjXBM1/kWtLeN8EMX2mOYi86wfBxWneDpDzBSV76XTo0P8HBEB7pIu9AwTgERjNRUULBv7TK0uXDQ8Esrz9dp0lFwfB6dwyp4UbBMHaen/GLSMGFi/PgWkpKwZiyVPUPGkzB9DG+JXr5TcEas9UH7uhPwfyGKcA09FDBk5ugnXb7UcHBtiC1QAlTwQ==",
          "dtype": "f8"
         },
         "y": {
          "bdata": "AAAAAAAAAACTLsOUuaunQA7te6h4asNAIEsYRtLe10BDDESSwsTnQDeCdFQXJ/RAd4hDOc5J/kCLqzNKdY0EQaohn1RROQpBsLXKLt4aEEFIzHePL1ITQZ8PwEbjEhdB7byCbV1iG0H9kK64GucfQeiPA2QiZSJBl4LYzF3tJEFMRrrNWn0nQbfelY4tFipB4CJCx2nOLEGstm3Ew8gvQcfoT+LNgzFBUkbZJ2RIM0HV6yxFqDY1QaT2mA1eSzdBkEwZ9TeDOUGyfJUrpNw7QUYgLwumWD5B3On6INB8QEGyN7tmr95BQRLSspT9T0NB4cCIwuy/REFvP2YmRyhGQRKF8iW2h0dBsfRzs+fcSEF37KHTzytKQQaXQT1YfktBFrRg8y7fTEHrbtO8ME5OQXDIp8Bby09BPj3BuTqkUEEcCvnJxl9RQUAAKQWxHlJB28iW2/HdUkHKnlq7P5tTQYyRQUrPXVRBZrJwA/YmVUGbEGdk1/ZVQWHdRYpyzVZBEqhSU1yqV0Gm96UYj41YQQ==",
          "dtype": "f8"
         },
         "z": {
          "bdata": "AAAAAAAX4UAAAAAAABfhQAAAAAAAF+FAAAAAAAAX4UAAAAAAABfhQAAAAAAAF+FAAAAAAAAX4UAAAAAAABfhQAAAAAAAF+FAAAAAAAAX4UAAAAAAABfhQAAAAAAAF+FAAAAAAAAX4UAAAAAAABfhQAAAAAAAF+FAAAAAAAAX4UAAAAAAABfhQAAAAAAAF+FAAAAAAAAX4UAAAAAAABfhQAAAAAAAF+FAAAAAAAAX4UAAAAAAABfhQAAAAAAAF+FAAAAAAAAX4UAAAAAAABfhQAAAAAAAF+FAAAAAAAAX4UAAAAAAABfhQAAAAAAAF+FAAAAAAAAX4UAAAAAAABfhQAAAAAAAF+FAAAAAAAAX4UAAAAAAABfhQAAAAAAAF+FAAAAAAAAX4UAAAAAAABfhQAAAAABAHeFAAAAAAMAp4UAAAAAAQDbhQAAAAAAgTOFAAAAAAOBe4UAAAAAAgG7hQAAAAACAh+FAAAAAAICg4UAAAAAAgLnhQAAAAACA0uFAAAAAAIDr4UAAAAAAgATiQA==",
          "dtype": "f8"
         }
        },
        {
         "line": {
          "color": "rgb(217,217,217)",
          "width": 2
         },
         "mode": "lines",
         "name": "Segment 10010488",
         "opacity": 0.8,
         "type": "scatter3d",
         "x": {
          "bdata": "AAAAAAAAAAA9QsLRXHUGwJCKubnM2kTALXQUVCWJxT2r/GaxabWGQNx49nX8BalAA/k9clnJvUC+EAXCM6zMQBxzsLVnJdhAhOhzgqCo4kAkEVRLQKzqQDA+tTV2PPJA1B4TBK8d+EDk93tqI/f+QHdl8XPcawNBYgUw31XuB0FWbALZIAINQUo4QkmWUhFBB1VEIudnFEFLryprGsMXQdiiMSD5ahtB7BGVRC1TH0EG48od8cAhQWgFI/A45CNB1tfCxerqJUGQerSrc+knQTIk14ygDSpBjayZkqdOLEFyR/C+gK0uQarzt/lfkzBBzz1Koe7eMUHiF/RaADczQUbvGY1MnjRBifCxntcSNkGeouc9kpU3QdihFWzYJjlBbvWJyAHAOkGjxSOiAGc8QStx1i1WGT5BzhCihbfFP0FnUA7aBqNAQajfffq+SEFB2qKwbjHRQUG1zqsCtTNCQVC47aSqdEJBRW8eTLWbQkELmIJLZJlCQT93j6d+dEJB2zr8ag8zQkE8lLpgQulBQQ==",
          "dtype": "f8"
         },
         "y": {
          "bdata": "AAAAAAAAAABkJx++i8fCQJh3fUE/CtxAeR2efkcI7EA6CapZ9pr2QNOps54v//9AgAFOXTP7BEGSsX1YAEAKQT6NQdHtyQ9B2NMgUJjJEkGnrOXMy8gVQVeoM6B+4RhBKacY4IQQHEGKP4wA0F4fQf2zMcpanCFBwNrEV1nOI0FefJx3FUcmQU+uYX2P/yhBxMqWcb78K0FET3HgrD0vQU6NB3qHYjFBZFZ/zGxJM0Gez95BpFI1QUHKzrG3fDdBwnOzMfPAOUGpBWzSryM8QZ1NgtPLpj5BU0mjj+ClQEGR9rlX2QlCQRiVQV0cf0NB9CX6T/oFRUFvA1+Qkp1GQSjeuGYkRUhB5rSWrVP8SUE6VgQjPMRLQVgTjjdKnU1B9RulvF2ET0FMWbnKurxQQQ3ImDVAv1FBihg3/DvLUkF9fU5N3d1TQf0Ln2yz91RB0/7u8a4YVkGunGhgjz9XQXHjCSBba1hBItYNlJiaWUHNpfyOzMxaQbRw+czMAVxBbTVKczY4XUGaCZw2UnZeQQ==",
          "dtype": "f8"
         },
         "z": {
          "bdata": "AAAAAABM3UAAAAAAAEzdQAAAAAAATN1AAAAAAABM3UAAAAAAAEzdQAAAAAAATN1AAAAAAABM3UAAAAAAAEzdQAAAAAAATN1AAAAAAABM3UAAAAAAAEzdQAAAAAAATN1AAAAAAABM3UAAAAAAAEzdQAAAAAAATN1AAAAAAABM3UAAAAAAAEzdQAAAAAAATN1AAAAAAABM3UAAAAAAAEzdQAAAAAAATN1AAAAAAABM3UAAAAAAQFLdQAAAAAAATN1AAAAAAABM3UAAAAAAQFLdQAAAAABAUt1AAAAAAEBS3UAAAAAAAEzdQAAAAAAATN1AAAAAAABM3UAAAAAAAEzdQAAAAAAATN1AAAAAAABM3UAAAAAAAEzdQAAAAADARd1AAAAAAABM3UAAAAAAAEzdQAAAAAAATN1AAAAAAABM3UAAAAAAAEzdQAAAAAAATN1AAAAAAABM3UAAAAAAAEzdQAAAAAAATN1AAAAAAABM3UAAAAAAAEzdQAAAAAAATN1AAAAAAABM3UAAAAAAAEzdQA==",
          "dtype": "f8"
         }
        },
        {
         "line": {
          "color": "rgb(188,128,189)",
          "width": 2
         },
         "mode": "lines",
         "name": "Segment 10110775",
         "opacity": 0.8,
         "type": "scatter3d",
         "x": {
          "bdata": "AAAAAAAAAAC35v3SVE9kPxM99VoEizo/qVJFSqRsmj1FyJ3pQeBgQADPR0QEKaBAOhIiybi1uEDz5nrTY/rJQDm2hX8WYtZA8GkFXnOP4UCIAJhx+abpQJv19Jtiu/FAWDTHZTOd90CV1eSJZu79QM4+0qrSdAJBtOqNBBhQBkFUo6j2PooKQZDj3xNeMw9Bt4NbT8oXEkEAM3xeMLwUQSe1tIIiixdBWjSZ19pnGkGa9pMogYkdQSEd7kwwciBBdGML9Q47IkFpwTLyxCEkQSMMef6TJSZBXh7/cw1BKEG3/bmnXHcqQfy89VIZzCxBYDUMOKo8L0EMfSLL2+YwQa1GHSFQQjJB49l0y8msM0GFBL+DUSQ1Qcm4HrwFpzZBE99njAQ9OEH5ios0ROE5QZpt5G3ckjtBunisPsdTPUEx0zkt9yI/QZLs9y8/gEBBoqLv0Sx0QUFC4LCyI2pCQUc1Rb1CYUNB1XBOk7JbREFDvYdwGFtFQd74vPttXEZBgwhZc1lqR0HigDHxzntIQQ==",
          "dtype": "f8"
         },
         "y": {
          "bdata": "AAAAAAAAAAABpe8qttDCQHEE+3CFO9xAHAG5WRdM7EBvJv8XSpf3QHO8qQ89/gBBgNiYAliYBkEmfrsw4pMMQSg3tVLrdBFBtW1kqM/FFEEuj6VlUTsYQUeo/7Oc1RtBwRpdjSqbH0HRIqpUxc4hQdxEKq/VCCRBgIHm/2p7JkE3ybUHOCopQQItbg35EyxBU9S75bc1L0HKdgPH9EUxQRxrCyidCTNBnuUQxuzVNEGdurlod8g2Qd1VgNxM4ThB5iMhwIwZO0HyzA0k4HM9QV6GFhY28j9BHA1aEZpIQUEdi+KeBKdCQdm77h1qFkRBkIMj1fGWRUErUYXKeStHQcrRUHNQ10hBCqrzD6aVSkFRPI++wGFMQWo5iOHrPU5B9TjKwHAWUEGG7a8s4xdRQXLLvpqCIVJBf7JjSyczU0EM8/r8GExUQVksd7FPbFVBmYwe6zeUVkEJ8yB2mL5XQY3KZkZg6lhB7vHCwi0aWkG2gCemeE5bQVdJSd4ZhVxBxwDWqLvHXUHYfuxpmA5fQQ==",
          "dtype": "f8"
         },
         "z": {
          "bdata": "AAAAAAAR4kAAAAAAABHiQAAAAAAAEeJAAAAAAAAR4kAAAAAAIBTiQAAAAAAAEeJAAAAAAAAR4kAAAAAAABHiQAAAAAAAEeJAAAAAAAAR4kAAAAAAABHiQAAAAAAAEeJAAAAAAOAN4kAAAAAAQP7hQAAAAAAA3+FAAAAAAMC/4UAAAAAAgKDhQAAAAABAgeFAAAAAAABi4UAAAAAAoD/hQAAAAACAI+FAAAAAAEAd4UAAAAAAABfhQAAAAADgE+FAAAAAAAAX4UAAAAAAABfhQAAAAAAAF+FAAAAAAAAX4UAAAAAAABfhQAAAAADgE+FAAAAAAMAQ4UAAAAAA4BPhQAAAAADgE+FAAAAAAAAX4UAAAAAAABfhQAAAAAAAF+FAAAAAAAAX4UAAAAAAABfhQAAAAAAAF+FAAAAAAAAX4UAAAAAAABfhQAAAAAAgGuFAAAAAAEAd4UAAAAAAYCDhQAAAAADAKeFAAAAAAEBP4UAAAAAAQGjhQAAAAACAbuFAAAAAAOB34UAAAAAAIH7hQA==",
          "dtype": "f8"
         }
        },
        {
         "line": {
          "color": "rgb(204,235,197)",
          "width": 2
         },
         "mode": "lines",
         "name": "Segment 9921514",
         "opacity": 0.8,
         "type": "scatter3d",
         "x": {
          "bdata": "AAAAAAAAAAAESycDudEMwLPfSHVBJyLACLvqCQvqiL2woeCW+jwpwPYgXiTJ7hlAnDmySXbXLMDFH9lIRdpXwHEMeUwKWV/ArP8Gpb4AZMAznAG2sfNowFy9SxB3KXXAx3zDGjkqeMCpfkHIOj2BwGUrw8EtxorAa2GZW6h7kMCuomhIJh+WwPzFwPK4H5zAvjcALYGJosD0T1G6ZfulwK1Pf8HlrKnAbrxM4/GZrcC+mNoJmLaxwOTP4GuPyLTAz5W98MUWt8BVaBskV4C6wG3Ep+fIDMDAsvwF3Tz1wsCIgiiFcmjFwIH7B8RSAsjA+TgfUv63ysBFqZdr7ODMwIAMEs6bkdDA6qHCdpvI0sAJJXs3ChbVwBkQhz8kfNfA39nTuP+a2cBqJxnA3zzcwKkMbdQR+d7Awq5X0MJJ4cCAKiz/YBrjwFJPN6Plt+TA7qVwWqFY5sAoXsCC5/7nwCE2jl8L7enAzExytAur68AQ+HMCS7ntwDOKuOyT0u/AnCjrLPL58MAE+DOcaw/ywA==",
          "dtype": "f8"
         },
         "y": {
          "bdata": "AAAAAAAAAAAL6sZaTlixQBAoFWHl3MVAZWoWcKtp1EB5e9emEM3hQL2OAENzx+tA2eHhsTYv9EAlzANzROv7QBjBf3JbeQJBcaaEGN+vB0HJJCkr6qUNQbHKwmR9JBJBaKsRMkvCFUFa2vtSA7MZQT1N4tlRBx5BbopbP0JhIUH7P22nsfAjQVGobfNhqiZB3yZignWOKUEcIunDUK8sQfSGwhb3BDBBhmZZBE/NMUHtYeMl+q4zQZKF6uu0qjVBMhlHG7DCN0HAcUTGAfc5QTb/xy7+QTxB8jrCdsijPkEPA/1OT4xAQSBBg6gc2kFB7h2Ex9g1Q0GaQNl0CJtEQTmnbM19FEZBGZCvIhSdR0EALaxkMzVJQUZWP6xm3kpBkNUVOxCbTEH5C1Hgpm1OQZ3SI1Y7KVBBVgSNoB4dUUGdsVgvzRJSQdvZoUPCClNBlOUuD6UEVEFoGOtf2gFVQUUhKj4lB1ZBpF2EvZQSV0HFlPvG2ShYQcr5OPz0RFlBERh6Ik9lWkEvq7JgwYpbQQ==",
          "dtype": "f8"
         },
         "z": {
          "bdata": "AAAAAEB100AAAAAAANPTQAAAAADA/tNAAAAAAIAq1EAAAAAAgHXUQAAAAAAAzdRAAAAAAEAe1UAAAAAAgG/VQAAAAADAwNVAAAAAAAAS1kAAAAAAAF3WQAAAAABArtZAAAAAAMAF10AAAAAAQF3XQAAAAABAqNdAAAAAAEDz10AAAAAAQD7YQAAAAACAj9hAAAAAAMDg2EAAAAAAgCXZQAAAAABAatlAAAAAAEC12UAAAAAAQADaQAAAAABAS9pAAAAAAACQ2kAAAAAAANvaQAAAAAAAJttAAAAAAEB320AAAAAAAKPbQAAAAABA29tAAAAAAEAm3EAAAAAAgEXcQAAAAADAfdxAAAAAAEC83EAAAAAAwPrcQAAAAABAOd1AAAAAAMB33UAAAAAAgKPdQAAAAADA291AAAAAAIDu3UAAAAAAABTeQAAAAADAcd5AAAAAAACR3kAAAAAAwLzeQAAAAABA+95AAAAAAABA30AAAAAAAHLfQAAAAAAAvd9AAAAAACAH4EAAAAAAoCzgQA==",
          "dtype": "f8"
         }
        },
        {
         "line": {
          "color": "rgb(255,237,111)",
          "width": 2
         },
         "mode": "lines",
         "name": "Segment 12046006",
         "opacity": 0.8,
         "type": "scatter3d",
         "x": {
          "bdata": "AAAAAAAAAAApvJNcSPFBwHN/dOtgQVLAHt3aAZfnjj1foXAMVUxYQP/+/VxfB2ZAL0Bl5P2Aa0AMkvvunLx0QOaOpJZz14JA/sP0ofT8iUDNpXogLy2PQNL7MbeBmZVAgV0VTTR6mkCbSAZueO+dQI5i1FK1qZ9AOoT/mjTcoUBzNEC50BakQD8WzRouMqVABsNnTUphpkCnlBHJwCimQKDPn7Ir7aVAF02TN+itpUBCSuWSNSyuQKgF0itS57pABESDIA2hw0CXC1l2bp3JQIpjj7VINtBA6p6mEyyF00Cyhg30rPzWQJhq0qnvldpAGsxS6rfx3kDGRYZht5bhQFxdfSpVH+RAojBxVfi+5kCFvsvkYHnpQN8GOGoQfuxASbyhzCed70AVAoRz1mnxQOHrzJCVK/NAQLEDhqT79EB+clNSKfn2QEaRPf1ZCflAhI3Aafgv+0D3eDRjDov9QKoqKck//f9Az7n/cBtSAUEUgFjp45oCQXl9aQ8eDwRBuhSIVyuRBUEiEMS1dC4HQQ==",
          "dtype": "f8"
         },
         "y": {
          "bdata": "AAAAAAAAAAAovwDUp1uzQGxsD0MqA81ANY1ylNTW3ECednosLvXnQEU+FXIL9PFAg8MSLuQn+UBq4kK6L80AQUMvl1PuuQVBrdquNE5WC0HtOliCQs4QQUwIVce3TBRBkTd0PRIhGEH1cuWtr08cQa/ou+GebSBByM4Ga7PhIkGankppw5MlQSysYrZJfShBIA0pWtCaK0FSu4I+QeouQe15X4OuMzFBxb3iKbQNM0E5IhajTgM1QSGnq90ZEjdBp1lVpNk4OUEvahkElHs7QQpIxx2o2j1Bmsb6TistQEHI0JNWWXxBQds4/DtH2EJBB9TR281AREFLgxdVOrpFQf3E2qolQUdBc6LFGvHVSEEGGZby3npKQb4TTScsL0xB52vYhGLyTUHH3EV/08JPQf5i6l9J0FBBAz2p+cLGUUHEEvp2NsZSQfvkGG8Gz1NB4+RhBhXjVEENHDuyZAFWQeg6wqCsKldBvORkQcJcWEGq0S8l75RZQfoQyMhu1FpBtZrDQswfXEEtoQVASnJdQQ==",
          "dtype": "f8"
         },
         "z": {
          "bdata": "AAAAAECI1EAAAAAAgNnUQAAAAAAAMdVAAAAAAICI1UAAAAAAAODVQAAAAABAMdZAAAAAAICC1kAAAAAAwNPWQAAAAAAAJddAAAAAAEB210AAAAAAgMfXQAAAAADAGNhAAAAAAABq2EAAAAAAQLvYQAAAAACADNlAAAAAAIBX2UAAAAAAAJbZQAAAAADA2tlAAAAAAMAl2kAAAAAAwHDaQAAAAAAAwtpAAAAAAAAN20AAAAAAwFHbQAAAAADAnNtAAAAAAADu20AAAAAAwDLcQAAAAADAfdxAAAAAAIDC3EAAAAAAQAfdQAAAAABAUt1AAAAAAECd3UAAAAAAwNvdQAAAAACAIN5AAAAAAEBl3kAAAAAAAKreQAAAAACA6N5AAAAAAEAt30AAAAAAAHLfQAAAAAAAvd9AAAAAAOAA4EAAAAAAICDgQAAAAABAPOBAAAAAAEBV4EAAAAAAYHHgQAAAAABgiuBAAAAAAICm4EAAAAAAAMzgQAAAAABA6+BAAAAAAOD64EAAAAAAgArhQA==",
          "dtype": "f8"
         }
        },
        {
         "line": {
          "color": "rgb(141,211,199)",
          "width": 2
         },
         "mode": "lines",
         "name": "Segment 8636686",
         "opacity": 0.8,
         "type": "scatter3d",
         "x": {
          "bdata": "AAAAAAAAAABCB1y3QcVlQAahdgqwfnJAsAaHLu84gb2ZUOZex3mQwLyVy71sEaXACO/9/3zcssBHlmxiVba8wLCvSDdSCcTAOwOXkURRysD9xrhbIazQwM6xThq/utTAcX0dcPdA2cBowL+FdSXewCEoFxyp5eHA8rTZpST65MDdPtDHpTbowFucGC7yx+vAhIwoz7DI78A+p0+kF/fxwHTKoWjuFvTAjQO2+eNe9sCiBAaTjM34wGUxHazJuPvAlQT/tzQA/8C7s/JP1zkBwb+3KiQvGQPBuSo077UvBcGnx2iljmMHwcABHbHzyAnBmJ0/YcZXDMGk63hrN0wPwT4C8fGnNxHB7WIr9ZviEsFbTsZaFaQUwRGiTbLYgRbBnwq9f3OSGMGrxKJTXp4awdSAr+wluhzBmeathXbtHsF9tZtDz5cgwfzoJz/ceyHBW3uaVkMGIsGyvHDvhDUiwZ4sQA4eCSLBEU0SAayAIcHa+bWuFaAgwf44ehkS9x7ByYZpvSmzHMHU6kZqZVUawQ==",
          "dtype": "f8"
         },
         "y": {
          "bdata": "AAAAAAAAAACzmESZj96zQLNs0rKMi85Anc0uZubO3UDWk7sw6UroQOTO0iBkc/JAr+98or/d+kCUvJtzS44CQZGll4GwdghBg9M4Uj4xD0GEwlRZOlwTQZ2i8ilxlBdBXXGDsO0mHEGYPBvVV4wgQaGuvLq/PyNBpqCufyUeJkHCb15t0iEpQVLqDvI4SixBRJofpVaWL0F6JVTzXIAxQXksfGtXQDNB6w2mT14hNUHJGx/ZRSI3QelsOHfwSTlBBKODMvGcO0GPYifCLA8+QYRsveBRTkBBlOxQudGmQUGjAs/xugtDQVEvZclCfERBGJTm5Z/yRUECT2Cs03xHQVpW5p1AGUlBT35MGV3DSkEv3b6BsH1MQTFQ5n4TR05B2iAAEHIQUEGLRQgnlwRRQYhR55IgAFJBl5Lm0zIDU0FEmYd2GA1UQRj62pGNGlVBuQlUPJUqVkFrYwagtjtXQd7lnxqSTVhBr8yW1qJfWUHz00htHXFaQc06seKchFtBakwQziudXEEVL01zPcJdQQ==",
          "dtype": "f8"
         },
         "z": {
          "bdata": "AAAAAIAZ20AAAAAAAHHbQAAAAACAyNtAAAAAAAAH3EAAAAAAgEXcQAAAAACAkNxAAAAAAMDI3EAAAAAAgA3dQAAAAACAWN1AAAAAAICj3UAAAAAAgO7dQAAAAACAOd5AAAAAAMCK3kAAAAAAANzeQAAAAADAIN9AAAAAAEBf30AAAAAAgLDfQAAAAAAgB+BAAAAAAAA24EAAAAAAYFjgQAAAAAAga+BAAAAAAGCK4EAAAAAAwKzgQAAAAADgyOBAAAAAAODh4EAAAAAAQAThQAAAAACgJuFAAAAAAOBF4UAAAAAAYGvhQAAAAACAh+FAAAAAAMCN4UAAAAAAAJThQAAAAABAmuFAAAAAAACt4UAAAAAAQMzhQAAAAACA6+FAAAAAAOAN4kAAAAAAIC3iQAAAAACAT+JAAAAAAMBu4kAAAAAAIJHiQAAAAAAAp+JAAAAAAKC24kAAAAAAQMbiQAAAAADg1eJAAAAAAKDo4kAAAAAAQPjiQAAAAADgB+NAAAAAAAAL40AAAAAAAAvjQA==",
          "dtype": "f8"
         }
        },
        {
         "line": {
          "color": "rgb(255,255,179)",
          "width": 2
         },
         "mode": "lines",
         "name": "Segment 8634219",
         "opacity": 0.8,
         "type": "scatter3d",
         "x": {
          "bdata": "AAAAAAAAAAD4YDBwZP81wO2McBLfAizAO9Wr7+6eaz2GLLPFwzA0QGhfoRwGBUZAownG71H/UUCjXx0S4YlpQBfNuPsYgHZA2EL9oKQOhUBm0Z8NwxiQQIDNRXS29JhAwDiXUzpUd0DqJrGxhii4wGt0yFBjMNLAu5meZPCN4sCYFrSBubfvwKdYauVIIfjAhZhCepg8AcGNgxQ9NkEHweUrf0akJg7BR3jH4lP6EsFkF1cCn1AXwXjeI2z5FhzBc+aFPoymIMFs2xuDbXIjwWi71z8CeCbBm11W3bmvKcFFOUAJYBstwdaq9MW3XDDBR99xiJ9AMsFkcw8nKD40wVPOqv/PUzbBYdG7CFCDOMFWz5W9ksw6wR3fuF/ILT3Bf1BEbailP8FoIwwSkhtBwdCu4IsWdkLBhB5sgVLhQ8FfzYUArV5FwbCu5lAv7kbBMGsElgWPSMFgwVoj4UFKwRlAKWxcBUzB2dfzRHvXTcHNaOaIT7hPwap2tg0B1FDBmy34s4/TUcEr66pX0dpSwQ==",
          "dtype": "f8"
         },
         "y": {
          "bdata": "AAAAAAAAAADiNYO0V6W9QJeWQnoOmNRAy6p2ocTY5UAqNbbVlz7zQJU5CEk0FP1ANHCJIKBMBEHkvHgomTULQdx7vx6LqxFB85JW7YhcFkFbtWCmVbAbQXK3kOEv0CBBVEWEZKsGJEGB8OduiVQnQUt2VjC2uypBsl004F00LkH1VUQcW9wwQUEAqtrgpDJBuE3/7+VuNEGsoNTMizc2Qb8OQ6ez/jdB/9afT+XBOUE/dggfsX47QbxdjfKqMz1B075GrhbfPkG/TxJDmkBAQd+58HLsGUFBJMDqU1QBQkFn4tUhdvZCQYTuzrO0+UNBSlBzmYILRUHAXfyayylGQXvt8X+wVkdBo+2f1SeSSEGyNmIP/dpJQXAWpYp7MktB6ezu8gKYTEGCouavBwxOQW7VVnn3h09BxUejOvd+UEEswxv5CDZRQa/lsd446FFBHeOwijyUUkFCO59vrTpTQUD5eWwX3VNBQCDbisWEVEGAmNQ2vjFVQanwS0xo41VBOuWEA0abVkG+CgfNrVhXQQ==",
          "dtype": "f8"
         },
         "z": {
          "bdata": "AAAAAGAN4EAAAAAAwC/gQAAAAADASOBAAAAAAIBb4EAAAAAAgHTgQAAAAAAAgeBAAAAAAMCT4EAAAAAAIJ3gQAAAAAAAmuBAAAAAAACa4EAAAAAAAJrgQAAAAAAAmuBAAAAAAACa4EAAAAAAAJrgQAAAAAAAmuBAAAAAAACa4EAAAAAAAJrgQAAAAAAAmuBAAAAAAACa4EAAAAAAAJrgQAAAAAAAmuBAAAAAAACa4EAAAAAAAJrgQAAAAAAAmuBAAAAAAACa4EAAAAAAAJrgQAAAAAAAmuBAAAAAAACa4EAAAAAA4JbgQAAAAADgluBAAAAAAACa4EAAAAAAAJrgQAAAAADgluBAAAAAAOCW4EAAAAAA4JbgQAAAAADgluBAAAAAAOCW4EAAAAAA4JbgQAAAAAAAmuBAAAAAAACa4EAAAAAAAJrgQAAAAAAAmuBAAAAAAACa4EAAAAAAAJrgQAAAAAAAmuBAAAAAAACa4EAAAAAAAJrgQAAAAAAAmuBAAAAAAACa4EAAAAAAAJrgQA==",
          "dtype": "f8"
         }
        },
        {
         "line": {
          "color": "rgb(190,186,218)",
          "width": 2
         },
         "mode": "lines",
         "name": "Segment 10133068",
         "opacity": 0.8,
         "type": "scatter3d",
         "x": {
          "bdata": "AAAAAAAAAAAMcZKoBaczQP462Z5ZLkVAt4wEkpDerj2S5DzbrJtGQPv+7xuy6WFABUSeXQGzdkDOBX1n7F6DQNn2o427FYRA3+t+2yN3gkA755//a+WIQJdJlG8Y+oxAROhhFr0alECBjpevqhl/QPktInv00HFABPznc58Wa8Cc2kXlejg2wEqYlwKkCqTAakWWUK4XwMC9Fj+0UUzRwC+SDElKat7AmHqpcpy358D+X5fX4LfvwCMG51ce7vPAdwgr46l1+MDgw1jVZRH9wA8cBszu+QDBpCiqO/Z6A8HV3GpzvAwGwUhz83TLswjBitUx5W95C8E8ScRhTlUOwT8mWE/spBDBTH/R0xssEsEJCW7qYMATwQPzKpAkYRXBTAIf634YF8GKpoxLzd4YwRrzegXGthrBVX9LXhmgHMHLzZA8HpYewY6pqFL1USDB3NAR4FBiIcGp7LjwLX8iwRezh+5doiPBkGA3lXHOJMFTKUIOvgImwRAikHTESCfBysEzDFWjKMFIuZyEKBQqwQ==",
          "dtype": "f8"
         },
         "y": {
          "bdata": "AAAAAAAAAACbqaXJaNiyQFBRtloBd8xAl1MnU3Z23EBxGGTjP7bnQHp9itrru/FAC4+UrpHU+EDfXRnQlY4AQaGaozM6VgVB0OTKARXICkHF6zBERHkQQXhoDiFr5RNBAf95wXGqF0ER7CQAMM4bQRAM9Qk+IiBBqW/CkvOGIkHOf4abZxMlQXhDDUNDvidBzdpkDXeFKkFkZkLUYWItQfT7V+LvLDBBX7OZalm0MUHaSDYMqk4zQUd6qqX/+TRBRV+OVS62NkFY9Kt9PYQ4QUxCoX5AYzpBn1r9B9FTPEFYtuLFEVc+QUHfIk1/NUBBLili01pIQUEiaak60mNCQebYYtPXiENBt+ubsN63REGn5Zc7CPFFQdG8vIXfM0dB83KJc9GASEECjkNEGNlJQU3aPCTCPktBFAqkr5KxTEGo3tedLzJOQco5ItujwE9B61AB9bauUEGMr/3BQ4RRQXxjV8XtYFJBAxc5RlREU0Hb7jeVcitUQQVEaMjaH1VBXZShtOQgVkF06Xsxjy9XQQ==",
          "dtype": "f8"
         },
         "z": {
          "bdata": "AAAAAAAd0EAAAAAAQG7QQAAAAACAv9BAAAAAAMAQ0UAAAAAAAGLRQAAAAABAs9FAAAAAAIAE0kAAAAAAwFXSQAAAAAAAp9JAAAAAAADy0kAAAAAAAD3TQAAAAAAAiNNAAAAAAADT00AAAAAAwBfUQAAAAADAYtRAAAAAAMCt1EAAAAAAAP/UQAAAAACAPdVAAAAAAAB81UAAAAAAQLTVQAAAAABA5tVAAAAAAAAS1kAAAAAAQGPWQAAAAACAtNZAAAAAAMAF10AAAAAAAFfXQAAAAABAqNdAAAAAAID510AAAAAAwErYQAAAAAAAnNhAAAAAAEDt2EAAAAAAgD7ZQAAAAADAj9lAAAAAAMDa2UAAAAAAwCXaQAAAAADAcNpAAAAAAMC72kAAAAAAwAbbQAAAAACAS9tAAAAAAECQ20AAAAAAANXbQAAAAADAGdxAAAAAAIBe3EAAAAAAQKPcQAAAAAAA6NxAAAAAAMAs3UAAAAAAgD/dQAAAAAAATN1AAAAAAEBS3UAAAAAAAEzdQA==",
          "dtype": "f8"
         }
        },
        {
         "line": {
          "color": "rgb(251,128,114)",
          "width": 2
         },
         "mode": "lines",
         "name": "Segment 10075313",
         "opacity": 0.8,
         "type": "scatter3d",
         "x": {
          "bdata": "AAAAAAAAAACSCDIb2t4owAA9vEoaDELAdsQrMGmelD0Uu8kRT7QSQK7XFSPz0WBAokigi4QuckAM4dFM32l4QHmhI7Qxwn5AwbVRYQGPgkDZPQPjb7KJQK8qh0ssv5BAC4VHU3Ekl0CxRaYbcvebQFK1iTjFkaFA+Sx6c1b5okCABf+H7mmkQGkoVUlj26VACkcB6FpSp0CKkOTdG8qoQEWHeD5IWqpA7lwvRgiAqkB3ld7vduetQI3DSDsLx7BAypvUVsigs0DtEf0ZPam1QBKdfYJTvLdARFV0gNnkuUA1Yb3nLxC8QKgTNs0XPL5A6Itqr9Rtv0CScXzv3ubAQD2qFCnVHsJAYuPRt55lw0D6/dedybbEQHIsX9LPacVAvP48HZ8ixkDk4j7jqdvGQG9yg2h5nMdAqtBQ2aBlyEAmsq1ndTDJQKROq9suBMpA/2Ng5f3cykBXpIzH+rXLQCPa81ZjlMxA2rV/Sg57zUBWpxfWC2fOQAAaSHeEiMdA1Q9P2giwsECeINX+J46wwA==",
          "dtype": "f8"
         },
         "y": {
          "bdata": "AAAAAAAAAADTYzsopdC+QJmgJoLEXtZA+GUFqZtj5ECVK9fydOzwQBPu/PRnlvlAHNRl6gECAkEUZkipRF0IQc1FhSAL1g5BmthxryypEkHXDjE7SngWQTyaUJhWoRpBQx0pY3pAH0GbwrnbPjMiQUdbSGSoyiRBjecaMymoJ0EdzP9kD5gqQTwSoUm4iS1BlvFROVRDMEHjEmNNlsIxQf0FQnK+WjNBjCsYxIENNUE5KMUShd42QTvfKlE90ThBUN7+MJLgOkEWrR9JAQw9QcYivbfLQj9B3gVTIDrIQEHtgRGQj/BBQfRkAJYxGUNBRAqjqgpRREEl8DI0bZVFQewwumxb4kZB1PKUAxw/SEHUoQ488KZJQVt3cRAkFEtBm3gUOiSNTEG9dVv5mwZOQbFGEjbvj09BS86LhCSVUEEGFhOCBWRRQSK+mUr5O1JB1GzwqhwZU0H6Wiqnb/ZTQftI8P5I2VRBk2u+M4/EVUGDkrR/QrVWQfsrCzFBrldBQ/d/e56vWEGZEQjGgblZQQ==",
          "dtype": "f8"
         },
         "z": {
          "bdata": "AAAAAIDt2UAAAAAAACzaQAAAAACAatpAAAAAAMCJ2kAAAAAAAMLaQAAAAACAANtAAAAAAEBF20AAAAAAQHfbQAAAAACAfdtAAAAAAMCD20AAAAAAgK/bQAAAAACA4dtAAAAAAAAg3EAAAAAAQFjcQAAAAABAWNxAAAAAAICQ3EAAAAAAQKPcQAAAAABAo9xAAAAAAMCv3EAAAAAAALbcQAAAAADA+txAAAAAAIA/3UAAAAAAAH7dQAAAAABAtt1AAAAAAMD03UAAAAAAgDneQAAAAABAZd5AAAAAAECw3kAAAAAAQLDeQAAAAACAtt5AAAAAAAD13kAAAAAAwDnfQAAAAADAUt9AAAAAAACL30AAAAAAwM/fQAAAAABA9d9AAAAAAMAW4EAAAAAAwBbgQAAAAAAAHeBAAAAAAAAd4EAAAAAAAB3gQAAAAAAAHeBAAAAAAAAd4EAAAAAAAB3gQAAAAAAAHeBAAAAAAAAd4EAAAAAAAB3gQAAAAAAAHeBAAAAAAAAd4EAAAAAAAB3gQA==",
          "dtype": "f8"
         }
        },
        {
         "line": {
          "color": "rgb(128,177,211)",
          "width": 2
         },
         "mode": "lines",
         "name": "Segment 10027758",
         "opacity": 0.8,
         "type": "scatter3d",
         "x": {
          "bdata": "AAAAAAAAAABvEJuCpSQsQILCg3CWySBAhFTTiFEJYT0MbK6vRZlLQK9NPu5N/WlAcALfO1fqk8Bfyo8ISim3wA+O/hpknMrA9MdCVI252MDpow/l+OPjwFOVB2k0ne3A5AjbD1O09MCKb2ICJX/7wEGOojxkwQHBclK39pRSBsFU4d5RyHYLwZaLJxBliRDB8NO/HLiGE8FD4Cd8EboWwYLHAC/0LxrBqemxRSLkHcHR0Ziitd8gwX7B3s7K6CLBnzfsvjv2JMHXBA88s+ImwaEmmozipijBx2r/ZhqTKsF2VUB1yqcswY+35hsUyC7BC71RRg5hMMFOvQqgBnAxwW9fafN4mjLB8ZetPp3gM8FbAlC5JTU1wROE+667lTbBwqNZ/o0JOMG4x4dZoo85weV0HtzzKzvBLeS98PrfPMEdE6TRQ6E+wdjo3Pi8OEDBPUhF9PgZQcEx5iZtsAFCwaOpI5D58kLBMxFP+k7ZQ8H3GPUejqREwfg8kmTaVEXB8VN4b7LnRcEsp7yRF2VGwQ==",
          "dtype": "f8"
         },
         "y": {
          "bdata": "AAAAAAAAAABdHO7INezCQJW+1+F2b9xAJPwrJb027EBWNTXiIGL3QIiqZkZlhQFB2GeqL8LuB0FobK2N7qwOQW3H4Y+h2RJBeNwJVnh7FkHdNSNAdkAaQXRlf0VZFB5BlZ1MNif9IEEexTdm3fciQd4lsICe9yRBljW5YSEAJ0ER1QMhGR8pQbGRdL5DZitBUjXCErPiLUHH0vC+ekswQV+sAjM7wDFBIO0rzjFPM0GpLHE49+w0QQCJmMNKnjZB4evWhLdoOEFDoWJVjUk6Qa1tP2SXQjxBZs7Wk7lbPkGoZlKEO0tAQW7o6bkve0FBtJzSGja3QkGJmsNElwREQY+ERkioVkVBX3RPBfCwRkGi3Hbqyx1IQX4UYBzKnElB4dnyRf4sS0Gf3j8f8M5MQTIsQdDHgE5B6+KqrbYhUEFcyzdR+AtRQf850TcxAFJBLX9Bd+/8UkG8whCfLQJUQQIOSsOqD1VBbipQCRwkVkH7En3Dqz9XQaygZ5V/YVhBMVcFlM+JWUEg9xnGHrhaQQ==",
          "dtype": "f8"
         },
         "z": {
          "bdata": "AAAAAAAX4UAAAAAAABfhQAAAAAAAF+FAAAAAAAAX4UAAAAAAABfhQAAAAAAAF+FAAAAAAAAX4UAAAAAAABfhQAAAAAAAF+FAAAAAAAAX4UAAAAAAABfhQAAAAAAAF+FAAAAAACAa4UAAAAAAYCDhQAAAAADgLOFAAAAAAKA/4UAAAAAAwFvhQAAAAABAgeFAAAAAAKCj4UAAAAAA4MLhQAAAAAAg4uFAAAAAAGAB4kAAAAAA4A3iQAAAAAAgFOJAAAAAAAAR4kAAAAAAABHiQAAAAAAAEeJAAAAAAAAR4kAAAAAAABHiQAAAAAAAEeJAAAAAAAAR4kAAAAAAABHiQAAAAAAAEeJAAAAAAAAR4kAAAAAAABHiQAAAAAAAEeJAAAAAAAAR4kAAAAAAABHiQAAAAAAAEeJAAAAAAAAR4kAAAAAAABHiQAAAAAAAEeJAAAAAAAAR4kAAAAAAABHiQAAAAAAAEeJAAAAAAAAR4kAAAAAAABHiQAAAAAAAEeJAAAAAAAAR4kAAAAAAABHiQA==",
          "dtype": "f8"
         }
        },
        {
         "line": {
          "color": "rgb(253,180,98)",
          "width": 2
         },
         "mode": "lines",
         "name": "Segment 8898173",
         "opacity": 0.8,
         "type": "scatter3d",
         "x": {
          "bdata": "AAAAAAAAAAA4ZsrG2/UfwEoGvaHU9zfAgG2zBPTHXD10W1MIMQpBQOxGdHkanGNA0phVjTxkakBfnrzQQ7dwQEFzabf4SHxAfWCDoVSlhECVvSzXGgmMQJeDfMkFzpRARpn1BGI+n0BfVmISqSalQFCMXDmosapAGu5OTxYgsECjomG62U6yQPr9ZGLjlrVAjwdBhaLsuEDfZqYzJUS8QCw8WNVFVsBAWgL3BU6LwkAl5Y5CHtfEQO3Mr5oV1cdAa+2TGevbykD++/cFi3/NQIl+aH4zddBAfUGBxm6X0kAopM81EH/UQOVo2A/J2tZAyln4szmt2UAB4uq9Z4DcQDJK+qmMVN9AM9nh3Wwl4UC3AobiibHiQOn/AQ3VS+RAQOGNXrMt5kDfQmnKZBHoQLT31kea9ulAs7Xw/Wgd7EB4dsmUgxHuQPqUbje+SPBAXaVkQqKU8UAB0zpOguHyQPGLmEM1OvRALNW+zZme9UBAqR7fhQ/3QI0yaLt+sPhAKKt5LHpS+kBeE6SEHSf8QA==",
          "dtype": "f8"
         },
         "y": {
          "bdata": "AAAAAAAAAABoKhYWMEnEQBzEdXMect5APZ4x9d8260AI9Q9udiD2QLpmEd8tkgBBYSskp8RaB0EE1SmsQmUOQdGG/UxXWRNB8qU6kggEGEHXgAERl1EdQawS5fZ3oCFBhfCHtKDoJEHxF2M1pWIoQTlVP3Lh3itBpyLjb1VdL0FEFOgxR5cxQXl9syF5pzNBk+dH+krANUGb3NywONo3QfvEHyodBDpBF17mjNMuPEGefnJQ528+QRNLfddNbEBB9CK6tTqkQUHvTNvC3u9CQQqhQooPUERBmhKupszERUGqauOlaE1HQa/D3Nlg6UhBk8IQbCOVSkFjKw5eVkFMQavqf6Yb7k1BS0QV1RmvT0E70tp2F8JQQdod5E4HtVFBcXKF6AGxUkG4Wr/h8K1TQRxpGaKqq1RB1q9fao+tVUG3AugkE7NWQZytxIRVwldBryPId6/bWEHBITTg3vVZQVSf+GwUGltBmo2ImTNIXEEdjujl8YBdQeQ0vNzVw15BRncF9MADYEFuA6drwKpgQQ==",
          "dtype": "f8"
         },
         "z": {
          "bdata": "AAAAAAAF5EAAAAAA4AHkQAAAAAAABeRAAAAAAAAF5EAAAAAAAAXkQAAAAAAABeRAAAAAAOAB5EAAAAAA4AHkQAAAAAAABeRAAAAAAAAF5EAAAAAAAAXkQAAAAAAABeRAAAAAAOAB5EAAAAAA4AHkQAAAAADgAeRAAAAAAAAF5EAAAAAAAAXkQAAAAADgAeRAAAAAAOAB5EAAAAAA4AHkQAAAAADgAeRAAAAAAOAB5EAAAAAAAAXkQAAAAAAABeRAAAAAAAAF5EAAAAAAAAXkQAAAAADgAeRAAAAAAAAF5EAAAAAA4AHkQAAAAAAABeRAAAAAAAAF5EAAAAAA4AHkQAAAAADgAeRAAAAAAOAB5EAAAAAAAAXkQAAAAADgAeRAAAAAAOAB5EAAAAAA4AHkQAAAAAAABeRAAAAAAOAB5EAAAAAA4AHkQAAAAAAABeRAAAAAAAAF5EAAAAAAAAXkQAAAAAAABeRAAAAAAOAB5EAAAAAAAAXkQAAAAAAABeRAAAAAAAAF5EAAAAAA4AHkQA==",
          "dtype": "f8"
         }
        },
        {
         "line": {
          "color": "rgb(179,222,105)",
          "width": 2
         },
         "mode": "lines",
         "name": "Segment 10066245",
         "opacity": 0.8,
         "type": "scatter3d",
         "x": {
          "bdata": "AAAAAAAAAACABgY0uNwoQKEZ6bQcZRpAMEL8C/MujD1qQo2zlYIcwNR1EiO1LzHAYRr+kUd6O8ARr2DjhVFbwETwl7JnM2rA0cnJmv+ZbMBQCS1oOF9vwCT3YOBCYnnAdHtD3UYle8Dz/giqNRh9wGFrhpK0O3/AUD2OUQrGgMBKEzAn0O6BwNJ4IRj1HIPAgqwl+RwvfMABU2Ueucl+wGN4C4EyvoDAM5wPcDoYgsCyvZFdan6DwHyEhiEapozAvX1RQeAwk8DOgKI/wByYwDmix7LqC53AFc2xsBIAocDQNZSCN4ujwPtp5TQUOabAfikzTfzrqMAqfILKxWGpwIKLkrYc3anAmfmgE1ReqsCSw0qseuKqwNfoDpXyNK7AZCrvZyzEsMBail1WKm6ywDAm1iuqHbTACPrzu8BmtMCkGt6Sp7K0wFoVMbr7/7TAyw68/2ZNtcAp8RFLDZu1wCLRKtzw6bXAc+neen7Xt8BUbZzonn22wDaGxlhr07bA6uq+wkcqt8DfDZXGirO1wA==",
          "dtype": "f8"
         },
         "y": {
          "bdata": "AAAAAAAAAADC3sd6Xj/BQIOkK/ZvetlARQcXbQxH5kBb+WVKmkrwQP0rbNuIj/dAimCF5HH+/kDM+So2S0oEQcRXjGdiKwpB6Ws4BMWNEEEbesXU+44UQdHT1njOGhlBwD4Su6YyHkGry7KhWOohQW92DaqsASVBjhUbbs5ZKEHU0HpLsbMrQeWhBTwNHS9BDTauPHpMMUHPXUuaNi4zQYmIZO1eITVBA2dqg3oVN0HmXCsZLxs5QVReaMKEQDtBECbU9Y2IPUGEKgdnKdc/QePNalWoE0FBWFnelOs8QkFa79EqK25DQbDF/0qvr0RB6zb3/pLzRUFKSwLbEkhHQeU6oZmUrEhBfcDsVBAiSkEV7LO+D6BLQbgzYpO/Lk1BCUFax969TkGfWTuhoiZQQeDXgFPq8FBB7OumGy3EUUHUXfKHkp9SQQz7ZnIZf1NBGZgQLeJeVEFjbBiUVT9VQUnQfURhI1ZBVt9ker8KV0G9bWbdufpXQUhLtoC78lhBkTSUb9DtWUFlE/6F0vFaQQ==",
          "dtype": "f8"
         },
         "z": {
          "bdata": "AAAAAOAT4UAAAAAA4BPhQAAAAADgE+FAAAAAAOAT4UAAAAAA4BPhQAAAAADgE+FAAAAAAOAT4UAAAAAA4BPhQAAAAADgE+FAAAAAAOAT4UAAAAAA4BPhQAAAAADgE+FAAAAAAOAT4UAAAAAAABfhQAAAAAAAF+FAAAAAAAAX4UAAAAAAABfhQAAAAAAAF+FAAAAAAAAX4UAAAAAAIBrhQAAAAAAgGuFAAAAAACAa4UAAAAAAQB3hQAAAAABAHeFAAAAAACAa4UAAAAAAIBrhQAAAAABAHeFAAAAAACAa4UAAAAAAQB3hQAAAAAAgGuFAAAAAACAa4UAAAAAAIBrhQAAAAAAgGuFAAAAAAAAX4UAAAAAAABfhQAAAAADgE+FAAAAAAAAX4UAAAAAAABfhQAAAAADgE+FAAAAAAOAT4UAAAAAA4BPhQAAAAADgE+FAAAAAAOAT4UAAAAAA4BPhQAAAAADgE+FAAAAAAOAT4UAAAAAAABfhQAAAAAAAF+FAAAAAAAAX4UAAAAAA4BPhQA==",
          "dtype": "f8"
         }
        },
        {
         "line": {
          "color": "rgb(252,205,229)",
          "width": 2
         },
         "mode": "lines",
         "name": "Segment 9268804",
         "opacity": 0.8,
         "type": "scatter3d",
         "x": {
          "bdata": "AAAAAAAAAADrryFrPzQgwPq/vbkEOzjAGrA+mcYQrz0tAUes5CFAwHpFOQ1Vh4PAUltRxJFTrsAV4vMLxiXEwMiiQsWDFdTAirQiDGjj4MA6GwoWqpTpwCTgLruZC/LA6VQRu3U3+MDpRykM8H//wMZJJQpe8gPBgRCrTPKnCMGU/eZ80NkNwW4wted/xhHBiCwl+yDfFMGcjb8FJTcYwSos7eRh1xvBU93md9a4H8GVRpBc0fEhwZM1FHDlKyTB8iKuJfqIJsG5BXrdawUpwTS0gHx4oivBOAoM/ydiLsEEykB0NqIwwa5DJowBJDLBpHJXpDq3M8E2LSnLz1s1waZTS2YAEDfBQ3s8Ax/TOMGuemEpYKc6wWvgsFxrjzzB/Gsx2g97PsGCNNCCZBtAwS+/S96m30DBIYixYHKLQcHgaKi36x1CwbGI2R+tl0LBCM25nj73QsHra1gTljhDwbZbDNvhX0PBE0DV95WNQ8EGQMx4irtDwe+LNvQL7UPBsFsbpgQhRMHB3KnabVZEwQ==",
          "dtype": "f8"
         },
         "y": {
          "bdata": "AAAAAAAAAACiOpGkWCjCQIcoCOdiJttAl1GFg+4c60CTYlvOJ5j2QAQH7mr70gBBT+6t3/iUBkGueHydhJYMQUu7gvgGYhFBumoh8M6QFEExh1WnjdIXQYL6JmKJKhtBGx/mCTiPHkHQ8u1A2/4gQS92qzk+uyJBKkRA99e1JEENF6OYOvImQefYnt19cClBsDxO4GcuLEHgvLxBzy0vQVAiHcn6NjFB2aZ/0h72MkE6U+y9TdQ0QRHQ+HdH0TZBaI/qaIHtOEE8zfEtESg7QZusML5Tgj1BjkczDcT7P0EwEUD4KkpBQUU3WtNypUJByDhbQWsQREHpf0ocBItFQSgsqCVIFUdB14R0WrquSEHz2kfduVdKQXUJsaHcEExBTDd2yDbeTUFicmsMRb1PQXp5ULkd11BBwzuZVBjXUUHUtgLHSd5SQceGFKFU61NB8g8wjor+VEHObyOFxBZWQX+N1wFSM1dBBO1fw/VYWEGSA5jRB4dZQYW8gnUUvlpBLYMappH9W0ErYoo66EVdQQ==",
          "dtype": "f8"
         },
         "z": {
          "bdata": "AAAAAAAX4UAAAAAAABfhQAAAAAAAF+FAAAAAAAAX4UAAAAAAABfhQAAAAAAAF+FAAAAAAAAX4UAAAAAAABfhQAAAAAAAF+FAAAAAAAAX4UAAAAAAABfhQAAAAAAAF+FAAAAAAAAX4UAAAAAAABfhQAAAAAAAF+FAAAAAAAAX4UAAAAAAABfhQAAAAAAAF+FAAAAAAAAX4UAAAAAAABfhQAAAAAAAF+FAAAAAAAAX4UAAAAAAABfhQAAAAAAAF+FAAAAAAAAX4UAAAAAAABfhQAAAAAAAF+FAAAAAAAAX4UAAAAAAABfhQAAAAAAAF+FAAAAAAAAX4UAAAAAAABfhQAAAAAAAF+FAAAAAAAAX4UAAAAAAABfhQAAAAAAAF+FAAAAAAAAX4UAAAAAAABfhQAAAAAAAF+FAAAAAAAAX4UAAAAAAABfhQAAAAAAAF+FAAAAAAAAX4UAAAAAAABfhQAAAAAAAF+FAAAAAAAAX4UAAAAAAABfhQAAAAAAAF+FAAAAAAAAX4UAAAAAAABfhQA==",
          "dtype": "f8"
         }
        },
        {
         "line": {
          "color": "rgb(217,217,217)",
          "width": 2
         },
         "mode": "lines",
         "name": "Segment 9921722",
         "opacity": 0.8,
         "type": "scatter3d",
         "x": {
          "bdata": "AAAAAAAAAABpf2GNo9lCQOI5FExR+zVAqFytOZmPQb1LfO2uCLZUwNyfbqW4MIHAhWsprHGNo8C58wZHCRK4wFsymoGzHcfA4ADXzn2a08C8CZ2qNFTewPGL/BL/FOXAPrePRlCk68AT5b1X/FTxwMlYKbWY2vTALhjACM2l+MCjyAsc0Lj8wNxzh5DQigDBvS2UlWDCAsFrDKDs1SwFwYTgPG//1wfBYkntw/SjCsGPwWoT3p4NwVz7UU1vVBDBSrxOMYTtEcF55a2wtJYTwd8d3P5mVxXBwVu4xM8rF8GU1E3vZRMZwUSg/ndADhvBx1At5jcdHcEmHBYEm0UfwRF57wNGxCDBd/+KC9DyIcGa0gkBYSsjwREPdpRrbiTBv6Um1l+/JcHQH+8/GSInwVoaH9KykijBiv+KHf0KKsGmwWTqA4QrwSho7GFl/SzBydkX/gKHLsFqp+BSHg0wwd1JDGRB1zDBdlNkQa6hMcG2fSOlF24ywd2LxTArRDPBBo2aSrQdNMEQqa8kXPg0wQ==",
          "dtype": "f8"
         },
         "y": {
          "bdata": "AAAAAAAAAAAwqaxVQfXAQHpz5lf6pdlAyBojvzPU6EBPJZFYHxT0QGODR6hKx/xAYr151nBZA0FPqj0zBfYIQeI30oncLg9BUohjbFYEE0HdZHltxcIWQW4d5zUR+hpB2jn15oGmH0ErxLyvB2EiQaxeK1fU8CRBMMlOxz+zJ0FBe5AK5qkqQcW7163SzS1BIKwfV4yMMEFT7aqRvEkyQTMJz9jrITRBwTGB6sAVNkGzZS8SDyU4QW56BmPLPjpBHpqI0Ul0PEH0Ba3G9sU+QbHO6hkcmUBBbWDb0tzcQUHQbQXJ3i1DQSO43dwxjERBfnZsGBb8RUGpp4SFuX1HQbJ+NeHfDUlB14blHParSkFG1Te1xVdMQTv6AajrEU5B2eqnexzfT0FGmfEM8N9QQWfqvz9N11FBAtpAWUzWUkGUOBEry9VTQaozu3CH1VRByYooVq7dVUG/J0Qg7u5WQRYS4dvjAFhBnI3amT0TWUFkON+OSChaQTUt61vaRFtBl5qPVAVmXEEl9Sl3rYhdQQ==",
          "dtype": "f8"
         },
         "z": {
          "bdata": "AAAAAEDu3EAAAAAAwCzdQAAAAABAa91AAAAAAEC23UAAAAAAgAfeQAAAAABAM95AAAAAAABf3kAAAAAAwIreQAAAAADAvN5AAAAAAAD13kAAAAAAACffQAAAAADAa99AAAAAAMC230AAAAAAAO/fQAAAAABA9d9AAAAAACAg4EAAAAAAoEXgQAAAAABAbuBAAAAAACCd4EAAAAAAwMXgQAAAAAAg6OBAAAAAAIAK4UAAAAAAADDhQAAAAACAPOFAAAAAAOBe4UAAAAAAQIHhQAAAAACgo+FAAAAAAADG4UAAAAAAYOjhQAAAAADACuJAAAAAAOAm4kAAAAAAAEPiQAAAAABAYuJAAAAAAKCE4kAAAAAAAKfiQAAAAABAxuJAAAAAACDc4kAAAAAAIPXiQAAAAAAgDuNAAAAAAGAt40AAAAAAYC3jQAAAAABgLeNAAAAAAGBG40AAAAAAgGLjQAAAAACgZeNAAAAAAKBl40AAAAAA4GvjQAAAAADghONAAAAAAACI40AAAAAAAIjjQA==",
          "dtype": "f8"
         }
        },
        {
         "line": {
          "color": "rgb(188,128,189)",
          "width": 2
         },
         "mode": "lines",
         "name": "Segment 11336358",
         "opacity": 0.8,
         "type": "scatter3d",
         "x": {
          "bdata": "AAAAAAAAAAAfEp6yeWoswHPI9y9SoxhAP3tnUGgOnj2bgqrjnl9HwGw22mPWf0xAWkdPpEzAZ0C8F3vos+plQJFgw8qM6JdAPaI7y3nytUC1qK/S1+nIQO4gwchdPNZA/kRwaKSW4UA0/5WUFKPpQKkegBk0qvFAI1RMfmj49kAS/Lz20OX8QD1nr4mlsAFBk1eqV/0uBUHEfKa26fYIQZbG3/n9AA1Bb/NTGrSdEEGd/Tyf53cRQbqUYx95+RFB37crcT4EEkEKjGPoSrkRQb40S0NiZRFBYozqKbkMEUGQ0pXw1rMQQQJVqX0IVhBBC91KfuzwD0G0bScQsywPQWJg4dQPYA5BnbH4Sf6JDUHjYJUL6m8NQZpxkmt56g1BeUzQnz9qDkEtLGy/OdQOQQKDl4gZQg9BfoQGE/WzD0Gu8VfCKGAQQSmn3+7a6hBBf2yJBdBxEUH7LCwc9/wRQVbRT1I6lRJBmNUXgFs6E0FKKbDGb/YTQT/Th8tTwBRBltENnOChFUF9FEWzxn4WQQ==",
          "dtype": "f8"
         },
         "y": {
          "bdata": "AAAAAAAAAAC1SZKkDUW7QIFIGLL3edRARE1eMzul5EAKnRwN9tzvQIYDNbDy1/dADLfBOVj+AEHyPpGR2y8HQZRAVE/3CA5BzYxr/tOZEkH3GjJJG2AWQSRn03y/VBpBBybtJb91HkHq765AWFwhQeXOBQvFmyNB6m0KChkfJkF79EJlzOMoQYPUAwna6itB3QsjnXMoL0HVFJbkDVIxQbVUobBaLjNBnClB++ogNUFwjdGzYCk3QcpWwZeCPTlBcTJq4NddO0EZtyukzI09QYiE9eeQ4T9BDLa6BIkrQUHD4+SzjndCQTXFHrn31UNBGEIcXcFGRUFxdgKWcMlGQdSRABm0XEhBeOH5O40CSkFhabRWwbFLQcsJgGD+b01BxaD93zdBT0HWhnI6zZJQQbOosFXmjVFB7RyGBRqSUkG02GZ9cJ9TQdmFIUjXtVRBKvMaCdfUVUG4buHSwvxWQTcoEfVkLlhBx9tfrj5oWUFdQD9mX6taQbkGfiZU9ltBNwEEAwNJXUETt6nlQKNeQQ==",
          "dtype": "f8"
         },
         "z": {
          "bdata": "AAAAAAAq4kAAAAAAYEziQAAAAADAbuJAAAAAAACO4kAAAAAAIJHiQAAAAAAAjuJAAAAAAACO4kAAAAAAAI7iQAAAAAAAjuJAAAAAAACO4kAAAAAAAI7iQAAAAAAAjuJAAAAAAACO4kAAAAAAAI7iQAAAAAAAjuJAAAAAAACO4kAAAAAAAI7iQAAAAAAAjuJAAAAAAACO4kAAAAAAAI7iQAAAAAAAjuJAAAAAAACO4kAAAAAAAI7iQAAAAAAAjuJAAAAAAACO4kAAAAAAAI7iQAAAAAAAjuJAAAAAAACO4kAAAAAAAI7iQAAAAAAAjuJAAAAAAACO4kAAAAAAAI7iQAAAAAAAjuJAAAAAAACO4kAAAAAAAI7iQAAAAAAAjuJAAAAAAACO4kAAAAAAAI7iQAAAAAAAjuJAAAAAAACO4kAAAAAAAI7iQAAAAAAAjuJAAAAAAACO4kAAAAAAAI7iQAAAAAAAjuJAAAAAAACO4kAAAAAAAI7iQAAAAAAAjuJAAAAAAACO4kAAAAAAAI7iQA==",
          "dtype": "f8"
         }
        },
        {
         "line": {
          "color": "rgb(204,235,197)",
          "width": 2
         },
         "mode": "lines",
         "name": "Segment 8561240",
         "opacity": 0.8,
         "type": "scatter3d",
         "x": {
          "bdata": "AAAAAAAAAACfmN6pSmccQKe1uGtaGhFAnWzTTXtnmz3kvtcdPXREwMcjpNuWDEjAjuQ73/jqW8DmePW0L0hnwPZ1hFvNk3XAld21iuVngMBmibV+b7CGwCJq83HIe5DAgIAvrH0clsDX/xAN3mOcwK6p+fcKraLAeZUQFDiGp8Bqupq1hbaswLarFPKCO5XAU1ML3wVksEAr0Jc32kPFQM5w0a++PtRAWwwKgjhc3kDBruBkckTlQGAr5HSbyetAT5VAOMhH8UARvnIaMMn0QHYtoH7ITvhA3owuqorY+0DPjc5c+1j/QOXoljnldgFB3hcjPv5DA0FTbO2DRyAFQQHMflQlEgdBoYT8Ds4TCUHNJDirsSkLQV40Sd5USA1BZXwCGFx/D0GFZbv37+4QQRY/iOQZGxJBaiDAZuFSE0G8LsgG8I8UQUzzWT5f0xVBsFckcwMkF0GtCeiyw5wYQeKu0cx2FBpBfZlxjg6YG0EqDjETfB8dQUzlIsIlqh5Bo80cBAAbIEEnKzysn+EgQQ==",
          "dtype": "f8"
         },
         "y": {
          "bdata": "AAAAAAAAAADy1vq/d/yyQBMymFNv7MxAOcWbM4Yp3UB990+cX2zoQEJjaywoZPJARNvdee8J+kBbG4+5RIEBQXlZkct1pQZBk9/dAoJ1DEGNNR1FC3sRQZyg1dD5HRVBGxdj3HEZGUGpKfVI34odQTk4PKApLiFB4Pm4lnnJI0EQk3bEnJMmQTLEQd/MgClBnGW/hACNLEGG+w1GfqMvQXuU5OG+aTFBqQgG3JoHM0H6K0Oo28E0QQs6IwgVlDZB+bSusmd4OEEatYKquW06QX+hoN9iZTxBGEyTZV9fPkH9si04GC5AQXzKDqYsLkFB06vTRMIvQkEWdR750zlDQZZ//1BqVERBEUkoA7h8RUFtw7Iuy7VGQfUzDTfl/kdBbMojbABRSUEJYrR93q5KQctvrbXUFExBFeNfH6WITUFjkvLaOQlPQahr6sUvTFBBsRX5z+gbUUHMx1+3YQRSQfem6ISQ9FJBOFBvuFnsU0Fqj7eZluZUQSbCGOXk4lVBYx6B6vXfVkEanHk0691XQQ==",
          "dtype": "f8"
         },
         "z": {
          "bdata": "AAAAAEBW1EAAAAAAgKfUQAAAAACA8tRAAAAAAIA91UAAAAAAwI7VQAAAAAAA4NVAAAAAAEAx1kAAAAAAQHzWQAAAAABAx9ZAAAAAAEAS10AAAAAAQF3XQAAAAABAqNdAAAAAAEDz10AAAAAAwErYQAAAAADAldhAAAAAAIDa2EAAAAAAgCXZQAAAAACAV9lAAAAAAECD2UAAAAAAAJbZQAAAAADA89lAAAAAAIAG2kAAAAAAAEXaQAAAAADAidpAAAAAAEDI2kAAAAAAAA3bQAAAAABAE9tAAAAAAEAT20AAAAAAQBPbQAAAAABAE9tAAAAAAAAN20AAAAAAAPTaQAAAAAAA9NpAAAAAAED62kAAAAAAwB/bQAAAAAAAP9tAAAAAAABY20AAAAAAAFjbQAAAAAAAWNtAAAAAAABY20AAAAAAAFjbQAAAAAAAWNtAAAAAAABY20AAAAAAAFjbQAAAAAAAWNtAAAAAAABY20AAAAAAQF7bQAAAAADAattAAAAAAABx20AAAAAAQJDbQA==",
          "dtype": "f8"
         }
        },
        {
         "line": {
          "color": "rgb(255,237,111)",
          "width": 2
         },
         "mode": "lines",
         "name": "Segment 10021821",
         "opacity": 0.8,
         "type": "scatter3d",
         "x": {
          "bdata": "AAAAAAAAAAA1nFXsmGNpQC1IjgWKXHNAEl1KXpuOcz160LDH2ox/wM65fMRfCZXAZ74gid4ro8B/zPRc456uwFOAKoB1lrrAkGxud3eHyMDdxZhoFwzVwKx+RdVQgeDAM04TAIgB6MBd8ck37sfwwJXuAewSkvbA70U7sEZP/cC/y50yr1wCwfTYBl1NfQbBI7N3HsUBC8HRqAnPJPoPwYxYb8JuqxLB2HCSesx/FcE2qgrBr4gYwcFJTFBBwhvBvPAVyv8wH8EQfxTC+18hwfpY3olpKyPBhybGTYEAJcGhs3+RU9gmwULxLLjhxCjBqgsI/ffLKsE0WPYFau4sweblH+bYKy/BM/IKAs7CMMGr/mQaq/oxwTKguLqzQjPB5pvO6SeWNMGvJJW3He01wfWcu1QCVjfBh6n4BerOOMEWP0BCB1U6wWF+l70m4zvBlZfbHnF6PcFQu2xP1ho/wRQfoNU8Z0DBgxmRYu1JQcGh1wCh0TFCwcERii/lHEPBdEpa00kPRME5vDUquQlFwQ==",
          "dtype": "f8"
         },
         "y": {
          "bdata": "AAAAAAAAAACK2ymEAx+rQM5fUHl02cRAJeTQo8Dq1EDF93CJiS/kQPnnf0TqN/FAE45YUMeY+kDgbpUsASYDQblQ92dZwglBl0saiY1dEEHJFMZBDgQUQQinRVIMzxdBEvnFH17CG0GyEEIlYtsfQXtPBa5PDCJBcjTernZFJEG0SMBlGMUmQda/u/BuiSlBt4O3jbWQLEGjlWIDKeEvQTPd0QvYtzFB6+K5nt6aM0H766wdLp41QSq/Vq+wxDdBNtRKrKgOOkHZtw2f52o8QekzhVJizD5BTB+Luf6eQEGAIZ8NntlBQdDq5XFUIENBJZixDaR4REFeSl1GGeNFQZvCECB1X0dBlQ4LfoHsSEHx/oqOOYpKQUwge57VOExBTrDtlif7TUEyefNbIMJPQc+Ec2nvzVBBcDy/TQbEUUFYtKtxE8RSQZJRIN0EyFNBx8b7bpDQVEEh8O9BTuNVQRvuSkK+/1ZBGP29YTkmWEHuVYhydlNZQd4WbhwMiFpBkcjokTzGW0HV0CzqQw1dQQ==",
          "dtype": "f8"
         },
         "z": {
          "bdata": "AAAAAEC83EAAAAAAgMLcQAAAAAAAz9xAAAAAAEDV3EAAAAAAQO7cQAAAAAAAAd1AAAAAAMAT3UAAAAAAADPdQAAAAACAP91AAAAAAABM3UAAAAAAQFLdQAAAAABAUt1AAAAAAEBS3UAAAAAAAEzdQAAAAAAATN1AAAAAAABM3UAAAAAAAEzdQAAAAAAATN1AAAAAAABM3UAAAAAAAEzdQAAAAAAATN1AAAAAAIBY3UAAAAAAQITdQAAAAACAo91AAAAAAEC23UAAAAAAgLzdQAAAAADAwt1AAAAAAMD03UAAAAAAwPTdQAAAAACAB95AAAAAAAAt3kAAAAAAQEzeQAAAAACAa95AAAAAAACR3kAAAAAAwLzeQAAAAAAA3N5AAAAAAMDu3kAAAAAAAPXeQAAAAACAAd9AAAAAAEAU30AAAAAAwCDfQAAAAAAAJ99AAAAAAEBG30AAAAAAAFnfQAAAAACAZd9AAAAAAABy30AAAAAAAIvfQAAAAABAw99AAAAAAEDc30AAAAAAQPXfQA==",
          "dtype": "f8"
         }
        },
        {
         "line": {
          "color": "rgb(141,211,199)",
          "width": 2
         },
         "mode": "lines",
         "name": "Segment 8725975",
         "opacity": 0.8,
         "type": "scatter3d",
         "x": {
          "bdata": "AAAAAAAAAACQ1kzsUwJOvzxfzJoMmmS/Mon4gBlroj1sjru7aJVEQDdtmlhflURArtoB6kWVRECZ+in6N/88wGDVl4nfgmjAAqRjOZtHcsD0Md53xCR5wMZQXum3boDAViJpflfKhMATPsryB3qOwFq97ewDH5fAKJQ1N0HUnMChHjioosiiwOSIGx4d1KXAC280R6P6qMDnxjNeSjyswBIB1QPPu6/AQUphnLazscAhTd9xQZS0wOCpEgLrjLfAbJCr7kySusBzKfUSo6K9wN1RAU0hbcDAVwBlJmUPwsCF6T9ctrXDwPTuvckuZcXAAvf1qFGHxsAjRSVwdj/IwGsecI1ZocrAlwaOfVIizcBJAmA+WzTQwDAPRTJXPNHAPQT8vtxR0sCXLaJJXtTTwBBIpHl+LNbAW7g2xImW2MBFMfr9DTvawGaNE6eVfdvAVMaJPL823cDEBk3o+N3fwNAY3NWviOHA8Pq4VDIx48DtkAkuw2vkwFl8cp9N8+XAzNXVGGHM58Cs9+UaTPnpwA==",
          "dtype": "f8"
         },
         "y": {
          "bdata": "AAAAAAAAAABL1Mj7OHK1QD4uq3Oa8tBAJc7/AX5c4UAsICSuC+HsQH1POnxbJPVARQJscXHK/EA2/OK2fU0DQYziiSBlJQlB32qRHiPjD0H0tthFt8gTQYM68362GhhBnho+kif7HEG/UjgVUDMhQfb+4gsNJCRBOBGxKKdVJ0HRRau7GJgqQXAYppNeAC5B2BRzLXbDMEFQOld+55UyQdSCdtX4ijRBhPw6nbeYNkG/jxuwM744QRJyOKmt9TpBzbxjeKQ2PUGJoYYYyX8/QVZrUsod80BBnzCdJCcrQkE7vV13N2ZDQbARfQcbqERBsVUJisjsRUEaIGu8JDVHQd07nuliikhB07bCEQbxSUHQsjM7TGhLQXff8Fot8kxBjlJpz0GQTkEg96uqYiBQQf314X08AFFBR/bBIMXmUUHe6ICDDtJSQawvd1OswlNBJvJrLYO5VEFNH68E3rZVQVX4hZ/XvFZBwokpUUnMV0GigxKE5OVYQcGr5JD8CVpBA75VLXw4W0FHwo+nE3BcQQ==",
          "dtype": "f8"
         },
         "z": {
          "bdata": "AAAAAMA310AAAAAAgGPXQAAAAADAtNdAAAAAAAAG2EAAAAAAgF3YQAAAAADAldhAAAAAAEC72EAAAAAAgPPYQAAAAAAAMtlAAAAAAMB22UAAAAAAgLvZQAAAAAAA+tlAAAAAAEAy2kAAAAAAgGraQAAAAABAr9pAAAAAAMDt2kAAAAAAwAbbQAAAAACAZNtAAAAAAMCc20AAAAAAQMLbQAAAAADAANxAAAAAAMBL3EAAAAAAAJ3cQAAAAACA9NxAAAAAAIAN3UAAAAAAABrdQAAAAABAOd1AAAAAAIBY3UAAAAAAAH7dQAAAAADA291AAAAAAAD73UAAAAAAQBreQAAAAADAWN5AAAAAAACR3kAAAAAAQMneQAAAAABA+95AAAAAAAAn30AAAAAAAFnfQAAAAABAkd9AAAAAAIDJ30AAAAAAAATgQAAAAABAI+BAAAAAAIBC4EAAAAAAwGHgQAAAAADgfeBAAAAAAKCQ4EAAAAAAAJrgQAAAAAAAmuBAAAAAAACa4EAAAAAAAJrgQA==",
          "dtype": "f8"
         }
        },
        {
         "line": {
          "color": "rgb(255,255,179)",
          "width": 2
         },
         "mode": "lines",
         "name": "Segment 9360845",
         "opacity": 0.8,
         "type": "scatter3d",
         "x": {
          "bdata": "AAAAAAAAAACdEuzFtXALQNz3uO09ixzAhv4RorqJcb3RL5yrpjEoQC4xmkzZ7FJA+8+8aCOvQkBAOXY1rksgwLw1EycFWzRAnVuiEw3JSkAHPmIkFvM0wAU3+tXd6zdAoIH5/thsUkBF7iAUSQVgQEVmPKWOlGdAzbCZZD21b0DUWvItiYGUwNnQYpTumsPAaqB+xEiL2cC+EuBCU0bowOxUezEwt/PAsMwMSLKf/MCZITlofwkDwX2nAYj47gfBIc1Sh18jDcFhs7/T7FQRwUBddq2VNRTBGTYQMxE6F8HwCk3qGE4awRnknfeWlh3BCwkop+x2IMGn5sPsKykiwXzqxcnC4yPBGjx251akJcGm2P47AmknwUQkg+DcLinBOs+YrEz4KsH7Dpdrp9oswTb2nbLLzi7BJw5oCcBlMMFqt/AMCWcxwZZv2fGDbjLBKPnJHUV4M8GEc5/JfoQ0wSKNjCvTlTXBw6lwIiSvNsHekVTN5sw3wYUPQwMT9DjBc+RX9PMfOsFst6BcOE87wQ==",
          "dtype": "f8"
         },
         "y": {
          "bdata": "AAAAAAAAAACDefMB5Fq2QKCm2To2Ks1AI/B6rqw22kB5B75uo/nmQDmvOpJlHPJAjUxz3sFF+kBdTlCql/sBQXzLHqgXywdB4z+w36+QDkFwGCK68D8TQSgbMVi20hdBk9Jsl6zlHEExuc1cajkhQcjKjkVhTiRBdcR3eameJ0HT0z3WHTIrQX/hriwP2i5BQH32MhpHMUEwxwkjgiYzQWUVDh51CjVBVN++iKb8NkE8rZ7TORQ5QauzAvuGSjtB19yn/pmoPUFnlVRiNxhAQVQxh1CbaUFBd1EOCf3IQkEs2JlBcS9EQepD3Dkqq0VB535kEzMwR0Gffl+tkrhIQVnJ8ex7SEpBO+NVWBLbS0GTT0KcVHFNQRy7+5JrC09BSpXPLslVUEH+jXoyMjFRQdn2hH6yFFJBDdKF04X6UkHsf9mT/+JTQX44i/92z1RBaWJoAPm9VUFnjS2msq5WQdybjQgBpFdBmocDhzGiWEF/NQcCZqRZQadG8+pOrVpB/VcJC3G6W0Hqxp+vncpcQQ==",
          "dtype": "f8"
         },
         "z": {
          "bdata": "AAAAAIDZ1EAAAAAAwCrVQAAAAAAAY9VAAAAAAAB81UAAAAAAQLTVQAAAAAAA+dVAAAAAAEBK1kAAAAAAQJXWQAAAAADA09ZAAAAAAEAS10AAAAAAgErXQAAAAACAfNdAAAAAAAC710AAAAAAwP/XQAAAAADAMdhAAAAAAIB22EAAAAAAQKLYQAAAAAAAtdhAAAAAAMDH2EAAAAAAQNTYQAAAAAAA59hAAAAAAIAM2UAAAAAAwETZQAAAAACAidlAAAAAAIC72UAAAAAAQOfZQAAAAAAA+tlAAAAAAMA+2kAAAAAAQEvaQAAAAAAAd9pAAAAAAECW2kAAAAAAQK/aQAAAAADABttAAAAAAAAm20AAAAAAwDjbQAAAAABARdtAAAAAAIBL20AAAAAAAFjbQAAAAACAZNtAAAAAAABx20AAAAAAQJDbQAAAAABA29tAAAAAAED020AAAAAAwADcQAAAAAAAB9xAAAAAAAAH3EAAAAAAACDcQAAAAADAZNxAAAAAAMCv3EAAAAAAQNXcQA==",
          "dtype": "f8"
         }
        }
       ],
       "layout": {
        "height": 800,
        "scene": {
         "aspectmode": "cube",
         "camera": {
          "center": {
           "x": 0,
           "y": 0,
           "z": 0
          },
          "eye": {
           "x": 1.5,
           "y": 1.5,
           "z": 1.5
          },
          "up": {
           "x": 0,
           "y": 0,
           "z": 1
          }
         },
         "xaxis": {
          "backgroundcolor": "rgb(230, 230,230)",
          "range": [
           -5924867.477209293,
           5241176.170794663
          ],
          "showbackground": true,
          "title": {
           "text": "X"
          }
         },
         "yaxis": {
          "backgroundcolor": "rgb(230, 230,230)",
          "range": [
           -934656.6470875964,
           10281223.11796356
          ],
          "showbackground": true,
          "title": {
           "text": "Y"
          }
         },
         "zaxis": {
          "backgroundcolor": "rgb(230, 230,230)",
          "range": [
           -922931.6470875964,
           987056.6470875964
          ],
          "showbackground": true,
          "title": {
           "text": "Z"
          }
         }
        },
        "showlegend": true,
        "template": {
         "data": {
          "bar": [
           {
            "error_x": {
             "color": "#2a3f5f"
            },
            "error_y": {
             "color": "#2a3f5f"
            },
            "marker": {
             "line": {
              "color": "#E5ECF6",
              "width": 0.5
             },
             "pattern": {
              "fillmode": "overlay",
              "size": 10,
              "solidity": 0.2
             }
            },
            "type": "bar"
           }
          ],
          "barpolar": [
           {
            "marker": {
             "line": {
              "color": "#E5ECF6",
              "width": 0.5
             },
             "pattern": {
              "fillmode": "overlay",
              "size": 10,
              "solidity": 0.2
             }
            },
            "type": "barpolar"
           }
          ],
          "carpet": [
           {
            "aaxis": {
             "endlinecolor": "#2a3f5f",
             "gridcolor": "white",
             "linecolor": "white",
             "minorgridcolor": "white",
             "startlinecolor": "#2a3f5f"
            },
            "baxis": {
             "endlinecolor": "#2a3f5f",
             "gridcolor": "white",
             "linecolor": "white",
             "minorgridcolor": "white",
             "startlinecolor": "#2a3f5f"
            },
            "type": "carpet"
           }
          ],
          "choropleth": [
           {
            "colorbar": {
             "outlinewidth": 0,
             "ticks": ""
            },
            "type": "choropleth"
           }
          ],
          "contour": [
           {
            "colorbar": {
             "outlinewidth": 0,
             "ticks": ""
            },
            "colorscale": [
             [
              0,
              "#0d0887"
             ],
             [
              0.1111111111111111,
              "#46039f"
             ],
             [
              0.2222222222222222,
              "#7201a8"
             ],
             [
              0.3333333333333333,
              "#9c179e"
             ],
             [
              0.4444444444444444,
              "#bd3786"
             ],
             [
              0.5555555555555556,
              "#d8576b"
             ],
             [
              0.6666666666666666,
              "#ed7953"
             ],
             [
              0.7777777777777778,
              "#fb9f3a"
             ],
             [
              0.8888888888888888,
              "#fdca26"
             ],
             [
              1,
              "#f0f921"
             ]
            ],
            "type": "contour"
           }
          ],
          "contourcarpet": [
           {
            "colorbar": {
             "outlinewidth": 0,
             "ticks": ""
            },
            "type": "contourcarpet"
           }
          ],
          "heatmap": [
           {
            "colorbar": {
             "outlinewidth": 0,
             "ticks": ""
            },
            "colorscale": [
             [
              0,
              "#0d0887"
             ],
             [
              0.1111111111111111,
              "#46039f"
             ],
             [
              0.2222222222222222,
              "#7201a8"
             ],
             [
              0.3333333333333333,
              "#9c179e"
             ],
             [
              0.4444444444444444,
              "#bd3786"
             ],
             [
              0.5555555555555556,
              "#d8576b"
             ],
             [
              0.6666666666666666,
              "#ed7953"
             ],
             [
              0.7777777777777778,
              "#fb9f3a"
             ],
             [
              0.8888888888888888,
              "#fdca26"
             ],
             [
              1,
              "#f0f921"
             ]
            ],
            "type": "heatmap"
           }
          ],
          "histogram": [
           {
            "marker": {
             "pattern": {
              "fillmode": "overlay",
              "size": 10,
              "solidity": 0.2
             }
            },
            "type": "histogram"
           }
          ],
          "histogram2d": [
           {
            "colorbar": {
             "outlinewidth": 0,
             "ticks": ""
            },
            "colorscale": [
             [
              0,
              "#0d0887"
             ],
             [
              0.1111111111111111,
              "#46039f"
             ],
             [
              0.2222222222222222,
              "#7201a8"
             ],
             [
              0.3333333333333333,
              "#9c179e"
             ],
             [
              0.4444444444444444,
              "#bd3786"
             ],
             [
              0.5555555555555556,
              "#d8576b"
             ],
             [
              0.6666666666666666,
              "#ed7953"
             ],
             [
              0.7777777777777778,
              "#fb9f3a"
             ],
             [
              0.8888888888888888,
              "#fdca26"
             ],
             [
              1,
              "#f0f921"
             ]
            ],
            "type": "histogram2d"
           }
          ],
          "histogram2dcontour": [
           {
            "colorbar": {
             "outlinewidth": 0,
             "ticks": ""
            },
            "colorscale": [
             [
              0,
              "#0d0887"
             ],
             [
              0.1111111111111111,
              "#46039f"
             ],
             [
              0.2222222222222222,
              "#7201a8"
             ],
             [
              0.3333333333333333,
              "#9c179e"
             ],
             [
              0.4444444444444444,
              "#bd3786"
             ],
             [
              0.5555555555555556,
              "#d8576b"
             ],
             [
              0.6666666666666666,
              "#ed7953"
             ],
             [
              0.7777777777777778,
              "#fb9f3a"
             ],
             [
              0.8888888888888888,
              "#fdca26"
             ],
             [
              1,
              "#f0f921"
             ]
            ],
            "type": "histogram2dcontour"
           }
          ],
          "mesh3d": [
           {
            "colorbar": {
             "outlinewidth": 0,
             "ticks": ""
            },
            "type": "mesh3d"
           }
          ],
          "parcoords": [
           {
            "line": {
             "colorbar": {
              "outlinewidth": 0,
              "ticks": ""
             }
            },
            "type": "parcoords"
           }
          ],
          "pie": [
           {
            "automargin": true,
            "type": "pie"
           }
          ],
          "scatter": [
           {
            "fillpattern": {
             "fillmode": "overlay",
             "size": 10,
             "solidity": 0.2
            },
            "type": "scatter"
           }
          ],
          "scatter3d": [
           {
            "line": {
             "colorbar": {
              "outlinewidth": 0,
              "ticks": ""
             }
            },
            "marker": {
             "colorbar": {
              "outlinewidth": 0,
              "ticks": ""
             }
            },
            "type": "scatter3d"
           }
          ],
          "scattercarpet": [
           {
            "marker": {
             "colorbar": {
              "outlinewidth": 0,
              "ticks": ""
             }
            },
            "type": "scattercarpet"
           }
          ],
          "scattergeo": [
           {
            "marker": {
             "colorbar": {
              "outlinewidth": 0,
              "ticks": ""
             }
            },
            "type": "scattergeo"
           }
          ],
          "scattergl": [
           {
            "marker": {
             "colorbar": {
              "outlinewidth": 0,
              "ticks": ""
             }
            },
            "type": "scattergl"
           }
          ],
          "scattermap": [
           {
            "marker": {
             "colorbar": {
              "outlinewidth": 0,
              "ticks": ""
             }
            },
            "type": "scattermap"
           }
          ],
          "scattermapbox": [
           {
            "marker": {
             "colorbar": {
              "outlinewidth": 0,
              "ticks": ""
             }
            },
            "type": "scattermapbox"
           }
          ],
          "scatterpolar": [
           {
            "marker": {
             "colorbar": {
              "outlinewidth": 0,
              "ticks": ""
             }
            },
            "type": "scatterpolar"
           }
          ],
          "scatterpolargl": [
           {
            "marker": {
             "colorbar": {
              "outlinewidth": 0,
              "ticks": ""
             }
            },
            "type": "scatterpolargl"
           }
          ],
          "scatterternary": [
           {
            "marker": {
             "colorbar": {
              "outlinewidth": 0,
              "ticks": ""
             }
            },
            "type": "scatterternary"
           }
          ],
          "surface": [
           {
            "colorbar": {
             "outlinewidth": 0,
             "ticks": ""
            },
            "colorscale": [
             [
              0,
              "#0d0887"
             ],
             [
              0.1111111111111111,
              "#46039f"
             ],
             [
              0.2222222222222222,
              "#7201a8"
             ],
             [
              0.3333333333333333,
              "#9c179e"
             ],
             [
              0.4444444444444444,
              "#bd3786"
             ],
             [
              0.5555555555555556,
              "#d8576b"
             ],
             [
              0.6666666666666666,
              "#ed7953"
             ],
             [
              0.7777777777777778,
              "#fb9f3a"
             ],
             [
              0.8888888888888888,
              "#fdca26"
             ],
             [
              1,
              "#f0f921"
             ]
            ],
            "type": "surface"
           }
          ],
          "table": [
           {
            "cells": {
             "fill": {
              "color": "#EBF0F8"
             },
             "line": {
              "color": "white"
             }
            },
            "header": {
             "fill": {
              "color": "#C8D4E3"
             },
             "line": {
              "color": "white"
             }
            },
            "type": "table"
           }
          ]
         },
         "layout": {
          "annotationdefaults": {
           "arrowcolor": "#2a3f5f",
           "arrowhead": 0,
           "arrowwidth": 1
          },
          "autotypenumbers": "strict",
          "coloraxis": {
           "colorbar": {
            "outlinewidth": 0,
            "ticks": ""
           }
          },
          "colorscale": {
           "diverging": [
            [
             0,
             "#8e0152"
            ],
            [
             0.1,
             "#c51b7d"
            ],
            [
             0.2,
             "#de77ae"
            ],
            [
             0.3,
             "#f1b6da"
            ],
            [
             0.4,
             "#fde0ef"
            ],
            [
             0.5,
             "#f7f7f7"
            ],
            [
             0.6,
             "#e6f5d0"
            ],
            [
             0.7,
             "#b8e186"
            ],
            [
             0.8,
             "#7fbc41"
            ],
            [
             0.9,
             "#4d9221"
            ],
            [
             1,
             "#276419"
            ]
           ],
           "sequential": [
            [
             0,
             "#0d0887"
            ],
            [
             0.1111111111111111,
             "#46039f"
            ],
            [
             0.2222222222222222,
             "#7201a8"
            ],
            [
             0.3333333333333333,
             "#9c179e"
            ],
            [
             0.4444444444444444,
             "#bd3786"
            ],
            [
             0.5555555555555556,
             "#d8576b"
            ],
            [
             0.6666666666666666,
             "#ed7953"
            ],
            [
             0.7777777777777778,
             "#fb9f3a"
            ],
            [
             0.8888888888888888,
             "#fdca26"
            ],
            [
             1,
             "#f0f921"
            ]
           ],
           "sequentialminus": [
            [
             0,
             "#0d0887"
            ],
            [
             0.1111111111111111,
             "#46039f"
            ],
            [
             0.2222222222222222,
             "#7201a8"
            ],
            [
             0.3333333333333333,
             "#9c179e"
            ],
            [
             0.4444444444444444,
             "#bd3786"
            ],
            [
             0.5555555555555556,
             "#d8576b"
            ],
            [
             0.6666666666666666,
             "#ed7953"
            ],
            [
             0.7777777777777778,
             "#fb9f3a"
            ],
            [
             0.8888888888888888,
             "#fdca26"
            ],
            [
             1,
             "#f0f921"
            ]
           ]
          },
          "colorway": [
           "#636efa",
           "#EF553B",
           "#00cc96",
           "#ab63fa",
           "#FFA15A",
           "#19d3f3",
           "#FF6692",
           "#B6E880",
           "#FF97FF",
           "#FECB52"
          ],
          "font": {
           "color": "#2a3f5f"
          },
          "geo": {
           "bgcolor": "white",
           "lakecolor": "white",
           "landcolor": "#E5ECF6",
           "showlakes": true,
           "showland": true,
           "subunitcolor": "white"
          },
          "hoverlabel": {
           "align": "left"
          },
          "hovermode": "closest",
          "mapbox": {
           "style": "light"
          },
          "paper_bgcolor": "white",
          "plot_bgcolor": "#E5ECF6",
          "polar": {
           "angularaxis": {
            "gridcolor": "white",
            "linecolor": "white",
            "ticks": ""
           },
           "bgcolor": "#E5ECF6",
           "radialaxis": {
            "gridcolor": "white",
            "linecolor": "white",
            "ticks": ""
           }
          },
          "scene": {
           "xaxis": {
            "backgroundcolor": "#E5ECF6",
            "gridcolor": "white",
            "gridwidth": 2,
            "linecolor": "white",
            "showbackground": true,
            "ticks": "",
            "zerolinecolor": "white"
           },
           "yaxis": {
            "backgroundcolor": "#E5ECF6",
            "gridcolor": "white",
            "gridwidth": 2,
            "linecolor": "white",
            "showbackground": true,
            "ticks": "",
            "zerolinecolor": "white"
           },
           "zaxis": {
            "backgroundcolor": "#E5ECF6",
            "gridcolor": "white",
            "gridwidth": 2,
            "linecolor": "white",
            "showbackground": true,
            "ticks": "",
            "zerolinecolor": "white"
           }
          },
          "shapedefaults": {
           "line": {
            "color": "#2a3f5f"
           }
          },
          "ternary": {
           "aaxis": {
            "gridcolor": "white",
            "linecolor": "white",
            "ticks": ""
           },
           "baxis": {
            "gridcolor": "white",
            "linecolor": "white",
            "ticks": ""
           },
           "bgcolor": "#E5ECF6",
           "caxis": {
            "gridcolor": "white",
            "linecolor": "white",
            "ticks": ""
           }
          },
          "title": {
           "x": 0.05
          },
          "xaxis": {
           "automargin": true,
           "gridcolor": "white",
           "linecolor": "white",
           "ticks": "",
           "title": {
            "standoff": 15
           },
           "zerolinecolor": "white",
           "zerolinewidth": 2
          },
          "yaxis": {
           "automargin": true,
           "gridcolor": "white",
           "linecolor": "white",
           "ticks": "",
           "title": {
            "standoff": 15
           },
           "zerolinecolor": "white",
           "zerolinewidth": 2
          }
         }
        },
        "title": {
         "text": "Flight Paths - Cluster 1 (Random 50 Segments)"
        },
        "width": 1000
       }
      }
     },
     "metadata": {},
     "output_type": "display_data"
    },
    {
     "name": "stdout",
     "output_type": "stream",
     "text": [
      "Total number of segments in cluster 1: 135\n",
      "Number of segments plotted: 50\n"
     ]
    }
   ],
   "source": [
    "import pandas as pd\n",
    "import plotly.graph_objects as go\n",
    "import numpy as np\n",
    "import random\n",
    "import plotly.express as px  # for the color sequence\n",
    "\n",
    "# Filter for cluster 1\n",
    "cluster_data = trajectories[trajectories['cluster'] == 1]\n",
    "\n",
    "# Convert decimal columns to float if needed\n",
    "numeric_columns = ['x', 'y', 'z']\n",
    "for col in numeric_columns:\n",
    "    if cluster_data[col].dtype == 'object':\n",
    "        cluster_data[col] = cluster_data[col].astype(float)\n",
    "\n",
    "# Get unique segment IDs for cluster 1\n",
    "unique_segments = cluster_data['segment_id'].unique()\n",
    "\n",
    "# Get random sample of up to 50 segment IDs\n",
    "n_segments = min(50, len(unique_segments))\n",
    "selected_segments = np.random.choice(unique_segments, size=n_segments, replace=False)\n",
    "\n",
    "# Calculate overall ranges for consistent scaling\n",
    "x_min, x_max = cluster_data['x'].min(), cluster_data['x'].max()\n",
    "y_min, y_max = cluster_data['y'].min(), cluster_data['y'].max()\n",
    "z_min, z_max = cluster_data['z'].min(), cluster_data['z'].max()\n",
    "max_range = max(x_max - x_min, y_max - y_min, z_max - z_min)\n",
    "\n",
    "# Create a color sequence\n",
    "colors = px.colors.qualitative.Set3  # Using Set3 palette which has good visibility for multiple traces\n",
    "# If we need more colors than available in the palette, we'll cycle through them\n",
    "colors = colors * (n_segments // len(colors) + 1)\n",
    "\n",
    "# Create the 3D scatter plot\n",
    "fig = go.Figure()\n",
    "\n",
    "# Add each trajectory as a separate trace\n",
    "for idx, segment_id in enumerate(selected_segments):\n",
    "    segment_data = cluster_data[cluster_data['segment_id'] == segment_id]\n",
    "    \n",
    "    fig.add_trace(go.Scatter3d(\n",
    "        x=segment_data['x'],\n",
    "        y=segment_data['y'],\n",
    "        z=segment_data['z'],\n",
    "        mode='lines',\n",
    "        line=dict(\n",
    "            width=2,\n",
    "            color=colors[idx]\n",
    "        ),\n",
    "        opacity=0.8,  # Increased opacity a bit since we have different colors\n",
    "        name=f'Segment {segment_id}'\n",
    "    ))\n",
    "\n",
    "# Update layout for better visualization\n",
    "fig.update_layout(\n",
    "    title=f'Flight Paths - Cluster 1 (Random {n_segments} Segments)',\n",
    "    scene=dict(\n",
    "        camera=dict(\n",
    "            up=dict(x=0, y=0, z=1),\n",
    "            center=dict(x=0, y=0, z=0),\n",
    "            eye=dict(x=1.5, y=1.5, z=1.5)\n",
    "        ),\n",
    "        aspectmode='cube',\n",
    "        xaxis=dict(\n",
    "            title='X',\n",
    "            showbackground=True,\n",
    "            backgroundcolor='rgb(230, 230,230)',\n",
    "            range=[float(x_min - max_range*0.1), float(x_max + max_range*0.1)]\n",
    "        ),\n",
    "        yaxis=dict(\n",
    "            title='Y',\n",
    "            showbackground=True,\n",
    "            backgroundcolor='rgb(230, 230,230)',\n",
    "            range=[float(y_min - max_range*0.1), float(y_max + max_range*0.1)]\n",
    "        ),\n",
    "        zaxis=dict(\n",
    "            title='Z',\n",
    "            showbackground=True,\n",
    "            backgroundcolor='rgb(230, 230,230)',\n",
    "            range=[float(z_min - max_range*0.1), float(z_max + max_range*0.1)]\n",
    "        )\n",
    "    ),\n",
    "    width=1000,\n",
    "    height=800,\n",
    "    showlegend=True\n",
    ")\n",
    "\n",
    "# Display interactive plot\n",
    "fig.show()\n",
    "\n",
    "# Save static version\n",
    "pio.write_image(fig, \"cluster1_paths_colored.png\")\n",
    "\n",
    "print(f\"Total number of segments in cluster 1: {len(unique_segments)}\")\n",
    "print(f\"Number of segments plotted: {n_segments}\")"
   ]
  },
  {
   "cell_type": "code",
   "execution_count": null,
   "metadata": {},
   "outputs": [],
   "source": []
  }
 ],
 "metadata": {
  "kernelspec": {
   "display_name": "venv",
   "language": "python",
   "name": "python3"
  },
  "language_info": {
   "codemirror_mode": {
    "name": "ipython",
    "version": 3
   },
   "file_extension": ".py",
   "mimetype": "text/x-python",
   "name": "python",
   "nbconvert_exporter": "python",
   "pygments_lexer": "ipython3",
   "version": "3.11.9"
  }
 },
 "nbformat": 4,
 "nbformat_minor": 2
}
