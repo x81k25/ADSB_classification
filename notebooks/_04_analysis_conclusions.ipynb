{
 "cells": [
  {
   "cell_type": "code",
   "execution_count": 2,
   "metadata": {},
   "outputs": [],
   "source": [
    "from IPython.display import Image\n",
    "import pandas as pd"
   ]
  },
  {
   "cell_type": "code",
   "execution_count": 3,
   "metadata": {},
   "outputs": [
    {
     "data": {
      "text/html": [
       "<div>\n",
       "<style scoped>\n",
       "    .dataframe tbody tr th:only-of-type {\n",
       "        vertical-align: middle;\n",
       "    }\n",
       "\n",
       "    .dataframe tbody tr th {\n",
       "        vertical-align: top;\n",
       "    }\n",
       "\n",
       "    .dataframe thead th {\n",
       "        text-align: right;\n",
       "    }\n",
       "</style>\n",
       "<table border=\"1\" class=\"dataframe\">\n",
       "  <thead>\n",
       "    <tr style=\"text-align: right;\">\n",
       "      <th></th>\n",
       "      <th>segment_id</th>\n",
       "      <th>cluster</th>\n",
       "      <th>is_most_typical</th>\n",
       "      <th>is_most_extreme</th>\n",
       "      <th>icao</th>\n",
       "      <th>start_timestamp</th>\n",
       "      <th>point_idx</th>\n",
       "      <th>x</th>\n",
       "      <th>y</th>\n",
       "      <th>z</th>\n",
       "      <th>heading_deg</th>\n",
       "      <th>ground_speed</th>\n",
       "      <th>time_sec</th>\n",
       "      <th>original_x</th>\n",
       "      <th>original_y</th>\n",
       "    </tr>\n",
       "  </thead>\n",
       "  <tbody>\n",
       "    <tr>\n",
       "      <th>0</th>\n",
       "      <td>11523328</td>\n",
       "      <td>-1</td>\n",
       "      <td>False</td>\n",
       "      <td>False</td>\n",
       "      <td>ab3d9a</td>\n",
       "      <td>2024-08-01 21:23:58.860000+00:00</td>\n",
       "      <td>0</td>\n",
       "      <td>0.000000e+00</td>\n",
       "      <td>0.000000e+00</td>\n",
       "      <td>19200.0</td>\n",
       "      <td>316.40</td>\n",
       "      <td>394.70</td>\n",
       "      <td>0.00</td>\n",
       "      <td>0.00</td>\n",
       "      <td>0.00</td>\n",
       "    </tr>\n",
       "    <tr>\n",
       "      <th>1</th>\n",
       "      <td>11523328</td>\n",
       "      <td>-1</td>\n",
       "      <td>False</td>\n",
       "      <td>False</td>\n",
       "      <td>ab3d9a</td>\n",
       "      <td>2024-08-01 21:23:58.860000+00:00</td>\n",
       "      <td>1</td>\n",
       "      <td>3.720587e+01</td>\n",
       "      <td>5.492236e+03</td>\n",
       "      <td>19525.0</td>\n",
       "      <td>316.80</td>\n",
       "      <td>394.00</td>\n",
       "      <td>13.94</td>\n",
       "      <td>-3759.78</td>\n",
       "      <td>4003.76</td>\n",
       "    </tr>\n",
       "    <tr>\n",
       "      <th>2</th>\n",
       "      <td>11523328</td>\n",
       "      <td>-1</td>\n",
       "      <td>False</td>\n",
       "      <td>False</td>\n",
       "      <td>ab3d9a</td>\n",
       "      <td>2024-08-01 21:23:58.860000+00:00</td>\n",
       "      <td>2</td>\n",
       "      <td>3.472619e+01</td>\n",
       "      <td>1.745698e+04</td>\n",
       "      <td>19775.0</td>\n",
       "      <td>316.40</td>\n",
       "      <td>397.50</td>\n",
       "      <td>30.10</td>\n",
       "      <td>-12010.90</td>\n",
       "      <td>12668.29</td>\n",
       "    </tr>\n",
       "    <tr>\n",
       "      <th>3</th>\n",
       "      <td>11523328</td>\n",
       "      <td>-1</td>\n",
       "      <td>False</td>\n",
       "      <td>False</td>\n",
       "      <td>ab3d9a</td>\n",
       "      <td>2024-08-01 21:23:58.860000+00:00</td>\n",
       "      <td>3</td>\n",
       "      <td>7.503692e-13</td>\n",
       "      <td>3.524056e+04</td>\n",
       "      <td>20050.0</td>\n",
       "      <td>316.30</td>\n",
       "      <td>398.20</td>\n",
       "      <td>44.66</td>\n",
       "      <td>-24297.29</td>\n",
       "      <td>25525.26</td>\n",
       "    </tr>\n",
       "    <tr>\n",
       "      <th>4</th>\n",
       "      <td>11523328</td>\n",
       "      <td>-1</td>\n",
       "      <td>False</td>\n",
       "      <td>False</td>\n",
       "      <td>ab3d9a</td>\n",
       "      <td>2024-08-01 21:23:58.860000+00:00</td>\n",
       "      <td>4</td>\n",
       "      <td>-3.142208e+02</td>\n",
       "      <td>6.052945e+04</td>\n",
       "      <td>20275.0</td>\n",
       "      <td>315.70</td>\n",
       "      <td>402.40</td>\n",
       "      <td>62.85</td>\n",
       "      <td>-41960.80</td>\n",
       "      <td>43625.73</td>\n",
       "    </tr>\n",
       "    <tr>\n",
       "      <th>...</th>\n",
       "      <td>...</td>\n",
       "      <td>...</td>\n",
       "      <td>...</td>\n",
       "      <td>...</td>\n",
       "      <td>...</td>\n",
       "      <td>...</td>\n",
       "      <td>...</td>\n",
       "      <td>...</td>\n",
       "      <td>...</td>\n",
       "      <td>...</td>\n",
       "      <td>...</td>\n",
       "      <td>...</td>\n",
       "      <td>...</td>\n",
       "      <td>...</td>\n",
       "      <td>...</td>\n",
       "    </tr>\n",
       "    <tr>\n",
       "      <th>1159395</th>\n",
       "      <td>12013506</td>\n",
       "      <td>2</td>\n",
       "      <td>False</td>\n",
       "      <td>False</td>\n",
       "      <td>c03197</td>\n",
       "      <td>2024-08-01 00:15:56.530000+00:00</td>\n",
       "      <td>45</td>\n",
       "      <td>1.296399e+06</td>\n",
       "      <td>1.204487e+06</td>\n",
       "      <td>13875.0</td>\n",
       "      <td>278.80</td>\n",
       "      <td>242.80</td>\n",
       "      <td>309.21</td>\n",
       "      <td>-1208354.96</td>\n",
       "      <td>-1292794.19</td>\n",
       "    </tr>\n",
       "    <tr>\n",
       "      <th>1159396</th>\n",
       "      <td>12013506</td>\n",
       "      <td>2</td>\n",
       "      <td>False</td>\n",
       "      <td>False</td>\n",
       "      <td>c03197</td>\n",
       "      <td>2024-08-01 00:15:56.530000+00:00</td>\n",
       "      <td>46</td>\n",
       "      <td>1.370067e+06</td>\n",
       "      <td>1.183170e+06</td>\n",
       "      <td>13750.0</td>\n",
       "      <td>282.10</td>\n",
       "      <td>243.40</td>\n",
       "      <td>315.08</td>\n",
       "      <td>-1283341.61</td>\n",
       "      <td>-1276718.44</td>\n",
       "    </tr>\n",
       "    <tr>\n",
       "      <th>1159397</th>\n",
       "      <td>12013506</td>\n",
       "      <td>2</td>\n",
       "      <td>False</td>\n",
       "      <td>False</td>\n",
       "      <td>c03197</td>\n",
       "      <td>2024-08-01 00:15:56.530000+00:00</td>\n",
       "      <td>47</td>\n",
       "      <td>1.445585e+06</td>\n",
       "      <td>1.163164e+06</td>\n",
       "      <td>13675.0</td>\n",
       "      <td>280.80</td>\n",
       "      <td>245.40</td>\n",
       "      <td>318.35</td>\n",
       "      <td>-1360080.93</td>\n",
       "      <td>-1262079.64</td>\n",
       "    </tr>\n",
       "    <tr>\n",
       "      <th>1159398</th>\n",
       "      <td>12013506</td>\n",
       "      <td>2</td>\n",
       "      <td>False</td>\n",
       "      <td>False</td>\n",
       "      <td>c03197</td>\n",
       "      <td>2024-08-01 00:15:56.530000+00:00</td>\n",
       "      <td>48</td>\n",
       "      <td>1.523643e+06</td>\n",
       "      <td>1.146660e+06</td>\n",
       "      <td>13475.0</td>\n",
       "      <td>277.90</td>\n",
       "      <td>246.40</td>\n",
       "      <td>323.80</td>\n",
       "      <td>-1439108.05</td>\n",
       "      <td>-1251113.72</td>\n",
       "    </tr>\n",
       "    <tr>\n",
       "      <th>1159399</th>\n",
       "      <td>12013506</td>\n",
       "      <td>2</td>\n",
       "      <td>False</td>\n",
       "      <td>False</td>\n",
       "      <td>c03197</td>\n",
       "      <td>2024-08-01 00:15:56.530000+00:00</td>\n",
       "      <td>49</td>\n",
       "      <td>1.604666e+06</td>\n",
       "      <td>1.134351e+06</td>\n",
       "      <td>13300.0</td>\n",
       "      <td>274.60</td>\n",
       "      <td>248.80</td>\n",
       "      <td>329.39</td>\n",
       "      <td>-1520796.31</td>\n",
       "      <td>-1244541.24</td>\n",
       "    </tr>\n",
       "  </tbody>\n",
       "</table>\n",
       "<p>1159400 rows × 15 columns</p>\n",
       "</div>"
      ],
      "text/plain": [
       "         segment_id  cluster  is_most_typical  is_most_extreme     icao  \\\n",
       "0          11523328       -1            False            False  ab3d9a    \n",
       "1          11523328       -1            False            False  ab3d9a    \n",
       "2          11523328       -1            False            False  ab3d9a    \n",
       "3          11523328       -1            False            False  ab3d9a    \n",
       "4          11523328       -1            False            False  ab3d9a    \n",
       "...             ...      ...              ...              ...      ...   \n",
       "1159395    12013506        2            False            False  c03197    \n",
       "1159396    12013506        2            False            False  c03197    \n",
       "1159397    12013506        2            False            False  c03197    \n",
       "1159398    12013506        2            False            False  c03197    \n",
       "1159399    12013506        2            False            False  c03197    \n",
       "\n",
       "                         start_timestamp  point_idx             x  \\\n",
       "0       2024-08-01 21:23:58.860000+00:00          0  0.000000e+00   \n",
       "1       2024-08-01 21:23:58.860000+00:00          1  3.720587e+01   \n",
       "2       2024-08-01 21:23:58.860000+00:00          2  3.472619e+01   \n",
       "3       2024-08-01 21:23:58.860000+00:00          3  7.503692e-13   \n",
       "4       2024-08-01 21:23:58.860000+00:00          4 -3.142208e+02   \n",
       "...                                  ...        ...           ...   \n",
       "1159395 2024-08-01 00:15:56.530000+00:00         45  1.296399e+06   \n",
       "1159396 2024-08-01 00:15:56.530000+00:00         46  1.370067e+06   \n",
       "1159397 2024-08-01 00:15:56.530000+00:00         47  1.445585e+06   \n",
       "1159398 2024-08-01 00:15:56.530000+00:00         48  1.523643e+06   \n",
       "1159399 2024-08-01 00:15:56.530000+00:00         49  1.604666e+06   \n",
       "\n",
       "                    y        z heading_deg ground_speed time_sec  original_x  \\\n",
       "0        0.000000e+00  19200.0      316.40       394.70     0.00        0.00   \n",
       "1        5.492236e+03  19525.0      316.80       394.00    13.94    -3759.78   \n",
       "2        1.745698e+04  19775.0      316.40       397.50    30.10   -12010.90   \n",
       "3        3.524056e+04  20050.0      316.30       398.20    44.66   -24297.29   \n",
       "4        6.052945e+04  20275.0      315.70       402.40    62.85   -41960.80   \n",
       "...               ...      ...         ...          ...      ...         ...   \n",
       "1159395  1.204487e+06  13875.0      278.80       242.80   309.21 -1208354.96   \n",
       "1159396  1.183170e+06  13750.0      282.10       243.40   315.08 -1283341.61   \n",
       "1159397  1.163164e+06  13675.0      280.80       245.40   318.35 -1360080.93   \n",
       "1159398  1.146660e+06  13475.0      277.90       246.40   323.80 -1439108.05   \n",
       "1159399  1.134351e+06  13300.0      274.60       248.80   329.39 -1520796.31   \n",
       "\n",
       "         original_y  \n",
       "0              0.00  \n",
       "1           4003.76  \n",
       "2          12668.29  \n",
       "3          25525.26  \n",
       "4          43625.73  \n",
       "...             ...  \n",
       "1159395 -1292794.19  \n",
       "1159396 -1276718.44  \n",
       "1159397 -1262079.64  \n",
       "1159398 -1251113.72  \n",
       "1159399 -1244541.24  \n",
       "\n",
       "[1159400 rows x 15 columns]"
      ]
     },
     "metadata": {},
     "output_type": "display_data"
    }
   ],
   "source": [
    "# read in trajectories data from parquet from data/_11_analysis_&_conclusions/trajectories.parquet\n",
    "trajectories = pd.read_parquet('../data/_11_analysis_&_conclusions/trajectories.parquet')\n",
    "\n",
    "display(trajectories)"
   ]
  },
  {
   "cell_type": "code",
   "execution_count": 4,
   "metadata": {},
   "outputs": [
    {
     "data": {
      "application/vnd.plotly.v1+json": {
       "config": {
        "plotlyServerURL": "https://plot.ly"
       },
       "data": [
        {
         "line": {
          "color": "blue",
          "width": 2
         },
         "marker": {
          "color": "blue",
          "opacity": 0.8,
          "size": 2
         },
         "mode": "lines+markers",
         "type": "scatter3d",
         "x": {
          "bdata": "AAAAAAAAAABp4drzWZpCQFuP0O/zXEFA0MODlrlmaj2ak9FHiKNzwCjq059bDnTABdfmKS+LgsBskGtimPOQwEaSGCNa95/AvOBtcU2JosByb6GkavymwFmfpZsMGKfAb/dXVo44rcDOYpGchSezwLNVfQUpRrnA+2wSmFM/vcDirdX+PAjAwKvY9eIUr8LADqMovU3bxcCqRKALSknLwDrX5Il0Rc/A+9LlXlaqx8BwhMgXgSeowKozK9ot4sRAFah/HK9l3ECOY5MNhoLoQAYzV9B8s/FAR4L/tE1l90BbDcDfRH39QMjhx28uKwJByJax9ZXwBUET04YLFpgJQW0DGE6WZg1B0jQoMg6aEEGv11idDKISQXSsdQqnkhRB7hyt2WCWFUF4h75JZocVQW6/knuqchRBY5LtrdpPEkGUhVatP7UNQRg8sf9EkwRBYNHnDd4W8kBMlXCxHtniwNd85vyEZAPBc0tj0gVhEcHvjwn2Ym0ZwcuKievr2CDBk7sCmGYjJcGXISQCN5kpwQ==",
          "dtype": "f8"
         },
         "y": {
          "bdata": "AAAAAAAAAAD6MeZlPHS1QNO+NZk+DNFATx2q+hE14UC2xpRmLo7tQHr0+sX8pPZAODKBfSXm/0DN6FS5RZEFQcm0U2B0NQxBF9etHdvEEUG9Gv3e8agVQRNeg5S0uhlBb/H7/R42HkFaUwXIXZwhQZCPeclTUSRBQCJvoGk5J0H8+/r5IkkqQafQIFHMni1BxxL3By+PMEE8cpE5YGkyQZXuWicdXjRBtSZ2SENiNkHLmtcks3Y4QQMQ1xoFnTpBs4TXNn/WPEE2Umt6jzk/QTtAxDVW20BBMqvDN08xQkE7evKAPp9DQaFRghOkJUVBURlWm9W+RkFRVKlvU2pIQSmziaijJ0pBLsbIzIv2S0EOiLfZCthNQYIbGtVBy09BNf4IC3bhUEFQx21Bn95RQViLtd6N21JBzFbr6+3XU0HjzvKHP9FUQYAlIJa2x1VBiAKA5SC5VkHK6LzuAqVXQSBsqfkBmlhBHyg6qyaYWUE3O1oGt51aQaU6g5XIrFtBNxORKbDDXEGv92FND+NdQQ==",
          "dtype": "f8"
         },
         "z": {
          "bdata": "AAAAAADA0kAAAAAAQBHTQAAAAADAT9NAAAAAAICU00AAAAAAwMzTQAAAAABAC9RAAAAAAEBW1EAAAAAAgI7UQAAAAACAwNRAAAAAAIAL1UAAAAAAgG/VQAAAAACA09VAAAAAAEAY1kAAAAAAgFDWQAAAAABAldZAAAAAAADa1kAAAAAAQCvXQAAAAACAY9dAAAAAAICu10AAAAAAQPPXQAAAAAAAONhAAAAAAEBX2EAAAAAAgHbYQAAAAADArthAAAAAAMD52EAAAAAAQB/ZQAAAAAAAZNlAAAAAAABk2UAAAAAAAGTZQAAAAAAAZNlAAAAAAABk2UAAAAAAAGTZQAAAAAAAZNlAAAAAAABk2UAAAAAAAGTZQAAAAAAAZNlAAAAAAABk2UAAAAAAAGTZQAAAAAAAZNlAAAAAAABk2UAAAAAAAGTZQAAAAAAAZNlAAAAAAABk2UAAAAAAAGTZQAAAAAAAZNlAAAAAAABk2UAAAAAAwF3ZQAAAAAAAZNlAAAAAAABk2UAAAAAAAGTZQA==",
          "dtype": "f8"
         }
        }
       ],
       "layout": {
        "height": 800,
        "scene": {
         "aspectmode": "cube",
         "camera": {
          "center": {
           "x": 0,
           "y": 0,
           "z": 0
          },
          "eye": {
           "x": 1.5,
           "y": 1.5,
           "z": 1.5
          },
          "up": {
           "x": 0,
           "y": 0,
           "z": 1
          }
         },
         "xaxis": {
          "backgroundcolor": "rgb(230, 230,230)",
          "showbackground": true,
          "title": {
           "text": "X"
          }
         },
         "yaxis": {
          "backgroundcolor": "rgb(230, 230,230)",
          "showbackground": true,
          "title": {
           "text": "Y"
          }
         },
         "zaxis": {
          "backgroundcolor": "rgb(230, 230,230)",
          "showbackground": true,
          "title": {
           "text": "Z"
          }
         }
        },
        "template": {
         "data": {
          "bar": [
           {
            "error_x": {
             "color": "#2a3f5f"
            },
            "error_y": {
             "color": "#2a3f5f"
            },
            "marker": {
             "line": {
              "color": "#E5ECF6",
              "width": 0.5
             },
             "pattern": {
              "fillmode": "overlay",
              "size": 10,
              "solidity": 0.2
             }
            },
            "type": "bar"
           }
          ],
          "barpolar": [
           {
            "marker": {
             "line": {
              "color": "#E5ECF6",
              "width": 0.5
             },
             "pattern": {
              "fillmode": "overlay",
              "size": 10,
              "solidity": 0.2
             }
            },
            "type": "barpolar"
           }
          ],
          "carpet": [
           {
            "aaxis": {
             "endlinecolor": "#2a3f5f",
             "gridcolor": "white",
             "linecolor": "white",
             "minorgridcolor": "white",
             "startlinecolor": "#2a3f5f"
            },
            "baxis": {
             "endlinecolor": "#2a3f5f",
             "gridcolor": "white",
             "linecolor": "white",
             "minorgridcolor": "white",
             "startlinecolor": "#2a3f5f"
            },
            "type": "carpet"
           }
          ],
          "choropleth": [
           {
            "colorbar": {
             "outlinewidth": 0,
             "ticks": ""
            },
            "type": "choropleth"
           }
          ],
          "contour": [
           {
            "colorbar": {
             "outlinewidth": 0,
             "ticks": ""
            },
            "colorscale": [
             [
              0,
              "#0d0887"
             ],
             [
              0.1111111111111111,
              "#46039f"
             ],
             [
              0.2222222222222222,
              "#7201a8"
             ],
             [
              0.3333333333333333,
              "#9c179e"
             ],
             [
              0.4444444444444444,
              "#bd3786"
             ],
             [
              0.5555555555555556,
              "#d8576b"
             ],
             [
              0.6666666666666666,
              "#ed7953"
             ],
             [
              0.7777777777777778,
              "#fb9f3a"
             ],
             [
              0.8888888888888888,
              "#fdca26"
             ],
             [
              1,
              "#f0f921"
             ]
            ],
            "type": "contour"
           }
          ],
          "contourcarpet": [
           {
            "colorbar": {
             "outlinewidth": 0,
             "ticks": ""
            },
            "type": "contourcarpet"
           }
          ],
          "heatmap": [
           {
            "colorbar": {
             "outlinewidth": 0,
             "ticks": ""
            },
            "colorscale": [
             [
              0,
              "#0d0887"
             ],
             [
              0.1111111111111111,
              "#46039f"
             ],
             [
              0.2222222222222222,
              "#7201a8"
             ],
             [
              0.3333333333333333,
              "#9c179e"
             ],
             [
              0.4444444444444444,
              "#bd3786"
             ],
             [
              0.5555555555555556,
              "#d8576b"
             ],
             [
              0.6666666666666666,
              "#ed7953"
             ],
             [
              0.7777777777777778,
              "#fb9f3a"
             ],
             [
              0.8888888888888888,
              "#fdca26"
             ],
             [
              1,
              "#f0f921"
             ]
            ],
            "type": "heatmap"
           }
          ],
          "histogram": [
           {
            "marker": {
             "pattern": {
              "fillmode": "overlay",
              "size": 10,
              "solidity": 0.2
             }
            },
            "type": "histogram"
           }
          ],
          "histogram2d": [
           {
            "colorbar": {
             "outlinewidth": 0,
             "ticks": ""
            },
            "colorscale": [
             [
              0,
              "#0d0887"
             ],
             [
              0.1111111111111111,
              "#46039f"
             ],
             [
              0.2222222222222222,
              "#7201a8"
             ],
             [
              0.3333333333333333,
              "#9c179e"
             ],
             [
              0.4444444444444444,
              "#bd3786"
             ],
             [
              0.5555555555555556,
              "#d8576b"
             ],
             [
              0.6666666666666666,
              "#ed7953"
             ],
             [
              0.7777777777777778,
              "#fb9f3a"
             ],
             [
              0.8888888888888888,
              "#fdca26"
             ],
             [
              1,
              "#f0f921"
             ]
            ],
            "type": "histogram2d"
           }
          ],
          "histogram2dcontour": [
           {
            "colorbar": {
             "outlinewidth": 0,
             "ticks": ""
            },
            "colorscale": [
             [
              0,
              "#0d0887"
             ],
             [
              0.1111111111111111,
              "#46039f"
             ],
             [
              0.2222222222222222,
              "#7201a8"
             ],
             [
              0.3333333333333333,
              "#9c179e"
             ],
             [
              0.4444444444444444,
              "#bd3786"
             ],
             [
              0.5555555555555556,
              "#d8576b"
             ],
             [
              0.6666666666666666,
              "#ed7953"
             ],
             [
              0.7777777777777778,
              "#fb9f3a"
             ],
             [
              0.8888888888888888,
              "#fdca26"
             ],
             [
              1,
              "#f0f921"
             ]
            ],
            "type": "histogram2dcontour"
           }
          ],
          "mesh3d": [
           {
            "colorbar": {
             "outlinewidth": 0,
             "ticks": ""
            },
            "type": "mesh3d"
           }
          ],
          "parcoords": [
           {
            "line": {
             "colorbar": {
              "outlinewidth": 0,
              "ticks": ""
             }
            },
            "type": "parcoords"
           }
          ],
          "pie": [
           {
            "automargin": true,
            "type": "pie"
           }
          ],
          "scatter": [
           {
            "fillpattern": {
             "fillmode": "overlay",
             "size": 10,
             "solidity": 0.2
            },
            "type": "scatter"
           }
          ],
          "scatter3d": [
           {
            "line": {
             "colorbar": {
              "outlinewidth": 0,
              "ticks": ""
             }
            },
            "marker": {
             "colorbar": {
              "outlinewidth": 0,
              "ticks": ""
             }
            },
            "type": "scatter3d"
           }
          ],
          "scattercarpet": [
           {
            "marker": {
             "colorbar": {
              "outlinewidth": 0,
              "ticks": ""
             }
            },
            "type": "scattercarpet"
           }
          ],
          "scattergeo": [
           {
            "marker": {
             "colorbar": {
              "outlinewidth": 0,
              "ticks": ""
             }
            },
            "type": "scattergeo"
           }
          ],
          "scattergl": [
           {
            "marker": {
             "colorbar": {
              "outlinewidth": 0,
              "ticks": ""
             }
            },
            "type": "scattergl"
           }
          ],
          "scattermap": [
           {
            "marker": {
             "colorbar": {
              "outlinewidth": 0,
              "ticks": ""
             }
            },
            "type": "scattermap"
           }
          ],
          "scattermapbox": [
           {
            "marker": {
             "colorbar": {
              "outlinewidth": 0,
              "ticks": ""
             }
            },
            "type": "scattermapbox"
           }
          ],
          "scatterpolar": [
           {
            "marker": {
             "colorbar": {
              "outlinewidth": 0,
              "ticks": ""
             }
            },
            "type": "scatterpolar"
           }
          ],
          "scatterpolargl": [
           {
            "marker": {
             "colorbar": {
              "outlinewidth": 0,
              "ticks": ""
             }
            },
            "type": "scatterpolargl"
           }
          ],
          "scatterternary": [
           {
            "marker": {
             "colorbar": {
              "outlinewidth": 0,
              "ticks": ""
             }
            },
            "type": "scatterternary"
           }
          ],
          "surface": [
           {
            "colorbar": {
             "outlinewidth": 0,
             "ticks": ""
            },
            "colorscale": [
             [
              0,
              "#0d0887"
             ],
             [
              0.1111111111111111,
              "#46039f"
             ],
             [
              0.2222222222222222,
              "#7201a8"
             ],
             [
              0.3333333333333333,
              "#9c179e"
             ],
             [
              0.4444444444444444,
              "#bd3786"
             ],
             [
              0.5555555555555556,
              "#d8576b"
             ],
             [
              0.6666666666666666,
              "#ed7953"
             ],
             [
              0.7777777777777778,
              "#fb9f3a"
             ],
             [
              0.8888888888888888,
              "#fdca26"
             ],
             [
              1,
              "#f0f921"
             ]
            ],
            "type": "surface"
           }
          ],
          "table": [
           {
            "cells": {
             "fill": {
              "color": "#EBF0F8"
             },
             "line": {
              "color": "white"
             }
            },
            "header": {
             "fill": {
              "color": "#C8D4E3"
             },
             "line": {
              "color": "white"
             }
            },
            "type": "table"
           }
          ]
         },
         "layout": {
          "annotationdefaults": {
           "arrowcolor": "#2a3f5f",
           "arrowhead": 0,
           "arrowwidth": 1
          },
          "autotypenumbers": "strict",
          "coloraxis": {
           "colorbar": {
            "outlinewidth": 0,
            "ticks": ""
           }
          },
          "colorscale": {
           "diverging": [
            [
             0,
             "#8e0152"
            ],
            [
             0.1,
             "#c51b7d"
            ],
            [
             0.2,
             "#de77ae"
            ],
            [
             0.3,
             "#f1b6da"
            ],
            [
             0.4,
             "#fde0ef"
            ],
            [
             0.5,
             "#f7f7f7"
            ],
            [
             0.6,
             "#e6f5d0"
            ],
            [
             0.7,
             "#b8e186"
            ],
            [
             0.8,
             "#7fbc41"
            ],
            [
             0.9,
             "#4d9221"
            ],
            [
             1,
             "#276419"
            ]
           ],
           "sequential": [
            [
             0,
             "#0d0887"
            ],
            [
             0.1111111111111111,
             "#46039f"
            ],
            [
             0.2222222222222222,
             "#7201a8"
            ],
            [
             0.3333333333333333,
             "#9c179e"
            ],
            [
             0.4444444444444444,
             "#bd3786"
            ],
            [
             0.5555555555555556,
             "#d8576b"
            ],
            [
             0.6666666666666666,
             "#ed7953"
            ],
            [
             0.7777777777777778,
             "#fb9f3a"
            ],
            [
             0.8888888888888888,
             "#fdca26"
            ],
            [
             1,
             "#f0f921"
            ]
           ],
           "sequentialminus": [
            [
             0,
             "#0d0887"
            ],
            [
             0.1111111111111111,
             "#46039f"
            ],
            [
             0.2222222222222222,
             "#7201a8"
            ],
            [
             0.3333333333333333,
             "#9c179e"
            ],
            [
             0.4444444444444444,
             "#bd3786"
            ],
            [
             0.5555555555555556,
             "#d8576b"
            ],
            [
             0.6666666666666666,
             "#ed7953"
            ],
            [
             0.7777777777777778,
             "#fb9f3a"
            ],
            [
             0.8888888888888888,
             "#fdca26"
            ],
            [
             1,
             "#f0f921"
            ]
           ]
          },
          "colorway": [
           "#636efa",
           "#EF553B",
           "#00cc96",
           "#ab63fa",
           "#FFA15A",
           "#19d3f3",
           "#FF6692",
           "#B6E880",
           "#FF97FF",
           "#FECB52"
          ],
          "font": {
           "color": "#2a3f5f"
          },
          "geo": {
           "bgcolor": "white",
           "lakecolor": "white",
           "landcolor": "#E5ECF6",
           "showlakes": true,
           "showland": true,
           "subunitcolor": "white"
          },
          "hoverlabel": {
           "align": "left"
          },
          "hovermode": "closest",
          "mapbox": {
           "style": "light"
          },
          "paper_bgcolor": "white",
          "plot_bgcolor": "#E5ECF6",
          "polar": {
           "angularaxis": {
            "gridcolor": "white",
            "linecolor": "white",
            "ticks": ""
           },
           "bgcolor": "#E5ECF6",
           "radialaxis": {
            "gridcolor": "white",
            "linecolor": "white",
            "ticks": ""
           }
          },
          "scene": {
           "xaxis": {
            "backgroundcolor": "#E5ECF6",
            "gridcolor": "white",
            "gridwidth": 2,
            "linecolor": "white",
            "showbackground": true,
            "ticks": "",
            "zerolinecolor": "white"
           },
           "yaxis": {
            "backgroundcolor": "#E5ECF6",
            "gridcolor": "white",
            "gridwidth": 2,
            "linecolor": "white",
            "showbackground": true,
            "ticks": "",
            "zerolinecolor": "white"
           },
           "zaxis": {
            "backgroundcolor": "#E5ECF6",
            "gridcolor": "white",
            "gridwidth": 2,
            "linecolor": "white",
            "showbackground": true,
            "ticks": "",
            "zerolinecolor": "white"
           }
          },
          "shapedefaults": {
           "line": {
            "color": "#2a3f5f"
           }
          },
          "ternary": {
           "aaxis": {
            "gridcolor": "white",
            "linecolor": "white",
            "ticks": ""
           },
           "baxis": {
            "gridcolor": "white",
            "linecolor": "white",
            "ticks": ""
           },
           "bgcolor": "#E5ECF6",
           "caxis": {
            "gridcolor": "white",
            "linecolor": "white",
            "ticks": ""
           }
          },
          "title": {
           "x": 0.05
          },
          "xaxis": {
           "automargin": true,
           "gridcolor": "white",
           "linecolor": "white",
           "ticks": "",
           "title": {
            "standoff": 15
           },
           "zerolinecolor": "white",
           "zerolinewidth": 2
          },
          "yaxis": {
           "automargin": true,
           "gridcolor": "white",
           "linecolor": "white",
           "ticks": "",
           "title": {
            "standoff": 15
           },
           "zerolinecolor": "white",
           "zerolinewidth": 2
          }
         }
        },
        "title": {
         "text": "Flight Path - Segment 11523328"
        },
        "width": 1000
       }
      }
     },
     "metadata": {},
     "output_type": "display_data"
    }
   ],
   "source": [
    "import pandas as pd\n",
    "import plotly.graph_objects as go\n",
    "from plotly.subplots import make_subplots\n",
    "import plotly.io as pio\n",
    "\n",
    "# Get the first segment_id\n",
    "first_segment = trajectories['segment_id'].unique()[0]\n",
    "\n",
    "# Filter data for first segment\n",
    "segment_data = trajectories[trajectories['segment_id'] == first_segment]\n",
    "\n",
    "# Create the 3D scatter plot\n",
    "fig = go.Figure(data=[go.Scatter3d(\n",
    "    x=segment_data['x'],\n",
    "    y=segment_data['y'],\n",
    "    z=segment_data['z'],\n",
    "    mode='lines+markers',\n",
    "    line=dict(\n",
    "        width=2,\n",
    "        color='blue'\n",
    "    ),\n",
    "    marker=dict(\n",
    "        size=2,\n",
    "        color='blue',\n",
    "        opacity=0.8  # Added some transparency\n",
    "    )\n",
    ")])\n",
    "\n",
    "# Update layout for better visualization\n",
    "fig.update_layout(\n",
    "    title=f'Flight Path - Segment {first_segment}',\n",
    "    scene=dict(\n",
    "        camera=dict(\n",
    "            up=dict(x=0, y=0, z=1),\n",
    "            center=dict(x=0, y=0, z=0),\n",
    "            eye=dict(x=1.5, y=1.5, z=1.5)  # Adjusted camera position\n",
    "        ),\n",
    "        aspectmode='cube',  # Forces a cubic aspect ratio\n",
    "        xaxis=dict(\n",
    "            title='X',\n",
    "            showbackground=True,\n",
    "            backgroundcolor='rgb(230, 230,230)'\n",
    "        ),\n",
    "        yaxis=dict(\n",
    "            title='Y',\n",
    "            showbackground=True,\n",
    "            backgroundcolor='rgb(230, 230,230)'\n",
    "        ),\n",
    "        zaxis=dict(\n",
    "            title='Z',\n",
    "            showbackground=True,\n",
    "            backgroundcolor='rgb(230, 230,230)'\n",
    "        )\n",
    "    ),\n",
    "    width=1000,\n",
    "    height=800\n",
    ")\n",
    "\n",
    "# Display interactive plot\n",
    "fig.show()\n",
    "\n",
    "# Save static version for GitHub\n",
    "pio.write_image(fig, \"flight_path.png\")"
   ]
  },
  {
   "cell_type": "code",
   "execution_count": 6,
   "metadata": {},
   "outputs": [
    {
     "data": {
      "image/png": "[encoded data removed]",
      "text/plain": [
       "<IPython.core.display.Image object>"
      ]
     },
     "execution_count": 6,
     "metadata": {},
     "output_type": "execute_result"
    }
   ],
   "source": [
    "Image(\"flight_path.png\")"
   ]
  },
  {
   "cell_type": "code",
   "execution_count": 7,
   "metadata": {},
   "outputs": [
    {
     "data": {
      "application/vnd.plotly.v1+json": {
       "config": {
        "plotlyServerURL": "https://plot.ly"
       },
       "data": [
        {
         "line": {
          "color": "rgb(141,211,199)",
          "width": 2
         },
         "mode": "lines",
         "name": "Segment 9566242",
         "opacity": 0.8,
         "type": "scatter3d",
         "x": {
          "bdata": "AAAAAAAAAADCYBrk+msUQBMrYtrsGi7AxOgHJ0U4sT3AmcFFmx00QKdSonwW3ZhAck566YYKt0BH4HsVNx3HQPG2dkGksNNAW2ZLB/9O30Dm86QD6xnnQI6vjRVkJPBAQ6gWr16o9UCPKGBBaCf8QGBcs+qA1gFBh7vpsVIhBkHaC/pY6fkKQQ4Cus2FNBBBNLEhwKszE0FIUuzmi3wWQXo1VkPPEBpBKK5Yowr0HUEZEA23XQ4hQTqDHq7HRSNBur2AtV+lJUFPTPQItSkoQTAqoxQT0ipBEKiDVCijLUHNUPoQjUswQVzSIm2X2DFBwNZEn851M0E75eNoqSM1QRtjhcGp4jZB84bi02u0OEFgyOlJMZU6QR0Y+dnqiTxBPR5oStaJPkEo6yIIlTdAQQc1L/SDzUBB46hR7YVaQUFxGzCvmL5BQSd7qaF5JEJBMMTJTl6NQkGgJoBhEvhCQXdyCYSqZUNBHujrX0XUQ0Ga42ykCEZEQYs2Xof4ukRB4SvbaPAyRUHAMhL+0q1FQQ==",
          "dtype": "f8"
         },
         "y": {
          "bdata": "AAAAAAAAAADwnL2azELBQJ1nDvGqfNlAx51A6ZZ56UCeHncQdT71QJPtbyejqP5Aau6CCuVNBEEtXDcyRHAJQQ1dTtpMwA5Bnt/h6xkeEkGizJeSfvEUQcIE/zA82hdBgflpe4zRGkFVTXTT3NcdQeMkFp41dCBBmnN+F6o1IkGrWguYGjMkQS5fDSsgbCZB3eZDTUDdKEHBpWObx4crQWc7H8yZbC5BQFCpj6LIMEH2Wvm0u3gyQXLuabrqSDRBTCUKyQY4NkFOZwvuEkU4QbmLEwN8bzpBps/AZH+2PEFZ2r58shk/QcFvg9SdzEBBTXFIH7YaQkESzU+DnndDQaMusdtx4kRBjJn9tH5cRkE1w9XBQuRHQUa/3TtJfElBnLREBm8dS0Hil6yH0tBMQW31sh1kwE5BRxWS9tpdUEGTjorj4mBRQZs9kqQVa1JB8t5V1ih9U0HVB7Tfn5ZUQQWM5hC3t1VBG3TAUyThVkF1VwZ5DxNYQTsTOdODTVlBLAtk5x6QWkGSMTTskdpbQQ==",
          "dtype": "f8"
         },
         "z": {
          "bdata": "AAAAAICm4EAAAAAAgKbgQAAAAACApuBAAAAAAICm4EAAAAAAgKbgQAAAAACApuBAAAAAAICm4EAAAAAAgKbgQAAAAACApuBAAAAAAICm4EAAAAAAgKbgQAAAAACApuBAAAAAAICm4EAAAAAAgKbgQAAAAACApuBAAAAAAICm4EAAAAAAgKbgQAAAAACApuBAAAAAAICm4EAAAAAAgKbgQAAAAACApuBAAAAAAICm4EAAAAAAgKbgQAAAAACApuBAAAAAAICm4EAAAAAAgKbgQAAAAACApuBAAAAAAICm4EAAAAAAgKbgQAAAAACApuBAAAAAAICm4EAAAAAAgKbgQAAAAACApuBAAAAAAICm4EAAAAAAgKbgQAAAAACApuBAAAAAAICm4EAAAAAAgKbgQAAAAACApuBAAAAAAICm4EAAAAAAgKbgQAAAAACApuBAAAAAAICm4EAAAAAAgKbgQAAAAACApuBAAAAAAICm4EAAAAAAgKbgQAAAAACApuBAAAAAAICm4EAAAAAAgKbgQA==",
          "dtype": "f8"
         }
        },
        {
         "line": {
          "color": "rgb(255,255,179)",
          "width": 2
         },
         "mode": "lines",
         "name": "Segment 9356550",
         "opacity": 0.8,
         "type": "scatter3d",
         "x": {
          "bdata": "AAAAAAAAAAByaVMvt8EUQEsd/J4tJy9A++M+ngcwmj3bg8wc4ahMQJVl8KxsG2BAimLCmgL1akCaUbke1m9vQHwFTLHozntA5FViwUhzh0AocvYC0LKOQDnY4pb74JZAxYAF3SF3nUAMmfVtY2yjQOkx9xj3f6hAE1NjYJASsECPHffujyC0QMxVKZ8Nb7hASWDODAKxvUBvz60Wk57BQJaduTkhisRAOHzWaJJoyEAU+OAz9XHMQJUk1u1SU9BAqe53pW6L0kD1Ndd4PRjVQBIGqU7IvtdAvza0cfHD2kDBJ+kYHjTeQJCxVrGjDOFAUaOxbtIV40BUABIVmF3lQHpM5QaUvudAVIVxoB1i6kCdHtVcv0/tQClhllGiSvBAL1tpOTMc8kBuaNtkPB/0QNmvC34mHvZAVfq3g4RP+EDN1DWa1ZL6QDF1GRhsJv1Ax+IeO+Dv/0D8EVl8XGYBQb/FZTmw3gJB2cwArFpwBEHyXpPqDgoGQWuROXpIzwdBzCKzf/2XCUFS+gfgUmILQQ==",
          "dtype": "f8"
         },
         "y": {
          "bdata": "AAAAAAAAAABGD/zbAGi2QBqeZ/QBztBAf66v4eRy4UArwNsBNALsQCVXeOMjmPRAjBuuQSOX/EBzwLUBMSEDQdCV78tygAhB/NSMu/eSDkF80EfO8oESQd5aQiWzPBZBoy3WikFtGkGb79S70hIfQQ7GrVscDSJB6Vu/qROtJEHZZjT01nUnQQNi75jiaipBavVdICyMLUEv/oTgz2wwQTBLkt/aKTJBmiWfHpb7M0EAAn4RguE1QWxAhWbL2zdBNU/UKBLyOUEEx9hhoB08QYHozXEUXz5BRUaI5/VbQEH1KUKCopZBQULOTMzA4EJBUlr1FNY5REEJtNFbuqFFQQwaAMwpGUdB22SJaceeSEGAuQI+8TRKQVXxl5bO4EtBjA/wkcqiTUEQMVlXEXtPQfDJYf9wtFBBzYOqc9K1UUFOcVWebr9SQZ3Hry630VNBMy4p9zXtVEEb/5pwaRBWQeMqttd7O1dBYJC9CBttWEGLYKD516RZQckqHPui4lpB9bBNDN8iXEF2hnMUP2RdQQ==",
          "dtype": "f8"
         },
         "z": {
          "bdata": "AAAAAMCC10AAAAAAQNrXQAAAAACAK9hAAAAAAEBw2EAAAAAAAJzYQAAAAACA89hAAAAAAABL2UAAAAAAAJbZQAAAAACA1NlAAAAAAIAf2kAAAAAAgDjaQAAAAAAAd9pAAAAAAMC72kAAAAAAgADbQAAAAACAS9tAAAAAAECQ20AAAAAAAO7bQAAAAABAP9xAAAAAAICQ3EAAAAAAAOjcQAAAAABAOd1AAAAAAMCQ3UAAAAAAQOjdQAAAAADAP95AAAAAAICE3kAAAAAAwNXeQAAAAAAAJ99AAAAAAABy30AAAAAAwLbfQAAAAABA9d9AAAAAAAAd4EAAAAAAYD/gQAAAAACgXuBAAAAAAACB4EAAAAAAQKDgQAAAAAAgtuBAAAAAAODI4EAAAAAAwN7gQAAAAACg9OBAAAAAAKAN4UAAAAAA4CzhQAAAAAAgTOFAAAAAAEBo4UAAAAAAgIfhQAAAAADApuFAAAAAAADG4UAAAAAAYOjhQAAAAADACuJAAAAAAAAR4kAAAAAAABHiQA==",
          "dtype": "f8"
         }
        },
        {
         "line": {
          "color": "rgb(190,186,218)",
          "width": 2
         },
         "mode": "lines",
         "name": "Segment 9741815",
         "opacity": 0.8,
         "type": "scatter3d",
         "x": {
          "bdata": "AAAAAAAAAABgdswX4AcKwCaVdNJXOyRAqBHB7RpXgz0SGX16+dpKwBhFjT+l513ATMiP3cGiaMC3zXQSR/RxwJDUbOdMlXPAfY8j9J3desDEeraKoYWBwC6mKCoTD4bAOoV1NPr8jsBPzfqvr0CUwKdmah5WXpnAxFEpPbfRnsDdpuuVflOiwHDhqS5fF6TA4yEX39n1pcB6T4Fk3vWnwJDZKKmuFqrAFMALDKNXrMDBaTflNT+wwK35Z8c/G7fAsoWDZfdGycCuLOnW3/3YwPoOLtQsVOXA15haH9Xd7sDe7/+5HA70wBKSiyMVAvnAF6s0A3lB/sDoBqakOd0BwZBXc5VEmwTB25Qz99Z2B8FXeEGh+mwKwRbEraQvkg3B5/vyDeFtEMHppFOjciISwaRhFZxD7hPBROGxGN26FcGoNLAKkBUXwRZS8tbQoRfBI/kqGNZwF8Gi5IwDP4UWwQH+9v8J4xTBtkOkoqOkEsFIfzz3xGYQwbcJmO7NagzBSIcOG1XkB8FE+nmeeUMDwQ==",
          "dtype": "f8"
         },
         "y": {
          "bdata": "AAAAAAAAAABb4TqoNqS1QHoMYSnuq9BAydlHhU3B4EAs0/M7owDsQBw+Cp0I5/RAS+WVhDYD/UBXJWvoLzoDQWLDy73TpghBIS9CtYLADkHJAGUgDM0SQRXJbknmmRZBMJ3ktOrgGkH3bQEqDHAfQV3WFrZpKyJB+b00vdjHJEFBRttxMJMnQY7F3i8xiCpBE43WLLipLUFTSD6Ju4EwQTZOXukTSjJBqYJaTlMtNEGxvHZjcyo2QV2qXUMpQjhBQ8/m/bVsOkHu9ErbIqk8QYrfalTM9j5BdByqHp2wQEG4JqJndPNBQTeXKEIPQ0NBV0g57V+hREH6tsgAtQ5GQYWiUhr+h0dBQ3r2uCURSUE/HhkZ365KQXkjBEaZX0xBUrjKa94jTkFf0PhCGvlPQQdbpmP171BB/yw69E/rUUE0Gk8wjutSQYf09dgz71NBLbQTtmP2VEGLQZUUjgBWQVA08vW/DFdB4/kkSgQbWEGzzkE5czBZQRqdGXV8S1pBKKEMFGprW0FCfHkJzo1cQQ==",
          "dtype": "f8"
         },
         "z": {
          "bdata": "AAAAAEBJ0kAAAAAAgJrSQAAAAADA69JAAAAAAIBJ00AAAAAAwJrTQAAAAABA8tNAAAAAAMBJ1EAAAAAAAJvUQAAAAABA7NRAAAAAAIA91UAAAAAAgIjVQAAAAACA09VAAAAAAEAY1kAAAAAAwFbWQAAAAABArtZAAAAAAMAF10AAAAAAAFfXQAAAAABAqNdAAAAAAIDg10AAAAAAQCXYQAAAAAAAathAAAAAAMCu2EAAAAAAwPnYQAAAAACAPtlAAAAAAABk2UAAAAAAQIPZQAAAAABAnNlAAAAAAADh2UAAAAAAACzaQAAAAAAAd9pAAAAAAMC72kAAAAAAgADbQAAAAADAUdtAAAAAAECQ20AAAAAAgMjbQAAAAADAANxAAAAAAAA53EAAAAAAgHfcQAAAAACAwtxAAAAAAEAH3UAAAAAAwCzdQAAAAABAOd1AAAAAAABM3UAAAAAAAGXdQAAAAAAAft1AAAAAAICj3UAAAAAAQOjdQAAAAABAM95AAAAAAEB+3kAAAAAAgM/eQA==",
          "dtype": "f8"
         }
        },
        {
         "line": {
          "color": "rgb(251,128,114)",
          "width": 2
         },
         "mode": "lines",
         "name": "Segment 11183578",
         "opacity": 0.8,
         "type": "scatter3d",
         "x": {
          "bdata": "AAAAAAAAAACoHWPdI+MwQGokVpiwMyRA0sF93ytcjz0KJLU4Xm1bQO052iB/625APJ39CV8LckAED2gqvhB1QC5OmfNjh3hAKF0Gx4P0hkAxtAkzNp2PQCY9APDd/5BAoP7Dl4xMkkAItbZwkumXQCZR1FAMVLJAWSpMU88Sy0A7Q7oZVJHbQBpPoDaf0udAyqaE37tN8kB9ug76pC/6QNKbD7ftrgFBszArO8eiBkHpRAsWhi0MQbJpCKn4IRFBSyXcKFFPFEHYzNOjz4gXQQJMIrZRyxpBAErB4LwfHkFaIIH7+c4gQdOggNjfqCJBvx9iOLyaJEHVw6VHQJ4mQU9I1TT1sShBS1HhoLPaKkFhRQZS1BotQWQbo9LRci9BK36c2LfxMEEDW4Tf2T4yQQnVdz79mTNBgFd5SVQFNUEVdB5vOHw2QS16anX4ADhBa1O8NrSaOUHw5Xhfckc7QXsv8s3gBD1BSUXh7DbPPkGZ8+yUKVVAQbucpUzkREFBKb48JP46QkFczgbO7zBDQQ==",
          "dtype": "f8"
         },
         "y": {
          "bdata": "AAAAAAAAAAAFnJscmaK2QDp4DK15KdFA4GuktW8j4UABeasJU6LsQMtxBMmGh/VADw9Re8Qp/kDII29sGCEEQSL13LRL6glBo/AwU7I3EEEkZrWE09gTQbxmCePF1BdB3pPuUV8sHEGk145FgnAgQeLsT1J24CJBnklgwXNYJUE+WtA/MdcnQal5rUw4WCpBdmo1N3LaLEFRsghemlgvQZCUcCs56TBB+RpxsygmMkG8LHPhNmUzQTVA44+vsTRB68xDDlgSNkGGoc4kz4s3QadSbhvcHjlBwHKVfwjJOkF57ynDKIY8QXmwwVnbVT5BXoMphnQdQEHhwbFQwRpBQR2LFSduI0JBOGwSzpM2Q0EW6M7wHlREQd72PcJ9fUVBOQSLXrqxRkGn5Zdib+9HQXftvElTNklBNerC91CSSkGzwW1EuQJMQWIHdOZwh01B7pn07JYdT0Frr3cWX2JQQSDebv8uPlFByvpeDVYiUkHQCw2o1g5TQez6peGY/1NBFDGbX33yVEGKXFy7aehVQQ==",
          "dtype": "f8"
         },
         "z": {
          "bdata": "AAAAAIAk1UAAAAAAQGnVQAAAAAAArtVAAAAAAMDy1UAAAAAAgDfWQAAAAABAfNZAAAAAAADB1kAAAAAAwAXXQAAAAACAStdAAAAAAECP10AAAAAAANTXQAAAAADAGNhAAAAAAIBd2EAAAAAAQKLYQAAAAACAwdhAAAAAAIDa2EAAAAAAQO3YQAAAAAAAANlAAAAAAMAS2UAAAAAAgCXZQAAAAACAPtlAAAAAAABL2UAAAAAAQGrZQAAAAADAqNlAAAAAAIDt2UAAAAAAQDLaQAAAAAAAd9pAAAAAAMC72kAAAAAAgADbQAAAAABARdtAAAAAAACK20AAAAAAwM7bQAAAAACAE9xAAAAAAEBY3EAAAAAAAJ3cQAAAAADA4dxAAAAAAIAm3UAAAAAAAGXdQAAAAADAkN1AAAAAAACw3UAAAAAAwNvdQAAAAACAB95AAAAAAEAz3kAAAAAAwFjeQAAAAACAhN5AAAAAAECw3kAAAAAAwNXeQAAAAABA+95AAAAAAMA530AAAAAAwITfQA==",
          "dtype": "f8"
         }
        },
        {
         "line": {
          "color": "rgb(128,177,211)",
          "width": 2
         },
         "mode": "lines",
         "name": "Segment 10011923",
         "opacity": 0.8,
         "type": "scatter3d",
         "x": {
          "bdata": "AAAAAAAAAABHxkwFYGpZQDiiKllDoGFAe7GRcmLgpb3Sjby7h9NtwIqdIMAHI4LAEfuU2jomkMBya4wF/lOXwELkwqGiGZ/A+6gHYSmSo8B4u28EZyWpwFNCIm/jEq/A3SGotfNzv8DrDmANAKjOwGlT3NbP1NrAGEe23gXZ5MCYpaabuILuwPFvVFgRavXAC+YaV0S2/MCqYVoiAaUCwcv6ZO6UmgfBlIaxbfn7DMGiHXptnHURwfMlMtRdsBTBxe+og0wnGMGrBDxg2NwbwXZF9BtCzR/BzmV4+yT+IcGoKq9IQS8kwanOVhXRbSbBzGj62VCtKMHMnEtaWO4qwfgjf95rMC3BbIAXErOLL8GEKvjyLQMxwVeUjBqiUDLBs8nFcaGvM8EtngRPSh01wVn1Fq7+mTbBuAJztgwgOMGwab2hBrE5wWLP+7+tTzvBsIWi0tIAPcEmIeUf1cI+wfeImNbKSEDBUECpyAM3QcEM/cw07idCwUSuEXhgIEPBGUMNtJMfRMGGh2FdGyZFwQ==",
          "dtype": "f8"
         },
         "y": {
          "bdata": "AAAAAAAAAACYDWdtNoa+QJk9Nw9VxtZAbrRTjriC5kD7fR6G6EXxQGGDMF1ik/hA885St+B8AEEuqRh+5b4EQaDZmhpPDwpBlLeVM19GEEHNwFmwPxYUQUn5ly7SIxhB6kF2HvBhHEFPP/1m/mMgQb1GN+kCrCJBXXd5ChMHJUHH6GEGqHAnQdy0QdBQ5ylBBSg4OwVuLEE4/76B3AIvQR0bU4np1DBBLraarE5KMkE9AMu+Z+IzQUY/FZ2RnjVBQJqPcD59N0FKX40PYHs5QR+D4/ccnjtBJlcYTiXgPUEKI8HwhyRAQYITglJ1bEFB/T3tnHvDQkEZKSQNHB1EQYkIZQBdd0VBx+/KVRrmRkGgcrRk62dIQd8xFAxX/UlBsVr2Z/ulS0HrutArj2JNQXxIyTYkL09BRdg2lISDUEFmjPWR4HRRQVZDxIk+bVJBhJDGzHJqU0FHSenY/W5UQUC5NKfpelVBKCBRqHGNVkEn2RE7FKNXQbzYeocHwFhBv3Fj1rnkWUF3K35F1BFbQQ==",
          "dtype": "f8"
         },
         "z": {
          "bdata": "AAAAAECi2EAAAAAAwODYQAAAAACAJdlAAAAAAIBw2UAAAAAAwI/ZQAAAAACA7dlAAAAAAAAs2kAAAAAAQDLaQAAAAADAcNpAAAAAAMCi2kAAAAAAwNTaQAAAAADA7dpAAAAAAMAG20AAAAAAgBnbQAAAAABALNtAAAAAAAA/20AAAAAAAFjbQAAAAAAAcdtAAAAAAMCD20AAAAAAgJbbQAAAAABAqdtAAAAAAIDh20AAAAAAwBncQAAAAAAAUtxAAAAAAICQ3EAAAAAAQNXcQAAAAACADd1AAAAAAABM3UAAAAAAgIrdQAAAAADAwt1AAAAAAIDu3UAAAAAAwPTdQAAAAAAA+91AAAAAAIA53kAAAAAAQGXeQAAAAAAAqt5AAAAAAEDi3kAAAAAAwCDfQAAAAABAeN9AAAAAAEDD30AAAAAAIAfgQAAAAADgMuBAAAAAACBS4EAAAAAAwHrgQAAAAAAgneBAAAAAAKDC4EAAAAAAQNLgQAAAAADA9+BAAAAAAOAT4UAAAAAAQDbhQA==",
          "dtype": "f8"
         }
        },
        {
         "line": {
          "color": "rgb(253,180,98)",
          "width": 2
         },
         "mode": "lines",
         "name": "Segment 10061850",
         "opacity": 0.8,
         "type": "scatter3d",
         "x": {
          "bdata": "AAAAAAAAAACjIXmI93kJwHhL1FzTGBvAbukOHi7pg71dCos56oJEQPpQtnlGZ21AXw+74MIrfkBcNEEK0gmLQMvtbmst8JRABft7NXj5nUDsvtpC2dmjQL2McIrJu6hALoN2SBu3rEBdSCNBUB+xQCVAHgCXq7NArQfyOkAmt0Cvl02+sO26QEUi6JD6wMFAhnZOc636x0ALhO4eyK7OQJRJ1dk0rtJAJjwOuUTw1UCGcYsIB1PZQDwskJEZytxAIWaqN4Ev4EBO7ORUlunhQNMpIwr4kuNAYMaPKQlP5UB3kx22swvnQD9hW1wByehA3epW5qvF6kAhHezlhwftQB3oirZFY+9ATnCLO6/t8EBZHBaV1jfyQEglqJZTjvNAipLXECQ59EDGsj+fNP/yQJDjlrLo8+5AQ13qKZ8x40Da9VAG94i5QP7ljBefzOHAYuSJVRHD9cBsNa84bXICwR8qx1VgwQvBaKFvOD2hE8FPHlg5MU8awc/jjM2L9CDBiUFKUGk9JcEeii8HMAkqwQ==",
          "dtype": "f8"
         },
         "y": {
          "bdata": "AAAAAAAAAADTuCvb2JWpQPSO/HBZObtAeIdetnW6zkCTOYRtXkbfQBXu+y263etAiSw9RUdL9ED59vZGHZn8QOBbvOkIdANBOmo91Ci7CUHGYxiLmj4QQU1+NiT8ohNBj7veaPGlF0HU62UFDzIcQch6yNsyqiBBalDip6qGI0HQDOGTRqImQU4l5mdN/SlB9bk0S/mYLUGrF3Bgy70wQZ8PuIWLzzJB1Bj7wub6NEF2lvXYBjw3QaSYfMetijlBgCsDxDLtO0FVEPUbP2k+QXuB0vhhgUBBUiq5ecLcQUH1Err7mjhDQQKQldfylERB+8YgBt8CRkEaIE7AooNHQef36UWiFUlBER2AA4O6SkFeJsmHLHJMQQfcyB9DOk5But5nyHgKUEF2nhy8nv1QQSRPlR8t9VFBtVKO2gnwUkEnh8O69e5TQfDriUGU8FRBZPEar3n1VUG/ssr2k/xWQfBdvxXEAlhBBsJRtdwFWUGMprdZ5wVaQXkUyi37AVtBjfTquMP4W0HTqCCKOuhcQQ==",
          "dtype": "f8"
         },
         "z": {
          "bdata": "AAAAAIBq2kAAAAAAgIPaQAAAAADAidpAAAAAAECv2kAAAAAAgOfaQAAAAAAAJttAAAAAAEAs20AAAAAAwGrbQAAAAABAqdtAAAAAAIDh20AAAAAAQPTbQAAAAABA9NtAAAAAAIAT3EAAAAAAAFLcQAAAAABAitxAAAAAAIDC3EAAAAAAAAHdQAAAAACAP91AAAAAAEBr3UAAAAAAgKPdQAAAAAAA4t1AAAAAAAAt3kAAAAAAAHjeQAAAAADAo95AAAAAAMDV3kAAAAAAQBTfQAAAAAAAWd9AAAAAAECR30AAAAAAQJHfQAAAAABAkd9AAAAAAIDJ30AAAAAA4ADgQAAAAAAAHeBAAAAAACA54EAAAAAAQFXgQAAAAACAdOBAAAAAAKCQ4EAAAAAA4JbgQAAAAAAAmuBAAAAAAACa4EAAAAAAAJrgQAAAAAAgneBAAAAAAACa4EAAAAAAAJrgQAAAAAAAmuBAAAAAAACa4EAAAAAAAJrgQAAAAAAAmuBAAAAAAACa4EAAAAAAAJrgQA==",
          "dtype": "f8"
         }
        },
        {
         "line": {
          "color": "rgb(179,222,105)",
          "width": 2
         },
         "mode": "lines",
         "name": "Segment 9962011",
         "opacity": 0.8,
         "type": "scatter3d",
         "x": {
          "bdata": "AAAAAAAAAADtiGgfzp5TPwDDEUAKvFw/CZAmLFMam72zehbrMzM/wC4h+eZSND/AMNinhY41P8B43NdSb6RVwLpnxGmmVWLAjt1PAiwnccC3fCcpXidxwLrzYknqYXvAOjSnBPqQiMBvYcpMkCR1QGIbc+0+VqhAJKiGa5Uvt0Cw+2ThBB/BQFv721nDvsZAx5LQP5EKzUDpcaJelMHRQJxVisGAYNVAO4o7UlI42UD//oEHMR/dQPN8h+XxoOBA+Q0pYCmM4kArzlY1DJjkQBBHBCcG+udAIhMzgk8M70DO01IZX0P1QAHiq2AhvPxAHDB5b0tFA0EiUUed8ycJQYUvm0DJZw9BASNNFTreEkHlM3dOZUUWQfaARbmS6hlBi7RQDajHHUFIGmh5MO4gQeOk2jc2GiNB0gMZNxJmJUF85vaOW8snQd3rNIIbSCpBiUGBSxnpLEEK6A4ZUKcvQciD8hvwPTFBr99UAYyzMkGgaMUXyTA0Qffnu74FtDVBPj3Qo0xCN0FYRF0g79I4QQ==",
          "dtype": "f8"
         },
         "y": {
          "bdata": "AAAAAAAAAAAZ+LsT08KxQF26uDFvDcpAAg3DDk722UDVuCDPZrXlQPYtK/CBU/BA4MCJWIUD90D5lQsaosH+QHETqPfulANB+TWdhsYMCEELdscdFz8NQS+HTVMcfBFB0FTiDvWGFEEQvSqgsc0XQYsABnq9ZRtBiwByVBtXH0HB7rJ0HtIhQRQL86+1GyRBGTuL0r+OJkG6mkSiiTApQQKKhZ29ASxBd/C46zX/LkF6cqbD4BUxQRZ5nbZ7xDJBMbgBpTiTNEGdkcQAvIA2QeHGL+kahThBen3A8NqNOkFjL+h0oJY8QX80eUaZoD5BDQuU1INSQEEYE1P91VNBQac3kzyzYEJBPCTCggx6Q0EjO0AVPaVEQZn8dv/940VBtZStitc1R0ELUfHPopxIQdepuaJ8GEpBnwWzXhaqS0EKrp1HolFNQYpLizc6Dk9BuTNo64BvUEHyVuH8+2FRQdShgaeNXVJB4KuvBZNfU0GA5I1N3WZUQde3vzjDc1VBCAPbStmJVkEGn7/PlKFXQQ==",
          "dtype": "f8"
         },
         "z": {
          "bdata": "AAAAAACRzkAAAAAAAEDPQAAAAAAA789AAAAAAMBI0EAAAAAAAJrQQAAAAABA69BAAAAAAIA80UAAAAAAAJTRQAAAAAAAxtFAAAAAAADf0UAAAAAAgB3SQAAAAADAbtJAAAAAAICa0kAAAAAAQMbSQAAAAAAAC9NAAAAAAABW00AAAAAAAKHTQAAAAABA8tNAAAAAAEA91EAAAAAAAILUQAAAAAAAzdRAAAAAAMAR1UAAAAAAwFzVQAAAAACAodVAAAAAAMDZ1UAAAAAAQBjWQAAAAADAVtZAAAAAAMBv1kAAAAAAgILWQAAAAABAldZAAAAAAACo1kAAAAAAAMHWQAAAAACA/9ZAAAAAAAA+10AAAAAAgGPXQAAAAADAgtdAAAAAAACi10AAAAAAALvXQAAAAAAA1NdAAAAAAADt10AAAAAAQAzYQAAAAABAJdhAAAAAAAA42EAAAAAAQFfYQAAAAACAj9hAAAAAAMDH2EAAAAAAQO3YQAAAAADA+dhAAAAAAEAG2UAAAAAAwBLZQA==",
          "dtype": "f8"
         }
        },
        {
         "line": {
          "color": "rgb(252,205,229)",
          "width": 2
         },
         "mode": "lines",
         "name": "Segment 9770359",
         "opacity": 0.8,
         "type": "scatter3d",
         "x": {
          "bdata": "AAAAAAAAAADJkdgQye1AwF/tTGrPPBdA+FA08/Drlj238dZILshXQBZOyyRr6WJA3rV4NOp7a0D6wgjaReV4QAnLcroK6IJAbnH7sVrsksBNEcvvE2W9wBmw8ysDZ9LAUpU2+nVX4cCFqG9HdsrrwHBeyen+P/TA07bAG7wT/MClDmZO3q8CwULsWiCKAwjB6T6KuqP2DcFaJK3Ch1gSwUxkjY8A7hXBqDDKEyIHGcFkMohCq9AbwY5bYGttVB7BQVNON29EIMEANMiM+Tshwfn4PmN2HCLBt/GJg6rsIsHATaohztYjwU0/wMS21CTBqLSz93XjJcGEZekGVQInwVtiMZhxMSjBO/QEMpt2KcFzFLMR/8YqwcEyJjaXJyzBCaPLsHqbLcEpmPEYDx8vwcqJam1TWzDBXOKll4AvMcGpxU9CGQwywfI8K9Gq8jLBnMg7vAngM8GwzZwAB9g0wcvFARDY1jXBKYffh/beNsGL3ABs+fE3wYjuzDG+CznBo6+FFQgsOsFvoZdQc1c7wQ==",
          "dtype": "f8"
         },
         "y": {
          "bdata": "AAAAAAAAAADuZKlyBmCtQBK923yfdc9AaTSJS30W4kCFm01yyEXwQEbFMh7PnflAZl6sS/2CAkETJM4yw0oJQe3WQLp2khBBOVrwzLzCFEGO2BZJsxAZQf2RuqEMeB1BekQp5ZL4IEEmmPfzAz8jQXfbazZshiVBorxw6lvOJ0EJxwEz1hAqQW0IUpXuUCxBUOxW7uqaLkEHrxW6q40wQVAzWYGw5jFBTCwJvcpZM0H4+vaR7uA0QeMDlR0reTZBFEuHFXMjOEHFYmEGRd45QRtXoLWqrTtBD3bxbsKWPUGLyVHu0KE/QU8uw/zx50BBIOb2pXwRQkEOpIi2v0xDQeuSa7jbmURBOZsQY4X5RUHHg2LVM2tHQadDgBWx7khBGxrxqxyESkHDmNxjoypMQb7l+f9y401Befj54mKuT0EWF8aKxMVQQVSt3qwovVFBDZ2c/9+9UkG5YGM69cdTQdrW2a6K21RBDwvMX+72VUFXNrfOsRtXQTb5SXYFSlhBNkKDGs6BWUFnGmTiEcNaQQ==",
          "dtype": "f8"
         },
         "z": {
          "bdata": "AAAAAAA24EAAAAAAYD/gQAAAAADgS+BAAAAAACBS4EAAAAAAAGjgQAAAAACAdOBAAAAAAMB64EAAAAAAQIfgQAAAAADAk+BAAAAAACCd4EAAAAAAYKPgQAAAAACApuBAAAAAAICm4EAAAAAAgKbgQAAAAACgqeBAAAAAAKCp4EAAAAAAwKzgQAAAAAAAs+BAAAAAACC24EAAAAAAILbgQAAAAABAueBAAAAAAEC54EAAAAAAYLzgQAAAAACAv+BAAAAAAKDC4EAAAAAAwMXgQAAAAAAAzOBAAAAAACDP4EAAAAAAgNjgQAAAAADA3uBAAAAAACDo4EAAAAAAgPHgQAAAAADA9+BAAAAAAAD+4EAAAAAAQAThQAAAAACgDeFAAAAAAAAX4UAAAAAAQB3hQAAAAACgJuFAAAAAAAAw4UAAAAAAQDbhQAAAAACAPOFAAAAAAOBF4UAAAAAAIEzhQAAAAACAVeFAAAAAAOBe4UAAAAAAIGXhQAAAAACAbuFAAAAAAMB04UAAAAAAAHvhQA==",
          "dtype": "f8"
         }
        },
        {
         "line": {
          "color": "rgb(217,217,217)",
          "width": 2
         },
         "mode": "lines",
         "name": "Segment 8483469",
         "opacity": 0.8,
         "type": "scatter3d",
         "x": {
          "bdata": "AAAAAAAAAAB3bgtPZnc6wJluA6eo1y/AbmXKtu40oD1OiGtzkgY1QBRoh7+CG0VA+flCdJTJT0CORbBybkVVQGTgc3e3UGZAWyvjjphIckCwaYY2KMB6QP+lnupCQYJAoN9pic/7i0DxhhbiBhyRQPGf/nKBkJRAv7VLzdNBmEAXyBr9wPabQFa1zLNjs59AiaoytvO5oUAaS+ZBzsOjQHuj/gnl96VAX8Ctb7IcqkAAi3EgsomuQOj6g56NorFAo6lpGsUSs0DrmEHom5m0QN1E2f71bLdAelGw+4JmukDveuOTg2G9QEf5Aw5NMMBAW3T+myKwwUAcxu2j1zHDQKD4FkzmucRALqoQiIlCxkDIpYarYc3HQB4wv39dzspArgXV17/yzUBlqly9epzQQNtLS2Z7UNJAAomJ2uIW1ECCTF3NZ+7VQI0hveeO2NdATyBvrLRJ2kAfOeZzsdDcQFqLxj+Y7N5Ad3zvCteJ4ED7D+8WqJ3hQMpACXH3seJA3yBsAnjG40CdXcK0PtvkQA==",
          "dtype": "f8"
         },
         "y": {
          "bdata": "AAAAAAAAAABiFb7HLrzBQINcSmodv9pAsHohlu/e6kAXzA15YFn2QE8XsFOlVP9AK5lxQoUxBEH7dGuyqcAIQZ1noveaqg1Ban7VI8PUEUGE6ZvhqmQVQbIuhBm5fxlBfvl5ZOsrHkGIs/tIerUhQdZoyE2ynSRBlBUAlBq5J0ELZsfLhtcqQTY/9Rl5/C1BMFEAzlSSMEHWhoBcbEkyQcwVUAgKJDRBe7HVWYghNkG5A2ycsEE4QfLIJhyDhzpBMadjSCnzPEGiwxcn3oQ/QS7QtO7YHUFB87OkZZyLQkGwQl8VEfpDQXwL9BV9akVBqxjM+S/bRkH6WoOmr01IQYR5JUFJxklB1CBOonA/S0FDdYSAt7pMQZzWmdUvSE5BHm183vTnT0FRLi6umsxQQbb75PP2rVFB9IdGZ9aYUkGxAlM/joxTQdRQMr/niVRBPBhbhWeQVUGGIsDDEqBWQbwPzP0it1dBlC1iTvvTWEHwAnX2G/FZQSYo7BO/DltBcCE9MJUsXEE80gqks0pdQQ==",
          "dtype": "f8"
         },
         "z": {
          "bdata": "AAAAAOAB5EAAAAAA4AHkQAAAAAAABeRAAAAAAAAF5EAAAAAA4AHkQAAAAAAABeRAAAAAAAAF5EAAAAAA4AHkQAAAAAAABeRAAAAAAOAB5EAAAAAAAAXkQAAAAADgAeRAAAAAAOAB5EAAAAAAAAXkQAAAAAAABeRAAAAAAOAB5EAAAAAA4AHkQAAAAADgAeRAAAAAAOAB5EAAAAAA4AHkQAAAAADgAeRAAAAAAAAF5EAAAAAA4AHkQAAAAADgAeRAAAAAAOAB5EAAAAAAAAXkQAAAAAAABeRAAAAAAAAF5EAAAAAA4AHkQAAAAAAABeRAAAAAAAAF5EAAAAAA4AHkQAAAAADgAeRAAAAAAOAB5EAAAAAA4AHkQAAAAAAABeRAAAAAAOAB5EAAAAAAAAXkQAAAAAAABeRAAAAAAOAB5EAAAAAA4AHkQAAAAAAABeRAAAAAAAAF5EAAAAAA4AHkQAAAAADgAeRAAAAAAAAF5EAAAAAAAAXkQAAAAAAABeRAAAAAAOAB5EAAAAAAAAXkQA==",
          "dtype": "f8"
         }
        },
        {
         "line": {
          "color": "rgb(188,128,189)",
          "width": 2
         },
         "mode": "lines",
         "name": "Segment 8415938",
         "opacity": 0.8,
         "type": "scatter3d",
         "x": {
          "bdata": "AAAAAAAAAAD7m1NXXc39v9MR3ZSzkyJA/G1GwqkciT3xmaA8LN5GQCQ932GeG1tAgOj/CQUCYUD9EHWaMVxlQAZUj6VRmGpAIWydWDddcEAHofKPANlzQOghWH/TvHdAVMiU6u/7e0AzIvK+gUeAQLwqp4NBtoJATw7d1R82hUAe68WA0vmHQNlKBJp/1opAeemB/X3ujUCeCYYZs6WQQDRKO+VQb5JAUYRa77g/lEC9KZL0gjCWQE0Qv2KLXZxAwfUqgt93oUAcJxRupPikQMjHbOTxr6hADW8PThyjrEDX1L1ErAyuQL53xMWJha9AQHj0Yt8ZrkBrCYuteqasQPfMVIEkLatAmyp9ZYanqUDkF2R/moWuQJMcvS+qv7FAf75AdFtEtECYwY97Mc62QMU4wQzKZLlAKQb/OCcSvED5QO0xAQS9QPLU5ltP5r9AhxUz565xwUCx8Tbk1ffBQJ88FrpZgsJAwbQW7ywRw0AELd6vf8LEQDIYGIu7gMZA9YYQmntLyEBxUJMOe+vIQA==",
          "dtype": "f8"
         },
         "y": {
          "bdata": "AAAAAAAAAAD80/l0WTChQF2acJ9BFblAnRh14r750EDdf74c2u/gQNr5MRYdhexAodgHR2DG9UC5zRvUFj7/QLcxqpbFUAVBGkHXodn8C0GBX5E6psgRQe4lxH7gAxZBZ6RDz3aiGkFnS85RU5wfQao975WecyJBmvBh1r0rJUETcPQOiS0oQUN1um2gSitBiDVZcyioLkGzsaqTUygxQdKolXkiGjNBX9FtxFUTNUHaBSudwy83QWHt74DudzlBIXcMEHnlO0FY0i8OJnw+QbCt9qmQnUBBGqXncywTQkFHXWlUfJxDQSX002NzNkVBmOk1TG3ZRkHwPLLmVYVIQaw0VJwQOEpB602HqfX4S0Fs3+3BXMVNQazy+HT7m09BKASRUTG8UEGF5lFoTKxRQSVWl3IdoVJBKjoTvFieU0FcbxcGcKVUQWWl7a86tlVBJWe6OefQVkGiRq4Ax/RXQQb3sCgjIllBv/i8kt9YWkE5ANurFZlbQRbH5JbV4lxB3joH+NU1XkENTsQs8ZFfQQ==",
          "dtype": "f8"
         },
         "z": {
          "bdata": "AAAAAABY20AAAAAAQF7bQAAAAADAattAAAAAAMC120AAAAAAwADcQAAAAADAS9xAAAAAAICQ3EAAAAAAAM/cQAAAAACADd1AAAAAAABM3UAAAAAAwJDdQAAAAACA1d1AAAAAAMAm3kAAAAAAAHjeQAAAAADA1d5AAAAAAMDu3kAAAAAAQC3fQAAAAADAOd9AAAAAAEBG30AAAAAAAEDfQAAAAABARt9AAAAAAMBS30AAAAAAQJHfQAAAAABAw99AAAAAAOAA4EAAAAAAAB3gQAAAAAAgOeBAAAAAAEBV4EAAAAAAgHTgQAAAAADgluBAAAAAAKDC4EAAAAAAYO7gQAAAAAAgAeFAAAAAAIAj4UAAAAAAAEnhQAAAAACgceFAAAAAAGCE4UAAAAAAoIrhQAAAAAAAlOFAAAAAACCX4UAAAAAAAJThQAAAAAAAlOFAAAAAAACU4UAAAAAAAJThQAAAAAAAlOFAAAAAAACU4UAAAAAAAJThQAAAAAAAlOFAAAAAAACU4UAAAAAAAJThQA==",
          "dtype": "f8"
         }
        },
        {
         "line": {
          "color": "rgb(204,235,197)",
          "width": 2
         },
         "mode": "lines",
         "name": "Segment 8898173",
         "opacity": 0.8,
         "type": "scatter3d",
         "x": {
          "bdata": "AAAAAAAAAAA4ZsrG2/UfwEoGvaHU9zfAgG2zBPTHXD10W1MIMQpBQOxGdHkanGNA0phVjTxkakBfnrzQQ7dwQEFzabf4SHxAfWCDoVSlhECVvSzXGgmMQJeDfMkFzpRARpn1BGI+n0BfVmISqSalQFCMXDmosapAGu5OTxYgsECjomG62U6yQPr9ZGLjlrVAjwdBhaLsuEDfZqYzJUS8QCw8WNVFVsBAWgL3BU6LwkAl5Y5CHtfEQO3Mr5oV1cdAa+2TGevbykD++/cFi3/NQIl+aH4zddBAfUGBxm6X0kAopM81EH/UQOVo2A/J2tZAyln4szmt2UAB4uq9Z4DcQDJK+qmMVN9AM9nh3Wwl4UC3AobiibHiQOn/AQ3VS+RAQOGNXrMt5kDfQmnKZBHoQLT31kea9ulAs7Xw/Wgd7EB4dsmUgxHuQPqUbje+SPBAXaVkQqKU8UAB0zpOguHyQPGLmEM1OvRALNW+zZme9UBAqR7fhQ/3QI0yaLt+sPhAKKt5LHpS+kBeE6SEHSf8QA==",
          "dtype": "f8"
         },
         "y": {
          "bdata": "AAAAAAAAAABoKhYWMEnEQBzEdXMect5APZ4x9d8260AI9Q9udiD2QLpmEd8tkgBBYSskp8RaB0EE1SmsQmUOQdGG/UxXWRNB8qU6kggEGEHXgAERl1EdQawS5fZ3oCFBhfCHtKDoJEHxF2M1pWIoQTlVP3Lh3itBpyLjb1VdL0FEFOgxR5cxQXl9syF5pzNBk+dH+krANUGb3NywONo3QfvEHyodBDpBF17mjNMuPEGefnJQ528+QRNLfddNbEBB9CK6tTqkQUHvTNvC3u9CQQqhQooPUERBmhKupszERUGqauOlaE1HQa/D3Nlg6UhBk8IQbCOVSkFjKw5eVkFMQavqf6Yb7k1BS0QV1RmvT0E70tp2F8JQQdod5E4HtVFBcXKF6AGxUkG4Wr/h8K1TQRxpGaKqq1RB1q9fao+tVUG3AugkE7NWQZytxIRVwldBryPId6/bWEHBITTg3vVZQVSf+GwUGltBmo2ImTNIXEEdjujl8YBdQeQ0vNzVw15BRncF9MADYEFuA6drwKpgQQ==",
          "dtype": "f8"
         },
         "z": {
          "bdata": "AAAAAAAF5EAAAAAA4AHkQAAAAAAABeRAAAAAAAAF5EAAAAAAAAXkQAAAAAAABeRAAAAAAOAB5EAAAAAA4AHkQAAAAAAABeRAAAAAAAAF5EAAAAAAAAXkQAAAAAAABeRAAAAAAOAB5EAAAAAA4AHkQAAAAADgAeRAAAAAAAAF5EAAAAAAAAXkQAAAAADgAeRAAAAAAOAB5EAAAAAA4AHkQAAAAADgAeRAAAAAAOAB5EAAAAAAAAXkQAAAAAAABeRAAAAAAAAF5EAAAAAAAAXkQAAAAADgAeRAAAAAAAAF5EAAAAAA4AHkQAAAAAAABeRAAAAAAAAF5EAAAAAA4AHkQAAAAADgAeRAAAAAAOAB5EAAAAAAAAXkQAAAAADgAeRAAAAAAOAB5EAAAAAA4AHkQAAAAAAABeRAAAAAAOAB5EAAAAAA4AHkQAAAAAAABeRAAAAAAAAF5EAAAAAAAAXkQAAAAAAABeRAAAAAAOAB5EAAAAAAAAXkQAAAAAAABeRAAAAAAAAF5EAAAAAA4AHkQA==",
          "dtype": "f8"
         }
        },
        {
         "line": {
          "color": "rgb(255,237,111)",
          "width": 2
         },
         "mode": "lines",
         "name": "Segment 8509992",
         "opacity": 0.8,
         "type": "scatter3d",
         "x": {
          "bdata": "AAAAAAAAAACtqhiqrituQGNEOtKcKn5AYI12KX28br0+3/GwS3qTwP3wB4P+mKXA5efqFzIzssAQng9GOEe8wJ+5TjsvV8LAuAXwkSD2wcCA9gehWYe4wC6GL3CjMHjAZh4bRrohwUBBdPzpif7UQDseF/l4tuJADnM4Jc/77EC/cjNuVLX0QDEI/rp68ftA08lMeTPuAUGYzI79Gj0GQTqqPFMpJAtB8wSFSPlnEEFVFgOzrpsTQbnTl1/vQxdB9lGGCeBJG0HHOMj3FpgfQa8LvDERGCJBu2YmtSuGJEHF2allpBonQSL+TTWc0ClBKlyd+IWnLEE4/ueXVqEvQbLE0EwhYTFB7YlhZDECM0GCGofrmrU0QdsspF+teTZBsJ/aCfpOOEFPiVUatDQ6QfmaFGj3LDxBsg9MajYzPkEOa+rIZCJAQbeFBBLSM0FBvXX6JERNQkEIWNhK0XBDQe+B5MuVnURBUP5KsA3QRUH1+lI3gw1HQZDPAVPQT0hBkymnl72aSUGfO/H1Iu5KQQ==",
          "dtype": "f8"
         },
         "y": {
          "bdata": "AAAAAAAAAABENlMwTPy/QA+F6XS8p9VAfurv1jk040BApA7q/MXuQARAochGrPZAXESpiL8LAEEmsAcW49YFQY41V4CPowxBE70LF0nsEUFDqpFO67YVQZ42hDjZrBlBJpzxjN7QHUGfuGsorBEhQVhicTcmUCNB6in8SDulJUGi8VxrjQ0oQTWPcooAuipBv7SnBl6rLUGf8O+l/XEwQdCT4DRMLTJBs+pU+njsM0FQGNDJebA1QUE0xmFUcjdBvA8xEutGOUEK6Kl4Ujo7QZ9++eTOSj1BNC3bkKJ3P0EdziCnMeJAQedHR+3EGEJBlShQLG1fQ0G4jmCyLbdEQeYaaekXH0ZBo45+YHmXR0GUEA0OaiBJQQwq0f8SukpBDvgtaFhjTEEVrGcWUx1OQU8uOZ8r6E9B6QUj6OXeUEFyeVZL1s9RQSQ8XKGcx1JBKn1MbLXHU0HTUHVJANFUQeqfYAGu4lVBYihHq4v5VkFVwKe3OBlYQTN1aw5JPVlB5cYmYyppWkHUKYf08phbQQ==",
          "dtype": "f8"
         },
         "z": {
          "bdata": "AAAAAADW30AAAAAAAATgQAAAAACgE+BAAAAAAAAd4EAAAAAAwC/gQAAAAACAQuBAAAAAAEBV4EAAAAAAIGvgQAAAAADgfeBAAAAAACCE4EAAAAAAYIrgQAAAAACgkOBAAAAAAOCW4EAAAAAAAJrgQAAAAAAgneBAAAAAAACa4EAAAAAAAJrgQAAAAAAAmuBAAAAAAACa4EAAAAAAAJrgQAAAAAAAmuBAAAAAAACa4EAAAAAAAJrgQAAAAAAAmuBAAAAAAACa4EAAAAAAAJrgQAAAAAAAmuBAAAAAAACa4EAAAAAAAJrgQAAAAAAAmuBAAAAAAACa4EAAAAAAAJrgQAAAAAAAmuBAAAAAAACa4EAAAAAAAJrgQAAAAAAAmuBAAAAAAACa4EAAAAAAAJrgQAAAAAAAmuBAAAAAAACa4EAAAAAAAJrgQAAAAAAAmuBAAAAAAACa4EAAAAAAAJrgQAAAAAAAmuBAAAAAAACa4EAAAAAAAJrgQAAAAAAAmuBAAAAAAACa4EAAAAAAAJrgQA==",
          "dtype": "f8"
         }
        },
        {
         "line": {
          "color": "rgb(141,211,199)",
          "width": 2
         },
         "mode": "lines",
         "name": "Segment 8792288",
         "opacity": 0.8,
         "type": "scatter3d",
         "x": {
          "bdata": "AAAAAAAAAACZ5og4MWQyQFZVV/r5LDtA1DiYTLuAnr0P5HMeDKphwJvNJBtpwnPAWh6y54tWhcCmh7oyzFSRwMhBSxZvs5XAQRtYMgHKmMC3S3UxyTKcwBfWcaRUBKHAAwBj3jpopsDkVQf16mauwC5NABvk5bPAHeRR4YpUucCXxsS3qTe+wJuo33eWDsDAfakpou2xwMC3YzENo6DCwBkmJIS1LcXAPwojpoTnyMAp5Y8rqGLMwOWCsVY4QdDAAxWguks808CyTeOB4RjXwA8+YP/4Md3Aomc+hACe4sBJGwJ72enmwJwQDnV/WuzA119CznEx8cCSUfANicH0wBy4cRM5mvjAv2JN/O+i/MC3xTTPvF8AwVhVHJ5hhQLBp8dhv7vOBMGuA1+ausoHwaK7nA5CTwzBh9oHg4BREcHzejHSI+wUwSfL0b3xURnBgfj161TQHsGspGVIWaUiwf46a2C0eibBSLWh7MjOKsEH0OJR84YvwcnNomRMKzLB7rB+TY6eNMFzI42SEyU3wQ==",
          "dtype": "f8"
         },
         "y": {
          "bdata": "AAAAAAAAAACoE4846ye/QIkcHxZrE9dAq/E9XCe+5kA9DlcJLMDyQCeuTlWR4ftAz+AGIPtrA0Eab+kUscsJQQOXHLSGjBBBTjU9D5mqFEFt43PLTTYZQWWufoODFh5BNzngxFefIUEsrNkJMU0kQSzJJiUcCidBLtmIVVHXKUFdopdTnbAsQcO3al712y9BFV1JioqhMUHF0FOQ13ozQaxVgA2efTVBwuOcJ5upN0FnkX7c2f45QcSnaglIZjxBIUZteu/lPkHmRucearZAQU1Tk0ExCEJB2tTs8bNuQ0EcRd9Tgt9EQUcDnEGeXEZBpFWxpqLfR0G6o2KtjnpJQYJuCbc+K0tB7XIYTAnxTEHevL7AO8tOQZR1LgY/XVBBuR3qmXVeUUGwBgHBcGZSQSvGtQziclNBnl+1xzGCVEG7lOSxb5lVQSUhvpA6slZBQiE/kkTLV0FBfMW98uNYQZn2wQ6A+llB2y6pgHwPW0H3G+29hClcQZm36lxpUF1B+C7j9fWBXkE4XjK45LxfQQ==",
          "dtype": "f8"
         },
         "z": {
          "bdata": "AAAAAABS3EAAAAAAgJDcQAAAAABA1dxAAAAAAAAa3UAAAAAAAGXdQAAAAAAAsN1AAAAAAMD03UAAAAAAgDneQAAAAABAft5AAAAAAADD3kAAAAAAwAffQAAAAABAX99AAAAAAEDD30AAAAAAgPvfQAAAAABACuBAAAAAAKAT4EAAAAAA4BngQAAAAABgJuBAAAAAAMBI4EAAAAAA4GTgQAAAAADAeuBAAAAAAMCT4EAAAAAAgKbgQAAAAABgvOBAAAAAAODh4EAAAAAAIOjgQAAAAADA9+BAAAAAAGAH4UAAAAAAYCDhQAAAAADAQuFAAAAAAABJ4UAAAAAAIEzhQAAAAACgWOFAAAAAAKBx4UAAAAAAoIrhQAAAAABgneFAAAAAACCw4UAAAAAAIMnhQAAAAACA0uFAAAAAAMDY4UAAAAAAwPHhQAAAAABgAeJAAAAAAKAH4kAAAAAA4A3iQAAAAAAAEeJAAAAAAAAR4kAAAAAAABHiQAAAAAAAEeJAAAAAAAAR4kAAAAAAABHiQA==",
          "dtype": "f8"
         }
        },
        {
         "line": {
          "color": "rgb(255,255,179)",
          "width": 2
         },
         "mode": "lines",
         "name": "Segment 10628386",
         "opacity": 0.8,
         "type": "scatter3d",
         "x": {
          "bdata": "AAAAAAAAAAABqgZj32AewBiYoCwBgSfA4n8+fUoGl70yxIFR7ohHwCkHRV9Ut3zAiRAe2WP0oMCjKMIFcAa1wI4P332mg8TAV0PKbhe10MB4yGS0CRDYwLreNgZOQeDA7PTjbO/y5MAvNhTVlSfqwFC1RlyABPDAUHK6bNk388CsHJPTLa72wLp9qDend/rADiHFOLuL/sDDjqR64ncBwQDG7TDj0APBu8QvFwhVBsEeq6eudfkIwfL6AuIRxgvBinzM6MnLDsFNgw3+A/8QwYc+AXqdrhLB57sKuSN6FMHPwLhvqFcWwWYjhAinSBjBCAYKTwVPGsGkSng3UHEcwQe22GXtqB7BIIfKw612IMEJ8zzUPKIhwXbWxiUm0SLBUtZMUJkKJMEC91OXYk4lwQ8DvPE1VCbBd+2ZOkTrJsGq295/Uf8mwSWdo85fiibBiLhGRuKgJcGP1ljxKDYkwZLSwF/ldSLBfycw/nOeIMEQUF51f4odwbPh5koI3xnBnOYcgBUxFsGuRNr2TogSwQ==",
          "dtype": "f8"
         },
         "y": {
          "bdata": "AAAAAAAAAACJepCcrGenQLqmx71MJ8BALfFHeQIS1ED+3eeR7hrjQDruAtt5T+9ARNebj8KX9kASP+1o4ED+QFVk9V5BVgNBSZ9RL9lmCEEsbxTrKT4OQeWASpetZhJB0/AGULgLFkGG49HZfhYaQR/K1uprpx5BG3AJTBLXIUGvfYjuBo8kQWoatt3NfydB0mrkdIKqKkFxaHTfsgkuQfNmDA6E1zBBgMVpQK7LMkFtYJy/0d40QdQOrl2CETdBIbZ0T0lqOUGmGpOPouU7QZ5a0jjkgz5BfDvmvNSiQEHKt87NiBFCQW7CJb8xj0NBtpt3WLIhRUEEj/LbNsVGQZRnj/oaeUhBIxYvpNY2SkFllneA6f1LQbNtWTAUyk1BL1zWYn+rT0Hx6gSJKdFQQaZQpo6Z0lFBsL2AxCLXUkHAho+Yi95TQWn/84/C51RB6kpIIQ3yVUGlyWrFkfxWQVwzcEjYCVhBzo829nMbWUHzbalSFS5aQVN7a4cHQVtBp91DwrNUXEESCZYdOWldQQ==",
          "dtype": "f8"
         },
         "z": {
          "bdata": "AAAAAIDG00AAAAAAwP7TQAAAAAAAHtRAAAAAAIBc1EAAAAAAgKfUQAAAAABA7NRAAAAAAMAR1UAAAAAAgD3VQAAAAAAAY9VAAAAAAMCn1UAAAAAAwPLVQAAAAADAPdZAAAAAAMCI1kAAAAAAwNPWQAAAAABAEtdAAAAAAMBQ10AAAAAAgJXXQAAAAABA2tdAAAAAAMAY2EAAAAAAgF3YQAAAAAAAnNhAAAAAAIDa2EAAAAAAQB/ZQAAAAADAXdlAAAAAAACW2UAAAAAAQM7ZQAAAAACABtpAAAAAAMA+2kAAAAAAQH3aQAAAAADAu9pAAAAAAIDn2kAAAAAAwB/bQAAAAABAXttAAAAAAECp20AAAAAAwOfbQAAAAABA9NtAAAAAAMAZ3EAAAAAAADncQAAAAACARdxAAAAAAABS3EAAAAAAwGTcQAAAAAAAa9xAAAAAAMB93EAAAAAAQIrcQAAAAAAAndxAAAAAAICp3EAAAAAAQLzcQAAAAACAwtxAAAAAAIDb3EAAAAAAQAfdQA==",
          "dtype": "f8"
         }
        },
        {
         "line": {
          "color": "rgb(190,186,218)",
          "width": 2
         },
         "mode": "lines",
         "name": "Segment 9360838",
         "opacity": 0.8,
         "type": "scatter3d",
         "x": {
          "bdata": "AAAAAAAAAABSfqI5VV8FQFOzzmpKPSDAzILeqEI6kT2doZ/92lxDQF8WzED8M1ZAnXBizb06WkBTiZcZwBdfQC5ppNz1lGpAlAMAgyCmc0CSmlhz24R1QA0yw1Aoq3dAChQ6N3cGekBkY1StSJV8QH69OIf2XoNA8yjma13QhEBptDCBbVuGQNHinJEe8odAHnXA4gmqiUAiYYaNvH2LQGeNt2ji8odAQwY5I5zkiUCfM1s2GASMQI/UeTKgY5JAzfdFEsIokECjTm3pr6KLQNEr2ZSkS45AcAfaDgSPkEC+fIRL+3OLQCBL6D+er45AhTqjpLEKkUDurhXBOdGSQHsM/t0zspRAy032U0WmlkAxwQ0SVTyWwHtPUoqf39DAjWt2TD+c5sD0tJrtBpT1wE/GRGoufwHBB0D/BVlACcGJtSiQUKAQwXFwhLxbrxTBX7emodTlGMFFtVYHdkYdwZopujZy4yDBdzFyoig3I8Gzz0ccpZIlwc9J5QiACyjBWOlyNL2KKsE66idJmBEtwQ==",
          "dtype": "f8"
         },
         "y": {
          "bdata": "AAAAAAAAAAAWVQNvNDmxQIl9SooAJctADxltHoui2kBdAgcqXVvlQI6QXHBXwO9AW8lGasZa9kDERO/S5yz+QB0RKlQyqwNB7fd/iI3yCEHoDEDstPYOQXHN4R1w8BJBK781Rde6FkFPxUMyLNgaQadYFjTADx9BmjcJdhjaIUFfhveThVUkQSaG7li24yZBj75sak2nKUFRZaNKmpcsQZv7wk2woS9BS2Xi9ilhMUFNgukLRBYzQd619MDY5zRBkfb716LRNkEBjgIF7tM4QcGelxuT9zpBINtNpZA8PUFtwvRtoao/QXjpr3YgIkFBBx3T++N/QkHl0SgWdO1DQRvfLZ5EcEVBt2j+0m8CR0E/qZ8Ug6ZIQW8R5Kq+T0pB26ahKaD6S0H6LRC0zaZNQTtB2r0sU09Bzx1FV26CUEG5OMubKGVRQZHgNvngT1JBWnP5witFU0EqH//OzUVUQXV4HTa4TVVBerMqwrNcVkEPBQKPOG9XQdvtOCsljVhB9A8lbO2vWUHEs2xaLdRaQQ==",
          "dtype": "f8"
         },
         "z": {
          "bdata": "AAAAAMBI0EAAAAAAwGHQQAAAAACAjdBAAAAAAIC/0EAAAAAAwPfQQAAAAABAT9FAAAAAAMCm0UAAAAAAAPjRQAAAAABASdJAAAAAAICa0kAAAAAAgOXSQAAAAABAKtNAAAAAAIB700AAAAAAANPTQAAAAACA39NAAAAAAAAe1EAAAAAAgHXUQAAAAADAlNRAAAAAAIDZ1EAAAAAAwCrVQAAAAAAAY9VAAAAAAAB81UAAAAAAQLTVQAAAAAAA+dVAAAAAAEBK1kAAAAAAQJXWQAAAAADA09ZAAAAAAEAS10AAAAAAgErXQAAAAACAfNdAAAAAAAC710AAAAAAwP/XQAAAAADAMdhAAAAAAIB22EAAAAAAQKLYQAAAAAAAtdhAAAAAAMDH2EAAAAAAQNTYQAAAAAAA59hAAAAAAIAM2UAAAAAAwETZQAAAAACAidlAAAAAAIC72UAAAAAAQOfZQAAAAAAA+tlAAAAAAMA+2kAAAAAAQEvaQAAAAAAAd9pAAAAAAECW2kAAAAAAQK/aQA==",
          "dtype": "f8"
         }
        },
        {
         "line": {
          "color": "rgb(251,128,114)",
          "width": 2
         },
         "mode": "lines",
         "name": "Segment 10559261",
         "opacity": 0.8,
         "type": "scatter3d",
         "x": {
          "bdata": "AAAAAAAAAAAt1N/1w7s3wB/dT9beyFHAcNpAGuvJij3AG4AfGzeZQL6mzJnGe7RAQrBSyOz3xUBIOmin0WXTQB0SESnGXt5Ahib8VUcI5kApd2yGM2TuQNxUth1ODfRAUCF4YT+P+UA9kOQZ/b//QDI09Oi/EwNBM4hlnxLjBUHc5aVPdCoIQZVcPTIk2wlBPQSFr9z0CkGugp72HGcLQfIR2fbwJwtBkgbFT0tACkEzKEA0ZfUIQez95N4rcAdByNR1XrHRBUHM9FEmbSAEQYe5VOu0UgJB1mqiCulfAEEwtsslwaD8QBN3dJsiSvhAhTtUCz6880Ddc/i+xcPtQI+JXguBn+NAcd0LRB8f0kCK3Kh7ivWuwBoqG/WIHdvAEtbVLeJx6cDpILiRWgLzwPDN5ZW2hfnAw49sb9cgAMESRdOZdqwDwVse6qyWNgfBGrCVX/juCsF2PsxIMdcOwZamsOIrbhHBhDEyVYB/E8FSYXSZzJ0VwRD45xtiyRfBBZiVnsoMGsEpXYDXhVYcwQ==",
          "dtype": "f8"
         },
         "y": {
          "bdata": "AAAAAAAAAACc3vNS5rTBQOzWAfSKidpAqrDAhvyI6kA0DN9Ca6n0QOQD54wcoPxAX9bI3fqTAkHyp/enhh0HQfRCWIsR6gtBYEw3BF2yEEHSp3mFAPYTQc8EPJzxwBdBgUSfYsMUHEGtMS9v9nggQX6bIgCdKiNBFj2Rs5D+JUEzsl6mYvAoQb4mssr2ACxB+5L81ScuL0HKh5feiDoxQTEjEfth6TJBfrNoeyqjNEG4MiVpPHc2QY5INBzwazhBEJHdkiCBOkH9t1qhxrg8QUsGQAq0FT9Bql8GDq7LQEH/GlHq/R5CQWLG7n8rhENBXEerux/7REErbWxrjYNGQWNHH3+ZHUhBU76OGKfISUEwz8svO4VLQSIQUDvvUk1BodV4PI4zT0Fa5qWfg5NQQf/vFgc+llFBYRREOcGhUkFfUekslbZTQVd52u7N1FRBkXWbAF/8VUHRN6BFcS1XQZc0ik5WZ1hBnW9zbDuqWUGJrMSwCfVaQTozgLryR1xB5sA2xGijXUE70austQhfQQ==",
          "dtype": "f8"
         },
         "z": {
          "bdata": "AAAAAACU4UAAAAAA4JDhQAAAAAAAlOFAAAAAAACU4UAAAAAAAJThQAAAAAAAlOFAAAAAAACU4UAAAAAA4JDhQAAAAADgkOFAAAAAAOCQ4UAAAAAA4JDhQAAAAAAAlOFAAAAAAACU4UAAAAAAAJThQAAAAAAAlOFAAAAAAACU4UAAAAAAAJThQAAAAAAAlOFAAAAAAOCQ4UAAAAAAAJThQAAAAAAAlOFAAAAAAOCQ4UAAAAAAAJThQAAAAADgkOFAAAAAAOCQ4UAAAAAAAJThQAAAAAAAlOFAAAAAAACU4UAAAAAAAJThQAAAAAAAlOFAAAAAAACU4UAAAAAAAJThQAAAAAAAlOFAAAAAAACU4UAAAAAA4JDhQAAAAAAAlOFAAAAAAACU4UAAAAAA4JDhQAAAAAAAlOFAAAAAAOCQ4UAAAAAA4JDhQAAAAAAAlOFAAAAAAACU4UAAAAAAAJThQAAAAAAAlOFAAAAAAACU4UAAAAAAAJThQAAAAAAAlOFAAAAAAACU4UAAAAAAAJThQA==",
          "dtype": "f8"
         }
        },
        {
         "line": {
          "color": "rgb(128,177,211)",
          "width": 2
         },
         "mode": "lines",
         "name": "Segment 9418769",
         "opacity": 0.8,
         "type": "scatter3d",
         "x": {
          "bdata": "AAAAAAAAAAB6C8/xIvwUQCcNQ/Msgy/AqzHmHRyMlj0iTaeu+PpRQGWbP9tbEmNAU8T30ARKb0AqSvv8e9V2QLb+qG+i0nhAXsgDijzOgEA2Cp2UjjKJQEHdfCWgKpFAPkV3Wfv9k0A0BkwEkAmXQHVipFMkUZpACzhVotY5oECZQOCWuRSiQKmqmK0gY6hADSY+udOgsUC6hJMWqKe4QL7aYa9hjL1AijPbTj8swED9wQQ1DpfCQDIXpGX9p8VAlS2vOxJLwkARbiUh2ReiQL/vxi78o8TARpPfXWPy2MBiQ8wawcHjwJg1pCP2uuvAwUfP3Sj48cDqUwiGKkT2wLA1OeJorfrAXjeD8kSj/8BJvcL+MT8DwbXoz1lOaAfB/5g81zJ8C8EUOJ/f9cIPwe8rnDW7GRLBL/ArjkxuFMHcAtE3R84WwaOuNm4XQhnBTTsmlVXCG8EFE8AGbV0ewdlRSZwmhiDBFt8ERXvjIcGipk0o7Ekjwax5lf4+viTBg3hRfQQ3JsH60xCfYLQnwQ==",
          "dtype": "f8"
         },
         "y": {
          "bdata": "AAAAAAAAAACtmP6fUJ/BQJBDpXJ8bdpAP9DorBN06kCagaxhK8b0QEnS1na7PP1AQkgmrzS/A0GnDdjDT8gJQavOiCasOxBBAQoZgRDsE0FlFWqoifIXQbqM/XdTVBxBVhdexGiJIEFNqQ6P5BcjQQB0ee+x2CVBf5PymQbKKEFPtua3YOcrQVR9TTY/KS9B1UO3PTs9MUEDaZrOkOwyQSwCZcVDpzRBpjNXqCKINkF1CdLQg484QT7+Cc5KujpBQxHBiUn8PEETplyRkks/QTvLPcuO00BBPLAK1+YQQkH/xsBeJWBDQdbUTCTfwERBN39nYzIzRkHuqQV96LZHQZQIWdT6TElBqKo0RGfzSkE82lbziaFMQVHutQ1yW05Bfx+frOQTUEGIdSndSAJRQZlDB+PD+VFBS+wWVWT6UkG7X12zLANUQXoquGaYFFVBAWeTy+4uVkEBySKvdVFXQXfw11OafFhBzJqpvLOwWUGMSskV1uxaQZzv6LwjMVxBJqrk1XB9XUGKjdsOEdJeQQ==",
          "dtype": "f8"
         },
         "z": {
          "bdata": "AAAAAABG3kAAAAAAAEbeQAAAAABATN5AAAAAAIBS3kAAAAAAAEbeQAAAAAAALd5AAAAAAEDo3UAAAAAAwKndQAAAAADAd91AAAAAAIAm3UAAAAAAQNXcQAAAAAAAhNxAAAAAAMAy3EAAAAAAgOHbQAAAAABAkNtAAAAAAAA/20AAAAAAwO3aQAAAAACAnNpAAAAAAEB92kAAAAAAwHDaQAAAAABAZNpAAAAAAABe2kAAAAAAAF7aQAAAAAAAXtpAAAAAAABe2kAAAAAAAF7aQAAAAABAZNpAAAAAAABe2kAAAAAAAF7aQAAAAAAAXtpAAAAAAABe2kAAAAAAAF7aQAAAAAAAXtpAAAAAAABe2kAAAAAAAF7aQAAAAAAAXtpAAAAAAABe2kAAAAAAQGTaQAAAAAAAXtpAAAAAAABe2kAAAAAAQGTaQAAAAABAZNpAAAAAAEBk2kAAAAAAQGTaQAAAAAAAXtpAAAAAAABe2kAAAAAAQGTaQAAAAAAAXtpAAAAAAEBk2kAAAAAAQGTaQA==",
          "dtype": "f8"
         }
        },
        {
         "line": {
          "color": "rgb(253,180,98)",
          "width": 2
         },
         "mode": "lines",
         "name": "Segment 10282111",
         "opacity": 0.8,
         "type": "scatter3d",
         "x": {
          "bdata": "AAAAAAAAAACEz6pSeY0SQPyKcYDhOSbA01HUmnxSnL38S1PQuTVSwLF4CuBOX2TAloVL7nLjcMCd2lkI7wN0wJyGewm+q5JA90rhnJNxtUDT19K+AR7JQG4B0fZkkdZASQ4gHD0L4UBRXQXOJIjnQJ9NHSfTje5A+sSObVkj80CHKy1vtVD3QOiaowjTmPtAPlbytfwsAEHemMB5Rn0CQUWjrxRh9gNBoTxJx4yXBEH6h7I+ZEwEQSSUxPTAAQNBBCUVCdmzAEFJ/FqKcLf6QNq629HL8PFAFKj12fZt3EAtoWeo68nQwELpuBa1o+/AfWo7mRwH/MDJwNgskoUEwQaQr5I9ZwvBuWpH2j9EEcFHNwplbe4UwV2BoTQSxhjBx20sS4fOHMGKjESlwX8gwXniynr1nyLBO9KxwArXJMHD2cDu1SAnwYhXcVRehCnBYXHyLi/9K8HADWRsoJAuwe4UsIbbmjDBkN02koH6McFmnKn2tGgzwUOXVzUk5DTBZmQ2YHxuNsH2p0b8fvg3wQ==",
          "dtype": "f8"
         },
         "y": {
          "bdata": "AAAAAAAAAACE9LG2l+q7QI1XqYLsAdVAbRzVGGjf4kDzfH/rLWPvQCFU06/1b/dA2cVJdCtTAEF7ZmNXJOUFQdvFnZxb/gtBQUL6bHw6EUHbz4+S36AUQWlTQnh3PBhB2ZhjnlhDHEEKC4MMNlUgQfGcuogwvSJB2EKecZFiJUF9uE9RZz8oQXxwCNsSNitBJoEjNoSALkH5bU9xkQwxQebzM+kg6jJBfDjACb7XNEGknbWdJdI2QUyvlZ8H2DhBuqA/kS/nOkHaVf94tfs8QRxUiJ1bFD9BUSYv0raYQEHNEJvLvLtBQePdCfRf9EJB3HdZB98+REG97MLJwppFQT4mZQlNCEdBgwsf06eASEHM+TywIAFKQWWsS4rElktBSOpBrYlATUFMMZRDBftOQSUqL2fuXVBBwAPBs8lHUUEJBkxW4zpSQetUUTcTN1NBVJRe8gk8VEGRGUqp+0tVQUZ8iI3BZlZBkmWahnmMV0FjPi2CarxYQWbHgV1X91lBwac/tJU8W0F5q+W3r4VcQQ==",
          "dtype": "f8"
         },
         "z": {
          "bdata": "AAAAAEC61EAAAAAAwPjUQAAAAACAPdVAAAAAAEBQ1UAAAAAAQILVQAAAAABAzdVAAAAAAEAY1kAAAAAAwFbWQAAAAABAfNZAAAAAAECV1kAAAAAAgLTWQAAAAAAA2tZAAAAAAMAe10AAAAAAwGnXQAAAAACArtdAAAAAAADt10AAAAAAwDHYQAAAAACARNhAAAAAAMBj2EAAAAAAQHDYQAAAAACAdthAAAAAAIB22EAAAAAAwHzYQAAAAAAAg9hAAAAAAICP2EAAAAAAAJzYQAAAAACAqNhAAAAAAEC72EAAAAAAQO3YQAAAAABAH9lAAAAAAIBX2UAAAAAAAGTZQAAAAAAAZNlAAAAAAIBw2UAAAAAAQIPZQAAAAACAu9lAAAAAAEDn2UAAAAAAwCXaQAAAAAAALNpAAAAAAMA+2kAAAAAAAF7aQAAAAACAatpAAAAAAMCi2kAAAAAAwLvaQAAAAABA4dpAAAAAAMDt2kAAAAAAgBnbQAAAAAAAP9tAAAAAAABY20AAAAAAQF7bQA==",
          "dtype": "f8"
         }
        },
        {
         "line": {
          "color": "rgb(179,222,105)",
          "width": 2
         },
         "mode": "lines",
         "name": "Segment 9268804",
         "opacity": 0.8,
         "type": "scatter3d",
         "x": {
          "bdata": "AAAAAAAAAADrryFrPzQgwPq/vbkEOzjAGrA+mcYQrz0tAUes5CFAwHpFOQ1Vh4PAUltRxJFTrsAV4vMLxiXEwMiiQsWDFdTAirQiDGjj4MA6GwoWqpTpwCTgLruZC/LA6VQRu3U3+MDpRykM8H//wMZJJQpe8gPBgRCrTPKnCMGU/eZ80NkNwW4wted/xhHBiCwl+yDfFMGcjb8FJTcYwSos7eRh1xvBU93md9a4H8GVRpBc0fEhwZM1FHDlKyTB8iKuJfqIJsG5BXrdawUpwTS0gHx4oivBOAoM/ydiLsEEykB0NqIwwa5DJowBJDLBpHJXpDq3M8E2LSnLz1s1waZTS2YAEDfBQ3s8Ax/TOMGuemEpYKc6wWvgsFxrjzzB/Gsx2g97PsGCNNCCZBtAwS+/S96m30DBIYixYHKLQcHgaKi36x1CwbGI2R+tl0LBCM25nj73QsHra1gTljhDwbZbDNvhX0PBE0DV95WNQ8EGQMx4irtDwe+LNvQL7UPBsFsbpgQhRMHB3KnabVZEwQ==",
          "dtype": "f8"
         },
         "y": {
          "bdata": "AAAAAAAAAACiOpGkWCjCQIcoCOdiJttAl1GFg+4c60CTYlvOJ5j2QAQH7mr70gBBT+6t3/iUBkGueHydhJYMQUu7gvgGYhFBumoh8M6QFEExh1WnjdIXQYL6JmKJKhtBGx/mCTiPHkHQ8u1A2/4gQS92qzk+uyJBKkRA99e1JEENF6OYOvImQefYnt19cClBsDxO4GcuLEHgvLxBzy0vQVAiHcn6NjFB2aZ/0h72MkE6U+y9TdQ0QRHQ+HdH0TZBaI/qaIHtOEE8zfEtESg7QZusML5Tgj1BjkczDcT7P0EwEUD4KkpBQUU3WtNypUJByDhbQWsQREHpf0ocBItFQSgsqCVIFUdB14R0WrquSEHz2kfduVdKQXUJsaHcEExBTDd2yDbeTUFicmsMRb1PQXp5ULkd11BBwzuZVBjXUUHUtgLHSd5SQceGFKFU61NB8g8wjor+VEHObyOFxBZWQX+N1wFSM1dBBO1fw/VYWEGSA5jRB4dZQYW8gnUUvlpBLYMappH9W0ErYoo66EVdQQ==",
          "dtype": "f8"
         },
         "z": {
          "bdata": "AAAAAAAX4UAAAAAAABfhQAAAAAAAF+FAAAAAAAAX4UAAAAAAABfhQAAAAAAAF+FAAAAAAAAX4UAAAAAAABfhQAAAAAAAF+FAAAAAAAAX4UAAAAAAABfhQAAAAAAAF+FAAAAAAAAX4UAAAAAAABfhQAAAAAAAF+FAAAAAAAAX4UAAAAAAABfhQAAAAAAAF+FAAAAAAAAX4UAAAAAAABfhQAAAAAAAF+FAAAAAAAAX4UAAAAAAABfhQAAAAAAAF+FAAAAAAAAX4UAAAAAAABfhQAAAAAAAF+FAAAAAAAAX4UAAAAAAABfhQAAAAAAAF+FAAAAAAAAX4UAAAAAAABfhQAAAAAAAF+FAAAAAAAAX4UAAAAAAABfhQAAAAAAAF+FAAAAAAAAX4UAAAAAAABfhQAAAAAAAF+FAAAAAAAAX4UAAAAAAABfhQAAAAAAAF+FAAAAAAAAX4UAAAAAAABfhQAAAAAAAF+FAAAAAAAAX4UAAAAAAABfhQAAAAAAAF+FAAAAAAAAX4UAAAAAAABfhQA==",
          "dtype": "f8"
         }
        },
        {
         "line": {
          "color": "rgb(252,205,229)",
          "width": 2
         },
         "mode": "lines",
         "name": "Segment 8911856",
         "opacity": 0.8,
         "type": "scatter3d",
         "x": {
          "bdata": "AAAAAAAAAADJXOe1Fb8HQMq5oTuUeiLANx73kkOVkL1PWmh8YcgpQF0Ac6IhpzTAFglVPqJxXsBIv1DNWcFswO9jRH1dCXbAyXSR4+l3fsAtQv+mt0SGwG+yF1a9cI3APvgBoLAHkcDI0OwCD1GVwJf3cJ91U5jAFsTDDEmSncDeqU1MoZ6hwGeKZBo81aXAU34Zt79iqsCPDqtkyA6vwHPsiFHR+rHAztQwll49tcAIxFSqTIq4wDHavOxm/bvAoLilZ9S+v8AAeGazOtrBwAbErxd97MPAG2QniKIJx8Aif9s3NU7KwJ4JTeuivc3AqoKUfGTs0MAc9PoWlRbTwLgj0RtDCdXAy23mEI+218BgFQ4XFjLawFmm0miJI93AGj+ihpNF4MBDYAwZrwjiwNixDauW2+PAG8uZHJnu5cDwNdgLGeTnwMfYzDk5PujAjh4bcO8C5sDan4V0wA/hwNcuztXJENbAIDniGJtBw8AyHr57NYWpQCE3FI3TyM5AjHpRu1hm3EAeqw/mvN3kQA==",
          "dtype": "f8"
         },
         "y": {
          "bdata": "AAAAAAAAAADXPGxm/mq0QLTHteWWeM5AG2CP1Kgf30BW215oaKLqQA2Xfva3RvRAVZtViFO5/EBKf4isaOICQS9eMIHCAAhBhQQ8N32jDUFdXCDIPsMRQUOazEN6wxRBAra5w+jZF0E58NjBQHAbQeNhFlMHdh9BVS5UgufsIUGsD8PvCEwkQVGo9u0G3SZBu326MfKiKUFYB35BdHssQaRQ73PKdy9BWGQjz3hLMUFMaDhzBeAyQXfCHX7YhjRB2rkqNyxTNkGb8FJxfTg4QRZ5YjBDNDpBc6H1yNlKPEGE3tBw4Xs+QaDQ80vTZEBBAYBiwFuXQUG03VsJldpCQcncR6ECKURBNeHGrJ2KRUH4zJIFR/1GQTaOqCcNgkhBn3+Ip0wVSkHioNeZtLZLQWYJOGm6Zk1BwYpWCwckT0GVouCvB3pQQamKKNT3alFB/TjJPJliUkGmMXyHiWBTQUqO6FnGZlRBL5Z6sUZ1VUGDjUzhDoxWQZK/+rpKq1dB9wSr3mDRWEEROqwB0P5ZQQ==",
          "dtype": "f8"
         },
         "z": {
          "bdata": "AAAAAIAa30AAAAAAAHLfQAAAAABAw99AAAAAACAH4EAAAAAAgCngQAAAAAAAT+BAAAAAAIB04EAAAAAAYIrgQAAAAABAueBAAAAAACDo4EAAAAAAAP7gQAAAAABgB+FAAAAAAKAN4UAAAAAA4CzhQAAAAABAT+FAAAAAAMB04UAAAAAAQJrhQAAAAADAv+FAAAAAACDi4UAAAAAAwPHhQAAAAACAHeJAAAAAAABD4kAAAAAAQEniQAAAAACgUuJAAAAAAKBr4kAAAAAAAI7iQAAAAACAs+JAAAAAAMDS4kAAAAAAIPXiQAAAAABgFONAAAAAAMA240AAAAAA4FLjQAAAAABgX+NAAAAAAABv40AAAAAAAIjjQAAAAAAAiONAAAAAAACI40AAAAAAAIjjQAAAAAAAiONAAAAAAACI40AAAAAAAIjjQAAAAAAAiONAAAAAAACI40AAAAAAAIjjQAAAAAAAiONAAAAAAACI40AAAAAAAIjjQAAAAAAAiONAAAAAAACI40AAAAAAAIjjQA==",
          "dtype": "f8"
         }
        },
        {
         "line": {
          "color": "rgb(217,217,217)",
          "width": 2
         },
         "mode": "lines",
         "name": "Segment 11969427",
         "opacity": 0.8,
         "type": "scatter3d",
         "x": {
          "bdata": "AAAAAAAAAAClu1GO1Cc0QLhhv5P1FzZAs+bgoS1qeD3q+NFtXxo2wCZoj70242HA6vveuqglcsA206EuAGZ1wPCh6+ZQf37Ax6F+iN4xZsC9IjSrPnNLQBDSP1RqS2hARezAeTQRdkBpR4vxmfyZQEaQrk/8FadAU9r5tWHFsUDCd2C/2d20QJmM+1BhbrNA0MAx3dK+skCaiDlupO2yQGj1qUVOOItAyHjITDFlqsBsQkX36em9wHDchbaQ3cfAXTqttQ270MDuRqL74JLVwMtW+NX3fNrAjH3RxUAR38D7nn9DjzriwJHoOAsTV+LAxTYndF/j3sDkd4E/3KHXwOsRvkmm/87ANSlWyRdPjsD21bpkNzfSQCxF4wV9fuJArrZJWZsm60ChKln0egjyQEHWxvXeqvZAu2GZWZ4Q+0DELKiZLPL/QMxfPVLhZgJBr4Tkda3pBEH98746uCEHQcH3c447RglBVGf1xJ+eC0Fi6wjJavgNQRqTAWUeRxBBCkleZFjBEUHJtxR4sWUTQQ==",
          "dtype": "f8"
         },
         "y": {
          "bdata": "AAAAAAAAAABJtMNNbSasQDwYu/wyqcFAbgalR0xuz0BDn6HSA0PfQLXsV+mWvetALrbV1/w89UAPe2pduWL+QK5Q6nct3QRBUiy+HX6jC0E0OMbwvIERQQdpSqQ1jhVBwJPNSeEpGkEGyIt69yMfQeut5Zi9UiJB+5XvKgpaJUFXbIyQtKUoQXuouPPSOSxBDYkSutgKMEFlvNCcKQsyQdgzD5ynHDRBhESdJ/QyNkFXLdMt/Ew4QRuWodTtazpBtynqzjCXPEHh79j3rMc+QZoQgm81gEBBRDzo1/ymQUHmVAxz4t5CQaImzOzIH0RB4tvvxSZoRUEdOJOI07FGQaIMgsX9+0dBxc9kiQ9OSUFTmGR4r61KQTVPOlwAHkxBFSFBDW6gTUGOGeldaC5PQWIzibkXYlBBaWTzSRw3UUHlI5Ji/xBSQU28kT+08lJBJeZ1+gjcU0H+eW4clsxUQYu6cKR2wFVBKRoiu864VkHe4pE1u7FXQVWdE+SjsVhBALE5vXK5WUGDtQITRslaQQ==",
          "dtype": "f8"
         },
         "z": {
          "bdata": "AAAAAIBX2UAAAAAAgFfZQAAAAABAUdlAAAAAAABL2UAAAAAAQFHZQAAAAABAUdlAAAAAAMBd2UAAAAAAQGrZQAAAAADAXdlAAAAAAEBR2UAAAAAAgFfZQAAAAACAcNlAAAAAAIBX2UAAAAAAQFHZQAAAAACAV9lAAAAAAEBR2UAAAAAAwF3ZQAAAAACAV9lAAAAAAEBR2UAAAAAAwF3ZQAAAAADAdtlAAAAAAAB92UAAAAAAAH3ZQAAAAADAdtlAAAAAAMBd2UAAAAAAQFHZQAAAAABAUdlAAAAAAABL2UAAAAAAQFHZQAAAAABAUdlAAAAAAABk2UAAAAAAAGTZQAAAAAAAZNlAAAAAAIBX2UAAAAAAgFfZQAAAAACAV9lAAAAAAMBd2UAAAAAAAGTZQAAAAAAAZNlAAAAAAEBR2UAAAAAAAEvZQAAAAABAUdlAAAAAAEBR2UAAAAAAwF3ZQAAAAABAUdlAAAAAAIA+2UAAAAAAgD7ZQAAAAABAUdlAAAAAAABL2UAAAAAAQFHZQA==",
          "dtype": "f8"
         }
        },
        {
         "line": {
          "color": "rgb(188,128,189)",
          "width": 2
         },
         "mode": "lines",
         "name": "Segment 10075313",
         "opacity": 0.8,
         "type": "scatter3d",
         "x": {
          "bdata": "AAAAAAAAAACSCDIb2t4owAA9vEoaDELAdsQrMGmelD0Uu8kRT7QSQK7XFSPz0WBAokigi4QuckAM4dFM32l4QHmhI7Qxwn5AwbVRYQGPgkDZPQPjb7KJQK8qh0ssv5BAC4VHU3Ekl0CxRaYbcvebQFK1iTjFkaFA+Sx6c1b5okCABf+H7mmkQGkoVUlj26VACkcB6FpSp0CKkOTdG8qoQEWHeD5IWqpA7lwvRgiAqkB3ld7vduetQI3DSDsLx7BAypvUVsigs0DtEf0ZPam1QBKdfYJTvLdARFV0gNnkuUA1Yb3nLxC8QKgTNs0XPL5A6Itqr9Rtv0CScXzv3ubAQD2qFCnVHsJAYuPRt55lw0D6/dedybbEQHIsX9LPacVAvP48HZ8ixkDk4j7jqdvGQG9yg2h5nMdAqtBQ2aBlyEAmsq1ndTDJQKROq9suBMpA/2Ng5f3cykBXpIzH+rXLQCPa81ZjlMxA2rV/Sg57zUBWpxfWC2fOQAAaSHeEiMdA1Q9P2giwsECeINX+J46wwA==",
          "dtype": "f8"
         },
         "y": {
          "bdata": "AAAAAAAAAADTYzsopdC+QJmgJoLEXtZA+GUFqZtj5ECVK9fydOzwQBPu/PRnlvlAHNRl6gECAkEUZkipRF0IQc1FhSAL1g5BmthxryypEkHXDjE7SngWQTyaUJhWoRpBQx0pY3pAH0GbwrnbPjMiQUdbSGSoyiRBjecaMymoJ0EdzP9kD5gqQTwSoUm4iS1BlvFROVRDMEHjEmNNlsIxQf0FQnK+WjNBjCsYxIENNUE5KMUShd42QTvfKlE90ThBUN7+MJLgOkEWrR9JAQw9QcYivbfLQj9B3gVTIDrIQEHtgRGQj/BBQfRkAJYxGUNBRAqjqgpRREEl8DI0bZVFQewwumxb4kZB1PKUAxw/SEHUoQ488KZJQVt3cRAkFEtBm3gUOiSNTEG9dVv5mwZOQbFGEjbvj09BS86LhCSVUEEGFhOCBWRRQSK+mUr5O1JB1GzwqhwZU0H6Wiqnb/ZTQftI8P5I2VRBk2u+M4/EVUGDkrR/QrVWQfsrCzFBrldBQ/d/e56vWEGZEQjGgblZQQ==",
          "dtype": "f8"
         },
         "z": {
          "bdata": "AAAAAIDt2UAAAAAAACzaQAAAAACAatpAAAAAAMCJ2kAAAAAAAMLaQAAAAACAANtAAAAAAEBF20AAAAAAQHfbQAAAAACAfdtAAAAAAMCD20AAAAAAgK/bQAAAAACA4dtAAAAAAAAg3EAAAAAAQFjcQAAAAABAWNxAAAAAAICQ3EAAAAAAQKPcQAAAAABAo9xAAAAAAMCv3EAAAAAAALbcQAAAAADA+txAAAAAAIA/3UAAAAAAAH7dQAAAAABAtt1AAAAAAMD03UAAAAAAgDneQAAAAABAZd5AAAAAAECw3kAAAAAAQLDeQAAAAACAtt5AAAAAAAD13kAAAAAAwDnfQAAAAADAUt9AAAAAAACL30AAAAAAwM/fQAAAAABA9d9AAAAAAMAW4EAAAAAAwBbgQAAAAAAAHeBAAAAAAAAd4EAAAAAAAB3gQAAAAAAAHeBAAAAAAAAd4EAAAAAAAB3gQAAAAAAAHeBAAAAAAAAd4EAAAAAAAB3gQAAAAAAAHeBAAAAAAAAd4EAAAAAAAB3gQA==",
          "dtype": "f8"
         }
        },
        {
         "line": {
          "color": "rgb(204,235,197)",
          "width": 2
         },
         "mode": "lines",
         "name": "Segment 9561146",
         "opacity": 0.8,
         "type": "scatter3d",
         "x": {
          "bdata": "AAAAAAAAAACWkXbLj+4SwEjYh0U6IjDAiBH1DxI+hD1T/nrTNH83QIYQwipf/V1ABlHZqQoKbkD5jZw/Xwd4QP9wKhD8QoFAP4nMjJQ7h0AkLZJ4jOuNQA+9Vokiq5xAM3dkB4x0uUB0btDcoOTQQJMkCDxSQeBAzEoczWXO6kBQO6sqnyL0QPFNH8pIevxAiyFKd1IKA0FVAK9HibcIQdezMZ+YJA9BRG8Fg5MnE0G3Ty+CTAwXQSEOMrPXSxtBqubddcnpH0HmbyNrsGsiQSh/TiUpCSVB+9Q/pvfLJ0EPZtGDTLgqQVt0EcGz0S1BgrzBBV6LMEGRKJ0Dv0MyQdc+33BcETRBnH6jrM/yNUECRp2dQ+U3QW17YJPu7TlBsTxqcv8LPEERHKHzk0A+QaTcku+pPEBBqFLq1NNKQUGdBj6wFkRCQbVc2sFvKUNBWt4ifTz1Q0Fh7ZCgA61EQZel8L35REVB4Hmj1K7GRUHFpX0SVitGQfDD6n6hcUZB1sqsf+eYRkEfSxG/CqFGQQ==",
          "dtype": "f8"
         },
         "y": {
          "bdata": "AAAAAAAAAAApkIVudXu0QNldhXo8b9FAaYJDLV8T4kCkNhFcS7XvQNm+nCr49PhAH9qM4VkoAkGXWs4JmfUIQTqATJvkcBBBQ9wgHvjyFEH8ijibcf8ZQXPs070WmB9BE9xhkTerIkH9Q7OThJQlQV4Rq0t2iyhBqFH48puOK0GPhVjOJpouQTjXIh3e0TBBqLyi5fVYMkHQIAjZqN0zQaMT2CqdXzVBDHtq4JDfNkE228IvemQ4QcKagrKE6TlBLb0CjCR4O0FOtqIGoSE9QZoAF/4z5T5BoQVLUrpiQEF0+A4m9mBBQURNYsSLbEJBW24SbMuEQ0EK1metnKpEQVGq3RKZ3kVB9P06Hf0gR0GMCVLsNHFIQSabJIMhz0lBfrMpixw6S0GuFVqebbFMQd9PNwUlOE5BdGaZY5LPT0HWzTByp7xQQdLGrWpfmlFBjUilLPqBUkF86ttWwXBTQfJ+9d+HaFRBaPMW8xFmVUGoYZ2yO2pWQeTjlGd6c1dB6ZPMmDqCWEEpjH3RDJVZQQ==",
          "dtype": "f8"
         },
         "z": {
          "bdata": "AAAAAABf3kAAAAAAAF/eQAAAAAAAX95AAAAAAABf3kAAAAAAAF/eQAAAAAAAX95AAAAAAABf3kAAAAAAAF/eQAAAAAAAX95AAAAAAEBl3kAAAAAAAF/eQAAAAABAZd5AAAAAAEBl3kAAAAAAQGXeQAAAAABAZd5AAAAAAABf3kAAAAAAAF/eQAAAAAAAX95AAAAAAABf3kAAAAAAAF/eQAAAAABAZd5AAAAAAEBl3kAAAAAAQGXeQAAAAABAZd5AAAAAAEBl3kAAAAAAAF/eQAAAAAAAX95AAAAAAABf3kAAAAAAwFjeQAAAAADAWN5AAAAAAMBY3kAAAAAAwFjeQAAAAADAWN5AAAAAAMBY3kAAAAAAAF/eQAAAAAAAX95AAAAAAEBl3kAAAAAAQGXeQAAAAABAZd5AAAAAAEBl3kAAAAAAQGXeQAAAAABAZd5AAAAAAABf3kAAAAAAAF/eQAAAAAAAX95AAAAAAABf3kAAAAAAAF/eQAAAAAAAX95AAAAAAABf3kAAAAAAAF/eQA==",
          "dtype": "f8"
         }
        },
        {
         "line": {
          "color": "rgb(255,237,111)",
          "width": 2
         },
         "mode": "lines",
         "name": "Segment 11692408",
         "opacity": 0.8,
         "type": "scatter3d",
         "x": {
          "bdata": "AAAAAAAAAACY5hBImbwvQBHP4gxfmkRAIrQwtHuEsz2H++/gcuZ7QGFCR3LwMI1AVu6Vj/OKl0ANy8YeEjyTQHw2fUvAh4bAlTd2SrNAssBbecIm1sfDwFPvcb/bx87AfP+wrTVg1cDDy2FeDMbdwCXaO4L37OXA/JcyZg/f78Bs1d2t3FX2wM5Vv6S/Zv7AvplTckvcA8H3TGHYGAUJwftzebU3pg7BIyKganh9EsH44w9GuuoVweebzYW/sBnB2H7VYTi8HcGGQ75yDSghwfGXqYkdoSPBFi3LLCc6JsHuLk1ERvkowQZeYhbZ4SvBpNlJF1TzLsFMUXCOeRgxwc84knvKzDLBHtWcZHGBNMGEXSmtbks2wW94PzAHKzjB/Q7yhpkeOsG8RJgGWCY8wQ31lnCaQD7BeZH9tfQ5QMGY+F2oPFlBwYBml+umgULBQeQuuTK0Q8F5SEJtNPBEwWNdNr1WNUbBKS2C0ZR+R8EG2nhjXrJIwUoets+Gx0nB3lbvxIrCSsFE1uHkIKlLwQ==",
          "dtype": "f8"
         },
         "y": {
          "bdata": "AAAAAAAAAABFJWXOlezAQAn9FbdV+dVA8Pv4Oykc50Ae6YTX80/zQKPi8yFj/fxAzi8NNBQtBEE40FeqBbYKQShZNxuRxhBBr3RJQWdpFEFTkbd55o0YQabDRmqmPR1BOaB5oaQ7IUGf6IoehhAkQWXD+V7u8CZB4KX9WIXXKUFCFXN7XcQsQSPDPLUusi9BcoQZqM5RMUEmuFeYy8syQfpDf+NARzRB0mea/r/CNUFmJA1DxUE3QfC4cmRaxzhBllSDKbVlOkHwody6MAg8QbJhLhUIxD1BEB9cWUqWP0E2Z6uDicJAQabShJODyEFBqyvbW93bQkHF3q0tnv1DQak9/pxFLUVBj6JY5ChdRkGkRVPluZpHQah7N8QN5khBujeM+XNASkEZmLT31qhLQfGw0+9wH01BPUBnzCyjTkH3ht5IhRlQQe8so4GS6FBBE5t+XbO+UUFXPIX3b5tSQf9ekLyMflNBcpInapJqVEHWbb5+5mBVQZDnAoRSYlZBDFxRaRltV0E9oWsUGn5YQQ==",
          "dtype": "f8"
         },
         "z": {
          "bdata": "AAAAAAAd4EAAAAAAAB3gQAAAAAAAHeBAAAAAAOAZ4EAAAAAA4BngQAAAAAAAHeBAAAAAAAAd4EAAAAAA4BngQAAAAADgGeBAAAAAAAAd4EAAAAAA4BngQAAAAADgGeBAAAAAAOAZ4EAAAAAA4BngQAAAAADgGeBAAAAAAOAZ4EAAAAAA4BngQAAAAADgGeBAAAAAAOAZ4EAAAAAA4BngQAAAAADgGeBAAAAAAOAZ4EAAAAAAAB3gQAAAAAAAHeBAAAAAAAAd4EAAAAAAAB3gQAAAAAAAHeBAAAAAAAAd4EAAAAAA4BngQAAAAADgGeBAAAAAAOAZ4EAAAAAAAB3gQAAAAAAAHeBAAAAAAAAd4EAAAAAAICDgQAAAAAAgIOBAAAAAACAg4EAAAAAAQCPgQAAAAABAI+BAAAAAAEAj4EAAAAAAQCPgQAAAAABAI+BAAAAAACAg4EAAAAAAICDgQAAAAAAgIOBAAAAAACAg4EAAAAAAICDgQAAAAAAgIOBAAAAAAAAd4EAAAAAAICDgQA==",
          "dtype": "f8"
         }
        },
        {
         "line": {
          "color": "rgb(141,211,199)",
          "width": 2
         },
         "mode": "lines",
         "name": "Segment 11713807",
         "opacity": 0.8,
         "type": "scatter3d",
         "x": {
          "bdata": "AAAAAAAAAADASoIjpigTwAlngECGlCxABiW8jdI+kr315RDjez4zwNFqdOD08BvASlqHmvxYH0ApTLT/FUM5QBFep1b8uEZANFb9yeAZUUCO+qQow+swQAZ1Z1i5tkZAUIg2Ty5dMMDynKIiQPhUwEVadmXmnGPAaYZkAqhcXcDErVQZxtdSwF1dtoN5kWTA57jhk7gwcMDxQg8Og+2NwCAgS7VnjZXAhpAAUzXimcA5nJM9PpegwGduyIcs36XA7ygG6lBqq8BmEkQl7piwwIcY/1eZ+LHACKuZtmNms8CkNnYxD+O0wNP8Pp1qXLfA7nEmpv3sucDbWdcX0Za9wE70ZHm7sMDAm1vfI6SUwcDMGkwLQA7DwGRKjNj/k8TA3GHtdmMnxsAI8J3lQsjHwFpIp36Wt8rAK9cNTmS8zcDaCAXabGvQwDjLeJJPA9LAVhApklny0sBhkpQ7/gnLwBsKAKlmV6JAZ27j95pm3kAlwBnemwbxQAPuUGd0bvtA0SOcEtRXA0FqFMeoW94IQQ==",
          "dtype": "f8"
         },
         "y": {
          "bdata": "AAAAAAAAAABwQkz+5RewQDTAQzg7CshAyDwwc5UG2EBwJpAFZRrkQEj76fvxWe5AJ3tpgx5g9UAZYnn4Eqr8QNdhZ3RgjQJBRIY4IjhaB0GB++cdS8MMQcCCrQGPXBFBq+u7JK2bFEF7YOOO3icYQaWi3B8o/htBQcpn/xAPIEFvQY15J0IiQZPhVPbomSRBa06RsoYVJ0H/Fes0z7MpQXympMPldyxBIYh6p+dgL0HMXFbWnjgxQauKfZRZ1TJB6S+rP5iGNEHitT+eSEo2QR8FmojbIjhBzqidJGYOOkEwgIR98Q08QXGwQla8IT5BFiEL5oIkQEFAbkSW0UJBQT5cJNMla0JBSLAnLmidQ0Eawvo4d9pEQVmpmdC3IUZBRPXvIGx0R0EhQE8BctJIQWCz3OXbOkpBG2WiSZOtS0HxWY+6rSpNQX+84esBsk5BRxz4YrYhUEH/+azrcexQQTYuPOJiuFFBsa4jibGEUkHE0QTfcVFTQeEpfBgDI1RBSIbMz+D5VEG1CLt8bdZVQQ==",
          "dtype": "f8"
         },
         "z": {
          "bdata": "AAAAAICg0UAAAAAAwPHRQAAAAAAAQ9JAAAAAAECU0kAAAAAAgOXSQAAAAADANtNAAAAAAACI00AAAAAAQNnTQAAAAACAKtRAAAAAAMB71EAAAAAAAM3UQAAAAABAHtVAAAAAAIBv1UAAAAAAwMDVQAAAAAAAEtZAAAAAAEBj1kAAAAAAgLTWQAAAAADABddAAAAAAABX10AAAAAAQKjXQAAAAACA+ddAAAAAAMBK2EAAAAAAwJXYQAAAAADA4NhAAAAAAMAr2UAAAAAAwHbZQAAAAADAwdlAAAAAAMAM2kAAAAAAwFfaQAAAAADAotpAAAAAAMDt2kAAAAAAwDjbQAAAAADAg9tAAAAAAMDO20AAAAAAwBncQAAAAADAZNxAAAAAAMCv3EAAAAAAgPTcQAAAAACAP91AAAAAAECE3UAAAAAAQM/dQAAAAAAAFN5AAAAAAABf3kAAAAAAgITeQAAAAACAnd5AAAAAAMC83kAAAAAAQOLeQAAAAAAAJ99AAAAAAIBl30AAAAAAQKrfQA==",
          "dtype": "f8"
         }
        },
        {
         "line": {
          "color": "rgb(255,255,179)",
          "width": 2
         },
         "mode": "lines",
         "name": "Segment 10337978",
         "opacity": 0.8,
         "type": "scatter3d",
         "x": {
          "bdata": "AAAAAAAAAAAf+0Rv/twxQD15myIkoAnAmPqF0pOVYT1rjMpDmu1tQKRyCMgnl4ZAvKueLieNk0AVw6yA1f+ZQIZow7hOc51AyFVE250mokA4L+smfNGpQH6sBGA9MrFA/x6lMr6ctECa8mBHdeG2QBg9UiO5urlAe14ElTcWvkAm+CfiJNTBQLiKsS9tTsRAcYAS76usxkDO1dFy+yrJQLQbPbEoy8tA3dxmD2Emz0BrdbbxnirRQJeRU3u10tJAR8PXqfFf1EAf/8WOjf3VQLb4Tzug29dAi9nuKOqZ2UBiqXyJRZzbQB6pkAhksN1ASGw/UDfW30CW7Aqko8/gQEdya9lo2eFACZj0XxLs4kC5Ntb24AfkQLiUk0d6LOVAmzE0cc575kAQB9YS2ZLnQArbwVXxjehAuJaHK+W06UDIakbgLlPrQFtYHTqQ++xAyP6k5LYS7kCk1Be9quHuQFtMTPDoBPBAE0uD0FII8UC8kgvcmf3xQP0tmL8NoPJAAM3XvygB80DKUm103pTzQA==",
          "dtype": "f8"
         },
         "y": {
          "bdata": "AAAAAAAAAACh5Jd+TB6pQAKouaO4QMNAv6+X5mdq00BrtLhhAEngQM6zKJ4SpOhAg70uTOSH8UATLY8YBtH3QCC5ojfEM/9AMRJFptfeA0FmomdQk7UIQavRTi3PHg5BZJ8GdScQEkExJb2N9FgVQaPLqEjV5RhBeb/B0W26HEHxjbIpGmkgQc2a3W+uliJBBmCAVqnlJEFcIn8R5VMnQe4/G8Am4ylBMPRRLOiSLEGdUshMO18vQVsVi4prJDFB/LBP+qanMkHgtcMn2Do0QfnvhWEb3zVBGpbU9ieSN0FaQTdOUFY5QSrDo8IVKjtBjMsSdWsNPUHqsbtsbgE/QRD7JUzLg0BBJVASD4qPQUEp7sMsM6RCQWUg+k1uwUNBAPzJsjXoREEYqHi3eBlGQfix0X5oUkdBRwaPhhOVSEHg187msOBJQZ1/Y05iNEtBZdcTa0mQTEG3ccg+v/VNQXh4ZHzWZk9BLQBvUQRyUEFimAMmWTZRQac557XPAFJBosLWCqPQUkHZxU+LgKZTQQ==",
          "dtype": "f8"
         },
         "z": {
          "bdata": "AAAAAIAj0UAAAAAAgIfRQAAAAABA5dFAAAAAAABD0kAAAAAAgJrSQAAAAAAA8tJAAAAAAAA900AAAAAAQI7TQAAAAABA2dNAAAAAAEAk1EAAAAAAQG/UQAAAAABAutRAAAAAAIAL1UAAAAAAgFbVQAAAAADAp9VAAAAAAAD51UAAAAAAQErWQAAAAACAm9ZAAAAAAMDs1kAAAAAAQETXQAAAAACAlddAAAAAAMDm10AAAAAAQD7YQAAAAADAldhAAAAAAADn2EAAAAAAQDjZQAAAAADAj9lAAAAAAADh2UAAAAAAQDLaQAAAAACAg9pAAAAAAMDU2kAAAAAAACbbQAAAAABAd9tAAAAAAIDI20AAAAAAwBncQAAAAAAAa9xAAAAAAAC23EAAAAAAAAHdQAAAAAAATN1AAAAAAACX3UAAAAAAQOjdQAAAAABAM95AAAAAAICE3kAAAAAAgM/eQAAAAABAFN9AAAAAAABZ30AAAAAAwJ3fQAAAAACA4t9AAAAAAKAT4EAAAAAAADbgQA==",
          "dtype": "f8"
         }
        },
        {
         "line": {
          "color": "rgb(190,186,218)",
          "width": 2
         },
         "mode": "lines",
         "name": "Segment 9403464",
         "opacity": 0.8,
         "type": "scatter3d",
         "x": {
          "bdata": "AAAAAAAAAACrySAjwCY+QLLpgUEOMTJAOuzo1F6Hsz2p3B8pPPRSwOwypZZRSGXAqDbUzIBedsCbKYdc1ztrQP+qG8hv/qlArEI873/vwUB89R38GIrRQFE4qlByU91AO+L+jwqE5kBcFZQm+BTwQKUIqT1k5fVAsexCqFtY/EDI5Lv2uLgBQdBZ3TL1jgVBAm4M5JW6CUH3QXIFbjoOQfkKrnhZiRFBMepBkB8lFEG8LacTZu8WQa16HCCX3xlBzwrjnQTvHEH+V+QQ8RIgQea9+//cxiFBSIAlJ+2EI0HIicJ/L04lQX2sYqVaJidBUd4DO4IPKUGEYpnP3AErQUkm8+XeEy1B3cxz/dA+L0GUkuJATcAwQfcXzNVz/DFBm1m2nF9jM0GXI/WIyfE0QY/45vXUpjZBdbNR0bt/OEG2Wy4bNWY6QbZ6ElNwXDxBpKdg5RhiPkHyeUWU9jtAQdhYz5RdTkFBS7q9s8doQkFIQbHUkYpDQRbPY03HtURBcZoB1uDpRUFCRVFb3yRHQQ==",
          "dtype": "f8"
         },
         "y": {
          "bdata": "AAAAAAAAAABFHw6bUJ26QLGY2zNsDNVAHMcQrqF45UBe7Czy3/nxQBIaD2+O/vpAx1eQrGzSAkETYi4S2fsIQazlNNwUdg9BE3ESqdEZE0F3R5UH954WQXo9jNMrShpBqWZIGRsSHkHD/mRRLP0gQd7hdaRxACNBoOx0m8w1JUGd0nqWXJ0nQQgbAwVyOipBqLhYebIRLUF7zfZ0KBEwQShmMZiVtzFBPksu0AR8M0GS4ijtXl01QZlO6iQAWzdBs/YOlY1zOUG1RdeYHac7Qbkx7vvP9T1BTAxIMiApQEFaVP2SmmBBQRgbY+U8okJBPxIVMaftQ0E740EPTT9FQfRQWpB5pEZBhc7WGHccSEF10PrXLahJQZkxNUthOEtBLLRYybPGTEEQYwRw3FFOQfMTYU2b2U9B5YKzGJuvUEFih5E3ynhRQVDsTpl9SFJBIOmhQJIeU0Glxdi9ePpTQTEnbXeK3FRBdb9mBTbFVUHfFo4J9bNWQYgB+6h2qldBegXWcEuoWEF2Uroy3K1ZQQ==",
          "dtype": "f8"
         },
         "z": {
          "bdata": "AAAAAIBi00AAAAAAQKfTQAAAAACA39NAAAAAAAAe1EAAAAAAwGLUQAAAAACAp9RAAAAAAEDs1EAAAAAAADHVQAAAAABAUNVAAAAAAEBp1UAAAAAAQILVQAAAAABAm9VAAAAAAIC61UAAAAAAwNnVQAAAAADA8tVAAAAAAIA31kAAAAAAQHzWQAAAAAAAwdZAAAAAAID/1kAAAAAAAD7XQAAAAACAfNdAAAAAAEDB10AAAAAAwP/XQAAAAACARNhAAAAAAECJ2EAAAAAAAM7YQAAAAADAEtlAAAAAAAAy2UAAAAAAQIPZQAAAAABAztlAAAAAAEAZ2kAAAAAAQDLaQAAAAAAAXtpAAAAAAEB92kAAAAAAQK/aQAAAAACAztpAAAAAAIDn2kAAAAAAgADbQAAAAACAGdtAAAAAAMA420AAAAAAQHfbQAAAAADAtdtAAAAAAED020AAAAAAwDLcQAAAAACAd9xAAAAAAAC23EAAAAAAgPTcQAAAAAAAM91AAAAAAIBx3UAAAAAAALDdQA==",
          "dtype": "f8"
         }
        },
        {
         "line": {
          "color": "rgb(251,128,114)",
          "width": 2
         },
         "mode": "lines",
         "name": "Segment 8647466",
         "opacity": 0.8,
         "type": "scatter3d",
         "x": {
          "bdata": "AAAAAAAAAADpJcYcevMqQP1YuwaxyTNAVo7q3ZyhiL3iqlMDyDAoQIcptLxlgTtAgWpTswrxRkCZAsQ9+vPVP/lmOPsQdTlAI4FJHOoZS0D2v8MTj0UswKYg2+TnoFXASvTudVCvZMD0gAGhuVJvwNOOWVvnxn3AEU5jecz/gcDl66weaVGKwPentITLpZHADFfVihtmlsD0N3UN5XeewG4EyctQKKXALu4eGnDDqcCsyjtc8zuwwABvVNPF0rHAi3UGGA57tMA9wkfcMi23wDmEK3GKDbrAjXUX2AYyvsB8EFNnJEPBwFi+f/K06MLAZWSiYUhCxcAPOzyzHrPHwIRAAbtZO8rAbgx2s1PVzMB53iHBIX7PwPFL7amqd9HAaUlAanKY08CiGpgBXmHVwDwr2MaymNfA5h4aMqTb2cCbi+gVQJPcwHHCDVEP7d7AQ/1zxPSo4MC883ZMh+HhwF6RxAjOH+PAPMsTJ4Jl5MAhz8f8Me3lwKI4Oqk6f+fAoMTETZff6MAXuiZPbIrqwA==",
          "dtype": "f8"
         },
         "y": {
          "bdata": "AAAAAAAAAACMVMHiwtG2QGGC0APsr9BADYovBQGC4EAmThzbDQnrQAmRF7aqN/RA5uf4jms1/EDiP1x34cwCQdw6cxgkQwhBJ8wDA/+CDkF8a6/YXccSQc3Fz52fghZBw8f3LdeUGkF8VmUzBfgeQSXku+Ze1iFBFJz9+zVnJEH/W715MS0nQafyUaBiKypBhb3EOl5WLUEnACgjwFowQZ3NOGEQKDJBtOGrPrkUNEGEgmhm6h42QV7OVdNsPThBFxuJ+OR1OkGgNfNTm7Y8QQLdcx7rHT9BbwqSk5XRQEGD/ZgTvyJCQSzfXKcEg0NBrradvAzxREE7mBCxO21GQUQXNWem90dB9tEAqt2MSUExlmOFGitLQVUAwgCp0ExBWvDc9xh+TkEyWjaTohlQQST6kRg++VBBUm7712zdUUHLXYP5iMZSQf452gq7s1NBphHHhkelVEGCCcRErJtVQRN8IOGPllZBLicMeU6XV0G/w0HY051YQb/TZ5xIq1lBgBOBrQrBWkGIYmFMHt9bQQ==",
          "dtype": "f8"
         },
         "z": {
          "bdata": "AAAAAED/1UAAAAAAgFDWQAAAAACAm9ZAAAAAAADz1kAAAAAAgErXQAAAAACAlddAAAAAAMDm10AAAAAAwDHYQAAAAADAfNhAAAAAAMDH2EAAAAAAgAzZQAAAAACAPtlAAAAAAECc2UAAAAAAgO3ZQAAAAADAPtpAAAAAAICD2kAAAAAAQMjaQAAAAAAADdtAAAAAAABY20AAAAAAAKPbQAAAAACA4dtAAAAAAAAg3EAAAAAAwGTcQAAAAABAitxAAAAAAEDV3EAAAAAAgNvcQAAAAADAE91AAAAAAEBS3UAAAAAAwJDdQAAAAACA1d1AAAAAAEAa3kAAAAAAAF/eQAAAAACAnd5AAAAAAEDi3kAAAAAAQC3fQAAAAACAft9AAAAAAMDP30AAAAAAYA3gQAAAAADgMuBAAAAAAEBV4EAAAAAAoHfgQAAAAAAAmuBAAAAAAGC84EAAAAAAoNvgQAAAAAAA/uBAAAAAAEAd4UAAAAAAYDnhQAAAAABgUuFAAAAAAABi4UAAAAAAoHHhQA==",
          "dtype": "f8"
         }
        },
        {
         "line": {
          "color": "rgb(128,177,211)",
          "width": 2
         },
         "mode": "lines",
         "name": "Segment 9798030",
         "opacity": 0.8,
         "type": "scatter3d",
         "x": {
          "bdata": "AAAAAAAAAADkZtoVibMbwLGRo+EpeDXAEj0quWuflz1FmwFKbRY8QHrF/URDG05A/wcSFOtQdECHFxJx++uDQJf3fTDqioVA1Wu7ztYJhEDfmaxX7yl+QCEWQC1o5XNAtZOOvZFQPEBXxWox5J9AwNGMqO5piFnAME4By0i8c0CC8BvXP/KHQMIdkOxfy5lAOXIkIE3EpUACeAZUCDyvQNiC9o5ysrNAeivOTWHVt0Csr1eQOle5QDpJ8SrYAb1A+3Rhn2GrvkBb2/cNosTAQJh7+Lcn+cpAlGUJ4NXK2UDCZFizCirnQNXKnqbyZfJAGB6nhb44+kAc8hQjdSoBQboaV2KUlgVBeintGfQoCkFWsvKaadwOQWDfQmYWBBJBZ2J6evRNFEGqprkSaTMWQWuJAl1u3RdB2BxBGPW0GUG6K0uP8pwbQd18wGLykB1BAe5fP6GOH0FkFBOw1sIgQZXREAMKviFB942U89C9IkHp9QbstrkjQdrQPJpkxyRBtyyERQjoJUGZf6vCYwwnQQ==",
          "dtype": "f8"
         },
         "y": {
          "bdata": "AAAAAAAAAAAAnYnQbOPAQERmvnPeK9pAHbpy+TEw6EBCQFj7/FrzQHAJrXiNqftA5VOxPPUPA0GID4/twTsJQaaeW5lL8A9BVD3iQgajE0H4skMEQHAXQcwiN+ZQYBtBe5Zxvy2AH0HB4d/TihgiQT2bvEJBuCRBDEdMHmmYJ0H9bhmyCbIqQfiIh432GS5Br73jQ4rXMEGJNq7aBMEyQUWlfSbGwzRBurmcea3NNkEBRNZdE/44QcnPjiFUTztBDT9X8Vy5PUHi4WwK4R9AQcr3EYYdbUFBAq4bovm/QkGJ5B8/rBVEQbMY28y/b0VBLoS4FBDYRkEYVx96e1FIQZ0Nx2SN3ElBfH7ccB55S0Fh9hDXsiVNQeP1w83B4U5BM1JhtalWUEHcu2rvv0FRQX/r60e2NFJB/kNm6lMxU0EKHAqRwzZUQd4SBUiiQlVBuVSBPOVXVkFGtlhYyXZXQUgwDUPZnlhBA+aHymfRWUGTx5j7cQ9bQUlXiFE5WFxBdM7lQGmsXUHWIbl8zwpfQQ==",
          "dtype": "f8"
         },
         "z": {
          "bdata": "AAAAAIDo3kAAAAAAwCDfQAAAAADAUt9AAAAAAEB430AAAAAAQMPfQAAAAADA6N9AAAAAAGAN4EAAAAAAoCzgQAAAAACAQuBAAAAAACBr4EAAAAAAwHrgQAAAAAAghOBAAAAAAICN4EAAAAAAIJ3gQAAAAAAgtuBAAAAAAEDS4EAAAAAAAOXgQAAAAABg7uBAAAAAAMD34EAAAAAAABfhQAAAAAAAMOFAAAAAACAz4UAAAAAAYDnhQAAAAABgUuFAAAAAAMB04UAAAAAA4JDhQAAAAABAmuFAAAAAAICg4UAAAAAAwKbhQAAAAACAueFAAAAAAKDV4UAAAAAAoO7hQAAAAACgB+JAAAAAAIAd4kAAAAAAoDniQAAAAACAT+JAAAAAAMBV4kAAAAAAAFziQAAAAADAbuJAAAAAAICB4kAAAAAA4IriQAAAAAAAjuJAAAAAAACO4kAAAAAAAI7iQAAAAAAAjuJAAAAAAACO4kAAAAAAAI7iQAAAAAAAjuJAAAAAACCR4kAAAAAAIJHiQA==",
          "dtype": "f8"
         }
        },
        {
         "line": {
          "color": "rgb(253,180,98)",
          "width": 2
         },
         "mode": "lines",
         "name": "Segment 10137741",
         "opacity": 0.8,
         "type": "scatter3d",
         "x": {
          "bdata": "AAAAAAAAAADQTTKo5yoQwALMmwvHoS3AjARyKGepir2kRPk2vpk0QO1V0JWmuWNAOkO7m5c0jUD0bIjoXZ6kQO9VYfZP/7FAUgnYptdfuUCWfmqq8gXBQJZ/x0MazcVA/KYjK+6wykAjmXQCDzLQQMybSaxAVtNA2VZF9cSQ1kBa77glQUHaQF5uSeEJNt5AhfinEWQf4UCRkR4UTajjQHx/Gtof8+VAFDDYhmxF6EDIfLPSbIDqQHALowVSJO1AkfEM5xPr70DdPNtYsGnxQJOSOSWQCPNA3NGsGmTT9EDNW5s8a7/4QOzoK7hCf/9Ad4czLS1mBEGe4/7OcoAKQYkllpVsEBFBZ08FzQWzFUHiyBJQwB8bQSNE4ZsMpyBBBTGSdisfJEFqQewjbvQnQccCrmuLJixBr/HjnZlXMEHMFZYCJr0yQZKqpXUlOTVB3JlvZq/LN0Gm9d1lEXU6QXr5yqdiMD1B9PvMVdb2P0HyHuXax2NBQUfgfj3kz0JB2/tWCZlFREHfPG8BgMJFQQ==",
          "dtype": "f8"
         },
         "y": {
          "bdata": "AAAAAAAAAADySyO9wYmwQA7yOVl1TM5Aibu3mya84EDp/h00rnftQBMJJr3rjvZAGsSwtlFI/0AXUOoYz/IEQU/11nx+EwtB8iWEgIzuEEGadGmK3OsUQVsRnDhEURlBYdaSKIQPHkEPPtz9CqchQZXHTHv3iiRBrAbcg6ysJ0HHdbsBrRErQThX0FyFtS5Beo+7L901MUGgUEsLEzszQe6b9gIAVzVBcHKKwc15N0F5EVTeqaM5QUEIcAQd8ztB87eIsxFhPkHbFZpDMHZAQU5t3nFK0EFBcCD5Ov89Q0Ffkg5+IrBEQSbEg7e/JEZBfV9Akf2aR0FIeigrohBJQQdMcenJgkpBx9W/Cz7vS0GxSsx6BVRNQRppQKmPr05BP2qFl7X/T0GVOH0FXKJQQabXTW2oPVFBHWyVrQ/RUUEraPwlX19SQT78utr39FJBw6MxbFOPU0ElNu/1ei5UQW00oz+v0FRBGYuKlgx2VUEDjWf4Nx1WQTxgUowgxlZBaW+to3xzV0GD/ifnzSRYQQ==",
          "dtype": "f8"
         },
         "z": {
          "bdata": "AAAAAACb1EAAAAAAwMbUQAAAAABABdVAAAAAAMBD1UAAAAAAgIjVQAAAAADA2dVAAAAAAIAF1kAAAAAAAETWQAAAAADAiNZAAAAAAEDH1kAAAAAAgP/WQAAAAACAStdAAAAAAIB810AAAAAAALvXQAAAAABA89dAAAAAAMAx2EAAAAAAQHDYQAAAAADArthAAAAAAIDB2EAAAAAAQO3YQAAAAACAPtlAAAAAAEBR2UAAAAAAwF3ZQAAAAAAAltlAAAAAAMDa2UAAAAAAgB/aQAAAAACAUdpAAAAAAMCJ2kAAAAAAwKLaQAAAAABAr9pAAAAAAADC2kAAAAAAgM7aQAAAAAAA29pAAAAAAIDn2kAAAAAAAPTaQAAAAADABttAAAAAAEAT20AAAAAAACbbQAAAAADAONtAAAAAAIBL20AAAAAAAHHbQAAAAABAqdtAAAAAAADu20AAAAAAgCzcQAAAAACAd9xAAAAAAADP3EAAAAAAgCbdQAAAAACAWN1AAAAAAECd3UAAAAAAQOjdQA==",
          "dtype": "f8"
         }
        },
        {
         "line": {
          "color": "rgb(179,222,105)",
          "width": 2
         },
         "mode": "lines",
         "name": "Segment 9908133",
         "opacity": 0.8,
         "type": "scatter3d",
         "x": {
          "bdata": "AAAAAAAAAAANvZhN3EEVQO8wxLKlATDAyFp7WyBTlj2n6Zj6vmswQPXr14ICf0BAldRiyBeYSkB7C8JTppJiQE9efHalO3BAA/Qr5W6DaECcYoFzXx9fQHRWRu3NzVLAWlMCP+eDcsAczar1h414wIFbCLdVSXXAFCwZ0svJccCsQyawrFxswHP3EJ3PYhBAAOeCGcbJb0BVdOOsfJJ/QH5jtJpLNXdA3qdxK6iZbEA3rccxKm1TQM4JNki653hAKTPoaNY3fkCReQalnjmKQM+i8IG+rptAGzgHrQh+pUD8OMRMglOtQKKh6rk4lrJACdM7eeZrtUDjzKmWbUK4QHLc6i2LN7tAtosDgOP4vED/hQj/+QvAQMobzFwlnMFAW30hRRqduEC2nRlNB9CwwLscYaCrlNjAypuWmint6sAv9gxg7iX3wMZ4+I4wmAHByIpdfgjhB8HPHh7oH28OwSVQ81KLoBLBLEkGoKspFsGc5JyfbdUZwQoMsX3Vmh3B874yIRbBIMFW3vqoh8QiwQ==",
          "dtype": "f8"
         },
         "y": {
          "bdata": "AAAAAAAAAADqBh5F28/BQMBaSWeUzdpAMxUgkdLS6kA9ubGfdEz0QKMoHLVQPvtAaheBRTnbAUFcmTVA5tsGQSg4XdIRsAxBiZJVlp+uEUFUq9wP0HAVQbQlXgS9oRlB4sK0lClFHkE8b05Ge6shQTrhPSWzaCRB2Xxyj6pXJ0HbgRp6BV4qQe8WxfhWZS1BsuDh15NWMEHm2esRkPsxQTMUhvcKvTNB2HoXcMCbNUEgyo2BPZc3QYpkZOuUsTlBaTpUKdHrO0ETvwj6x0A+QdX36zNpWUBBQj0O5yiiQUHQg/0vw/JCQWQV0urxQ0RBMyvofu6fRUFfiYmfU/xGQcWqNoBjZ0hBzo/sKHHgSUEZuZeGnl9LQZ+qM2Fp30xB6o4AIblrTkG3X5wOaPtPQZnDJkR8x1BBRLdg/nWTUUGtL3JjJGFSQb1YqZ+oMFNBYAF3nkcJVEEfBHyFOetUQS3VGuZO1lVBxEquPAzKVkGLNSP9HMdXQbwfVUkpzVhBxISci2vcWUFGFkoEPvRaQQ==",
          "dtype": "f8"
         },
         "z": {
          "bdata": "AAAAAAAX4UAAAAAA4BPhQAAAAADgE+FAAAAAAIAj4UAAAAAAoCbhQAAAAADAKeFAAAAAAEBP4UAAAAAAwHThQAAAAAAgl+FAAAAAAIC54UAAAAAA4NvhQAAAAABA/uFAAAAAAKAg4kAAAAAAAEPiQAAAAABgZeJAAAAAAOCK4kAAAAAAAI7iQAAAAAAAjuJAAAAAAKCE4kAAAAAAoITiQAAAAABAYuJAAAAAAABD4kAAAAAAwCPiQAAAAABgAeJAAAAAACDi4UAAAAAAwL/hQAAAAACAoOFAAAAAAECB4UAAAAAAoHHhQAAAAACAbuFAAAAAAKBY4UAAAAAAoFjhQAAAAABgOeFAAAAAACAa4UAAAAAA4BPhQAAAAADgE+FAAAAAAOAT4UAAAAAAABfhQAAAAAAAF+FAAAAAAAAX4UAAAAAAABfhQAAAAAAAF+FAAAAAAAAX4UAAAAAA4BPhQAAAAAAAF+FAAAAAAOAT4UAAAAAAABfhQAAAAAAAF+FAAAAAAAAX4UAAAAAAABfhQA==",
          "dtype": "f8"
         }
        },
        {
         "line": {
          "color": "rgb(252,205,229)",
          "width": 2
         },
         "mode": "lines",
         "name": "Segment 9367273",
         "opacity": 0.8,
         "type": "scatter3d",
         "x": {
          "bdata": "AAAAAAAAAAB6ZRNeW6sgQGzJbQtI7zhA4moK5TQXsz2alcJZh8VAwNzkBZ4pKyNAwtZPsHDhdcCpX4pXCiqpwDQoxp+PfMTAQgxyWI5E1cDVE2bFMjHiwAJ+Wh0nQ+zABGecT21I9MB0RG61+6T7wEzJZ2ZV+wHB/RLp2JfLBsEDPhWevUQMwUSVyZFKNxHBhb869G2rFMGSB3nGYocYwSuAmGTWwRzB4vnidjiqIMGdLD7S0hwjwWm1ziUAvSXBGdtXjPCFKMFRQEdyxn4rwRYQG4LsoS7BuogrOWj5MMErn+6fk7kywXKRVGP4jzTBa2Ynwdp7NsF87K5tMn44wcECIf0OmDrBQa3PZrTHPMGWBBLw+ww/wU+qV8a3tUDBytHZKT7vQcE8HS4FXTNDwUNu10LCgkTBTB/ZO9bcRcH5Dwn+kT1HwQOEID8UqUjBEfbsuj4hSsHdMpQQBqNLwQyn4ii4MU3BRfFc0WbLTsFdu0QXJThQwT+YYdJCEFHBrw1xebrsUcGACUvbZc5SwQ==",
          "dtype": "f8"
         },
         "y": {
          "bdata": "AAAAAAAAAACTfPZFsnzCQEhBfV7/p9tAK1xLC4Dn60Avj6/3KGz3QGuksW3HsAFBFAW9RhvjCEHjrCuv6DoQQUba4gODJxRBBAUXtPI0GEHsoFdg4GEcQbC7cDmkUiBBbgUCLBuAIkEXSfogprQkQVQhoqNA7iZBHIjdIzUpKUEzd2eJ9GUrQTWKCpazoC1Bgy6f9JwMMEEEN1BVhmcxQUnsk4Q34jJBrpxEbkN9NEFB58zJ8TY2QUH7Z/u/EDhBDwRPBAYLOkEpThWfUiM8Qe5fgfSLWz5BOYB3/RBaQEExhtjuJJdBQe9CqxDy40JBxwz2Rz5BREGtF3U1fa5FQcvEDrFvLEdBuUhGk1S7SEHVoLTRpFlKQQiBVWBMCExBOxHpNzzHTUGmFFa8RpVPQR4N107PuFBBA7p1PJGuUUE/d3fv6qpSQQk3Pxn6rlNBwqqq7Re7VEHeBMK5Fc9VQVPCLXtC61ZBnZq3IFoQWEGooOoVdj1ZQZgZ9iiKcVpBDcDygCquW0FFtKxtQ/JcQQ==",
          "dtype": "f8"
         },
         "z": {
          "bdata": "AAAAAAAd4EAAAAAAAB3gQAAAAAAAHeBAAAAAAAAd4EAAAAAAAB3gQAAAAAAAHeBAAAAAAAAd4EAAAAAAAB3gQAAAAAAAHeBAAAAAAAAd4EAAAAAAAB3gQAAAAAAAHeBAAAAAAAAd4EAAAAAAAB3gQAAAAAAAHeBAAAAAAAAd4EAAAAAAAB3gQAAAAAAAHeBAAAAAAAAd4EAAAAAAAB3gQAAAAAAAHeBAAAAAAAAd4EAAAAAAAB3gQAAAAAAAHeBAAAAAAAAd4EAAAAAAAB3gQAAAAAAAHeBAAAAAAAAd4EAAAAAAAB3gQAAAAAAAHeBAAAAAAAAd4EAAAAAAAB3gQAAAAAAAHeBAAAAAAAAd4EAAAAAAAB3gQAAAAAAAHeBAAAAAAAAd4EAAAAAAAB3gQAAAAAAAHeBAAAAAAAAd4EAAAAAAAB3gQAAAAAAAHeBAAAAAAAAd4EAAAAAAAB3gQAAAAAAAHeBAAAAAAAAd4EAAAAAAAB3gQAAAAAAAHeBAAAAAAAAd4EAAAAAAAB3gQA==",
          "dtype": "f8"
         }
        },
        {
         "line": {
          "color": "rgb(217,217,217)",
          "width": 2
         },
         "mode": "lines",
         "name": "Segment 9414804",
         "opacity": 0.8,
         "type": "scatter3d",
         "x": {
          "bdata": "AAAAAAAAAAAPjYN0cSt2P3OnJowFs1O/nTF30gjvnj2Lbo2bB3uAP8Il8RSoOYo/FeZhR/peUED1eyNnUdZrQGAgNV9BW3lARDyxGygog0D8u5U2XcaGQHsSJN2xvY5Acs/vsB+8k0CKEvAK7HqYQOWQenjRB5tAdFT0yDT8okBzFuEesdWoQK4FbE7deq1AdLooMQvtsUCqsOpdD8u2QMJlIIXwRrpAQtmYSzC9v0CkbaX+ILXCQHNbXDJctMRAYmuaDi7PxkCqbc6dCpLJQFu1jI6oeMxAbMsLWF0O0EDxxkUZCWTVQMeV8KSHoeJAtbkyW2Vh8ECd04USUlb6QNvULHy4pQNBflshs7KXC0GE9rGcc38SQZ31yKcA6RdBNQq797ELHkFijgd6xmoiQevbJrclISZBTjgfMl4rKkH/hoGBbXguQZ31LabAhTFBSJK5X7DjM0FkMPdL/lc2QedMJ2Px2zhBVLGq5MloO0FpIY1xZxM+QUWGT3rqakBBaHf5/mTVQUGoaLmpS0lDQQ==",
          "dtype": "f8"
         },
         "y": {
          "bdata": "AAAAAAAAAABaGvuuj6LBQM16fz1gz9VAckIj8NVM4kDSwfF+mlztQP6DPtGAAPZAQAIYwuco/0Bptn6x4RMFQXCleTQfegtBA9l1LwZdEUF7la6Zf2kVQSXkEy2E3hlB4GIpGsXAHkEBPVvPFAgiQaeFZT2f4iRBLv0+1BvyJ0GipFie9zcrQSQmoNUary5Bn1bYq+YfMUGIjv36qfAyQSaYyQSv4zRB1uuukzvtNkFxCiiROgs5QTxlyNRORztBk+chnUKiPUGyAVnehg1AQfw1Bw3tWUFBAeuAMZe1QkHzbMFEEx1EQR7QjFXkh0VBRnI2ofz0RkHdR873T2JIQTk+Iaw2zklBlRwiUDM3S0HRA1a6XZtMQdsYHBTM+U1BawOwAgNST0EXhcJ4i1FQQdKueZxC9lBBFzrjwXmWUUHPOhOsIzNSQXDdGK/Jy1JBO0+hndxqU0G6JZ3Rzg9UQYq0zAJ0uVRBzQXmWwtmVUH4a+Y/4BlWQSj9EBf701ZBDh14zqKTV0ENMPo9lldYQQ==",
          "dtype": "f8"
         },
         "z": {
          "bdata": "AAAAAABG3kAAAAAAAEbeQAAAAADAP95AAAAAAEAz3kAAAAAAwPTdQAAAAAAAsN1AAAAAAEBr3UAAAAAAgCbdQAAAAAAA6NxAAAAAAECj3EAAAAAAgF7cQAAAAADAGdxAAAAAAADV20AAAAAAQJDbQAAAAACAS9tAAAAAAMAG20AAAAAAAMLaQAAAAABAfdpAAAAAAEBk2kAAAAAAAF7aQAAAAADAV9pAAAAAAABe2kAAAAAAAF7aQAAAAAAAXtpAAAAAAABe2kAAAAAAAF7aQAAAAAAAXtpAAAAAAABe2kAAAAAAAF7aQAAAAAAAXtpAAAAAAABe2kAAAAAAAF7aQAAAAAAAXtpAAAAAAABe2kAAAAAAAF7aQAAAAAAAXtpAAAAAAABe2kAAAAAAAF7aQAAAAAAAXtpAAAAAAABe2kAAAAAAAF7aQAAAAAAAXtpAAAAAAABe2kAAAAAAAF7aQAAAAAAAXtpAAAAAAEBL2kAAAAAAwAzaQAAAAABAztlAAAAAAICJ2UAAAAAAAEvZQA==",
          "dtype": "f8"
         }
        },
        {
         "line": {
          "color": "rgb(188,128,189)",
          "width": 2
         },
         "mode": "lines",
         "name": "Segment 12055316",
         "opacity": 0.8,
         "type": "scatter3d",
         "x": {
          "bdata": "AAAAAAAAAADLjT/IJ9QxvwA+Vhs9Xn0/hPqfUaPXib255jyCSE2BP5AII+eCWkJAVKbAz5xkVEB9lPSarMxgQGjATXEQQVJA/T8meum9YUA3fYW1l0trQB8mJFzW83JAfIExyiDTeEBw10KzEWByQLjma+2JyWZA+yuBOS0fTkB0klAal51pwK2pgaZovYPAd4lwOnEKkcB1mtlxB7ydwNXb2Ep6kqXApc7mEYzRqcA2s6VltUquwLz/mftBf7HAgL1vpdL2s8C9G7c9H263wC+foN/LALzACYgD/AXqv8Cl5IjdF4DCwPe6dJb/IsXAlSNBoj37yMAhGhbNfHXMwEqD88dvVdDA6VyyvENyx8D8UP4NxaqiQGAWOV/jYNpAwzZYRGbQ7EAOCOOmWU32QEIDKZVO3/1Az5d42jTBAkFp1Q4Jva8GQbqeWaXLtgpBWpwy8NjcDkGTI5vPvaARQTzsBcFb7BNBfr3v7VxDFkFvNIi6AakYQQo3LGgaHBtBGxt8flKfHUHzcSSKyRogQQ==",
          "dtype": "f8"
         },
         "y": {
          "bdata": "AAAAAAAAAACFJVnxy9ijQFRef4Dp7sFAKPEfHTsL1EBLnMNgwwziQNz8a6uJUOxAljFJPO5u9EDtQyZeENL7QITKBMEoNAJBRrxEwxQGB0Gj5hraVV4MQXQD5TbcJhFB4NgZTvdvFEHoPOCc5gsYQf9yK+gh9BtBvoXQ8ngcIEFd4oxv/G0iQU7c2uu+6iRBi3b1BIyXJ0EvBUqt124qQXHw05Erby1BBrmkQBhNMEFzVDWSR/gxQYYnjUhWuTNBPrJMvoaQNUHoZz7sAIE3QTFXNWkGjTlB/LTx5D+9O0GxrVmIIAQ+QcghDacqMEBBVe4pU9lqQUE+Ny1L7LZCQeQJUAxjD0RBgQ8nWYZvRUExfdUdvNRGQcAw/jknPUhBfcBf6smqSUFT/rTXNyBLQWkAMTxrp0xBNGV3Wmc7TkENNU9NXdtPQfhjSvS6wlBBCHaiyi6eUUG7Qrzq2oNSQQL5DFTcc1NB90GSw1xuVEHGUNcLFnJVQe+qP/WAe1ZBbbFdy76LV0GmmfDmCqRYQQ==",
          "dtype": "f8"
         },
         "z": {
          "bdata": "AAAAAIDmxkAAAAAAgErHQAAAAACA+cdAAAAAAACcyEAAAAAAgD7JQAAAAAAA4clAAAAAAICDykAAAAAAgDLLQAAAAACA4ctAAAAAAICQzEAAAAAAgD/NQAAAAACA7s1AAAAAAACRzkAAAAAAACfPQAAAAACAyc9AAAAAAMAv0EAAAAAAwHrQQAAAAAAAzNBAAAAAAAAX0UAAAAAAQGjRQAAAAACAudFAAAAAAIAE0kAAAAAAwFXSQAAAAADAoNJAAAAAAMDr0kAAAAAAgDDTQAAAAAAAb9NAAAAAAECn00AAAAAAQPLTQAAAAABAPdRAAAAAAACC1EAAAAAAQLrUQAAAAAAA/9RAAAAAAIAk1UAAAAAAgD3VQAAAAADAXNVAAAAAAMCO1UAAAAAAQLTVQAAAAACA7NVAAAAAAAAr1kAAAAAAwG/WQAAAAABAfNZAAAAAAECV1kAAAAAAQMfWQAAAAAAA89ZAAAAAAIAY10AAAAAAwFDXQAAAAACAlddAAAAAAADU10AAAAAAQAzYQA==",
          "dtype": "f8"
         }
        },
        {
         "line": {
          "color": "rgb(204,235,197)",
          "width": 2
         },
         "mode": "lines",
         "name": "Segment 9106733",
         "opacity": 0.8,
         "type": "scatter3d",
         "x": {
          "bdata": "AAAAAAAAAADVOuU650H6v7ofdxeRQDnAhNWM2wJHlD2KHDCI3JBHwI7UJv4aeWPAc0GagjfFccC1EV9r48N2wOfOKIKNn3zAh1WY7kJvh8Bzymmxis+QwIEMIwUQrJTAohHqGF7PnsC6R2CXNLyhwBNoHFmNeHxAC/+yf2M6uED+Jgb9eNrNQEMpygrirNtAmJ8JloLx5UCmoYpu/GzuQFRlZUb1qfNAAnrjKCdk+EBw+o9WqT/9QEcx6Z/OMAFBdk1dL/PjA0HtbujK6sUGQe7A3O8fxglBiCaSOgnuDEEXrU1YcB0QQULwDHTQ2BFBEvSD63KiE0EVE8Nb5HwVQdV0VHUjaRdBDIROsZ1sGUFxEXgnaYEbQTH+kSpbpB1B1j75ksvIH0EHbAm///YgQeJX50zGCSJBUPMrlPcmI0HtPL3kQhIkQaO8FJ/vqCRBo7U36uD4JEEQtzxhb/8kQbhME9q1siRBOynzyYw1JEGbg6sHkIMjQdssnUYb0iJBJM7DERkeIkGhnbF/MWYhQQ==",
          "dtype": "f8"
         },
         "y": {
          "bdata": "AAAAAAAAAABYqoJiI+O2QAIzky9rHNFAmsxAQnz34EBebeBt/lTsQBtdxNqaM/VAHu1Iap2G/UDw1JW+mpQDQYOza1AnOwlBcKxQaTSxD0F06UMsE3QTQfK4RCY/dBdBKw3JVeDZG0E+2vVM/1YgQb9Hpepb3iJBWCxtjDCFJUGFAfG7G04oQVPx7TsyOCtB3lFTi4lALkH1KANOYr8wQd3RPE3edzJBdsO/77FLNEGm1BS+6Dw2QbbTZVJKSjhBvbSzif5yOkEmteand7o8QRH7YbHMID9BPG/JA3HTQEGjgHTlPyVCQQQF76LQh0NB3NYZTwT6REGMj73a0HlGQahdEVcECEhB3NX09T2kSUGexFeTPlNLQVonYYDeEk1BKs1/aLfTTkEaifwpmEpQQfZp2Bl5K1FBsHzIguAUUkF4omO1+ARTQTtrv62k+lNBnT0eczD1VEHYJvGSafRVQe/A7g/791ZBuLLnVxT+V0HSznzjxAtZQaL2jTmBHlpBD6fxRDE1W0EA2moZ2UtcQQ==",
          "dtype": "f8"
         },
         "z": {
          "bdata": "AAAAAMBu0kAAAAAAAMDSQAAAAABAEdNAAAAAAIBi00AAAAAAgK3TQAAAAAAABdRAAAAAAIBc1EAAAAAAwK3UQAAAAADA+NRAAAAAAIA91UAAAAAAgIjVQAAAAACA09VAAAAAAIAe1kAAAAAAgGnWQAAAAACAm9ZAAAAAAIDN1kAAAAAAwAXXQAAAAAAAPtdAAAAAAABw10AAAAAAALvXQAAAAAAABthAAAAAAMBK2EAAAAAAgI/YQAAAAACA2thAAAAAAEAf2UAAAAAAQGrZQAAAAAAAr9lAAAAAAIDt2UAAAAAAQDLaQAAAAADAcNpAAAAAAIC12kAAAAAAQPraQAAAAAAAP9tAAAAAAMCD20AAAAAAQMLbQAAAAACA+ttAAAAAAMAA3EAAAAAAAAfcQAAAAAAAB9xAAAAAAMBL3EAAAAAAQHHcQAAAAACAkNxAAAAAAMCv3EAAAAAAwMjcQAAAAADA4dxAAAAAAID03EAAAAAAwCzdQAAAAADAd91AAAAAAMDC3UAAAAAAwMLdQA==",
          "dtype": "f8"
         }
        },
        {
         "line": {
          "color": "rgb(255,237,111)",
          "width": 2
         },
         "mode": "lines",
         "name": "Segment 9093708",
         "opacity": 0.8,
         "type": "scatter3d",
         "x": {
          "bdata": "AAAAAAAAAADxNQTFC4tcQKDrHhSze2FANyWwu9Voij2Rix2PrblkwBe50K7xWknAqa5FRTNoksBFjTJk916wwKx2d4zBSMHA1vOA598izMAioI6XQI/UwLsdVUU6KNzAqML7sCIR4cDK22dnsvHhwHVSLj5TIODACyGoXwyh18CeU/b7QVrBwIZKcA2nxMhA3EdQfeps40A+2JztgWLxQOa5hKDMn/lAYa10XM08AUG92I90dvEFQUHppYEw6gpB6FidGp4PEEEJP7c4D80SQSANBqMvtBVBdTGIHKL8GEEAOScHtN8cQSMfIF2wsCBBmuU7hLRRI0H3e7xivFQmQUeMdcNctilBwOR1hpdqLUG3UvvACLwwQbd5Vpk27jJByP4fdalKNUFhAkrAY9A3QfEhJ1cIfjpBj9b9lOZUPUGamNX/uCdAQVLhzNi8uEFBOk3KCZ5bQ0E+cPS12w1FQY0DS90v0UZBelwFoKyjSEEnlKK2/4VKQaOAWlEQeExBdv6FO2t5TkFe9BLFv0RQQQ==",
          "dtype": "f8"
         },
         "y": {
          "bdata": "AAAAAAAAAADVKGucrPGpQDgNJrrOf8dAjZP9DSbo3UAbUAbrzvfsQIAsf8ejAvhAF6JEzJeDAUFzzEMJCKYHQbfOFmK5/A5BhAbZK+TFE0EiRJPc5KwYQVcdSfXiLR5BNvbmsWsIIkGrt3i2UBQlQZdFW4VqOShBn/y0llR0K0FBwY74HMAuQf+e/fOrDjFBK1OkkLHIMkEQ7hlx3Kc0QZivO4s5rjZBulQlVA3bOEHJBvFFgS87QXkPMzhTqj1BiFaEABgkQEGpGwdrkoRBQXdGBfU790JB5jcuw9lyREFi+rRP2+1FQUVMvggeaEdBV70jsArfSEE1WyhKPVBKQRxgGNJFuktBL6Hs430fTUET4hft2ntOQbJMJSsC0E9BHZmoFoSMUEHk5VPexSpRQV/afYAOwlFBMIwtizZRUkExi9aq2NhSQXeubspLYlNB9TGMQkPwU0F0R7gc4oJUQbRT8REhGlVBBpz3qwu3VUGExgW6rVhWQXQe4x+W/1ZBFQFnQZ6rV0F/TZe5QF1YQQ==",
          "dtype": "f8"
         },
         "z": {
          "bdata": "AAAAAAAX4UAAAAAAABfhQAAAAAAAF+FAAAAAAAAX4UAAAAAAABfhQAAAAAAAF+FAAAAAAAAX4UAAAAAAABfhQAAAAAAAF+FAAAAAAAAX4UAAAAAAABfhQAAAAAAAF+FAAAAAAAAX4UAAAAAAABfhQAAAAAAAF+FAAAAAAAAX4UAAAAAAABfhQAAAAAAAF+FAAAAAAAAX4UAAAAAAABfhQAAAAAAAF+FAAAAAAAAX4UAAAAAAABfhQAAAAAAAF+FAAAAAAAAX4UAAAAAAABfhQAAAAAAAF+FAAAAAAAAX4UAAAAAAABfhQAAAAAAAF+FAAAAAAAAX4UAAAAAAABfhQAAAAAAAF+FAAAAAAAAX4UAAAAAAABfhQAAAAAAAF+FAAAAAAAAX4UAAAAAAABfhQAAAAAAAF+FAAAAAAAAX4UAAAAAAABfhQAAAAAAAF+FAAAAAAAAX4UAAAAAAABfhQAAAAAAAF+FAAAAAAAAX4UAAAAAAABfhQAAAAAAAF+FAAAAAAAAX4UAAAAAAABfhQA==",
          "dtype": "f8"
         }
        },
        {
         "line": {
          "color": "rgb(141,211,199)",
          "width": 2
         },
         "mode": "lines",
         "name": "Segment 8653547",
         "opacity": 0.8,
         "type": "scatter3d",
         "x": {
          "bdata": "AAAAAAAAAAB++7MYoZgTwBDrG8Hkfy3Ao33MfkwWkj0I5tGd1R5wQHU1gWl6q5RAEtDRi7jJqECbQiVJ9hCyQGh6PU/OSrdASaNxi3DkvUAozSXITkPDQIhFvy3e1MdAS77QxyDazEDHniQN/k7RQLd9RY4GgNRARmU01BIY2ED/fHCTtBrcQK7sZlTK299AI373JyHW4kAOAX+5b3ToQL86QV8/g/BAvIu3BPjv9UAFtiE5COL7QJcOBw6g/gBBSxxpp0RVBEEY+llDaO8HQfxSDBXLpAtBBqMl+cyID0EKbKYEhLoRQSO9q+ggwBNBCDGGOhrbFUHGOxVn+voXQe01TJ/zFxpBB53X1mkxHEETmUNuFEYeQZ4yYdhCLyBB8dQq37pCIUGFL58SalsiQReHxC/ifiNBtm95dr9zJEGiMA2gSAslQZERBtA7QiVBPPY7bPsfJUHJ5EUTRKEkQce+ni3OuyNB6RqhYL57IkFyRv9H+tYgQcxvFfMOER5BI/Ld8g1VGkH6KZ4JF4UWQQ==",
          "dtype": "f8"
         },
         "y": {
          "bdata": "AAAAAAAAAABA6dr3r5u1QGlxSlcfQNBASFQhmE2C4EC198vJlZ/rQNr24k5YvfRA48g7kOc3/UDZvuxaL5ADQRg6UmI6PAlBOIzxNKGfD0Hlyah/BWgTQeSB3GJ7ZRdB5XKDSf7HG0HHDH0qeEogQZNms1jQ8iJBPhTdYNfOJUFgxpEa3twoQaa23JJAJCxBbWBiDB2rL0GIf5o9L6QxQZtLYyUcfTNB/gKIfuNmNUGVTyantWo3QTbsnBV8jDlB+FK1qCPKO0HDhwn6Ji8+QU8EC65RWUBBwFBPotyqQUHA9jJ9eQlDQXnaSc6UdkRBOFqyYcHyRUFRU6xxVnpHQSiQUq9ODElBh5qZnF6kSkHtiH/iyUFMQXhPmWjR5k1B6gwW+yKcT0HZ67ciC7JQQVRZjjjHnlFB53v1FM6SUkGHhsUQ3YtTQTgQ5z/ViVRBXSXkEdGLVUFZAKlVfpJWQXSTBHmmnFdBGa8DJu6pWEE0aCcnwrlZQQnZLRkb0lpBJuPo2OHzW0EK2Zx2Vx5dQQ==",
          "dtype": "f8"
         },
         "z": {
          "bdata": "AAAAAAD/1EAAAAAAQFDVQAAAAACAodVAAAAAAMDy1UAAAAAAAETWQAAAAAAAj9ZAAAAAAEDg1kAAAAAAwDfXQAAAAAAAiddAAAAAAIDg10AAAAAAgCvYQAAAAACAdthAAAAAAIDB2EAAAAAAgAzZQAAAAAAAS9lAAAAAAACW2UAAAAAAQOfZQAAAAABAMtpAAAAAAMBw2kAAAAAAQJbaQAAAAADAu9pAAAAAAAD02kAAAAAAAD/bQAAAAADAg9tAAAAAAIDI20AAAAAAwADcQAAAAACARdxAAAAAAECK3EAAAAAAQNXcQAAAAAAAGt1AAAAAAMBe3UAAAAAAALDdQAAAAABAAd5AAAAAAMAm3kAAAAAAgDneQAAAAAAARt5AAAAAAABG3kAAAAAAAEbeQAAAAAAARt5AAAAAAABG3kAAAAAAAEbeQAAAAAAARt5AAAAAAABG3kAAAAAAAEbeQAAAAAAARt5AAAAAAABG3kAAAAAAAEbeQAAAAAAARt5AAAAAAABG3kAAAAAAAEbeQA==",
          "dtype": "f8"
         }
        },
        {
         "line": {
          "color": "rgb(255,255,179)",
          "width": 2
         },
         "mode": "lines",
         "name": "Segment 9431026",
         "opacity": 0.8,
         "type": "scatter3d",
         "x": {
          "bdata": "AAAAAAAAAABBJzMtdJQVQOl1vFhAoC7AzPt2mVvjeb31y8JwSddMQCYZ5o+N+WVADDgdmc50cECARqYeZbd6QLGuTJYOv4BAonMTi7Whf0BY1h6gRF2EQDtpUbdEd4lAPTbwi0QkiECThPgDrvCSQNJpbBL5O55AkfMgaEtGpUDbjTULyvWrQPnVgnkPi7FALFrNHXIttUAritgR1PS4QNEc4e/s1rxA6npgtyu9wEBeE5rDzxPDQA7Gs1zmbMBApzZYDjUdmEDMPjx8DDHFwA+Q6ncvn93A27rjKCky68Cuk586baH0wDbQMpai+vvAeaN6kSTgAcGoe3E4VgcGwXH2AzRxbwrB1KP1ZcsTD8HsJ70RyPgRwcZuWu2PhRTBuCf14G42F8H7i+RDjPwZwdBPZ4RV2hzB1J4Dr3/eH8Gw5eXy/oQhwReOe+B0KSPBjYVJ1NbfJME8iJACP6Emwc1Fmo7TbyjBBdW8N55SKsGz8C/NG0oswXdXhxDaTi7BUZZm9sYzMMHNxWj4akcxwQ==",
          "dtype": "f8"
         },
         "y": {
          "bdata": "AAAAAAAAAAAPGQpYimuzQFfBvQf4hMpAtPQas0cK20BmCYwSOHjnQLmmKjp2CfJACkM0RM+V+UBG752PBCwBQVwiUHwI2QVB+CyJlItaC0EJg8Eiz9AQQSmVEUUEVhRBluHGAAVBGEFrAqPwu38cQaiAa+FjfyBB/5LXPu/yIkFj7u5RS5wlQfmc1uSRcihBqiQxTFpXK0HsuF99mVkuQdFmysWOuDBBIke4I+JJMkHu/JGuit4zQRWEWb1lejVBF1fEykcgN0G1BLOxUs04Qa5IMK6vfzpBsCOGRpM5PEFc+g7pLBQ+QWcfswT9A0BBzIk2ZUsMQUFu/9bNkSRCQd0bhy6pS0NBxq0E+4KCREElOy+jYchFQSseSyRGG0dBpk59Ei5+SEE/Selp1u5JQV68fsbIa0tBNgR4apr5TEHk1XayhZhOQWTwEXc+I1BBbSXK57QBUUESC+tqfedRQYiyBDkC1FJBxGJJ2gHJU0GDK3ddmsZUQXJLcKbUzFVBOj/hiifbVkGntrSv6PJXQQ==",
          "dtype": "f8"
         },
         "z": {
          "bdata": "AAAAAIBP0kAAAAAAgLPSQAAAAAAA8tJAAAAAAEBD00AAAAAAwJrTQAAAAAAA7NNAAAAAAEA91EAAAAAAwJTUQAAAAAAAtNRAAAAAAMD41EAAAAAAwEPVQAAAAACAiNVAAAAAAEDN1UAAAAAAgB7WQAAAAACAUNZAAAAAAECV1kAAAAAAANrWQAAAAAAADNdAAAAAAMA310AAAAAAgJXXQAAAAACA+ddAAAAAAIAS2EAAAAAAgCvYQAAAAACARNhAAAAAAIBd2EAAAAAAQHDYQAAAAAAAg9hAAAAAAMCV2EAAAAAAAM7YQAAAAACADNlAAAAAAABL2UAAAAAAQIPZQAAAAADAwdlAAAAAAAD62UAAAAAAgDjaQAAAAAAAd9pAAAAAAECv2kAAAAAAwO3aQAAAAABALNtAAAAAAEBe20AAAAAAQJDbQAAAAACAyNtAAAAAAMAA3EAAAAAAADncQAAAAACAd9xAAAAAAACd3EAAAAAAAM/cQAAAAACA9NxAAAAAAEAg3UAAAAAAQDndQA==",
          "dtype": "f8"
         }
        },
        {
         "line": {
          "color": "rgb(190,186,218)",
          "width": 2
         },
         "mode": "lines",
         "name": "Segment 10621637",
         "opacity": 0.8,
         "type": "scatter3d",
         "x": {
          "bdata": "AAAAAAAAAAAM1sFF+5gmwNAa9oWxi0BAAAAAACBRkD1OXHi8A9pFwN3zGwr2yWvA1xtGpro8jMCtZphsXAmewIcO5wcZ5KDAOhNxU3a9ocAfYCoDvbKnwHP5LQ/cXrPAe5tihFwBvMCKmuK4G3bBwHeJxGbBq8TAOhLTyhWDx8BT4sRDkd3QwK/6fgN+g9rARR8cxCDD5MD3+7QkE0zvwBsPJn5G6/XA36jaGplO/cAb/3KOtL0Cwfk7xQlmcAfB1ja7VgRzDMGscOliuMYQwQIktZDUaRPBAv9/1g1GFsE/xQ/fjEYZwYu3MUddbxzBSfSFTj2/H8G+bShWVZkhwYURjEi0XiPBAGu7sgYpJcEoSHkbsAAnwYerlmUQ3yjB7lipnk3NKsHaSAMFftUswYW+e3Cd7i7BAkcwQ7GLMMElIMX376IxwfVhFCUZwTLBKYsSJrzsM8HfYBJewiA1wVru8VxXYDbB9RwjniKpN8FHh7LCIPg4wcCW83C/VjrBDChjJzu2O8EfFE2T4Bo9wQ==",
          "dtype": "f8"
         },
         "y": {
          "bdata": "AAAAAAAAAAAKUtRGPOiyQF5lnJGIHMxANzMXfSLn20Aa14hIGhjnQKdNOZKbTvFAfUqi2HJz+EDnXZfe65UAQceLqrnwmwVBgb37YPFKC0Grx1ZxUtgQQeJ2UbUKhBRBRNEb6du6GEF1rIolTF8dQXm0SLheOCFB2OoAjqfxI0F8NRCmIMUmQdLNinnBqylBZhepnRKfLEFhKYCpk5svQVAybYZMWTFBmNWB36fsMkEMID3TOoM0QW4TY3bEITZBMcqJSxnQN0EUQ1+9aoY5Qcw77ARPUDtBUrsLb0c+PUG6lBqY9EE/QZ965+jmrkBB0tt5s9zJQUHJLCPbr/BCQYXYqjwbHERBpXWUsctKRUE+Pw7T8YNGQa2V49jgv0dBFQgG+8IJSUFQCPpQT2FKQZs/Jx8uwktBhRfe4T4vTUF3Gt68FqBOQQ7/uo8IDVBB3k86IOzSUEGDl0uQbZ9RQUxlsMNhcVJBtEt1QGNJU0FfCUJEdyVUQe4KBUmbClVB+ATlwE/wVUGByzsBZNlWQQ==",
          "dtype": "f8"
         },
         "z": {
          "bdata": "AAAAAMBI0EAAAAAAAJrQQAAAAACA8dBAAAAAAMBC0UAAAAAAAJTRQAAAAABA5dFAAAAAAAAq0kAAAAAAwG7SQAAAAADAudJAAAAAAMAE00AAAAAAgEnTQAAAAADAgdNAAAAAAAC600AAAAAAgPjTQAAAAABAPdRAAAAAAACC1EAAAAAAwK3UQAAAAADAxtRAAAAAAADm1EAAAAAAAP/UQAAAAAAAMdVAAAAAAABj1UAAAAAAwHXVQAAAAABAm9VAAAAAAIDs1UAAAAAAwAvWQAAAAAAAK9ZAAAAAAMBW1kAAAAAAwKHWQAAAAACA5tZAAAAAAAAl10AAAAAAwGnXQAAAAAAAiddAAAAAAECo10AAAAAAAO3XQAAAAACA+ddAAAAAAMAY2EAAAAAAQFfYQAAAAABAcNhAAAAAAACD2EAAAAAAwJXYQAAAAABA1NhAAAAAAAAA2UAAAAAAgD7ZQAAAAAAAfdlAAAAAAIC72UAAAAAAgNTZQAAAAACA7dlAAAAAAMDz2UAAAAAAQBnaQA==",
          "dtype": "f8"
         }
        },
        {
         "line": {
          "color": "rgb(251,128,114)",
          "width": 2
         },
         "mode": "lines",
         "name": "Segment 10039061",
         "opacity": 0.8,
         "type": "scatter3d",
         "x": {
          "bdata": "AAAAAAAAAAD7hBamGOwJQCG7lVqCHBtAwOIGuyxdar1Eei557Bs7QCQKNWsJ5CNAnU2qkddNTkAmjfBzQHyTQPHVqf4hwrBAHIUGXsHMwkAa8EA1VBDRQFzv5PzOhdtA2UqA7wG240B0Z0MSWmDqQHR4WxkQ1fBA/Q0x6LLU9EAyVGMezDP5QFAux4PQ8P1A00nBxcJ7AUHY+12bGjMEQQ3NJNdcCwdBTdyqczIGCkFEXZ5saUINQRTUtSv4iBBBp2Mq48MUE0EdroD5+FAWQa87KCPDRBpBTD91ML+9HkEFoBg85vYhQT3ZiD8yzyRBeXO2oJ3/J0FGJBCkHnArQYc+AbYeIS9BcsgU7UFrMUH+MU/wwC4zQa35uALR2zRBbhJE1oNxNkE4h+L0LOo3Qf4vXEdZRjlBaiyYV7SBOkEFZkkZSpw7QZROAloXqDxBb+Bamr6QPUEMOcYVlXM+QQzQLK4fXT9BharQEpojQEHdO0P8KZtAQVEYn940FUFBlQBNahWNQUEkivtpuQZCQQ==",
          "dtype": "f8"
         },
         "y": {
          "bdata": "AAAAAAAAAACKekzLFOqkQLKj8rOs37VANoCiY3rT0UCJ2l6zyNrjQIgwG242wfFAlmEz6iz6+0DBuocJKQwEQT3KF1iTwQpBGxllVY8MEUG2wO3uawYVQQhMeXHwTxlBkkQJzJkwHkFjC8UUvtMhQXFPfx2Z2SRBRP4ocbsqKEHKtvYoDssrQSHFZURJuS9B0v2Q47f4MUE04tU/hjk0Qd6WnfjfnDZBKnX5mwMlOUEv0oRvCtQ7QYfyzS+7nz5BQ27IHV63QEGejnSBwx5CQQu+0+aFhENBS2qguBrpREG7fjDvx0hGQcDyfvKCpUdBo4yuVlH8SEEsmRZ0mlNKQewR8CTrtEtBW5OWKKUlTUEpuEdV5aZOQfs0bEnBG1BBwaW2PP3rUEFG6d301sNRQS+3+6Jyo1JBgL400x6KU0ELelkRkHdUQS9v6lLZZ1VBMECdoXxeVkEXXQmz715XQbi3xe0qaVhBJyMFUQN0WUH4hShSWoJaQZa/bnrxmltBFeScdCi9XEFXpHO46+hdQQ==",
          "dtype": "f8"
         },
         "z": {
          "bdata": "AAAAAOCE40AAAAAAAIjjQAAAAADghONAAAAAAACI40AAAAAAAIjjQAAAAADghONAAAAAAACI40AAAAAA4ITjQAAAAAAAiONAAAAAAACI40AAAAAA4ITjQAAAAAAAiONAAAAAAOCE40AAAAAA4ITjQAAAAADghONAAAAAAOCE40AAAAAAAIjjQAAAAAAAiONAAAAAAOCE40AAAAAAAIjjQAAAAADghONAAAAAAOCE40AAAAAAAIjjQAAAAADghONAAAAAAOCE40AAAAAA4ITjQAAAAADghONAAAAAAACI40AAAAAAAIjjQAAAAAAAiONAAAAAAACI40AAAAAAAIjjQAAAAADghONAAAAAAOCE40AAAAAAAIjjQAAAAAAAiONAAAAAAACI40AAAAAAAIjjQAAAAAAAiONAAAAAAOCE40AAAAAA4ITjQAAAAAAAiONAAAAAAOCE40AAAAAAAIjjQAAAAADghONAAAAAAOCE40AAAAAAAIjjQAAAAADghONAAAAAAOCE40AAAAAA4ITjQA==",
          "dtype": "f8"
         }
        },
        {
         "line": {
          "color": "rgb(128,177,211)",
          "width": 2
         },
         "mode": "lines",
         "name": "Segment 10027758",
         "opacity": 0.8,
         "type": "scatter3d",
         "x": {
          "bdata": "AAAAAAAAAABvEJuCpSQsQILCg3CWySBAhFTTiFEJYT0MbK6vRZlLQK9NPu5N/WlAcALfO1fqk8Bfyo8ISim3wA+O/hpknMrA9MdCVI252MDpow/l+OPjwFOVB2k0ne3A5AjbD1O09MCKb2ICJX/7wEGOojxkwQHBclK39pRSBsFU4d5RyHYLwZaLJxBliRDB8NO/HLiGE8FD4Cd8EboWwYLHAC/0LxrBqemxRSLkHcHR0Ziitd8gwX7B3s7K6CLBnzfsvjv2JMHXBA88s+ImwaEmmozipijBx2r/ZhqTKsF2VUB1yqcswY+35hsUyC7BC71RRg5hMMFOvQqgBnAxwW9fafN4mjLB8ZetPp3gM8FbAlC5JTU1wROE+667lTbBwqNZ/o0JOMG4x4dZoo85weV0HtzzKzvBLeS98PrfPMEdE6TRQ6E+wdjo3Pi8OEDBPUhF9PgZQcEx5iZtsAFCwaOpI5D58kLBMxFP+k7ZQ8H3GPUejqREwfg8kmTaVEXB8VN4b7LnRcEsp7yRF2VGwQ==",
          "dtype": "f8"
         },
         "y": {
          "bdata": "AAAAAAAAAABdHO7INezCQJW+1+F2b9xAJPwrJb027EBWNTXiIGL3QIiqZkZlhQFB2GeqL8LuB0FobK2N7qwOQW3H4Y+h2RJBeNwJVnh7FkHdNSNAdkAaQXRlf0VZFB5BlZ1MNif9IEEexTdm3fciQd4lsICe9yRBljW5YSEAJ0ER1QMhGR8pQbGRdL5DZitBUjXCErPiLUHH0vC+ekswQV+sAjM7wDFBIO0rzjFPM0GpLHE49+w0QQCJmMNKnjZB4evWhLdoOEFDoWJVjUk6Qa1tP2SXQjxBZs7Wk7lbPkGoZlKEO0tAQW7o6bkve0FBtJzSGja3QkGJmsNElwREQY+ERkioVkVBX3RPBfCwRkGi3Hbqyx1IQX4UYBzKnElB4dnyRf4sS0Gf3j8f8M5MQTIsQdDHgE5B6+KqrbYhUEFcyzdR+AtRQf850TcxAFJBLX9Bd+/8UkG8whCfLQJUQQIOSsOqD1VBbipQCRwkVkH7En3Dqz9XQaygZ5V/YVhBMVcFlM+JWUEg9xnGHrhaQQ==",
          "dtype": "f8"
         },
         "z": {
          "bdata": "AAAAAAAX4UAAAAAAABfhQAAAAAAAF+FAAAAAAAAX4UAAAAAAABfhQAAAAAAAF+FAAAAAAAAX4UAAAAAAABfhQAAAAAAAF+FAAAAAAAAX4UAAAAAAABfhQAAAAAAAF+FAAAAAACAa4UAAAAAAYCDhQAAAAADgLOFAAAAAAKA/4UAAAAAAwFvhQAAAAABAgeFAAAAAAKCj4UAAAAAA4MLhQAAAAAAg4uFAAAAAAGAB4kAAAAAA4A3iQAAAAAAgFOJAAAAAAAAR4kAAAAAAABHiQAAAAAAAEeJAAAAAAAAR4kAAAAAAABHiQAAAAAAAEeJAAAAAAAAR4kAAAAAAABHiQAAAAAAAEeJAAAAAAAAR4kAAAAAAABHiQAAAAAAAEeJAAAAAAAAR4kAAAAAAABHiQAAAAAAAEeJAAAAAAAAR4kAAAAAAABHiQAAAAAAAEeJAAAAAAAAR4kAAAAAAABHiQAAAAAAAEeJAAAAAAAAR4kAAAAAAABHiQAAAAAAAEeJAAAAAAAAR4kAAAAAAABHiQA==",
          "dtype": "f8"
         }
        },
        {
         "line": {
          "color": "rgb(253,180,98)",
          "width": 2
         },
         "mode": "lines",
         "name": "Segment 9921722",
         "opacity": 0.8,
         "type": "scatter3d",
         "x": {
          "bdata": "AAAAAAAAAABpf2GNo9lCQOI5FExR+zVAqFytOZmPQb1LfO2uCLZUwNyfbqW4MIHAhWsprHGNo8C58wZHCRK4wFsymoGzHcfA4ADXzn2a08C8CZ2qNFTewPGL/BL/FOXAPrePRlCk68AT5b1X/FTxwMlYKbWY2vTALhjACM2l+MCjyAsc0Lj8wNxzh5DQigDBvS2UlWDCAsFrDKDs1SwFwYTgPG//1wfBYkntw/SjCsGPwWoT3p4NwVz7UU1vVBDBSrxOMYTtEcF55a2wtJYTwd8d3P5mVxXBwVu4xM8rF8GU1E3vZRMZwUSg/ndADhvBx1At5jcdHcEmHBYEm0UfwRF57wNGxCDBd/+KC9DyIcGa0gkBYSsjwREPdpRrbiTBv6Um1l+/JcHQH+8/GSInwVoaH9KykijBiv+KHf0KKsGmwWTqA4QrwSho7GFl/SzBydkX/gKHLsFqp+BSHg0wwd1JDGRB1zDBdlNkQa6hMcG2fSOlF24ywd2LxTArRDPBBo2aSrQdNMEQqa8kXPg0wQ==",
          "dtype": "f8"
         },
         "y": {
          "bdata": "AAAAAAAAAAAwqaxVQfXAQHpz5lf6pdlAyBojvzPU6EBPJZFYHxT0QGODR6hKx/xAYr151nBZA0FPqj0zBfYIQeI30oncLg9BUohjbFYEE0HdZHltxcIWQW4d5zUR+hpB2jn15oGmH0ErxLyvB2EiQaxeK1fU8CRBMMlOxz+zJ0FBe5AK5qkqQcW7163SzS1BIKwfV4yMMEFT7aqRvEkyQTMJz9jrITRBwTGB6sAVNkGzZS8SDyU4QW56BmPLPjpBHpqI0Ul0PEH0Ba3G9sU+QbHO6hkcmUBBbWDb0tzcQUHQbQXJ3i1DQSO43dwxjERBfnZsGBb8RUGpp4SFuX1HQbJ+NeHfDUlB14blHParSkFG1Te1xVdMQTv6AajrEU5B2eqnexzfT0FGmfEM8N9QQWfqvz9N11FBAtpAWUzWUkGUOBEry9VTQaozu3CH1VRByYooVq7dVUG/J0Qg7u5WQRYS4dvjAFhBnI3amT0TWUFkON+OSChaQTUt61vaRFtBl5qPVAVmXEEl9Sl3rYhdQQ==",
          "dtype": "f8"
         },
         "z": {
          "bdata": "AAAAAEDu3EAAAAAAwCzdQAAAAABAa91AAAAAAEC23UAAAAAAgAfeQAAAAABAM95AAAAAAABf3kAAAAAAwIreQAAAAADAvN5AAAAAAAD13kAAAAAAACffQAAAAADAa99AAAAAAMC230AAAAAAAO/fQAAAAABA9d9AAAAAACAg4EAAAAAAoEXgQAAAAABAbuBAAAAAACCd4EAAAAAAwMXgQAAAAAAg6OBAAAAAAIAK4UAAAAAAADDhQAAAAACAPOFAAAAAAOBe4UAAAAAAQIHhQAAAAACgo+FAAAAAAADG4UAAAAAAYOjhQAAAAADACuJAAAAAAOAm4kAAAAAAAEPiQAAAAABAYuJAAAAAAKCE4kAAAAAAAKfiQAAAAABAxuJAAAAAACDc4kAAAAAAIPXiQAAAAAAgDuNAAAAAAGAt40AAAAAAYC3jQAAAAABgLeNAAAAAAGBG40AAAAAAgGLjQAAAAACgZeNAAAAAAKBl40AAAAAA4GvjQAAAAADghONAAAAAAACI40AAAAAAAIjjQA==",
          "dtype": "f8"
         }
        },
        {
         "line": {
          "color": "rgb(179,222,105)",
          "width": 2
         },
         "mode": "lines",
         "name": "Segment 8725975",
         "opacity": 0.8,
         "type": "scatter3d",
         "x": {
          "bdata": "AAAAAAAAAACQ1kzsUwJOvzxfzJoMmmS/Mon4gBlroj1sjru7aJVEQDdtmlhflURArtoB6kWVRECZ+in6N/88wGDVl4nfgmjAAqRjOZtHcsD0Md53xCR5wMZQXum3boDAViJpflfKhMATPsryB3qOwFq97ewDH5fAKJQ1N0HUnMChHjioosiiwOSIGx4d1KXAC280R6P6qMDnxjNeSjyswBIB1QPPu6/AQUphnLazscAhTd9xQZS0wOCpEgLrjLfAbJCr7kySusBzKfUSo6K9wN1RAU0hbcDAVwBlJmUPwsCF6T9ctrXDwPTuvckuZcXAAvf1qFGHxsAjRSVwdj/IwGsecI1ZocrAlwaOfVIizcBJAmA+WzTQwDAPRTJXPNHAPQT8vtxR0sCXLaJJXtTTwBBIpHl+LNbAW7g2xImW2MBFMfr9DTvawGaNE6eVfdvAVMaJPL823cDEBk3o+N3fwNAY3NWviOHA8Pq4VDIx48DtkAkuw2vkwFl8cp9N8+XAzNXVGGHM58Cs9+UaTPnpwA==",
          "dtype": "f8"
         },
         "y": {
          "bdata": "AAAAAAAAAABL1Mj7OHK1QD4uq3Oa8tBAJc7/AX5c4UAsICSuC+HsQH1POnxbJPVARQJscXHK/EA2/OK2fU0DQYziiSBlJQlB32qRHiPjD0H0tthFt8gTQYM68362GhhBnho+kif7HEG/UjgVUDMhQfb+4gsNJCRBOBGxKKdVJ0HRRau7GJgqQXAYppNeAC5B2BRzLXbDMEFQOld+55UyQdSCdtX4ijRBhPw6nbeYNkG/jxuwM744QRJyOKmt9TpBzbxjeKQ2PUGJoYYYyX8/QVZrUsod80BBnzCdJCcrQkE7vV13N2ZDQbARfQcbqERBsVUJisjsRUEaIGu8JDVHQd07nuliikhB07bCEQbxSUHQsjM7TGhLQXff8Fot8kxBjlJpz0GQTkEg96uqYiBQQf314X08AFFBR/bBIMXmUUHe6ICDDtJSQawvd1OswlNBJvJrLYO5VEFNH68E3rZVQVX4hZ/XvFZBwokpUUnMV0GigxKE5OVYQcGr5JD8CVpBA75VLXw4W0FHwo+nE3BcQQ==",
          "dtype": "f8"
         },
         "z": {
          "bdata": "AAAAAMA310AAAAAAgGPXQAAAAADAtNdAAAAAAAAG2EAAAAAAgF3YQAAAAADAldhAAAAAAEC72EAAAAAAgPPYQAAAAAAAMtlAAAAAAMB22UAAAAAAgLvZQAAAAAAA+tlAAAAAAEAy2kAAAAAAgGraQAAAAABAr9pAAAAAAMDt2kAAAAAAwAbbQAAAAACAZNtAAAAAAMCc20AAAAAAQMLbQAAAAADAANxAAAAAAMBL3EAAAAAAAJ3cQAAAAACA9NxAAAAAAIAN3UAAAAAAABrdQAAAAABAOd1AAAAAAIBY3UAAAAAAAH7dQAAAAADA291AAAAAAAD73UAAAAAAQBreQAAAAADAWN5AAAAAAACR3kAAAAAAQMneQAAAAABA+95AAAAAAAAn30AAAAAAAFnfQAAAAABAkd9AAAAAAIDJ30AAAAAAAATgQAAAAABAI+BAAAAAAIBC4EAAAAAAwGHgQAAAAADgfeBAAAAAAKCQ4EAAAAAAAJrgQAAAAAAAmuBAAAAAAACa4EAAAAAAAJrgQA==",
          "dtype": "f8"
         }
        },
        {
         "line": {
          "color": "rgb(252,205,229)",
          "width": 2
         },
         "mode": "lines",
         "name": "Segment 8792769",
         "opacity": 0.8,
         "type": "scatter3d",
         "x": {
          "bdata": "AAAAAAAAAABgPfrEYpcRQAAcTjA/mS9A0G40ajB9kz153Hb5Q4+CQASmGu2IAaJAuGNdlaJjtUDSpJpMYjfEQBjMhvkkx9BAfg2m2Xel2UAR/38tZfbhQEw2Jb65sudAzerzYOO37UDoJTAz1AvyQD5QsIXEY/VA7LbXjXAO+UDS53ck1Ob8QABU/lbXewBBWD2Fg0GrAkEgE/TbwOoEQSNw+M7bNwdBavNQ2H+RCUHHJuYkR/YLQUGCYfBkhw5Bw1QlaQ2bEEG7wF77BA4SQUCZXJn9mhNBKr27tKQ8FUEbFxfbpvgWQcjMLt5GyRhBri38UaqzGkG6Rt+ferIcQXNDVmnGyR5BxiznZxqAIEGM0As4UKUhQQ/ZCCii1yJBcnewYpcWJEH4G0PBpV8lQVA4USZNtSZBcja4mecUKEHWftuDn30pQVzHaqYP8ypBymYIvzR1LEG5AESGGgguQU7v2XRJoy9BxI5s4n+kMEG4DlD7aXkxQXMh+FJ8VDJBKut9Rj43M0HLDQvAQSA0QQ==",
          "dtype": "f8"
         },
         "y": {
          "bdata": "AAAAAAAAAABJQNy9yd+xQGEsXGMHEdBAv7KYpiHd4UBDNSfipB/uQKQQ20fSL/ZAmo9RAxBL/kDLlnDYybEDQc3ZPxViswhBRr+sdeIrDkE3AGrVph4SQeZXK7RsqBVBwNiyXXlwGUFnQemib3EdQYbhXLF/zSBBZylQ+8YVI0EGWL0Hg3olQargSLVkAihBXq5qqs+6KkHbK78IQIctQaPBh6BQMjBBvfKfrc6oMUE1OsUltikzQQtK7it3xjRBxITI/M51NkFMXN/Q1kc4QVKf/6GJOjpBafzCIQtMPEEYxhO99n4+QS+b0Ey+aEBBEKTQ73yiQUE7emnUW+xCQbAhmx4KRkRBguP8dm+wRUHweHaKIStHQSCzdDfCtkhBSQ+4b7VSSkEGWFiEtv9LQcUmTDAkvU1BD05zIOiLT0GiNEaGnbVQQaKrvW26rVFB4Wv5m0iuUkEHGB0GbLdTQefhROicyFRBkDrfmczgVUF03KErQgFXQVVvqUAPKlhBEhcEGUxaWUGu5r6s7ZJaQQ==",
          "dtype": "f8"
         },
         "z": {
          "bdata": "AAAAAABA30AAAAAAwFLfQAAAAABAkd9AAAAAAMDP30AAAAAAQNzfQAAAAADA6N9AAAAAAADv30AAAAAAAATgQAAAAACgE+BAAAAAAGAm4EAAAAAAQDzgQAAAAABgWOBAAAAAAEBu4EAAAAAAYIrgQAAAAADAk+BAAAAAAACa4EAAAAAAQKDgQAAAAAAAs+BAAAAAACDP4EAAAAAAQNLgQAAAAABA0uBAAAAAACDP4EAAAAAAwMXgQAAAAACApuBAAAAAAECg4EAAAAAA4JbgQAAAAADgluBAAAAAAACa4EAAAAAAAJrgQAAAAAAAmuBAAAAAAACa4EAAAAAAAJrgQAAAAAAAmuBAAAAAAACa4EAAAAAA4JbgQAAAAADgluBAAAAAAOCW4EAAAAAA4JbgQAAAAADgluBAAAAAAACa4EAAAAAAAJrgQAAAAAAgneBAAAAAAACa4EAAAAAAAJrgQAAAAAAgneBAAAAAACCd4EAAAAAAAJrgQAAAAAAgneBAAAAAAACa4EAAAAAAAJrgQA==",
          "dtype": "f8"
         }
        },
        {
         "line": {
          "color": "rgb(217,217,217)",
          "width": 2
         },
         "mode": "lines",
         "name": "Segment 9257262",
         "opacity": 0.8,
         "type": "scatter3d",
         "x": {
          "bdata": "AAAAAAAAAABl1rEuQSFWQEhBjqj4WE9AwSbrlIpHkT1yE1bJIOBYwCvP4Ymfb23AHQNpnLeMecDoUwBoKxF9wDhy/wbgl4DAr6/rnU32gsBaNY1Gm3KFwB8ZfB2M/YfAIhSadt8wkcC7HY35RI2WwHzADYJKAZzAFFKlr7LoocAG4q92zgSlwHczukLSYajAmt2LiEbLq8D6P7P/SEGvwBWRj7+FLrLApBEiQpZotsAmyW7vxvC6wFlzFI8KTsDAGus5T3vcwsC9I9y1UQrGwJXomrwzZcnAKH4CD/DqzMAbmKND1/zSwB5ifEAiSN/AozH8rjru6cC3pxeEJi30wLSiJo1Ggf3AP0vPsAtcBMGIfug4xOQKwYwCaObO2BDBL4S0Rg5nFMFKIVLmtREYwQcYFSuH4BvBytp2nV/RH8FR72VAigEiwfXvqUhjbyTBMPkFB4c/J8Fy/4bk9Voqwam8oOms0y3BihRbITXCMMF+xd2rjKsywTDbYuXnozTBCr3GhWmpNsG33vb2bMA4wQ==",
          "dtype": "f8"
         },
         "y": {
          "bdata": "AAAAAAAAAAB8/O2MJ5+iQKzWRJMCeb5AUiDrFal11ED+oBFvj2vkQCVsLDphLPFA32vjOD0M+kCila5qQ2cCQbAcgNoDtAhBV/C4FvHyD0HAailbpMYTQVPAbVktqhdBrCQOhfTrG0GZj5e0LyggQfDoKTUSZCJBAhqWWdm7JEE63ypLGUgnQZWfKT2JCSpBVOBBKyjVLEHo8XilFasvQUiapNazXTFB+eKgLjcEM0GhPhw3O8k0QS8q4nO6qzZB2sUPqs2qOEH0edW98Mc6Qd+9htAGAz1B9w1v55paP0E6b2OmYeNAQSHCLaOvHUJBVJPT2cFbQ0FTNq2jPZ1EQaFaMacv4UVBQagf3XsnR0GUgF98lnFIQWjSPQUjyUlBfDgbozwuS0EiFEswt6BMQUxt4qV3IU5B989vUKavT0Ghg7PGdqVQQXTu7JZhclFByStYM8Y9UkE8yI95FAhTQZ0N/2fjz1NBitgs3aacVEGjakFn629VQVXaAmqrSVZBkl6Zuv8pV0H+gE4d/BBYQQ==",
          "dtype": "f8"
         },
         "z": {
          "bdata": "AAAAAABA30AAAAAAAEDfQAAAAAAAQN9AAAAAAABA30AAAAAAAEDfQAAAAAAAQN9AAAAAAABA30AAAAAAAEDfQAAAAAAAQN9AAAAAAABA30AAAAAAwDnfQAAAAACAM99AAAAAAMDu3kAAAAAAQOLeQAAAAAAA3N5AAAAAAIDP3kAAAAAAAJHeQAAAAACAUt5AAAAAAABG3kAAAAAAAEbeQAAAAAAARt5AAAAAAABG3kAAAAAAAEbeQAAAAAAARt5AAAAAAABG3kAAAAAAAEbeQAAAAAAARt5AAAAAAABG3kAAAAAAAEbeQAAAAAAARt5AAAAAAABG3kAAAAAAAEbeQAAAAAAARt5AAAAAAABG3kAAAAAAAEbeQAAAAAAARt5AAAAAAABG3kAAAAAAAEbeQAAAAAAARt5AAAAAAABG3kAAAAAAAEbeQAAAAAAARt5AAAAAAABG3kAAAAAAAEbeQAAAAAAARt5AAAAAAABG3kAAAAAAAEbeQAAAAAAARt5AAAAAAABG3kAAAAAAAEbeQA==",
          "dtype": "f8"
         }
        },
        {
         "line": {
          "color": "rgb(188,128,189)",
          "width": 2
         },
         "mode": "lines",
         "name": "Segment 12046006",
         "opacity": 0.8,
         "type": "scatter3d",
         "x": {
          "bdata": "AAAAAAAAAAApvJNcSPFBwHN/dOtgQVLAHt3aAZfnjj1foXAMVUxYQP/+/VxfB2ZAL0Bl5P2Aa0AMkvvunLx0QOaOpJZz14JA/sP0ofT8iUDNpXogLy2PQNL7MbeBmZVAgV0VTTR6mkCbSAZueO+dQI5i1FK1qZ9AOoT/mjTcoUBzNEC50BakQD8WzRouMqVABsNnTUphpkCnlBHJwCimQKDPn7Ir7aVAF02TN+itpUBCSuWSNSyuQKgF0itS57pABESDIA2hw0CXC1l2bp3JQIpjj7VINtBA6p6mEyyF00Cyhg30rPzWQJhq0qnvldpAGsxS6rfx3kDGRYZht5bhQFxdfSpVH+RAojBxVfi+5kCFvsvkYHnpQN8GOGoQfuxASbyhzCed70AVAoRz1mnxQOHrzJCVK/NAQLEDhqT79EB+clNSKfn2QEaRPf1ZCflAhI3Aafgv+0D3eDRjDov9QKoqKck//f9Az7n/cBtSAUEUgFjp45oCQXl9aQ8eDwRBuhSIVyuRBUEiEMS1dC4HQQ==",
          "dtype": "f8"
         },
         "y": {
          "bdata": "AAAAAAAAAAAovwDUp1uzQGxsD0MqA81ANY1ylNTW3ECednosLvXnQEU+FXIL9PFAg8MSLuQn+UBq4kK6L80AQUMvl1PuuQVBrdquNE5WC0HtOliCQs4QQUwIVce3TBRBkTd0PRIhGEH1cuWtr08cQa/ou+GebSBByM4Ga7PhIkGankppw5MlQSysYrZJfShBIA0pWtCaK0FSu4I+QeouQe15X4OuMzFBxb3iKbQNM0E5IhajTgM1QSGnq90ZEjdBp1lVpNk4OUEvahkElHs7QQpIxx2o2j1Bmsb6TistQEHI0JNWWXxBQds4/DtH2EJBB9TR281AREFLgxdVOrpFQf3E2qolQUdBc6LFGvHVSEEGGZby3npKQb4TTScsL0xB52vYhGLyTUHH3EV/08JPQf5i6l9J0FBBAz2p+cLGUUHEEvp2NsZSQfvkGG8Gz1NB4+RhBhXjVEENHDuyZAFWQeg6wqCsKldBvORkQcJcWEGq0S8l75RZQfoQyMhu1FpBtZrDQswfXEEtoQVASnJdQQ==",
          "dtype": "f8"
         },
         "z": {
          "bdata": "AAAAAECI1EAAAAAAgNnUQAAAAAAAMdVAAAAAAICI1UAAAAAAAODVQAAAAABAMdZAAAAAAICC1kAAAAAAwNPWQAAAAAAAJddAAAAAAEB210AAAAAAgMfXQAAAAADAGNhAAAAAAABq2EAAAAAAQLvYQAAAAACADNlAAAAAAIBX2UAAAAAAAJbZQAAAAADA2tlAAAAAAMAl2kAAAAAAwHDaQAAAAAAAwtpAAAAAAAAN20AAAAAAwFHbQAAAAADAnNtAAAAAAADu20AAAAAAwDLcQAAAAADAfdxAAAAAAIDC3EAAAAAAQAfdQAAAAABAUt1AAAAAAECd3UAAAAAAwNvdQAAAAACAIN5AAAAAAEBl3kAAAAAAAKreQAAAAACA6N5AAAAAAEAt30AAAAAAAHLfQAAAAAAAvd9AAAAAAOAA4EAAAAAAICDgQAAAAABAPOBAAAAAAEBV4EAAAAAAYHHgQAAAAABgiuBAAAAAAICm4EAAAAAAAMzgQAAAAABA6+BAAAAAAOD64EAAAAAAgArhQA==",
          "dtype": "f8"
         }
        },
        {
         "line": {
          "color": "rgb(204,235,197)",
          "width": 2
         },
         "mode": "lines",
         "name": "Segment 8625715",
         "opacity": 0.8,
         "type": "scatter3d",
         "x": {
          "bdata": "AAAAAAAAAABcPsixSUINQAgmlo4szSTAWNHJ+6mwoj1MNKxX3y9MQAKno3impl9AwUhoNMmyMkAGYldvqeZlwLfLpIkSGFDAPI54ssaab0DYC7nsz0SDQOaBogCJX5FA2zBEI62wm0B/EWd/VJSkQOgNxcBSC61AOAtW09fWsUApcNDCYmW1QG+BE5vexLJAsPpZTAybg0A7T5xW5W2+wBoIr0uoTdTAujWzEesS4sBc37mUDVrqwJHeUjYxl/HAC5YnqtxN9sBYJKi7CE/7wEPJEpvZRwDBsKlpffQIA8FH/wjVC/AFwV0q5Zxu6wjBZKitDbkBDMEaqmbPZBkPwY/c9UyANBHBlz0EmfzmEsHOpUm7V6AUwWzlny0PchbBRynJP8c3GMEAr0UfgAgawU10XvIx5RvB8wfuFM29HcEsns80T5wfwR3hBg1pwiDBrPD7tdi8IcFAtL5s0r4iwX+xUQ+gxyPB614hZkvXJMGoOnqPnuwlwZoYXL3uDCfB1pITbbk0KMFII5cUH2kpwQ==",
          "dtype": "f8"
         },
         "y": {
          "bdata": "AAAAAAAAAABYK+itcFG4QOFzqwYR7dFAqrjo4Fqc4UAnicMD1mntQKmenYe0DvZA/8K7Ozsh/0DM3JWUE6gEQeRov+kNdQpBaG2NL7KNEEHP8aDgx10UQYaEGpRIXBhBxmdtAfmvHEFYuzqF6LggQUhgLb32TSNBnXB6tj8WJkGVD0lOARIpQQMY8JSrRyxBo17CoW2mL0HHDWbnlJYxQdIjbpSgbDNBCOFh865dNUHGcHDrYGw3QdvA778qnjlBL1pmB/z1O0HbBGeZ+mk+QaURYzMyg0BBNpUbeLHhQUEHC42aElNDQSelW27300RB+0EU7GxiRkGIgv9MXvdHQTZDtauznElBGpivs9RSS0G3MLdd+xxNQWd5hL/7605BsjoK6nthUEHvYyHtr1JRQaIEoboaSlJBYw7ROQ9DU0ESTHelHz9UQcQOLwJ1QFVByt22T01IVkF5p4z/FlhXQVfqHTESb1hB9y3FM0mNWUF7sMb34bVaQcqFND076ltBZnQxgnArXUGYpSqNRHVeQQ==",
          "dtype": "f8"
         },
         "z": {
          "bdata": "AAAAAACi10AAAAAAwObXQAAAAADAMdhAAAAAAACD2EAAAAAAAM7YQAAAAAAAGdlAAAAAAMBd2UAAAAAAwI/ZQAAAAAAA4dlAAAAAAMAl2kAAAAAAQGTaQAAAAACAg9pAAAAAAMDU2kAAAAAAwB/bQAAAAADAattAAAAAAMC120AAAAAAwADcQAAAAACARdxAAAAAAMBk3EAAAAAAAITcQAAAAABAo9xAAAAAAEDu3EAAAAAAADPdQAAAAACAcd1AAAAAAMCp3UAAAAAAgO7dQAAAAADAJt5AAAAAAEBl3kAAAAAAgJ3eQAAAAAAA3N5AAAAAAAAn30AAAAAAgDPfQAAAAAAAQN9AAAAAAEBG30AAAAAAAEDfQAAAAAAAQN9AAAAAAABA30AAAAAAAEDfQAAAAABARt9AAAAAAMBS30AAAAAAAHLfQAAAAAAAvd9AAAAAAOAA4EAAAAAAQCPgQAAAAACAQuBAAAAAAOBk4EAAAAAAAIHgQAAAAADgluBAAAAAAACa4EAAAAAAIJ3gQA==",
          "dtype": "f8"
         }
        },
        {
         "line": {
          "color": "rgb(255,237,111)",
          "width": 2
         },
         "mode": "lines",
         "name": "Segment 11434417",
         "opacity": 0.8,
         "type": "scatter3d",
         "x": {
          "bdata": "AAAAAAAAAADOdm3lsZcEQIIHtsjBwiDADrYqmI1oaz2vf5ZypMFNwBOOjUExymbA6TnlkLIxdcDUJ3MeBN98wJFvkqkyQIDArcxBPJF7VUBlbYlEEEmxQHqAk7Db9MpAgz12FxTx2kBmRkCWiD7mQKN09HY3U/BAhBUw+ixY9kBEb3kuIx79QItcntQ5MQJBGligGSIJBkEJGMRK2g4KQYLWcR+7QA5BwiOIgV1aEUHRgQOeybQTQdH14ze1MBZBKGk8fW/NGEHTsIJlnpEbQd6fKxGznB5B+YaiQvQLIUF+lhIqGfciQb6fsTNEECVBMDags4FKJ0GN/iPtCqApQYCpHFgqDyxBhU8fJLWXLkFvi+LIlZswQSyujRb+9zFBGv+slJphM0Hnb2pVEtg0Qd5NW2txWTZByPJ+IKLnN0HSraXgfoQ5QeaZmPOLLDtBBtkOprHhPEHXxpDqC6Q+QcGwdlygOUBBmiSYshYmQUGtf2le9RdCQYrJdD31D0NBvvm2994VREHHEMW/5ylFQQ==",
          "dtype": "f8"
         },
         "y": {
          "bdata": "AAAAAAAAAADvV3NQNQOxQGj4bjlcDMtA7+/3gBNf20DZlXaFRLXnQMOpJRb4TvJAx0BgQKGM+kBk37XIOnICQbAK/pr2lghBP0QU149GD0GcvrYZpg0TQWHQtPZofxZBIZ5AqIj3GUGqtjy0jXUdQUH7HutfgyBB5gkBMOxVIkHFd8qcQT4kQaB+vY52QCZBnHxSm11bKEFIwG7e+ZEqQbWzapln5ixB1ckOlI5fL0GEhbeh7f8wQX1YtA/FYjJBxwFfe6vZM0H0RtZ41WQ1QRgPOr6O/DZBYO6cN0SROEG8zYc3CyM6QWHy9jNPuDtBpRYllXpePUHFdSd5hho/QcF9qQuMdkBB4fJXmkRqQUFRzURUj2dCQcxG0gZqb0NBUH4WaU+CREE3KxXN+p5FQV9fmGotxkZBoxzNxzH3R0HEKmomDTFJQYlSVoikdEpB/HzhA/bAS0FZfaQZBRZNQT7n8SfQdE5BTWEARFTcT0HHa72OCKZQQdAjpeKPYlFB9ziuq+koUkEcDXYw9flSQQ==",
          "dtype": "f8"
         },
         "z": {
          "bdata": "AAAAAMDZ1UAAAAAAACvWQAAAAAAAdtZAAAAAAAB21kAAAAAAQHzWQAAAAAAAdtZAAAAAAAB21kAAAAAAAHbWQAAAAACAm9ZAAAAAAMDs1kAAAAAAwAXXQAAAAAAAJddAAAAAAAA+10AAAAAAgGPXQAAAAACAlddAAAAAAMDN10AAAAAAQCXYQAAAAACAdthAAAAAAADO2EAAAAAAQB/ZQAAAAACAcNlAAAAAAIC72UAAAAAAQADaQAAAAABAS9pAAAAAAACQ2kAAAAAAwNTaQAAAAABAE9tAAAAAAIAy20AAAAAAgEvbQAAAAABAd9tAAAAAAAC820AAAAAAwADcQAAAAACARdxAAAAAAACE3EAAAAAAwMjcQAAAAABAB91AAAAAAABM3UAAAAAAwJDdQAAAAACA1d1AAAAAAAAU3kAAAAAAwFjeQAAAAACAnd5AAAAAAEDi3kAAAAAAACffQAAAAADAa99AAAAAAICw30AAAAAAAO/fQAAAAADgGeBAAAAAAAAd4EAAAAAAAB3gQA==",
          "dtype": "f8"
         }
        },
        {
         "line": {
          "color": "rgb(141,211,199)",
          "width": 2
         },
         "mode": "lines",
         "name": "Segment 11648862",
         "opacity": 0.8,
         "type": "scatter3d",
         "x": {
          "bdata": "AAAAAAAAAAAXldxX35xmwP1goQ068W3AL6jpPUfEdb02aOi2DlSJQJjK2yb7aKBAgn3QHU93rUBzgoDhVNe2QJB56HaATMBAee+ExO7VxUCSYH8MmxLMQIgPnhF1ndFAhwOMuft11UDrs8QKMdTZQBIH7kJkld5AKbXMO9Hh4UBQQapWE6nkQHpauS1OpedArbzMPtTY6kCVo2iR2VHuQCE8lUZeAfFAqAAdOj7w8kAl4EXWNQH1QPewAnaJPvdAgtip1BuG+UCKYFrz0er7QA3E4ikAaf5A5l55dh+DAEG8nWG5B+EBQXbAhKbs0ANBO2fzD4tdBkFbK1IOaZIJQQrD9yKQew1B31xHpFukEEEZc6TUOq0SQVyhGJY1zhRBlI74dS0JF0EcqKPFXVgZQZiYVz/8tBtBh6xl5dUqHkHJYr0YDFUgQeP4dPP0qCFBhkysYI4II0EPiMhNx3QkQSlHhIcm7yVBsnX12TJ5J0FeDAIJJQspQUro8zwfpSpBSsKEMZBQLEHnjE26DgQuQQ==",
          "dtype": "f8"
         },
         "y": {
          "bdata": "AAAAAAAAAADt/j7QzhGuQA6y1DAy4cRAcH2ZkXGt1EAstgEHiPvgQLKzFHkhwOlA6yUxt1Zr8kAVt6QDFiX5QCTQ53LahgBBZIEq+9MDBUEsee/pGBIKQcioMXVMvg9B3EWSgc0PE0HQSKv/OZoWQYtthKfhixpBweG9AfzXHkEizcEi+bkhQduFs6vkMyRBtqHy1K3bJkHKKqlDUqwpQUr+8QRAqixBwpprdzzfL0E7Blz1Y6YxQajcjochdzNBgRdybjJbNUG58bNAb1c3QWrYKlDMaDlB/pP96O2TO0FtdHvyatg9QYFEDfWqF0BBXWeGYR1NQUHvkKvhGI1CQTlrMzjV1ENBB0aSj5AmRUG6ZlHDK4JGQacVL9xj6kdB21iEazZgSUEL5XMSRuNKQbWjk8npckxBs3OtZkkPTkEoF4Iu5rlPQaw+oXp+u1BBVw5/reSjUUFsfSHSopRSQeVpKja7jlNBj7M7pLiQVEEOcbkCZppVQb6Cjqr/q1ZB5+cGFYfGV0HXHaUhKOlYQQ==",
          "dtype": "f8"
         },
         "z": {
          "bdata": "AAAAAIABz0AAAAAAAL3PQAAAAAAAHdBAAAAAAABo0EAAAAAAgKbQQAAAAABABNFAAAAAAIBV0UAAAAAAAK3RQAAAAABA/tFAAAAAAMBV0kAAAAAAQK3SQAAAAACA/tJAAAAAAMBP00AAAAAAwJrTQAAAAADA5dNAAAAAAAA31EAAAAAAgI7UQAAAAADA39RAAAAAAMAq1UAAAAAAAHzVQAAAAABAzdVAAAAAAAAS1kAAAAAAwFbWQAAAAADAodZAAAAAAADz1kAAAAAAQETXQAAAAACAlddAAAAAAIDg10AAAAAAgCvYQAAAAABAcNhAAAAAAICo2EAAAAAAQNTYQAAAAACADNlAAAAAAMBd2UAAAAAAQLXZQAAAAABAANpAAAAAAABF2kAAAAAAAJDaQAAAAAAA29pAAAAAAAAm20AAAAAAwGrbQAAAAAAAo9tAAAAAAEDb20AAAAAAwBncQAAAAAAAUtxAAAAAAMCW3EAAAAAAQNXcQAAAAAAAGt1AAAAAAEBS3UAAAAAAwJDdQA==",
          "dtype": "f8"
         }
        },
        {
         "line": {
          "color": "rgb(255,255,179)",
          "width": 2
         },
         "mode": "lines",
         "name": "Segment 9579595",
         "opacity": 0.8,
         "type": "scatter3d",
         "x": {
          "bdata": "AAAAAAAAAADiFLiVSnoEwJYSgTFjLiXAAAAAAGD+fz0qmHGJizEsQKIYOPlbvCvAW6lMzUIBKEDfn/CSEpZFQFIGg093myDAgr7Ye3hFYUCOEYFZm0qUwO5tJo3kLrDA5zbJAm6PwsBppDWpbirRwLkCFd6l/tvAodSXT+/V48Df6dlno07qwILb3aIztPDAh4KvfWCB9MDZWRSqQI/4wE0/xexP0fzANjojw8eqAMGGb96B8QsDwbQmkF/lggXBCiHqlqcSCMFchgFIM9QKweo11U2VtA3BzUQKQoVQEMGFoDS+hKQRwTIwUt4JOBLBOedEZdPvEcHBGUirqsMQwZy1FTg+eA3BJAUcakSoB8HsFSQt3cr/wNE8o0zdv+nA2xfxMKKc4kD5kcAsT0YBQcNvBmh3bg9B6ZgQ0FCIF0FLLyzGZuEfQdTa3WsdiiRBXDc5NTF4KUEDVfn1h7kuQQx5fnsUKzJB0a46n7gYNUGggx8jHi44QWCCc0SRZjtBH1C8TeC8PkGtwVO6SRlBQQ==",
          "dtype": "f8"
         },
         "y": {
          "bdata": "AAAAAAAAAAAB/8wBxMKjQK2uyDTuZ8RAIRBGX6FT2EB3wQCBJJHlQCkemQuzhfFAqRPoTzAm+kB8+XYwikUCQZGQ1A8weQhBQkIo98awD0HzKidNsNYTQXWVUUzoDRhBb07VYeeNHEHx3FiU0K0gQZpGSSm8OiNBtLvkslAEJkHEL4HishApQQ6TuySjXSxBP5oNcFjmL0FkwVjCmdUxQUdWracR1zNBiodsH7f3NUGZWsFXmjU4QRjOWMYUkDpBZq3ULNoKPUFkkDORiqM/QWxK2RKkLEFB22V4e+SWQkErXNMLWg5EQd0wf94gjUVBDcWhU3UOR0Hwt5VGJpFIQW/cwiN/E0pBhfNVua2SS0FmYNOXbwtNQXVcTjODfU5BWyGNp3blT0HwnIvcU6FQQbUoqziaSVFB9w6cW5jqUUFriSBkM4ZSQcPmptcfF1NByyDLR56eU0HKiwhMOxxUQeF/YOcCjlRBLvchDqn8VEHI96jSfW1VQXveSmN84FVBV5WJIKVXVkFVNpm+LtNWQQ==",
          "dtype": "f8"
         },
         "z": {
          "bdata": "AAAAAGAm4EAAAAAAICDgQAAAAAAgB+BAAAAAAAC930AAAAAAAIvfQAAAAACATN9AAAAAAMAH30AAAAAAAMPeQAAAAACAhN5AAAAAAEBM3kAAAAAAgCDeQAAAAACAB95AAAAAAADi3UAAAAAAgLzdQAAAAAAAl91AAAAAAIBY3UAAAAAAQCDdQAAAAAAA6NxAAAAAAMCv3EAAAAAAQHHcQAAAAADAMtxAAAAAAED020AAAAAAgK/bQAAAAADAattAAAAAAIAy20AAAAAAQPraQAAAAADAu9pAAAAAAICD2kAAAAAAwFfaQAAAAAAARdpAAAAAAIA42kAAAAAAwCXaQAAAAACAH9pAAAAAAAAT2kAAAAAAQADaQAAAAAAA+tlAAAAAAMDz2UAAAAAAwPPZQAAAAADA89lAAAAAAMDz2UAAAAAAAPrZQAAAAAAA+tlAAAAAAAD62UAAAAAAAPrZQAAAAAAA+tlAAAAAAAD62UAAAAAAAPrZQAAAAAAA+tlAAAAAAAD62UAAAAAAAPrZQA==",
          "dtype": "f8"
         }
        }
       ],
       "layout": {
        "height": 800,
        "scene": {
         "aspectmode": "cube",
         "camera": {
          "center": {
           "x": 0,
           "y": 0,
           "z": 0
          },
          "eye": {
           "x": 1.5,
           "y": 1.5,
           "z": 1.5
          },
          "up": {
           "x": 0,
           "y": 0,
           "z": 1
          }
         },
         "xaxis": {
          "backgroundcolor": "rgb(230, 230,230)",
          "range": [
           -5924867.477209293,
           5241176.170794663
          ],
          "showbackground": true,
          "title": {
           "text": "X"
          }
         },
         "yaxis": {
          "backgroundcolor": "rgb(230, 230,230)",
          "range": [
           -934656.6470875964,
           10281223.11796356
          ],
          "showbackground": true,
          "title": {
           "text": "Y"
          }
         },
         "zaxis": {
          "backgroundcolor": "rgb(230, 230,230)",
          "range": [
           -922931.6470875964,
           987056.6470875964
          ],
          "showbackground": true,
          "title": {
           "text": "Z"
          }
         }
        },
        "showlegend": true,
        "template": {
         "data": {
          "bar": [
           {
            "error_x": {
             "color": "#2a3f5f"
            },
            "error_y": {
             "color": "#2a3f5f"
            },
            "marker": {
             "line": {
              "color": "#E5ECF6",
              "width": 0.5
             },
             "pattern": {
              "fillmode": "overlay",
              "size": 10,
              "solidity": 0.2
             }
            },
            "type": "bar"
           }
          ],
          "barpolar": [
           {
            "marker": {
             "line": {
              "color": "#E5ECF6",
              "width": 0.5
             },
             "pattern": {
              "fillmode": "overlay",
              "size": 10,
              "solidity": 0.2
             }
            },
            "type": "barpolar"
           }
          ],
          "carpet": [
           {
            "aaxis": {
             "endlinecolor": "#2a3f5f",
             "gridcolor": "white",
             "linecolor": "white",
             "minorgridcolor": "white",
             "startlinecolor": "#2a3f5f"
            },
            "baxis": {
             "endlinecolor": "#2a3f5f",
             "gridcolor": "white",
             "linecolor": "white",
             "minorgridcolor": "white",
             "startlinecolor": "#2a3f5f"
            },
            "type": "carpet"
           }
          ],
          "choropleth": [
           {
            "colorbar": {
             "outlinewidth": 0,
             "ticks": ""
            },
            "type": "choropleth"
           }
          ],
          "contour": [
           {
            "colorbar": {
             "outlinewidth": 0,
             "ticks": ""
            },
            "colorscale": [
             [
              0,
              "#0d0887"
             ],
             [
              0.1111111111111111,
              "#46039f"
             ],
             [
              0.2222222222222222,
              "#7201a8"
             ],
             [
              0.3333333333333333,
              "#9c179e"
             ],
             [
              0.4444444444444444,
              "#bd3786"
             ],
             [
              0.5555555555555556,
              "#d8576b"
             ],
             [
              0.6666666666666666,
              "#ed7953"
             ],
             [
              0.7777777777777778,
              "#fb9f3a"
             ],
             [
              0.8888888888888888,
              "#fdca26"
             ],
             [
              1,
              "#f0f921"
             ]
            ],
            "type": "contour"
           }
          ],
          "contourcarpet": [
           {
            "colorbar": {
             "outlinewidth": 0,
             "ticks": ""
            },
            "type": "contourcarpet"
           }
          ],
          "heatmap": [
           {
            "colorbar": {
             "outlinewidth": 0,
             "ticks": ""
            },
            "colorscale": [
             [
              0,
              "#0d0887"
             ],
             [
              0.1111111111111111,
              "#46039f"
             ],
             [
              0.2222222222222222,
              "#7201a8"
             ],
             [
              0.3333333333333333,
              "#9c179e"
             ],
             [
              0.4444444444444444,
              "#bd3786"
             ],
             [
              0.5555555555555556,
              "#d8576b"
             ],
             [
              0.6666666666666666,
              "#ed7953"
             ],
             [
              0.7777777777777778,
              "#fb9f3a"
             ],
             [
              0.8888888888888888,
              "#fdca26"
             ],
             [
              1,
              "#f0f921"
             ]
            ],
            "type": "heatmap"
           }
          ],
          "histogram": [
           {
            "marker": {
             "pattern": {
              "fillmode": "overlay",
              "size": 10,
              "solidity": 0.2
             }
            },
            "type": "histogram"
           }
          ],
          "histogram2d": [
           {
            "colorbar": {
             "outlinewidth": 0,
             "ticks": ""
            },
            "colorscale": [
             [
              0,
              "#0d0887"
             ],
             [
              0.1111111111111111,
              "#46039f"
             ],
             [
              0.2222222222222222,
              "#7201a8"
             ],
             [
              0.3333333333333333,
              "#9c179e"
             ],
             [
              0.4444444444444444,
              "#bd3786"
             ],
             [
              0.5555555555555556,
              "#d8576b"
             ],
             [
              0.6666666666666666,
              "#ed7953"
             ],
             [
              0.7777777777777778,
              "#fb9f3a"
             ],
             [
              0.8888888888888888,
              "#fdca26"
             ],
             [
              1,
              "#f0f921"
             ]
            ],
            "type": "histogram2d"
           }
          ],
          "histogram2dcontour": [
           {
            "colorbar": {
             "outlinewidth": 0,
             "ticks": ""
            },
            "colorscale": [
             [
              0,
              "#0d0887"
             ],
             [
              0.1111111111111111,
              "#46039f"
             ],
             [
              0.2222222222222222,
              "#7201a8"
             ],
             [
              0.3333333333333333,
              "#9c179e"
             ],
             [
              0.4444444444444444,
              "#bd3786"
             ],
             [
              0.5555555555555556,
              "#d8576b"
             ],
             [
              0.6666666666666666,
              "#ed7953"
             ],
             [
              0.7777777777777778,
              "#fb9f3a"
             ],
             [
              0.8888888888888888,
              "#fdca26"
             ],
             [
              1,
              "#f0f921"
             ]
            ],
            "type": "histogram2dcontour"
           }
          ],
          "mesh3d": [
           {
            "colorbar": {
             "outlinewidth": 0,
             "ticks": ""
            },
            "type": "mesh3d"
           }
          ],
          "parcoords": [
           {
            "line": {
             "colorbar": {
              "outlinewidth": 0,
              "ticks": ""
             }
            },
            "type": "parcoords"
           }
          ],
          "pie": [
           {
            "automargin": true,
            "type": "pie"
           }
          ],
          "scatter": [
           {
            "fillpattern": {
             "fillmode": "overlay",
             "size": 10,
             "solidity": 0.2
            },
            "type": "scatter"
           }
          ],
          "scatter3d": [
           {
            "line": {
             "colorbar": {
              "outlinewidth": 0,
              "ticks": ""
             }
            },
            "marker": {
             "colorbar": {
              "outlinewidth": 0,
              "ticks": ""
             }
            },
            "type": "scatter3d"
           }
          ],
          "scattercarpet": [
           {
            "marker": {
             "colorbar": {
              "outlinewidth": 0,
              "ticks": ""
             }
            },
            "type": "scattercarpet"
           }
          ],
          "scattergeo": [
           {
            "marker": {
             "colorbar": {
              "outlinewidth": 0,
              "ticks": ""
             }
            },
            "type": "scattergeo"
           }
          ],
          "scattergl": [
           {
            "marker": {
             "colorbar": {
              "outlinewidth": 0,
              "ticks": ""
             }
            },
            "type": "scattergl"
           }
          ],
          "scattermap": [
           {
            "marker": {
             "colorbar": {
              "outlinewidth": 0,
              "ticks": ""
             }
            },
            "type": "scattermap"
           }
          ],
          "scattermapbox": [
           {
            "marker": {
             "colorbar": {
              "outlinewidth": 0,
              "ticks": ""
             }
            },
            "type": "scattermapbox"
           }
          ],
          "scatterpolar": [
           {
            "marker": {
             "colorbar": {
              "outlinewidth": 0,
              "ticks": ""
             }
            },
            "type": "scatterpolar"
           }
          ],
          "scatterpolargl": [
           {
            "marker": {
             "colorbar": {
              "outlinewidth": 0,
              "ticks": ""
             }
            },
            "type": "scatterpolargl"
           }
          ],
          "scatterternary": [
           {
            "marker": {
             "colorbar": {
              "outlinewidth": 0,
              "ticks": ""
             }
            },
            "type": "scatterternary"
           }
          ],
          "surface": [
           {
            "colorbar": {
             "outlinewidth": 0,
             "ticks": ""
            },
            "colorscale": [
             [
              0,
              "#0d0887"
             ],
             [
              0.1111111111111111,
              "#46039f"
             ],
             [
              0.2222222222222222,
              "#7201a8"
             ],
             [
              0.3333333333333333,
              "#9c179e"
             ],
             [
              0.4444444444444444,
              "#bd3786"
             ],
             [
              0.5555555555555556,
              "#d8576b"
             ],
             [
              0.6666666666666666,
              "#ed7953"
             ],
             [
              0.7777777777777778,
              "#fb9f3a"
             ],
             [
              0.8888888888888888,
              "#fdca26"
             ],
             [
              1,
              "#f0f921"
             ]
            ],
            "type": "surface"
           }
          ],
          "table": [
           {
            "cells": {
             "fill": {
              "color": "#EBF0F8"
             },
             "line": {
              "color": "white"
             }
            },
            "header": {
             "fill": {
              "color": "#C8D4E3"
             },
             "line": {
              "color": "white"
             }
            },
            "type": "table"
           }
          ]
         },
         "layout": {
          "annotationdefaults": {
           "arrowcolor": "#2a3f5f",
           "arrowhead": 0,
           "arrowwidth": 1
          },
          "autotypenumbers": "strict",
          "coloraxis": {
           "colorbar": {
            "outlinewidth": 0,
            "ticks": ""
           }
          },
          "colorscale": {
           "diverging": [
            [
             0,
             "#8e0152"
            ],
            [
             0.1,
             "#c51b7d"
            ],
            [
             0.2,
             "#de77ae"
            ],
            [
             0.3,
             "#f1b6da"
            ],
            [
             0.4,
             "#fde0ef"
            ],
            [
             0.5,
             "#f7f7f7"
            ],
            [
             0.6,
             "#e6f5d0"
            ],
            [
             0.7,
             "#b8e186"
            ],
            [
             0.8,
             "#7fbc41"
            ],
            [
             0.9,
             "#4d9221"
            ],
            [
             1,
             "#276419"
            ]
           ],
           "sequential": [
            [
             0,
             "#0d0887"
            ],
            [
             0.1111111111111111,
             "#46039f"
            ],
            [
             0.2222222222222222,
             "#7201a8"
            ],
            [
             0.3333333333333333,
             "#9c179e"
            ],
            [
             0.4444444444444444,
             "#bd3786"
            ],
            [
             0.5555555555555556,
             "#d8576b"
            ],
            [
             0.6666666666666666,
             "#ed7953"
            ],
            [
             0.7777777777777778,
             "#fb9f3a"
            ],
            [
             0.8888888888888888,
             "#fdca26"
            ],
            [
             1,
             "#f0f921"
            ]
           ],
           "sequentialminus": [
            [
             0,
             "#0d0887"
            ],
            [
             0.1111111111111111,
             "#46039f"
            ],
            [
             0.2222222222222222,
             "#7201a8"
            ],
            [
             0.3333333333333333,
             "#9c179e"
            ],
            [
             0.4444444444444444,
             "#bd3786"
            ],
            [
             0.5555555555555556,
             "#d8576b"
            ],
            [
             0.6666666666666666,
             "#ed7953"
            ],
            [
             0.7777777777777778,
             "#fb9f3a"
            ],
            [
             0.8888888888888888,
             "#fdca26"
            ],
            [
             1,
             "#f0f921"
            ]
           ]
          },
          "colorway": [
           "#636efa",
           "#EF553B",
           "#00cc96",
           "#ab63fa",
           "#FFA15A",
           "#19d3f3",
           "#FF6692",
           "#B6E880",
           "#FF97FF",
           "#FECB52"
          ],
          "font": {
           "color": "#2a3f5f"
          },
          "geo": {
           "bgcolor": "white",
           "lakecolor": "white",
           "landcolor": "#E5ECF6",
           "showlakes": true,
           "showland": true,
           "subunitcolor": "white"
          },
          "hoverlabel": {
           "align": "left"
          },
          "hovermode": "closest",
          "mapbox": {
           "style": "light"
          },
          "paper_bgcolor": "white",
          "plot_bgcolor": "#E5ECF6",
          "polar": {
           "angularaxis": {
            "gridcolor": "white",
            "linecolor": "white",
            "ticks": ""
           },
           "bgcolor": "#E5ECF6",
           "radialaxis": {
            "gridcolor": "white",
            "linecolor": "white",
            "ticks": ""
           }
          },
          "scene": {
           "xaxis": {
            "backgroundcolor": "#E5ECF6",
            "gridcolor": "white",
            "gridwidth": 2,
            "linecolor": "white",
            "showbackground": true,
            "ticks": "",
            "zerolinecolor": "white"
           },
           "yaxis": {
            "backgroundcolor": "#E5ECF6",
            "gridcolor": "white",
            "gridwidth": 2,
            "linecolor": "white",
            "showbackground": true,
            "ticks": "",
            "zerolinecolor": "white"
           },
           "zaxis": {
            "backgroundcolor": "#E5ECF6",
            "gridcolor": "white",
            "gridwidth": 2,
            "linecolor": "white",
            "showbackground": true,
            "ticks": "",
            "zerolinecolor": "white"
           }
          },
          "shapedefaults": {
           "line": {
            "color": "#2a3f5f"
           }
          },
          "ternary": {
           "aaxis": {
            "gridcolor": "white",
            "linecolor": "white",
            "ticks": ""
           },
           "baxis": {
            "gridcolor": "white",
            "linecolor": "white",
            "ticks": ""
           },
           "bgcolor": "#E5ECF6",
           "caxis": {
            "gridcolor": "white",
            "linecolor": "white",
            "ticks": ""
           }
          },
          "title": {
           "x": 0.05
          },
          "xaxis": {
           "automargin": true,
           "gridcolor": "white",
           "linecolor": "white",
           "ticks": "",
           "title": {
            "standoff": 15
           },
           "zerolinecolor": "white",
           "zerolinewidth": 2
          },
          "yaxis": {
           "automargin": true,
           "gridcolor": "white",
           "linecolor": "white",
           "ticks": "",
           "title": {
            "standoff": 15
           },
           "zerolinecolor": "white",
           "zerolinewidth": 2
          }
         }
        },
        "title": {
         "text": "Flight Paths - Cluster 1 (Random 50 Segments)"
        },
        "width": 1000
       }
      }
     },
     "metadata": {},
     "output_type": "display_data"
    },
    {
     "name": "stdout",
     "output_type": "stream",
     "text": [
      "Total number of segments in cluster 1: 135\n",
      "Number of segments plotted: 50\n"
     ]
    }
   ],
   "source": [
    "import pandas as pd\n",
    "import plotly.graph_objects as go\n",
    "import numpy as np\n",
    "import random\n",
    "import plotly.express as px  # for the color sequence\n",
    "\n",
    "# Filter for cluster 1\n",
    "cluster_data = trajectories[trajectories['cluster'] == 1]\n",
    "\n",
    "# Convert decimal columns to float if needed\n",
    "numeric_columns = ['x', 'y', 'z']\n",
    "for col in numeric_columns:\n",
    "    if cluster_data[col].dtype == 'object':\n",
    "        cluster_data[col] = cluster_data[col].astype(float)\n",
    "\n",
    "# Get unique segment IDs for cluster 1\n",
    "unique_segments = cluster_data['segment_id'].unique()\n",
    "\n",
    "# Get random sample of up to 50 segment IDs\n",
    "n_segments = min(50, len(unique_segments))\n",
    "selected_segments = np.random.choice(unique_segments, size=n_segments, replace=False)\n",
    "\n",
    "# Calculate overall ranges for consistent scaling\n",
    "x_min, x_max = cluster_data['x'].min(), cluster_data['x'].max()\n",
    "y_min, y_max = cluster_data['y'].min(), cluster_data['y'].max()\n",
    "z_min, z_max = cluster_data['z'].min(), cluster_data['z'].max()\n",
    "max_range = max(x_max - x_min, y_max - y_min, z_max - z_min)\n",
    "\n",
    "# Create a color sequence\n",
    "colors = px.colors.qualitative.Set3  # Using Set3 palette which has good visibility for multiple traces\n",
    "# If we need more colors than available in the palette, we'll cycle through them\n",
    "colors = colors * (n_segments // len(colors) + 1)\n",
    "\n",
    "# Create the 3D scatter plot\n",
    "fig = go.Figure()\n",
    "\n",
    "# Add each trajectory as a separate trace\n",
    "for idx, segment_id in enumerate(selected_segments):\n",
    "    segment_data = cluster_data[cluster_data['segment_id'] == segment_id]\n",
    "    \n",
    "    fig.add_trace(go.Scatter3d(\n",
    "        x=segment_data['x'],\n",
    "        y=segment_data['y'],\n",
    "        z=segment_data['z'],\n",
    "        mode='lines',\n",
    "        line=dict(\n",
    "            width=2,\n",
    "            color=colors[idx]\n",
    "        ),\n",
    "        opacity=0.8,  # Increased opacity a bit since we have different colors\n",
    "        name=f'Segment {segment_id}'\n",
    "    ))\n",
    "\n",
    "# Update layout for better visualization\n",
    "fig.update_layout(\n",
    "    title=f'Flight Paths - Cluster 1 (Random {n_segments} Segments)',\n",
    "    scene=dict(\n",
    "        camera=dict(\n",
    "            up=dict(x=0, y=0, z=1),\n",
    "            center=dict(x=0, y=0, z=0),\n",
    "            eye=dict(x=1.5, y=1.5, z=1.5)\n",
    "        ),\n",
    "        aspectmode='cube',\n",
    "        xaxis=dict(\n",
    "            title='X',\n",
    "            showbackground=True,\n",
    "            backgroundcolor='rgb(230, 230,230)',\n",
    "            range=[float(x_min - max_range*0.1), float(x_max + max_range*0.1)]\n",
    "        ),\n",
    "        yaxis=dict(\n",
    "            title='Y',\n",
    "            showbackground=True,\n",
    "            backgroundcolor='rgb(230, 230,230)',\n",
    "            range=[float(y_min - max_range*0.1), float(y_max + max_range*0.1)]\n",
    "        ),\n",
    "        zaxis=dict(\n",
    "            title='Z',\n",
    "            showbackground=True,\n",
    "            backgroundcolor='rgb(230, 230,230)',\n",
    "            range=[float(z_min - max_range*0.1), float(z_max + max_range*0.1)]\n",
    "        )\n",
    "    ),\n",
    "    width=1000,\n",
    "    height=800,\n",
    "    showlegend=True\n",
    ")\n",
    "\n",
    "# Display interactive plot\n",
    "fig.show()\n",
    "\n",
    "# Save static version\n",
    "pio.write_image(fig, \"cluster1_paths_colored.png\")\n",
    "\n",
    "print(f\"Total number of segments in cluster 1: {len(unique_segments)}\")\n",
    "print(f\"Number of segments plotted: {n_segments}\")"
   ]
  },
  {
   "cell_type": "code",
   "execution_count": 8,
   "metadata": {},
   "outputs": [
    {
     "data": {
      "image/png": "[encoded data removed]",
      "text/plain": [
       "<IPython.core.display.Image object>"
      ]
     },
     "execution_count": 8,
     "metadata": {},
     "output_type": "execute_result"
    }
   ],
   "source": [
    "Image(\"cluster1_paths_colored.png\")"
   ]
  },
  {
   "cell_type": "code",
   "execution_count": null,
   "metadata": {},
   "outputs": [],
   "source": []
  }
 ],
 "metadata": {
  "kernelspec": {
   "display_name": "venv",
   "language": "python",
   "name": "python3"
  },
  "language_info": {
   "codemirror_mode": {
    "name": "ipython",
    "version": 3
   },
   "file_extension": ".py",
   "mimetype": "text/x-python",
   "name": "python",
   "nbconvert_exporter": "python",
   "pygments_lexer": "ipython3",
   "version": "3.11.9"
  }
 },
 "nbformat": 4,
 "nbformat_minor": 2
}
