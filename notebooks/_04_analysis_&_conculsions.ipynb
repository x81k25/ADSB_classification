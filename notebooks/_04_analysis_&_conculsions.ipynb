{
 "cells": [
  {
   "cell_type": "code",
   "execution_count": 3,
   "metadata": {},
   "outputs": [],
   "source": [
    "import pandas as pd"
   ]
  },
  {
   "cell_type": "code",
   "execution_count": 15,
   "metadata": {},
   "outputs": [
    {
     "data": {
      "text/html": [
       "<div>\n",
       "<style scoped>\n",
       "    .dataframe tbody tr th:only-of-type {\n",
       "        vertical-align: middle;\n",
       "    }\n",
       "\n",
       "    .dataframe tbody tr th {\n",
       "        vertical-align: top;\n",
       "    }\n",
       "\n",
       "    .dataframe thead th {\n",
       "        text-align: right;\n",
       "    }\n",
       "</style>\n",
       "<table border=\"1\" class=\"dataframe\">\n",
       "  <thead>\n",
       "    <tr style=\"text-align: right;\">\n",
       "      <th></th>\n",
       "      <th>segment_id</th>\n",
       "      <th>cluster</th>\n",
       "      <th>is_most_typical</th>\n",
       "      <th>is_most_extreme</th>\n",
       "      <th>icao</th>\n",
       "      <th>start_timestamp</th>\n",
       "      <th>point_idx</th>\n",
       "      <th>x</th>\n",
       "      <th>y</th>\n",
       "      <th>z</th>\n",
       "      <th>heading_deg</th>\n",
       "      <th>ground_speed</th>\n",
       "      <th>time_sec</th>\n",
       "    </tr>\n",
       "  </thead>\n",
       "  <tbody>\n",
       "    <tr>\n",
       "      <th>0</th>\n",
       "      <td>998460</td>\n",
       "      <td>1</td>\n",
       "      <td>False</td>\n",
       "      <td>False</td>\n",
       "      <td>46a5e2</td>\n",
       "      <td>2024-08-01 20:43:54.340000+00:00</td>\n",
       "      <td>0</td>\n",
       "      <td>0.00</td>\n",
       "      <td>0.00</td>\n",
       "      <td>38975.00</td>\n",
       "      <td>113.80</td>\n",
       "      <td>490.70</td>\n",
       "      <td>0.00</td>\n",
       "    </tr>\n",
       "    <tr>\n",
       "      <th>1</th>\n",
       "      <td>998460</td>\n",
       "      <td>1</td>\n",
       "      <td>False</td>\n",
       "      <td>False</td>\n",
       "      <td>46a5e2</td>\n",
       "      <td>2024-08-01 20:43:54.340000+00:00</td>\n",
       "      <td>1</td>\n",
       "      <td>8849.21</td>\n",
       "      <td>-3902.97</td>\n",
       "      <td>38975.00</td>\n",
       "      <td>113.80</td>\n",
       "      <td>490.70</td>\n",
       "      <td>19.71</td>\n",
       "    </tr>\n",
       "    <tr>\n",
       "      <th>2</th>\n",
       "      <td>998460</td>\n",
       "      <td>1</td>\n",
       "      <td>False</td>\n",
       "      <td>False</td>\n",
       "      <td>46a5e2</td>\n",
       "      <td>2024-08-01 20:43:54.340000+00:00</td>\n",
       "      <td>2</td>\n",
       "      <td>26601.51</td>\n",
       "      <td>-11732.67</td>\n",
       "      <td>38975.00</td>\n",
       "      <td>113.80</td>\n",
       "      <td>490.70</td>\n",
       "      <td>39.54</td>\n",
       "    </tr>\n",
       "    <tr>\n",
       "      <th>3</th>\n",
       "      <td>998460</td>\n",
       "      <td>1</td>\n",
       "      <td>False</td>\n",
       "      <td>False</td>\n",
       "      <td>46a5e2</td>\n",
       "      <td>2024-08-01 20:43:54.340000+00:00</td>\n",
       "      <td>3</td>\n",
       "      <td>53374.38</td>\n",
       "      <td>-23596.77</td>\n",
       "      <td>38975.00</td>\n",
       "      <td>113.90</td>\n",
       "      <td>492.00</td>\n",
       "      <td>59.52</td>\n",
       "    </tr>\n",
       "    <tr>\n",
       "      <th>4</th>\n",
       "      <td>998460</td>\n",
       "      <td>1</td>\n",
       "      <td>False</td>\n",
       "      <td>False</td>\n",
       "      <td>46a5e2</td>\n",
       "      <td>2024-08-01 20:43:54.340000+00:00</td>\n",
       "      <td>4</td>\n",
       "      <td>88828.64</td>\n",
       "      <td>-39307.93</td>\n",
       "      <td>38975.00</td>\n",
       "      <td>113.90</td>\n",
       "      <td>492.00</td>\n",
       "      <td>78.82</td>\n",
       "    </tr>\n",
       "    <tr>\n",
       "      <th>...</th>\n",
       "      <td>...</td>\n",
       "      <td>...</td>\n",
       "      <td>...</td>\n",
       "      <td>...</td>\n",
       "      <td>...</td>\n",
       "      <td>...</td>\n",
       "      <td>...</td>\n",
       "      <td>...</td>\n",
       "      <td>...</td>\n",
       "      <td>...</td>\n",
       "      <td>...</td>\n",
       "      <td>...</td>\n",
       "      <td>...</td>\n",
       "    </tr>\n",
       "    <tr>\n",
       "      <th>451995</th>\n",
       "      <td>963898</td>\n",
       "      <td>-1</td>\n",
       "      <td>False</td>\n",
       "      <td>False</td>\n",
       "      <td>458a59</td>\n",
       "      <td>2024-08-01 11:15:44.270000+00:00</td>\n",
       "      <td>45</td>\n",
       "      <td>-278808.40</td>\n",
       "      <td>507029.78</td>\n",
       "      <td>700.00</td>\n",
       "      <td>275.70</td>\n",
       "      <td>100.50</td>\n",
       "      <td>202.42</td>\n",
       "    </tr>\n",
       "    <tr>\n",
       "      <th>451996</th>\n",
       "      <td>963898</td>\n",
       "      <td>-1</td>\n",
       "      <td>False</td>\n",
       "      <td>False</td>\n",
       "      <td>458a59</td>\n",
       "      <td>2024-08-01 11:15:44.270000+00:00</td>\n",
       "      <td>46</td>\n",
       "      <td>-298821.92</td>\n",
       "      <td>505208.40</td>\n",
       "      <td>700.00</td>\n",
       "      <td>264.80</td>\n",
       "      <td>98.40</td>\n",
       "      <td>204.23</td>\n",
       "    </tr>\n",
       "    <tr>\n",
       "      <th>451997</th>\n",
       "      <td>963898</td>\n",
       "      <td>-1</td>\n",
       "      <td>False</td>\n",
       "      <td>False</td>\n",
       "      <td>458a59</td>\n",
       "      <td>2024-08-01 11:15:44.270000+00:00</td>\n",
       "      <td>47</td>\n",
       "      <td>-318644.61</td>\n",
       "      <td>501283.40</td>\n",
       "      <td>600.00</td>\n",
       "      <td>258.80</td>\n",
       "      <td>97.90</td>\n",
       "      <td>206.41</td>\n",
       "    </tr>\n",
       "    <tr>\n",
       "      <th>451998</th>\n",
       "      <td>963898</td>\n",
       "      <td>-1</td>\n",
       "      <td>False</td>\n",
       "      <td>False</td>\n",
       "      <td>458a59</td>\n",
       "      <td>2024-08-01 11:15:44.270000+00:00</td>\n",
       "      <td>48</td>\n",
       "      <td>-339034.00</td>\n",
       "      <td>497023.84</td>\n",
       "      <td>500.00</td>\n",
       "      <td>258.20</td>\n",
       "      <td>98.10</td>\n",
       "      <td>212.33</td>\n",
       "    </tr>\n",
       "    <tr>\n",
       "      <th>451999</th>\n",
       "      <td>963898</td>\n",
       "      <td>-1</td>\n",
       "      <td>False</td>\n",
       "      <td>False</td>\n",
       "      <td>458a59</td>\n",
       "      <td>2024-08-01 11:15:44.270000+00:00</td>\n",
       "      <td>49</td>\n",
       "      <td>-359414.41</td>\n",
       "      <td>494413.05</td>\n",
       "      <td>500.00</td>\n",
       "      <td>262.70</td>\n",
       "      <td>94.80</td>\n",
       "      <td>216.74</td>\n",
       "    </tr>\n",
       "  </tbody>\n",
       "</table>\n",
       "<p>452000 rows × 13 columns</p>\n",
       "</div>"
      ],
      "text/plain": [
       "        segment_id  cluster  is_most_typical  is_most_extreme     icao  \\\n",
       "0           998460        1            False            False  46a5e2    \n",
       "1           998460        1            False            False  46a5e2    \n",
       "2           998460        1            False            False  46a5e2    \n",
       "3           998460        1            False            False  46a5e2    \n",
       "4           998460        1            False            False  46a5e2    \n",
       "...            ...      ...              ...              ...      ...   \n",
       "451995      963898       -1            False            False  458a59    \n",
       "451996      963898       -1            False            False  458a59    \n",
       "451997      963898       -1            False            False  458a59    \n",
       "451998      963898       -1            False            False  458a59    \n",
       "451999      963898       -1            False            False  458a59    \n",
       "\n",
       "                        start_timestamp  point_idx           x          y  \\\n",
       "0      2024-08-01 20:43:54.340000+00:00          0        0.00       0.00   \n",
       "1      2024-08-01 20:43:54.340000+00:00          1     8849.21   -3902.97   \n",
       "2      2024-08-01 20:43:54.340000+00:00          2    26601.51  -11732.67   \n",
       "3      2024-08-01 20:43:54.340000+00:00          3    53374.38  -23596.77   \n",
       "4      2024-08-01 20:43:54.340000+00:00          4    88828.64  -39307.93   \n",
       "...                                 ...        ...         ...        ...   \n",
       "451995 2024-08-01 11:15:44.270000+00:00         45  -278808.40  507029.78   \n",
       "451996 2024-08-01 11:15:44.270000+00:00         46  -298821.92  505208.40   \n",
       "451997 2024-08-01 11:15:44.270000+00:00         47  -318644.61  501283.40   \n",
       "451998 2024-08-01 11:15:44.270000+00:00         48  -339034.00  497023.84   \n",
       "451999 2024-08-01 11:15:44.270000+00:00         49  -359414.41  494413.05   \n",
       "\n",
       "               z heading_deg ground_speed time_sec  \n",
       "0       38975.00      113.80       490.70     0.00  \n",
       "1       38975.00      113.80       490.70    19.71  \n",
       "2       38975.00      113.80       490.70    39.54  \n",
       "3       38975.00      113.90       492.00    59.52  \n",
       "4       38975.00      113.90       492.00    78.82  \n",
       "...          ...         ...          ...      ...  \n",
       "451995    700.00      275.70       100.50   202.42  \n",
       "451996    700.00      264.80        98.40   204.23  \n",
       "451997    600.00      258.80        97.90   206.41  \n",
       "451998    500.00      258.20        98.10   212.33  \n",
       "451999    500.00      262.70        94.80   216.74  \n",
       "\n",
       "[452000 rows x 13 columns]"
      ]
     },
     "metadata": {},
     "output_type": "display_data"
    }
   ],
   "source": [
    "# read in trajectories data from parquet from data/_11_analysis_&_conclusions/trajectories.parquet\n",
    "trajectories = pd.read_parquet('../data/_11_analysis_&_conclusions/trajectories.parquet')\n",
    "\n",
    "display(trajectories)\n"
   ]
  },
  {
   "cell_type": "code",
   "execution_count": 18,
   "metadata": {},
   "outputs": [
    {
     "data": {
      "application/vnd.plotly.v1+json": {
       "config": {
        "plotlyServerURL": "https://plot.ly"
       },
       "data": [
        {
         "line": {
          "color": "blue",
          "width": 2
         },
         "marker": {
          "color": "blue",
          "opacity": 0.8,
          "size": 2
         },
         "mode": "lines+markers",
         "type": "scatter3d",
         "x": [
          0,
          8849.21,
          26601.51,
          53374.38,
          88828.64,
          132426.77,
          184708.9,
          245970.59,
          315052.68,
          389703.15,
          470398.91,
          557231.56,
          653270.68,
          758446.85,
          872745.76,
          996139.47,
          1129017.67,
          1271301.49,
          1422985.04,
          1584074.86,
          1754675.98,
          1935146.62,
          2125459.8,
          2325371.08,
          2535655.45,
          2755512.32,
          2985947.32,
          3225898.24,
          3474447.51,
          3732392.49,
          3999921.24,
          4276942.11,
          4563373,
          4859131.8,
          5164546.98,
          5480142.32,
          5804768.64,
          6138974.18,
          6482652.69,
          6835721.82,
          7197471.21,
          7569510.62,
          7950260.98,
          8340380.22,
          8739738.21,
          9147607.9,
          9566400.15,
          9996396.32,
          10436025.12,
          10885158.1
         ],
         "y": [
          0,
          -3902.97,
          -11732.67,
          -23596.77,
          -39307.93,
          -58627.96,
          -81796.21,
          -108943.66,
          -137983.09,
          -166938.11,
          -195197.36,
          -222409.06,
          -252874.47,
          -286238.31,
          -322496.06,
          -361876.02,
          -404027.47,
          -449436.02,
          -497844.42,
          -549564.7,
          -604667.36,
          -662957.79,
          -724060.67,
          -788630.25,
          -856550.25,
          -928410.56,
          -1003283.43,
          -1081248.21,
          -1162967.05,
          -1247276.46,
          -1334718.34,
          -1425798.16,
          -1519971.85,
          -1617212.4,
          -1717627.8,
          -1821390.27,
          -1928750.16,
          -2039278.07,
          -2152938.87,
          -2269022.09,
          -2389360.1,
          -2512400.37,
          -2639797.66,
          -2770329.73,
          -2903953.05,
          -3040424.34,
          -3176498.18,
          -3306321.68,
          -3439053.44,
          -3575510.48
         ],
         "z": [
          38975,
          38975,
          38975,
          38975,
          38975,
          38975,
          39000,
          39025,
          39025,
          39025,
          39025,
          39025,
          39025,
          39025,
          39025,
          39025,
          39025,
          39000,
          38975,
          38975,
          39000,
          38975,
          38975,
          38975,
          38975,
          38975,
          39000,
          39025,
          39025,
          39050,
          39050,
          39050,
          39050,
          39025,
          39000,
          39000,
          39000,
          39000,
          39000,
          39000,
          39000,
          39000,
          39000,
          39000,
          39000,
          39000,
          39000,
          39000,
          39000,
          39000
         ]
        }
       ],
       "layout": {
        "height": 800,
        "scene": {
         "aspectmode": "cube",
         "camera": {
          "center": {
           "x": 0,
           "y": 0,
           "z": 0
          },
          "eye": {
           "x": 1.5,
           "y": 1.5,
           "z": 1.5
          },
          "up": {
           "x": 0,
           "y": 0,
           "z": 1
          }
         },
         "xaxis": {
          "backgroundcolor": "rgb(230, 230,230)",
          "showbackground": true,
          "title": {
           "text": "X"
          }
         },
         "yaxis": {
          "backgroundcolor": "rgb(230, 230,230)",
          "showbackground": true,
          "title": {
           "text": "Y"
          }
         },
         "zaxis": {
          "backgroundcolor": "rgb(230, 230,230)",
          "showbackground": true,
          "title": {
           "text": "Z"
          }
         }
        },
        "template": {
         "data": {
          "bar": [
           {
            "error_x": {
             "color": "#2a3f5f"
            },
            "error_y": {
             "color": "#2a3f5f"
            },
            "marker": {
             "line": {
              "color": "#E5ECF6",
              "width": 0.5
             },
             "pattern": {
              "fillmode": "overlay",
              "size": 10,
              "solidity": 0.2
             }
            },
            "type": "bar"
           }
          ],
          "barpolar": [
           {
            "marker": {
             "line": {
              "color": "#E5ECF6",
              "width": 0.5
             },
             "pattern": {
              "fillmode": "overlay",
              "size": 10,
              "solidity": 0.2
             }
            },
            "type": "barpolar"
           }
          ],
          "carpet": [
           {
            "aaxis": {
             "endlinecolor": "#2a3f5f",
             "gridcolor": "white",
             "linecolor": "white",
             "minorgridcolor": "white",
             "startlinecolor": "#2a3f5f"
            },
            "baxis": {
             "endlinecolor": "#2a3f5f",
             "gridcolor": "white",
             "linecolor": "white",
             "minorgridcolor": "white",
             "startlinecolor": "#2a3f5f"
            },
            "type": "carpet"
           }
          ],
          "choropleth": [
           {
            "colorbar": {
             "outlinewidth": 0,
             "ticks": ""
            },
            "type": "choropleth"
           }
          ],
          "contour": [
           {
            "colorbar": {
             "outlinewidth": 0,
             "ticks": ""
            },
            "colorscale": [
             [
              0,
              "#0d0887"
             ],
             [
              0.1111111111111111,
              "#46039f"
             ],
             [
              0.2222222222222222,
              "#7201a8"
             ],
             [
              0.3333333333333333,
              "#9c179e"
             ],
             [
              0.4444444444444444,
              "#bd3786"
             ],
             [
              0.5555555555555556,
              "#d8576b"
             ],
             [
              0.6666666666666666,
              "#ed7953"
             ],
             [
              0.7777777777777778,
              "#fb9f3a"
             ],
             [
              0.8888888888888888,
              "#fdca26"
             ],
             [
              1,
              "#f0f921"
             ]
            ],
            "type": "contour"
           }
          ],
          "contourcarpet": [
           {
            "colorbar": {
             "outlinewidth": 0,
             "ticks": ""
            },
            "type": "contourcarpet"
           }
          ],
          "heatmap": [
           {
            "colorbar": {
             "outlinewidth": 0,
             "ticks": ""
            },
            "colorscale": [
             [
              0,
              "#0d0887"
             ],
             [
              0.1111111111111111,
              "#46039f"
             ],
             [
              0.2222222222222222,
              "#7201a8"
             ],
             [
              0.3333333333333333,
              "#9c179e"
             ],
             [
              0.4444444444444444,
              "#bd3786"
             ],
             [
              0.5555555555555556,
              "#d8576b"
             ],
             [
              0.6666666666666666,
              "#ed7953"
             ],
             [
              0.7777777777777778,
              "#fb9f3a"
             ],
             [
              0.8888888888888888,
              "#fdca26"
             ],
             [
              1,
              "#f0f921"
             ]
            ],
            "type": "heatmap"
           }
          ],
          "histogram": [
           {
            "marker": {
             "pattern": {
              "fillmode": "overlay",
              "size": 10,
              "solidity": 0.2
             }
            },
            "type": "histogram"
           }
          ],
          "histogram2d": [
           {
            "colorbar": {
             "outlinewidth": 0,
             "ticks": ""
            },
            "colorscale": [
             [
              0,
              "#0d0887"
             ],
             [
              0.1111111111111111,
              "#46039f"
             ],
             [
              0.2222222222222222,
              "#7201a8"
             ],
             [
              0.3333333333333333,
              "#9c179e"
             ],
             [
              0.4444444444444444,
              "#bd3786"
             ],
             [
              0.5555555555555556,
              "#d8576b"
             ],
             [
              0.6666666666666666,
              "#ed7953"
             ],
             [
              0.7777777777777778,
              "#fb9f3a"
             ],
             [
              0.8888888888888888,
              "#fdca26"
             ],
             [
              1,
              "#f0f921"
             ]
            ],
            "type": "histogram2d"
           }
          ],
          "histogram2dcontour": [
           {
            "colorbar": {
             "outlinewidth": 0,
             "ticks": ""
            },
            "colorscale": [
             [
              0,
              "#0d0887"
             ],
             [
              0.1111111111111111,
              "#46039f"
             ],
             [
              0.2222222222222222,
              "#7201a8"
             ],
             [
              0.3333333333333333,
              "#9c179e"
             ],
             [
              0.4444444444444444,
              "#bd3786"
             ],
             [
              0.5555555555555556,
              "#d8576b"
             ],
             [
              0.6666666666666666,
              "#ed7953"
             ],
             [
              0.7777777777777778,
              "#fb9f3a"
             ],
             [
              0.8888888888888888,
              "#fdca26"
             ],
             [
              1,
              "#f0f921"
             ]
            ],
            "type": "histogram2dcontour"
           }
          ],
          "mesh3d": [
           {
            "colorbar": {
             "outlinewidth": 0,
             "ticks": ""
            },
            "type": "mesh3d"
           }
          ],
          "parcoords": [
           {
            "line": {
             "colorbar": {
              "outlinewidth": 0,
              "ticks": ""
             }
            },
            "type": "parcoords"
           }
          ],
          "pie": [
           {
            "automargin": true,
            "type": "pie"
           }
          ],
          "scatter": [
           {
            "fillpattern": {
             "fillmode": "overlay",
             "size": 10,
             "solidity": 0.2
            },
            "type": "scatter"
           }
          ],
          "scatter3d": [
           {
            "line": {
             "colorbar": {
              "outlinewidth": 0,
              "ticks": ""
             }
            },
            "marker": {
             "colorbar": {
              "outlinewidth": 0,
              "ticks": ""
             }
            },
            "type": "scatter3d"
           }
          ],
          "scattercarpet": [
           {
            "marker": {
             "colorbar": {
              "outlinewidth": 0,
              "ticks": ""
             }
            },
            "type": "scattercarpet"
           }
          ],
          "scattergeo": [
           {
            "marker": {
             "colorbar": {
              "outlinewidth": 0,
              "ticks": ""
             }
            },
            "type": "scattergeo"
           }
          ],
          "scattergl": [
           {
            "marker": {
             "colorbar": {
              "outlinewidth": 0,
              "ticks": ""
             }
            },
            "type": "scattergl"
           }
          ],
          "scattermap": [
           {
            "marker": {
             "colorbar": {
              "outlinewidth": 0,
              "ticks": ""
             }
            },
            "type": "scattermap"
           }
          ],
          "scattermapbox": [
           {
            "marker": {
             "colorbar": {
              "outlinewidth": 0,
              "ticks": ""
             }
            },
            "type": "scattermapbox"
           }
          ],
          "scatterpolar": [
           {
            "marker": {
             "colorbar": {
              "outlinewidth": 0,
              "ticks": ""
             }
            },
            "type": "scatterpolar"
           }
          ],
          "scatterpolargl": [
           {
            "marker": {
             "colorbar": {
              "outlinewidth": 0,
              "ticks": ""
             }
            },
            "type": "scatterpolargl"
           }
          ],
          "scatterternary": [
           {
            "marker": {
             "colorbar": {
              "outlinewidth": 0,
              "ticks": ""
             }
            },
            "type": "scatterternary"
           }
          ],
          "surface": [
           {
            "colorbar": {
             "outlinewidth": 0,
             "ticks": ""
            },
            "colorscale": [
             [
              0,
              "#0d0887"
             ],
             [
              0.1111111111111111,
              "#46039f"
             ],
             [
              0.2222222222222222,
              "#7201a8"
             ],
             [
              0.3333333333333333,
              "#9c179e"
             ],
             [
              0.4444444444444444,
              "#bd3786"
             ],
             [
              0.5555555555555556,
              "#d8576b"
             ],
             [
              0.6666666666666666,
              "#ed7953"
             ],
             [
              0.7777777777777778,
              "#fb9f3a"
             ],
             [
              0.8888888888888888,
              "#fdca26"
             ],
             [
              1,
              "#f0f921"
             ]
            ],
            "type": "surface"
           }
          ],
          "table": [
           {
            "cells": {
             "fill": {
              "color": "#EBF0F8"
             },
             "line": {
              "color": "white"
             }
            },
            "header": {
             "fill": {
              "color": "#C8D4E3"
             },
             "line": {
              "color": "white"
             }
            },
            "type": "table"
           }
          ]
         },
         "layout": {
          "annotationdefaults": {
           "arrowcolor": "#2a3f5f",
           "arrowhead": 0,
           "arrowwidth": 1
          },
          "autotypenumbers": "strict",
          "coloraxis": {
           "colorbar": {
            "outlinewidth": 0,
            "ticks": ""
           }
          },
          "colorscale": {
           "diverging": [
            [
             0,
             "#8e0152"
            ],
            [
             0.1,
             "#c51b7d"
            ],
            [
             0.2,
             "#de77ae"
            ],
            [
             0.3,
             "#f1b6da"
            ],
            [
             0.4,
             "#fde0ef"
            ],
            [
             0.5,
             "#f7f7f7"
            ],
            [
             0.6,
             "#e6f5d0"
            ],
            [
             0.7,
             "#b8e186"
            ],
            [
             0.8,
             "#7fbc41"
            ],
            [
             0.9,
             "#4d9221"
            ],
            [
             1,
             "#276419"
            ]
           ],
           "sequential": [
            [
             0,
             "#0d0887"
            ],
            [
             0.1111111111111111,
             "#46039f"
            ],
            [
             0.2222222222222222,
             "#7201a8"
            ],
            [
             0.3333333333333333,
             "#9c179e"
            ],
            [
             0.4444444444444444,
             "#bd3786"
            ],
            [
             0.5555555555555556,
             "#d8576b"
            ],
            [
             0.6666666666666666,
             "#ed7953"
            ],
            [
             0.7777777777777778,
             "#fb9f3a"
            ],
            [
             0.8888888888888888,
             "#fdca26"
            ],
            [
             1,
             "#f0f921"
            ]
           ],
           "sequentialminus": [
            [
             0,
             "#0d0887"
            ],
            [
             0.1111111111111111,
             "#46039f"
            ],
            [
             0.2222222222222222,
             "#7201a8"
            ],
            [
             0.3333333333333333,
             "#9c179e"
            ],
            [
             0.4444444444444444,
             "#bd3786"
            ],
            [
             0.5555555555555556,
             "#d8576b"
            ],
            [
             0.6666666666666666,
             "#ed7953"
            ],
            [
             0.7777777777777778,
             "#fb9f3a"
            ],
            [
             0.8888888888888888,
             "#fdca26"
            ],
            [
             1,
             "#f0f921"
            ]
           ]
          },
          "colorway": [
           "#636efa",
           "#EF553B",
           "#00cc96",
           "#ab63fa",
           "#FFA15A",
           "#19d3f3",
           "#FF6692",
           "#B6E880",
           "#FF97FF",
           "#FECB52"
          ],
          "font": {
           "color": "#2a3f5f"
          },
          "geo": {
           "bgcolor": "white",
           "lakecolor": "white",
           "landcolor": "#E5ECF6",
           "showlakes": true,
           "showland": true,
           "subunitcolor": "white"
          },
          "hoverlabel": {
           "align": "left"
          },
          "hovermode": "closest",
          "mapbox": {
           "style": "light"
          },
          "paper_bgcolor": "white",
          "plot_bgcolor": "#E5ECF6",
          "polar": {
           "angularaxis": {
            "gridcolor": "white",
            "linecolor": "white",
            "ticks": ""
           },
           "bgcolor": "#E5ECF6",
           "radialaxis": {
            "gridcolor": "white",
            "linecolor": "white",
            "ticks": ""
           }
          },
          "scene": {
           "xaxis": {
            "backgroundcolor": "#E5ECF6",
            "gridcolor": "white",
            "gridwidth": 2,
            "linecolor": "white",
            "showbackground": true,
            "ticks": "",
            "zerolinecolor": "white"
           },
           "yaxis": {
            "backgroundcolor": "#E5ECF6",
            "gridcolor": "white",
            "gridwidth": 2,
            "linecolor": "white",
            "showbackground": true,
            "ticks": "",
            "zerolinecolor": "white"
           },
           "zaxis": {
            "backgroundcolor": "#E5ECF6",
            "gridcolor": "white",
            "gridwidth": 2,
            "linecolor": "white",
            "showbackground": true,
            "ticks": "",
            "zerolinecolor": "white"
           }
          },
          "shapedefaults": {
           "line": {
            "color": "#2a3f5f"
           }
          },
          "ternary": {
           "aaxis": {
            "gridcolor": "white",
            "linecolor": "white",
            "ticks": ""
           },
           "baxis": {
            "gridcolor": "white",
            "linecolor": "white",
            "ticks": ""
           },
           "bgcolor": "#E5ECF6",
           "caxis": {
            "gridcolor": "white",
            "linecolor": "white",
            "ticks": ""
           }
          },
          "title": {
           "x": 0.05
          },
          "xaxis": {
           "automargin": true,
           "gridcolor": "white",
           "linecolor": "white",
           "ticks": "",
           "title": {
            "standoff": 15
           },
           "zerolinecolor": "white",
           "zerolinewidth": 2
          },
          "yaxis": {
           "automargin": true,
           "gridcolor": "white",
           "linecolor": "white",
           "ticks": "",
           "title": {
            "standoff": 15
           },
           "zerolinecolor": "white",
           "zerolinewidth": 2
          }
         }
        },
        "title": {
         "text": "Flight Path - Segment 998460"
        },
        "width": 1000
       }
      }
     },
     "metadata": {},
     "output_type": "display_data"
    },
    {
     "name": "stdout",
     "output_type": "stream",
     "text": [
      "X range: 0.00 to 10885158.10\n",
      "Y range: -3575510.48 to 0.00\n",
      "Z range: 38975.00 to 39050.00\n"
     ]
    }
   ],
   "source": [
    "import pandas as pd\n",
    "import plotly.graph_objects as go\n",
    "from plotly.subplots import make_subplots\n",
    "import plotly.io as pio\n",
    "\n",
    "# Get the first segment_id\n",
    "first_segment = trajectories['segment_id'].unique()[0]\n",
    "\n",
    "# Filter data for first segment\n",
    "segment_data = trajectories[trajectories['segment_id'] == first_segment]\n",
    "\n",
    "# Create the 3D scatter plot\n",
    "fig = go.Figure(data=[go.Scatter3d(\n",
    "    x=segment_data['x'],\n",
    "    y=segment_data['y'],\n",
    "    z=segment_data['z'],\n",
    "    mode='lines+markers',\n",
    "    line=dict(\n",
    "        width=2,\n",
    "        color='blue'\n",
    "    ),\n",
    "    marker=dict(\n",
    "        size=2,\n",
    "        color='blue',\n",
    "        opacity=0.8  # Added some transparency\n",
    "    )\n",
    ")])\n",
    "\n",
    "# Update layout for better visualization\n",
    "fig.update_layout(\n",
    "    title=f'Flight Path - Segment {first_segment}',\n",
    "    scene=dict(\n",
    "        camera=dict(\n",
    "            up=dict(x=0, y=0, z=1),\n",
    "            center=dict(x=0, y=0, z=0),\n",
    "            eye=dict(x=1.5, y=1.5, z=1.5)  # Adjusted camera position\n",
    "        ),\n",
    "        aspectmode='cube',  # Forces a cubic aspect ratio\n",
    "        xaxis=dict(\n",
    "            title='X',\n",
    "            showbackground=True,\n",
    "            backgroundcolor='rgb(230, 230,230)'\n",
    "        ),\n",
    "        yaxis=dict(\n",
    "            title='Y',\n",
    "            showbackground=True,\n",
    "            backgroundcolor='rgb(230, 230,230)'\n",
    "        ),\n",
    "        zaxis=dict(\n",
    "            title='Z',\n",
    "            showbackground=True,\n",
    "            backgroundcolor='rgb(230, 230,230)'\n",
    "        )\n",
    "    ),\n",
    "    width=1000,\n",
    "    height=800\n",
    ")\n",
    "\n",
    "# Display interactive plot\n",
    "fig.show()\n",
    "\n",
    "# Save static version for GitHub\n",
    "pio.write_image(fig, \"flight_path.png\")\n",
    "\n",
    "# Optional: Print the range of values for each axis to check scale\n",
    "print(f\"X range: {segment_data['x'].min():.2f} to {segment_data['x'].max():.2f}\")\n",
    "print(f\"Y range: {segment_data['y'].min():.2f} to {segment_data['y'].max():.2f}\")\n",
    "print(f\"Z range: {segment_data['z'].min():.2f} to {segment_data['z'].max():.2f}\")"
   ]
  },
  {
   "cell_type": "code",
   "execution_count": 1,
   "metadata": {},
   "outputs": [
    {
     "ename": "NameError",
     "evalue": "name 'trajectories' is not defined",
     "output_type": "error",
     "traceback": [
      "\u001b[1;31m---------------------------------------------------------------------------\u001b[0m",
      "\u001b[1;31mNameError\u001b[0m                                 Traceback (most recent call last)",
      "Cell \u001b[1;32mIn[1], line 8\u001b[0m\n\u001b[0;32m      5\u001b[0m \u001b[38;5;28;01mimport\u001b[39;00m\u001b[38;5;250m \u001b[39m\u001b[38;5;21;01mplotly\u001b[39;00m\u001b[38;5;21;01m.\u001b[39;00m\u001b[38;5;21;01mexpress\u001b[39;00m\u001b[38;5;250m \u001b[39m\u001b[38;5;28;01mas\u001b[39;00m\u001b[38;5;250m \u001b[39m\u001b[38;5;21;01mpx\u001b[39;00m  \u001b[38;5;66;03m# for the color sequence\u001b[39;00m\n\u001b[0;32m      7\u001b[0m \u001b[38;5;66;03m# Filter for cluster 1\u001b[39;00m\n\u001b[1;32m----> 8\u001b[0m cluster_data \u001b[38;5;241m=\u001b[39m \u001b[43mtrajectories\u001b[49m[trajectories[\u001b[38;5;124m'\u001b[39m\u001b[38;5;124mcluster\u001b[39m\u001b[38;5;124m'\u001b[39m] \u001b[38;5;241m==\u001b[39m \u001b[38;5;241m1\u001b[39m]\n\u001b[0;32m     10\u001b[0m \u001b[38;5;66;03m# Convert decimal columns to float if needed\u001b[39;00m\n\u001b[0;32m     11\u001b[0m numeric_columns \u001b[38;5;241m=\u001b[39m [\u001b[38;5;124m'\u001b[39m\u001b[38;5;124mx\u001b[39m\u001b[38;5;124m'\u001b[39m, \u001b[38;5;124m'\u001b[39m\u001b[38;5;124my\u001b[39m\u001b[38;5;124m'\u001b[39m, \u001b[38;5;124m'\u001b[39m\u001b[38;5;124mz\u001b[39m\u001b[38;5;124m'\u001b[39m]\n",
      "\u001b[1;31mNameError\u001b[0m: name 'trajectories' is not defined"
     ]
    }
   ],
   "source": [
    "import pandas as pd\n",
    "import plotly.graph_objects as go\n",
    "import numpy as np\n",
    "import random\n",
    "import plotly.express as px  # for the color sequence\n",
    "\n",
    "# Filter for cluster 1\n",
    "cluster_data = trajectories[trajectories['cluster'] == 1]\n",
    "\n",
    "# Convert decimal columns to float if needed\n",
    "numeric_columns = ['x', 'y', 'z']\n",
    "for col in numeric_columns:\n",
    "    if cluster_data[col].dtype == 'object':\n",
    "        cluster_data[col] = cluster_data[col].astype(float)\n",
    "\n",
    "# Get unique segment IDs for cluster 1\n",
    "unique_segments = cluster_data['segment_id'].unique()\n",
    "\n",
    "# Get random sample of up to 50 segment IDs\n",
    "n_segments = min(50, len(unique_segments))\n",
    "selected_segments = np.random.choice(unique_segments, size=n_segments, replace=False)\n",
    "\n",
    "# Calculate overall ranges for consistent scaling\n",
    "x_min, x_max = cluster_data['x'].min(), cluster_data['x'].max()\n",
    "y_min, y_max = cluster_data['y'].min(), cluster_data['y'].max()\n",
    "z_min, z_max = cluster_data['z'].min(), cluster_data['z'].max()\n",
    "max_range = max(x_max - x_min, y_max - y_min, z_max - z_min)\n",
    "\n",
    "# Create a color sequence\n",
    "colors = px.colors.qualitative.Set3  # Using Set3 palette which has good visibility for multiple traces\n",
    "# If we need more colors than available in the palette, we'll cycle through them\n",
    "colors = colors * (n_segments // len(colors) + 1)\n",
    "\n",
    "# Create the 3D scatter plot\n",
    "fig = go.Figure()\n",
    "\n",
    "# Add each trajectory as a separate trace\n",
    "for idx, segment_id in enumerate(selected_segments):\n",
    "    segment_data = cluster_data[cluster_data['segment_id'] == segment_id]\n",
    "    \n",
    "    fig.add_trace(go.Scatter3d(\n",
    "        x=segment_data['x'],\n",
    "        y=segment_data['y'],\n",
    "        z=segment_data['z'],\n",
    "        mode='lines',\n",
    "        line=dict(\n",
    "            width=2,\n",
    "            color=colors[idx]\n",
    "        ),\n",
    "        opacity=0.8,  # Increased opacity a bit since we have different colors\n",
    "        name=f'Segment {segment_id}'\n",
    "    ))\n",
    "\n",
    "# Update layout for better visualization\n",
    "fig.update_layout(\n",
    "    title=f'Flight Paths - Cluster 1 (Random {n_segments} Segments)',\n",
    "    scene=dict(\n",
    "        camera=dict(\n",
    "            up=dict(x=0, y=0, z=1),\n",
    "            center=dict(x=0, y=0, z=0),\n",
    "            eye=dict(x=1.5, y=1.5, z=1.5)\n",
    "        ),\n",
    "        aspectmode='cube',\n",
    "        xaxis=dict(\n",
    "            title='X',\n",
    "            showbackground=True,\n",
    "            backgroundcolor='rgb(230, 230,230)',\n",
    "            range=[float(x_min - max_range*0.1), float(x_max + max_range*0.1)]\n",
    "        ),\n",
    "        yaxis=dict(\n",
    "            title='Y',\n",
    "            showbackground=True,\n",
    "            backgroundcolor='rgb(230, 230,230)',\n",
    "            range=[float(y_min - max_range*0.1), float(y_max + max_range*0.1)]\n",
    "        ),\n",
    "        zaxis=dict(\n",
    "            title='Z',\n",
    "            showbackground=True,\n",
    "            backgroundcolor='rgb(230, 230,230)',\n",
    "            range=[float(z_min - max_range*0.1), float(z_max + max_range*0.1)]\n",
    "        )\n",
    "    ),\n",
    "    width=1000,\n",
    "    height=800,\n",
    "    showlegend=True\n",
    ")\n",
    "\n",
    "# Display interactive plot\n",
    "fig.show()\n",
    "\n",
    "# Save static version\n",
    "pio.write_image(fig, \"cluster1_paths_colored.png\")\n",
    "\n",
    "print(f\"Total number of segments in cluster 1: {len(unique_segments)}\")\n",
    "print(f\"Number of segments plotted: {n_segments}\")"
   ]
  },
  {
   "cell_type": "code",
   "execution_count": null,
   "metadata": {},
   "outputs": [],
   "source": []
  }
 ],
 "metadata": {
  "kernelspec": {
   "display_name": "venv",
   "language": "python",
   "name": "python3"
  },
  "language_info": {
   "codemirror_mode": {
    "name": "ipython",
    "version": 3
   },
   "file_extension": ".py",
   "mimetype": "text/x-python",
   "name": "python",
   "nbconvert_exporter": "python",
   "pygments_lexer": "ipython3",
   "version": "3.11.9"
  }
 },
 "nbformat": 4,
 "nbformat_minor": 2
}
